{
 "cells": [
  {
   "cell_type": "code",
   "execution_count": 1,
   "id": "c0989baa-7c13-4088-ad9c-268068b1979d",
   "metadata": {},
   "outputs": [],
   "source": [
    "# python\n",
    "import sys\n",
    "import importlib\n",
    "# columnar analysis\n",
    "from coffea.nanoevents import NanoEventsFactory, NanoAODSchema, methods\n",
    "from coffea import processor\n",
    "import awkward as ak\n",
    "from dask.distributed import Client, performance_report\n",
    "# local\n",
    "sidm_path = str(sys.path[0]).split(\"/sidm\")[0]\n",
    "if sidm_path not in sys.path: sys.path.insert(1, sidm_path)\n",
    "from sidm.tools import sidm_processor, utilities, scaleout, selection\n",
    "#from sidm.tools import llpnanoaodschema_0726 as llpnanoaodschema\n",
    "# always reload local modules to pick up changes during development\n",
    "importlib.reload(sidm_processor)\n",
    "importlib.reload(utilities)\n",
    "importlib.reload(scaleout)\n",
    "importlib.reload(selection)\n",
    "# plotting\n",
    "import matplotlib.pyplot as plt\n",
    "utilities.set_plot_style()\n",
    "from hist import Hist"
   ]
  },
  {
   "cell_type": "code",
   "execution_count": 2,
   "id": "a4c5e7cc-53e9-4a76-b64e-4cfc38b85c43",
   "metadata": {},
   "outputs": [
    {
     "data": {
      "application/vnd.jupyter.widget-view+json": {
       "model_id": "0088299269644b659b5cafb23b5da3f1",
       "version_major": 2,
       "version_minor": 0
      },
      "text/plain": [
       "Output()"
      ]
     },
     "metadata": {},
     "output_type": "display_data"
    },
    {
     "data": {
      "text/html": [
       "<pre style=\"white-space:pre;overflow-x:auto;line-height:normal;font-family:Menlo,'DejaVu Sans Mono',consolas,'Courier New',monospace\"></pre>\n"
      ],
      "text/plain": []
     },
     "metadata": {},
     "output_type": "display_data"
    },
    {
     "data": {
      "application/vnd.jupyter.widget-view+json": {
       "model_id": "8af6b19760014b709d0a4b4b90eeec0a",
       "version_major": 2,
       "version_minor": 0
      },
      "text/plain": [
       "Output()"
      ]
     },
     "metadata": {},
     "output_type": "display_data"
    },
    {
     "data": {
      "text/html": [
       "<pre style=\"white-space:pre;overflow-x:auto;line-height:normal;font-family:Menlo,'DejaVu Sans Mono',consolas,'Courier New',monospace\">/usr/local/lib/python3.10/site-packages/coffea/nanoevents/schemas/nanoaod.py:205: RuntimeWarning: Missing \n",
       "cross-reference index for LowPtElectron_electronIdx =&gt; Electron\n",
       "  warnings.warn(\n",
       "</pre>\n"
      ],
      "text/plain": [
       "/usr/local/lib/python3.10/site-packages/coffea/nanoevents/schemas/nanoaod.py:205: RuntimeWarning: Missing \n",
       "cross-reference index for LowPtElectron_electronIdx => Electron\n",
       "  warnings.warn(\n"
      ]
     },
     "metadata": {},
     "output_type": "display_data"
    },
    {
     "data": {
      "text/html": [
       "<pre style=\"white-space:pre;overflow-x:auto;line-height:normal;font-family:Menlo,'DejaVu Sans Mono',consolas,'Courier New',monospace\">/usr/local/lib/python3.10/site-packages/coffea/nanoevents/schemas/nanoaod.py:205: RuntimeWarning: Missing \n",
       "cross-reference index for LowPtElectron_photonIdx =&gt; Photon\n",
       "  warnings.warn(\n",
       "</pre>\n"
      ],
      "text/plain": [
       "/usr/local/lib/python3.10/site-packages/coffea/nanoevents/schemas/nanoaod.py:205: RuntimeWarning: Missing \n",
       "cross-reference index for LowPtElectron_photonIdx => Photon\n",
       "  warnings.warn(\n"
      ]
     },
     "metadata": {},
     "output_type": "display_data"
    },
    {
     "data": {
      "text/html": [
       "<pre style=\"white-space:pre;overflow-x:auto;line-height:normal;font-family:Menlo,'DejaVu Sans Mono',consolas,'Courier New',monospace\">/usr/local/lib/python3.10/site-packages/awkward/_connect/_numpy.py:197: RuntimeWarning: invalid value encountered \n",
       "in divide\n",
       "  result = getattr(ufunc, method)(\n",
       "</pre>\n"
      ],
      "text/plain": [
       "/usr/local/lib/python3.10/site-packages/awkward/_connect/_numpy.py:197: RuntimeWarning: invalid value encountered \n",
       "in divide\n",
       "  result = getattr(ufunc, method)(\n"
      ]
     },
     "metadata": {},
     "output_type": "display_data"
    },
    {
     "data": {
      "text/html": [
       "<pre style=\"white-space:pre;overflow-x:auto;line-height:normal;font-family:Menlo,'DejaVu Sans Mono',consolas,'Courier New',monospace\">Applying genMus status 1\n",
       "</pre>\n"
      ],
      "text/plain": [
       "Applying genMus status 1\n"
      ]
     },
     "metadata": {},
     "output_type": "display_data"
    },
    {
     "data": {
      "text/html": [
       "<pre style=\"white-space:pre;overflow-x:auto;line-height:normal;font-family:Menlo,'DejaVu Sans Mono',consolas,'Courier New',monospace\">Applying genEs status 1\n",
       "</pre>\n"
      ],
      "text/plain": [
       "Applying genEs status 1\n"
      ]
     },
     "metadata": {},
     "output_type": "display_data"
    },
    {
     "name": "stdout",
     "output_type": "stream",
     "text": [
      "#--------------------------------------------------------------------------\n",
      "#                         FastJet release 3.4.0\n",
      "#                 M. Cacciari, G.P. Salam and G. Soyez                  \n",
      "#     A software package for jet finding and analysis at colliders      \n",
      "#                           http://fastjet.fr                           \n",
      "#\t                                                                      \n",
      "# Please cite EPJC72(2012)1896 [arXiv:1111.6097] if you use this package\n",
      "# for scientific work and optionally PLB641(2006)57 [hep-ph/0512210].   \n",
      "#                                                                       \n",
      "# FastJet is provided without warranty under the GNU GPL v2 or higher.  \n",
      "# It uses T. Chan's closest pair algorithm, S. Fortune's Voronoi code,\n",
      "# CGAL and 3rd party plugin jet algorithms. See COPYING file for details.\n",
      "#--------------------------------------------------------------------------\n"
     ]
    },
    {
     "data": {
      "text/html": [
       "<pre style=\"white-space:pre;overflow-x:auto;line-height:normal;font-family:Menlo,'DejaVu Sans Mono',consolas,'Courier New',monospace\">Applying cut: PV filter\n",
       "</pre>\n"
      ],
      "text/plain": [
       "Applying cut: PV filter\n"
      ]
     },
     "metadata": {},
     "output_type": "display_data"
    },
    {
     "data": {
      "text/html": [
       "<pre style=\"white-space:pre;overflow-x:auto;line-height:normal;font-family:Menlo,'DejaVu Sans Mono',consolas,'Courier New',monospace\">Applying genMus status 1\n",
       "</pre>\n"
      ],
      "text/plain": [
       "Applying genMus status 1\n"
      ]
     },
     "metadata": {},
     "output_type": "display_data"
    },
    {
     "data": {
      "text/html": [
       "<pre style=\"white-space:pre;overflow-x:auto;line-height:normal;font-family:Menlo,'DejaVu Sans Mono',consolas,'Courier New',monospace\">Applying genEs status 1\n",
       "</pre>\n"
      ],
      "text/plain": [
       "Applying genEs status 1\n"
      ]
     },
     "metadata": {},
     "output_type": "display_data"
    },
    {
     "data": {
      "text/html": [
       "<pre style=\"white-space:pre;overflow-x:auto;line-height:normal;font-family:Menlo,'DejaVu Sans Mono',consolas,'Courier New',monospace\">Applying genAs_toMu close dsaMu\n",
       "</pre>\n"
      ],
      "text/plain": [
       "Applying genAs_toMu close dsaMu\n"
      ]
     },
     "metadata": {},
     "output_type": "display_data"
    },
    {
     "data": {
      "text/html": [
       "<pre style=\"white-space:pre;overflow-x:auto;line-height:normal;font-family:Menlo,'DejaVu Sans Mono',consolas,'Courier New',monospace\">Applying cut: PV filter\n",
       "</pre>\n"
      ],
      "text/plain": [
       "Applying cut: PV filter\n"
      ]
     },
     "metadata": {},
     "output_type": "display_data"
    },
    {
     "data": {
      "text/html": [
       "<pre style=\"white-space:pre;overflow-x:auto;line-height:normal;font-family:Menlo,'DejaVu Sans Mono',consolas,'Courier New',monospace\">Warning: a histogram with the name genAs_toMu_pt_MuMudR_lowRange could not be filled and will be skipped\n",
       "</pre>\n"
      ],
      "text/plain": [
       "Warning: a histogram with the name genAs_toMu_pt_MuMudR_lowRange could not be filled and will be skipped\n"
      ]
     },
     "metadata": {},
     "output_type": "display_data"
    },
    {
     "data": {
      "text/html": [
       "<pre style=\"white-space:pre;overflow-x:auto;line-height:normal;font-family:Menlo,'DejaVu Sans Mono',consolas,'Courier New',monospace\">Warning: a histogram with the name genAs_toMu_pt_MuMudR_XLowRange could not be filled and will be skipped\n",
       "</pre>\n"
      ],
      "text/plain": [
       "Warning: a histogram with the name genAs_toMu_pt_MuMudR_XLowRange could not be filled and will be skipped\n"
      ]
     },
     "metadata": {},
     "output_type": "display_data"
    },
    {
     "data": {
      "text/html": [
       "<pre style=\"white-space:pre;overflow-x:auto;line-height:normal;font-family:Menlo,'DejaVu Sans Mono',consolas,'Courier New',monospace\">Warning: a histogram with the name genAs_toMu_pt_MuMudR_XXLowRange could not be filled and will be skipped\n",
       "</pre>\n"
      ],
      "text/plain": [
       "Warning: a histogram with the name genAs_toMu_pt_MuMudR_XXLowRange could not be filled and will be skipped\n"
      ]
     },
     "metadata": {},
     "output_type": "display_data"
    },
    {
     "data": {
      "text/html": [
       "<pre style=\"white-space:pre;overflow-x:auto;line-height:normal;font-family:Menlo,'DejaVu Sans Mono',consolas,'Courier New',monospace\">Warning: a histogram with the name genAs_toMu_lxy_MuMudR could not be filled and will be skipped\n",
       "</pre>\n"
      ],
      "text/plain": [
       "Warning: a histogram with the name genAs_toMu_lxy_MuMudR could not be filled and will be skipped\n"
      ]
     },
     "metadata": {},
     "output_type": "display_data"
    },
    {
     "data": {
      "text/html": [
       "<pre style=\"white-space:pre;overflow-x:auto;line-height:normal;font-family:Menlo,'DejaVu Sans Mono',consolas,'Courier New',monospace\">Warning: a histogram with the name genAs_toMu_lxy_MuMudR_XLowRange could not be filled and will be skipped\n",
       "</pre>\n"
      ],
      "text/plain": [
       "Warning: a histogram with the name genAs_toMu_lxy_MuMudR_XLowRange could not be filled and will be skipped\n"
      ]
     },
     "metadata": {},
     "output_type": "display_data"
    },
    {
     "data": {
      "text/html": [
       "<pre style=\"white-space:pre;overflow-x:auto;line-height:normal;font-family:Menlo,'DejaVu Sans Mono',consolas,'Courier New',monospace\">Warning: a histogram with the name genAs_toMu_lxy_MuMudR_XXLowRange could not be filled and will be skipped\n",
       "</pre>\n"
      ],
      "text/plain": [
       "Warning: a histogram with the name genAs_toMu_lxy_MuMudR_XXLowRange could not be filled and will be skipped\n"
      ]
     },
     "metadata": {},
     "output_type": "display_data"
    },
    {
     "data": {
      "text/html": [
       "<pre style=\"white-space:pre;overflow-x:auto;line-height:normal;font-family:Menlo,'DejaVu Sans Mono',consolas,'Courier New',monospace\">Warning: a histogram with the name genAs_toMu_pt_MuMudR_highRange could not be filled and will be skipped\n",
       "</pre>\n"
      ],
      "text/plain": [
       "Warning: a histogram with the name genAs_toMu_pt_MuMudR_highRange could not be filled and will be skipped\n"
      ]
     },
     "metadata": {},
     "output_type": "display_data"
    },
    {
     "data": {
      "text/html": [
       "<pre style=\"white-space:pre;overflow-x:auto;line-height:normal;font-family:Menlo,'DejaVu Sans Mono',consolas,'Courier New',monospace\">Warning: a histogram with the name genAs_toMu_pt_highRange_MuMudR_lowRange could not be filled and will be skipped\n",
       "</pre>\n"
      ],
      "text/plain": [
       "Warning: a histogram with the name genAs_toMu_pt_highRange_MuMudR_lowRange could not be filled and will be skipped\n"
      ]
     },
     "metadata": {},
     "output_type": "display_data"
    },
    {
     "data": {
      "text/html": [
       "<pre style=\"white-space:pre;overflow-x:auto;line-height:normal;font-family:Menlo,'DejaVu Sans Mono',consolas,'Courier New',monospace\">Applying genMus status 1\n",
       "</pre>\n"
      ],
      "text/plain": [
       "Applying genMus status 1\n"
      ]
     },
     "metadata": {},
     "output_type": "display_data"
    },
    {
     "data": {
      "text/html": [
       "<pre style=\"white-space:pre;overflow-x:auto;line-height:normal;font-family:Menlo,'DejaVu Sans Mono',consolas,'Courier New',monospace\">Applying genEs status 1\n",
       "</pre>\n"
      ],
      "text/plain": [
       "Applying genEs status 1\n"
      ]
     },
     "metadata": {},
     "output_type": "display_data"
    },
    {
     "data": {
      "text/html": [
       "<pre style=\"white-space:pre;overflow-x:auto;line-height:normal;font-family:Menlo,'DejaVu Sans Mono',consolas,'Courier New',monospace\">Applying genAs_toMu &gt;= 2 close dsaMu\n",
       "</pre>\n"
      ],
      "text/plain": [
       "Applying genAs_toMu >= 2 close dsaMu\n"
      ]
     },
     "metadata": {},
     "output_type": "display_data"
    },
    {
     "data": {
      "text/html": [
       "<pre style=\"white-space:pre;overflow-x:auto;line-height:normal;font-family:Menlo,'DejaVu Sans Mono',consolas,'Courier New',monospace\">Applying cut: PV filter\n",
       "</pre>\n"
      ],
      "text/plain": [
       "Applying cut: PV filter\n"
      ]
     },
     "metadata": {},
     "output_type": "display_data"
    },
    {
     "data": {
      "text/html": [
       "<pre style=\"white-space:pre;overflow-x:auto;line-height:normal;font-family:Menlo,'DejaVu Sans Mono',consolas,'Courier New',monospace\">Warning: a histogram with the name genAs_toMu_pt_MuMudR_lowRange could not be filled and will be skipped\n",
       "</pre>\n"
      ],
      "text/plain": [
       "Warning: a histogram with the name genAs_toMu_pt_MuMudR_lowRange could not be filled and will be skipped\n"
      ]
     },
     "metadata": {},
     "output_type": "display_data"
    },
    {
     "data": {
      "text/html": [
       "<pre style=\"white-space:pre;overflow-x:auto;line-height:normal;font-family:Menlo,'DejaVu Sans Mono',consolas,'Courier New',monospace\">Warning: a histogram with the name genAs_toMu_pt_MuMudR_XLowRange could not be filled and will be skipped\n",
       "</pre>\n"
      ],
      "text/plain": [
       "Warning: a histogram with the name genAs_toMu_pt_MuMudR_XLowRange could not be filled and will be skipped\n"
      ]
     },
     "metadata": {},
     "output_type": "display_data"
    },
    {
     "data": {
      "text/html": [
       "<pre style=\"white-space:pre;overflow-x:auto;line-height:normal;font-family:Menlo,'DejaVu Sans Mono',consolas,'Courier New',monospace\">Warning: a histogram with the name genAs_toMu_pt_MuMudR_XXLowRange could not be filled and will be skipped\n",
       "</pre>\n"
      ],
      "text/plain": [
       "Warning: a histogram with the name genAs_toMu_pt_MuMudR_XXLowRange could not be filled and will be skipped\n"
      ]
     },
     "metadata": {},
     "output_type": "display_data"
    },
    {
     "data": {
      "text/html": [
       "<pre style=\"white-space:pre;overflow-x:auto;line-height:normal;font-family:Menlo,'DejaVu Sans Mono',consolas,'Courier New',monospace\">Warning: a histogram with the name genAs_toMu_lxy_MuMudR could not be filled and will be skipped\n",
       "</pre>\n"
      ],
      "text/plain": [
       "Warning: a histogram with the name genAs_toMu_lxy_MuMudR could not be filled and will be skipped\n"
      ]
     },
     "metadata": {},
     "output_type": "display_data"
    },
    {
     "data": {
      "text/html": [
       "<pre style=\"white-space:pre;overflow-x:auto;line-height:normal;font-family:Menlo,'DejaVu Sans Mono',consolas,'Courier New',monospace\">Warning: a histogram with the name genAs_toMu_lxy_MuMudR_XLowRange could not be filled and will be skipped\n",
       "</pre>\n"
      ],
      "text/plain": [
       "Warning: a histogram with the name genAs_toMu_lxy_MuMudR_XLowRange could not be filled and will be skipped\n"
      ]
     },
     "metadata": {},
     "output_type": "display_data"
    },
    {
     "data": {
      "text/html": [
       "<pre style=\"white-space:pre;overflow-x:auto;line-height:normal;font-family:Menlo,'DejaVu Sans Mono',consolas,'Courier New',monospace\">Warning: a histogram with the name genAs_toMu_lxy_MuMudR_XXLowRange could not be filled and will be skipped\n",
       "</pre>\n"
      ],
      "text/plain": [
       "Warning: a histogram with the name genAs_toMu_lxy_MuMudR_XXLowRange could not be filled and will be skipped\n"
      ]
     },
     "metadata": {},
     "output_type": "display_data"
    },
    {
     "data": {
      "text/html": [
       "<pre style=\"white-space:pre;overflow-x:auto;line-height:normal;font-family:Menlo,'DejaVu Sans Mono',consolas,'Courier New',monospace\">Warning: a histogram with the name genAs_toMu_pt_MuMudR_highRange could not be filled and will be skipped\n",
       "</pre>\n"
      ],
      "text/plain": [
       "Warning: a histogram with the name genAs_toMu_pt_MuMudR_highRange could not be filled and will be skipped\n"
      ]
     },
     "metadata": {},
     "output_type": "display_data"
    },
    {
     "data": {
      "text/html": [
       "<pre style=\"white-space:pre;overflow-x:auto;line-height:normal;font-family:Menlo,'DejaVu Sans Mono',consolas,'Courier New',monospace\">Warning: a histogram with the name genAs_toMu_pt_highRange_MuMudR_lowRange could not be filled and will be skipped\n",
       "</pre>\n"
      ],
      "text/plain": [
       "Warning: a histogram with the name genAs_toMu_pt_highRange_MuMudR_lowRange could not be filled and will be skipped\n"
      ]
     },
     "metadata": {},
     "output_type": "display_data"
    },
    {
     "data": {
      "text/html": [
       "<pre style=\"white-space:pre;overflow-x:auto;line-height:normal;font-family:Menlo,'DejaVu Sans Mono',consolas,'Courier New',monospace\">Applying genMus status 1\n",
       "</pre>\n"
      ],
      "text/plain": [
       "Applying genMus status 1\n"
      ]
     },
     "metadata": {},
     "output_type": "display_data"
    },
    {
     "data": {
      "text/html": [
       "<pre style=\"white-space:pre;overflow-x:auto;line-height:normal;font-family:Menlo,'DejaVu Sans Mono',consolas,'Courier New',monospace\">Applying genEs status 1\n",
       "</pre>\n"
      ],
      "text/plain": [
       "Applying genEs status 1\n"
      ]
     },
     "metadata": {},
     "output_type": "display_data"
    },
    {
     "data": {
      "text/html": [
       "<pre style=\"white-space:pre;overflow-x:auto;line-height:normal;font-family:Menlo,'DejaVu Sans Mono',consolas,'Courier New',monospace\">Applying electrons pT &gt; 10 GeV\n",
       "</pre>\n"
      ],
      "text/plain": [
       "Applying electrons pT > 10 GeV\n"
      ]
     },
     "metadata": {},
     "output_type": "display_data"
    },
    {
     "data": {
      "text/html": [
       "<pre style=\"white-space:pre;overflow-x:auto;line-height:normal;font-family:Menlo,'DejaVu Sans Mono',consolas,'Courier New',monospace\">Applying electrons |eta| &lt; 2.4\n",
       "</pre>\n"
      ],
      "text/plain": [
       "Applying electrons |eta| < 2.4\n"
      ]
     },
     "metadata": {},
     "output_type": "display_data"
    },
    {
     "data": {
      "text/html": [
       "<pre style=\"white-space:pre;overflow-x:auto;line-height:normal;font-family:Menlo,'DejaVu Sans Mono',consolas,'Courier New',monospace\">Applying electrons MVANonIsoWPL\n",
       "</pre>\n"
      ],
      "text/plain": [
       "Applying electrons MVANonIsoWPL\n"
      ]
     },
     "metadata": {},
     "output_type": "display_data"
    },
    {
     "data": {
      "text/html": [
       "<pre style=\"white-space:pre;overflow-x:auto;line-height:normal;font-family:Menlo,'DejaVu Sans Mono',consolas,'Courier New',monospace\">Applying muons looseID\n",
       "</pre>\n"
      ],
      "text/plain": [
       "Applying muons looseID\n"
      ]
     },
     "metadata": {},
     "output_type": "display_data"
    },
    {
     "data": {
      "text/html": [
       "<pre style=\"white-space:pre;overflow-x:auto;line-height:normal;font-family:Menlo,'DejaVu Sans Mono',consolas,'Courier New',monospace\">Applying muons pT &gt; 5 GeV\n",
       "</pre>\n"
      ],
      "text/plain": [
       "Applying muons pT > 5 GeV\n"
      ]
     },
     "metadata": {},
     "output_type": "display_data"
    },
    {
     "data": {
      "text/html": [
       "<pre style=\"white-space:pre;overflow-x:auto;line-height:normal;font-family:Menlo,'DejaVu Sans Mono',consolas,'Courier New',monospace\">Applying muons |eta| &lt; 2.4\n",
       "</pre>\n"
      ],
      "text/plain": [
       "Applying muons |eta| < 2.4\n"
      ]
     },
     "metadata": {},
     "output_type": "display_data"
    },
    {
     "data": {
      "text/html": [
       "<pre style=\"white-space:pre;overflow-x:auto;line-height:normal;font-family:Menlo,'DejaVu Sans Mono',consolas,'Courier New',monospace\">Applying photons pT &gt; 20 GeV\n",
       "</pre>\n"
      ],
      "text/plain": [
       "Applying photons pT > 20 GeV\n"
      ]
     },
     "metadata": {},
     "output_type": "display_data"
    },
    {
     "data": {
      "text/html": [
       "<pre style=\"white-space:pre;overflow-x:auto;line-height:normal;font-family:Menlo,'DejaVu Sans Mono',consolas,'Courier New',monospace\">Applying photons |eta| &lt; 2.5\n",
       "</pre>\n"
      ],
      "text/plain": [
       "Applying photons |eta| < 2.5\n"
      ]
     },
     "metadata": {},
     "output_type": "display_data"
    },
    {
     "data": {
      "text/html": [
       "<pre style=\"white-space:pre;overflow-x:auto;line-height:normal;font-family:Menlo,'DejaVu Sans Mono',consolas,'Courier New',monospace\">Applying photons Custom Cutbased\n",
       "</pre>\n"
      ],
      "text/plain": [
       "Applying photons Custom Cutbased\n"
      ]
     },
     "metadata": {},
     "output_type": "display_data"
    },
    {
     "data": {
      "text/html": [
       "<pre style=\"white-space:pre;overflow-x:auto;line-height:normal;font-family:Menlo,'DejaVu Sans Mono',consolas,'Courier New',monospace\">Applying photons pixelSeed\n",
       "</pre>\n"
      ],
      "text/plain": [
       "Applying photons pixelSeed\n"
      ]
     },
     "metadata": {},
     "output_type": "display_data"
    },
    {
     "data": {
      "text/html": [
       "<pre style=\"white-space:pre;overflow-x:auto;line-height:normal;font-family:Menlo,'DejaVu Sans Mono',consolas,'Courier New',monospace\">Applying photons Photon DR Veto 0p025\n",
       "</pre>\n"
      ],
      "text/plain": [
       "Applying photons Photon DR Veto 0p025\n"
      ]
     },
     "metadata": {},
     "output_type": "display_data"
    },
    {
     "data": {
      "text/html": [
       "<pre style=\"white-space:pre;overflow-x:auto;line-height:normal;font-family:Menlo,'DejaVu Sans Mono',consolas,'Courier New',monospace\">Applying dsaMuons pT &gt; 10 GeV\n",
       "</pre>\n"
      ],
      "text/plain": [
       "Applying dsaMuons pT > 10 GeV\n"
      ]
     },
     "metadata": {},
     "output_type": "display_data"
    },
    {
     "data": {
      "text/html": [
       "<pre style=\"white-space:pre;overflow-x:auto;line-height:normal;font-family:Menlo,'DejaVu Sans Mono',consolas,'Courier New',monospace\">Applying dsaMuons |eta| &lt; 2.4\n",
       "</pre>\n"
      ],
      "text/plain": [
       "Applying dsaMuons |eta| < 2.4\n"
      ]
     },
     "metadata": {},
     "output_type": "display_data"
    },
    {
     "data": {
      "text/html": [
       "<pre style=\"white-space:pre;overflow-x:auto;line-height:normal;font-family:Menlo,'DejaVu Sans Mono',consolas,'Courier New',monospace\">Applying dsaMuons displaced ID\n",
       "</pre>\n"
      ],
      "text/plain": [
       "Applying dsaMuons displaced ID\n"
      ]
     },
     "metadata": {},
     "output_type": "display_data"
    },
    {
     "data": {
      "text/html": [
       "<pre style=\"white-space:pre;overflow-x:auto;line-height:normal;font-family:Menlo,'DejaVu Sans Mono',consolas,'Courier New',monospace\">Applying genAs_toMu close dsaMu\n",
       "</pre>\n"
      ],
      "text/plain": [
       "Applying genAs_toMu close dsaMu\n"
      ]
     },
     "metadata": {},
     "output_type": "display_data"
    },
    {
     "data": {
      "text/html": [
       "<pre style=\"white-space:pre;overflow-x:auto;line-height:normal;font-family:Menlo,'DejaVu Sans Mono',consolas,'Courier New',monospace\">Applying cut: PV filter\n",
       "</pre>\n"
      ],
      "text/plain": [
       "Applying cut: PV filter\n"
      ]
     },
     "metadata": {},
     "output_type": "display_data"
    },
    {
     "data": {
      "text/html": [
       "<pre style=\"white-space:pre;overflow-x:auto;line-height:normal;font-family:Menlo,'DejaVu Sans Mono',consolas,'Courier New',monospace\">Applying cut: pass triggers\n",
       "</pre>\n"
      ],
      "text/plain": [
       "Applying cut: pass triggers\n"
      ]
     },
     "metadata": {},
     "output_type": "display_data"
    },
    {
     "data": {
      "text/html": [
       "<pre style=\"white-space:pre;overflow-x:auto;line-height:normal;font-family:Menlo,'DejaVu Sans Mono',consolas,'Courier New',monospace\">Warning: a histogram with the name genAs_toMu_pt_MuMudR_lowRange could not be filled and will be skipped\n",
       "</pre>\n"
      ],
      "text/plain": [
       "Warning: a histogram with the name genAs_toMu_pt_MuMudR_lowRange could not be filled and will be skipped\n"
      ]
     },
     "metadata": {},
     "output_type": "display_data"
    },
    {
     "data": {
      "text/html": [
       "<pre style=\"white-space:pre;overflow-x:auto;line-height:normal;font-family:Menlo,'DejaVu Sans Mono',consolas,'Courier New',monospace\">Warning: a histogram with the name genAs_toMu_pt_MuMudR_XLowRange could not be filled and will be skipped\n",
       "</pre>\n"
      ],
      "text/plain": [
       "Warning: a histogram with the name genAs_toMu_pt_MuMudR_XLowRange could not be filled and will be skipped\n"
      ]
     },
     "metadata": {},
     "output_type": "display_data"
    },
    {
     "data": {
      "text/html": [
       "<pre style=\"white-space:pre;overflow-x:auto;line-height:normal;font-family:Menlo,'DejaVu Sans Mono',consolas,'Courier New',monospace\">Warning: a histogram with the name genAs_toMu_pt_MuMudR_XXLowRange could not be filled and will be skipped\n",
       "</pre>\n"
      ],
      "text/plain": [
       "Warning: a histogram with the name genAs_toMu_pt_MuMudR_XXLowRange could not be filled and will be skipped\n"
      ]
     },
     "metadata": {},
     "output_type": "display_data"
    },
    {
     "data": {
      "text/html": [
       "<pre style=\"white-space:pre;overflow-x:auto;line-height:normal;font-family:Menlo,'DejaVu Sans Mono',consolas,'Courier New',monospace\">Warning: a histogram with the name genAs_toMu_lxy_MuMudR could not be filled and will be skipped\n",
       "</pre>\n"
      ],
      "text/plain": [
       "Warning: a histogram with the name genAs_toMu_lxy_MuMudR could not be filled and will be skipped\n"
      ]
     },
     "metadata": {},
     "output_type": "display_data"
    },
    {
     "data": {
      "text/html": [
       "<pre style=\"white-space:pre;overflow-x:auto;line-height:normal;font-family:Menlo,'DejaVu Sans Mono',consolas,'Courier New',monospace\">Warning: a histogram with the name genAs_toMu_lxy_MuMudR_XLowRange could not be filled and will be skipped\n",
       "</pre>\n"
      ],
      "text/plain": [
       "Warning: a histogram with the name genAs_toMu_lxy_MuMudR_XLowRange could not be filled and will be skipped\n"
      ]
     },
     "metadata": {},
     "output_type": "display_data"
    },
    {
     "data": {
      "text/html": [
       "<pre style=\"white-space:pre;overflow-x:auto;line-height:normal;font-family:Menlo,'DejaVu Sans Mono',consolas,'Courier New',monospace\">Warning: a histogram with the name genAs_toMu_lxy_MuMudR_XXLowRange could not be filled and will be skipped\n",
       "</pre>\n"
      ],
      "text/plain": [
       "Warning: a histogram with the name genAs_toMu_lxy_MuMudR_XXLowRange could not be filled and will be skipped\n"
      ]
     },
     "metadata": {},
     "output_type": "display_data"
    },
    {
     "data": {
      "text/html": [
       "<pre style=\"white-space:pre;overflow-x:auto;line-height:normal;font-family:Menlo,'DejaVu Sans Mono',consolas,'Courier New',monospace\">Warning: a histogram with the name genAs_toMu_pt_MuMudR_highRange could not be filled and will be skipped\n",
       "</pre>\n"
      ],
      "text/plain": [
       "Warning: a histogram with the name genAs_toMu_pt_MuMudR_highRange could not be filled and will be skipped\n"
      ]
     },
     "metadata": {},
     "output_type": "display_data"
    },
    {
     "data": {
      "text/html": [
       "<pre style=\"white-space:pre;overflow-x:auto;line-height:normal;font-family:Menlo,'DejaVu Sans Mono',consolas,'Courier New',monospace\">Warning: a histogram with the name genAs_toMu_pt_highRange_MuMudR_lowRange could not be filled and will be skipped\n",
       "</pre>\n"
      ],
      "text/plain": [
       "Warning: a histogram with the name genAs_toMu_pt_highRange_MuMudR_lowRange could not be filled and will be skipped\n"
      ]
     },
     "metadata": {},
     "output_type": "display_data"
    },
    {
     "data": {
      "text/html": [
       "<pre style=\"white-space:pre;overflow-x:auto;line-height:normal;font-family:Menlo,'DejaVu Sans Mono',consolas,'Courier New',monospace\">Applying genMus status 1\n",
       "</pre>\n"
      ],
      "text/plain": [
       "Applying genMus status 1\n"
      ]
     },
     "metadata": {},
     "output_type": "display_data"
    },
    {
     "data": {
      "text/html": [
       "<pre style=\"white-space:pre;overflow-x:auto;line-height:normal;font-family:Menlo,'DejaVu Sans Mono',consolas,'Courier New',monospace\">Applying genEs status 1\n",
       "</pre>\n"
      ],
      "text/plain": [
       "Applying genEs status 1\n"
      ]
     },
     "metadata": {},
     "output_type": "display_data"
    },
    {
     "data": {
      "text/html": [
       "<pre style=\"white-space:pre;overflow-x:auto;line-height:normal;font-family:Menlo,'DejaVu Sans Mono',consolas,'Courier New',monospace\">Applying electrons pT &gt; 10 GeV\n",
       "</pre>\n"
      ],
      "text/plain": [
       "Applying electrons pT > 10 GeV\n"
      ]
     },
     "metadata": {},
     "output_type": "display_data"
    },
    {
     "data": {
      "text/html": [
       "<pre style=\"white-space:pre;overflow-x:auto;line-height:normal;font-family:Menlo,'DejaVu Sans Mono',consolas,'Courier New',monospace\">Applying electrons |eta| &lt; 2.4\n",
       "</pre>\n"
      ],
      "text/plain": [
       "Applying electrons |eta| < 2.4\n"
      ]
     },
     "metadata": {},
     "output_type": "display_data"
    },
    {
     "data": {
      "text/html": [
       "<pre style=\"white-space:pre;overflow-x:auto;line-height:normal;font-family:Menlo,'DejaVu Sans Mono',consolas,'Courier New',monospace\">Applying electrons MVANonIsoWPL\n",
       "</pre>\n"
      ],
      "text/plain": [
       "Applying electrons MVANonIsoWPL\n"
      ]
     },
     "metadata": {},
     "output_type": "display_data"
    },
    {
     "data": {
      "text/html": [
       "<pre style=\"white-space:pre;overflow-x:auto;line-height:normal;font-family:Menlo,'DejaVu Sans Mono',consolas,'Courier New',monospace\">Applying muons looseID\n",
       "</pre>\n"
      ],
      "text/plain": [
       "Applying muons looseID\n"
      ]
     },
     "metadata": {},
     "output_type": "display_data"
    },
    {
     "data": {
      "text/html": [
       "<pre style=\"white-space:pre;overflow-x:auto;line-height:normal;font-family:Menlo,'DejaVu Sans Mono',consolas,'Courier New',monospace\">Applying muons pT &gt; 5 GeV\n",
       "</pre>\n"
      ],
      "text/plain": [
       "Applying muons pT > 5 GeV\n"
      ]
     },
     "metadata": {},
     "output_type": "display_data"
    },
    {
     "data": {
      "text/html": [
       "<pre style=\"white-space:pre;overflow-x:auto;line-height:normal;font-family:Menlo,'DejaVu Sans Mono',consolas,'Courier New',monospace\">Applying muons |eta| &lt; 2.4\n",
       "</pre>\n"
      ],
      "text/plain": [
       "Applying muons |eta| < 2.4\n"
      ]
     },
     "metadata": {},
     "output_type": "display_data"
    },
    {
     "data": {
      "text/html": [
       "<pre style=\"white-space:pre;overflow-x:auto;line-height:normal;font-family:Menlo,'DejaVu Sans Mono',consolas,'Courier New',monospace\">Applying photons pT &gt; 20 GeV\n",
       "</pre>\n"
      ],
      "text/plain": [
       "Applying photons pT > 20 GeV\n"
      ]
     },
     "metadata": {},
     "output_type": "display_data"
    },
    {
     "data": {
      "text/html": [
       "<pre style=\"white-space:pre;overflow-x:auto;line-height:normal;font-family:Menlo,'DejaVu Sans Mono',consolas,'Courier New',monospace\">Applying photons |eta| &lt; 2.5\n",
       "</pre>\n"
      ],
      "text/plain": [
       "Applying photons |eta| < 2.5\n"
      ]
     },
     "metadata": {},
     "output_type": "display_data"
    },
    {
     "data": {
      "text/html": [
       "<pre style=\"white-space:pre;overflow-x:auto;line-height:normal;font-family:Menlo,'DejaVu Sans Mono',consolas,'Courier New',monospace\">Applying photons Custom Cutbased\n",
       "</pre>\n"
      ],
      "text/plain": [
       "Applying photons Custom Cutbased\n"
      ]
     },
     "metadata": {},
     "output_type": "display_data"
    },
    {
     "data": {
      "text/html": [
       "<pre style=\"white-space:pre;overflow-x:auto;line-height:normal;font-family:Menlo,'DejaVu Sans Mono',consolas,'Courier New',monospace\">Applying photons pixelSeed\n",
       "</pre>\n"
      ],
      "text/plain": [
       "Applying photons pixelSeed\n"
      ]
     },
     "metadata": {},
     "output_type": "display_data"
    },
    {
     "data": {
      "text/html": [
       "<pre style=\"white-space:pre;overflow-x:auto;line-height:normal;font-family:Menlo,'DejaVu Sans Mono',consolas,'Courier New',monospace\">Applying photons Photon DR Veto 0p025\n",
       "</pre>\n"
      ],
      "text/plain": [
       "Applying photons Photon DR Veto 0p025\n"
      ]
     },
     "metadata": {},
     "output_type": "display_data"
    },
    {
     "data": {
      "text/html": [
       "<pre style=\"white-space:pre;overflow-x:auto;line-height:normal;font-family:Menlo,'DejaVu Sans Mono',consolas,'Courier New',monospace\">Applying dsaMuons pT &gt; 10 GeV\n",
       "</pre>\n"
      ],
      "text/plain": [
       "Applying dsaMuons pT > 10 GeV\n"
      ]
     },
     "metadata": {},
     "output_type": "display_data"
    },
    {
     "data": {
      "text/html": [
       "<pre style=\"white-space:pre;overflow-x:auto;line-height:normal;font-family:Menlo,'DejaVu Sans Mono',consolas,'Courier New',monospace\">Applying dsaMuons |eta| &lt; 2.4\n",
       "</pre>\n"
      ],
      "text/plain": [
       "Applying dsaMuons |eta| < 2.4\n"
      ]
     },
     "metadata": {},
     "output_type": "display_data"
    },
    {
     "data": {
      "text/html": [
       "<pre style=\"white-space:pre;overflow-x:auto;line-height:normal;font-family:Menlo,'DejaVu Sans Mono',consolas,'Courier New',monospace\">Applying dsaMuons displaced ID\n",
       "</pre>\n"
      ],
      "text/plain": [
       "Applying dsaMuons displaced ID\n"
      ]
     },
     "metadata": {},
     "output_type": "display_data"
    },
    {
     "data": {
      "text/html": [
       "<pre style=\"white-space:pre;overflow-x:auto;line-height:normal;font-family:Menlo,'DejaVu Sans Mono',consolas,'Courier New',monospace\">Applying genAs_toMu &gt;= 2 close dsaMu\n",
       "</pre>\n"
      ],
      "text/plain": [
       "Applying genAs_toMu >= 2 close dsaMu\n"
      ]
     },
     "metadata": {},
     "output_type": "display_data"
    },
    {
     "data": {
      "text/html": [
       "<pre style=\"white-space:pre;overflow-x:auto;line-height:normal;font-family:Menlo,'DejaVu Sans Mono',consolas,'Courier New',monospace\">Applying cut: PV filter\n",
       "</pre>\n"
      ],
      "text/plain": [
       "Applying cut: PV filter\n"
      ]
     },
     "metadata": {},
     "output_type": "display_data"
    },
    {
     "data": {
      "text/html": [
       "<pre style=\"white-space:pre;overflow-x:auto;line-height:normal;font-family:Menlo,'DejaVu Sans Mono',consolas,'Courier New',monospace\">Applying cut: pass triggers\n",
       "</pre>\n"
      ],
      "text/plain": [
       "Applying cut: pass triggers\n"
      ]
     },
     "metadata": {},
     "output_type": "display_data"
    },
    {
     "data": {
      "text/html": [
       "<pre style=\"white-space:pre;overflow-x:auto;line-height:normal;font-family:Menlo,'DejaVu Sans Mono',consolas,'Courier New',monospace\">Warning: a histogram with the name genAs_toMu_pt_MuMudR_lowRange could not be filled and will be skipped\n",
       "</pre>\n"
      ],
      "text/plain": [
       "Warning: a histogram with the name genAs_toMu_pt_MuMudR_lowRange could not be filled and will be skipped\n"
      ]
     },
     "metadata": {},
     "output_type": "display_data"
    },
    {
     "data": {
      "text/html": [
       "<pre style=\"white-space:pre;overflow-x:auto;line-height:normal;font-family:Menlo,'DejaVu Sans Mono',consolas,'Courier New',monospace\">Warning: a histogram with the name genAs_toMu_pt_MuMudR_XLowRange could not be filled and will be skipped\n",
       "</pre>\n"
      ],
      "text/plain": [
       "Warning: a histogram with the name genAs_toMu_pt_MuMudR_XLowRange could not be filled and will be skipped\n"
      ]
     },
     "metadata": {},
     "output_type": "display_data"
    },
    {
     "data": {
      "text/html": [
       "<pre style=\"white-space:pre;overflow-x:auto;line-height:normal;font-family:Menlo,'DejaVu Sans Mono',consolas,'Courier New',monospace\">Warning: a histogram with the name genAs_toMu_pt_MuMudR_XXLowRange could not be filled and will be skipped\n",
       "</pre>\n"
      ],
      "text/plain": [
       "Warning: a histogram with the name genAs_toMu_pt_MuMudR_XXLowRange could not be filled and will be skipped\n"
      ]
     },
     "metadata": {},
     "output_type": "display_data"
    },
    {
     "data": {
      "text/html": [
       "<pre style=\"white-space:pre;overflow-x:auto;line-height:normal;font-family:Menlo,'DejaVu Sans Mono',consolas,'Courier New',monospace\">Warning: a histogram with the name genAs_toMu_lxy_MuMudR could not be filled and will be skipped\n",
       "</pre>\n"
      ],
      "text/plain": [
       "Warning: a histogram with the name genAs_toMu_lxy_MuMudR could not be filled and will be skipped\n"
      ]
     },
     "metadata": {},
     "output_type": "display_data"
    },
    {
     "data": {
      "text/html": [
       "<pre style=\"white-space:pre;overflow-x:auto;line-height:normal;font-family:Menlo,'DejaVu Sans Mono',consolas,'Courier New',monospace\">Warning: a histogram with the name genAs_toMu_lxy_MuMudR_XLowRange could not be filled and will be skipped\n",
       "</pre>\n"
      ],
      "text/plain": [
       "Warning: a histogram with the name genAs_toMu_lxy_MuMudR_XLowRange could not be filled and will be skipped\n"
      ]
     },
     "metadata": {},
     "output_type": "display_data"
    },
    {
     "data": {
      "text/html": [
       "<pre style=\"white-space:pre;overflow-x:auto;line-height:normal;font-family:Menlo,'DejaVu Sans Mono',consolas,'Courier New',monospace\">Warning: a histogram with the name genAs_toMu_lxy_MuMudR_XXLowRange could not be filled and will be skipped\n",
       "</pre>\n"
      ],
      "text/plain": [
       "Warning: a histogram with the name genAs_toMu_lxy_MuMudR_XXLowRange could not be filled and will be skipped\n"
      ]
     },
     "metadata": {},
     "output_type": "display_data"
    },
    {
     "data": {
      "text/html": [
       "<pre style=\"white-space:pre;overflow-x:auto;line-height:normal;font-family:Menlo,'DejaVu Sans Mono',consolas,'Courier New',monospace\">Warning: a histogram with the name genAs_toMu_pt_MuMudR_highRange could not be filled and will be skipped\n",
       "</pre>\n"
      ],
      "text/plain": [
       "Warning: a histogram with the name genAs_toMu_pt_MuMudR_highRange could not be filled and will be skipped\n"
      ]
     },
     "metadata": {},
     "output_type": "display_data"
    },
    {
     "data": {
      "text/html": [
       "<pre style=\"white-space:pre;overflow-x:auto;line-height:normal;font-family:Menlo,'DejaVu Sans Mono',consolas,'Courier New',monospace\">Warning: a histogram with the name genAs_toMu_pt_highRange_MuMudR_lowRange could not be filled and will be skipped\n",
       "</pre>\n"
      ],
      "text/plain": [
       "Warning: a histogram with the name genAs_toMu_pt_highRange_MuMudR_lowRange could not be filled and will be skipped\n"
      ]
     },
     "metadata": {},
     "output_type": "display_data"
    },
    {
     "data": {
      "text/html": [
       "<pre style=\"white-space:pre;overflow-x:auto;line-height:normal;font-family:Menlo,'DejaVu Sans Mono',consolas,'Courier New',monospace\">Applying genMus status 1\n",
       "</pre>\n"
      ],
      "text/plain": [
       "Applying genMus status 1\n"
      ]
     },
     "metadata": {},
     "output_type": "display_data"
    },
    {
     "data": {
      "text/html": [
       "<pre style=\"white-space:pre;overflow-x:auto;line-height:normal;font-family:Menlo,'DejaVu Sans Mono',consolas,'Courier New',monospace\">Applying genEs status 1\n",
       "</pre>\n"
      ],
      "text/plain": [
       "Applying genEs status 1\n"
      ]
     },
     "metadata": {},
     "output_type": "display_data"
    },
    {
     "data": {
      "text/html": [
       "<pre style=\"white-space:pre;overflow-x:auto;line-height:normal;font-family:Menlo,'DejaVu Sans Mono',consolas,'Courier New',monospace\">Applying genAs_toMu close mu\n",
       "</pre>\n"
      ],
      "text/plain": [
       "Applying genAs_toMu close mu\n"
      ]
     },
     "metadata": {},
     "output_type": "display_data"
    },
    {
     "data": {
      "text/html": [
       "<pre style=\"white-space:pre;overflow-x:auto;line-height:normal;font-family:Menlo,'DejaVu Sans Mono',consolas,'Courier New',monospace\">Applying cut: PV filter\n",
       "</pre>\n"
      ],
      "text/plain": [
       "Applying cut: PV filter\n"
      ]
     },
     "metadata": {},
     "output_type": "display_data"
    },
    {
     "data": {
      "text/html": [
       "<pre style=\"white-space:pre;overflow-x:auto;line-height:normal;font-family:Menlo,'DejaVu Sans Mono',consolas,'Courier New',monospace\">Warning: a histogram with the name genAs_toMu_pt_MuMudR_lowRange could not be filled and will be skipped\n",
       "</pre>\n"
      ],
      "text/plain": [
       "Warning: a histogram with the name genAs_toMu_pt_MuMudR_lowRange could not be filled and will be skipped\n"
      ]
     },
     "metadata": {},
     "output_type": "display_data"
    },
    {
     "data": {
      "text/html": [
       "<pre style=\"white-space:pre;overflow-x:auto;line-height:normal;font-family:Menlo,'DejaVu Sans Mono',consolas,'Courier New',monospace\">Warning: a histogram with the name genAs_toMu_pt_MuMudR_XLowRange could not be filled and will be skipped\n",
       "</pre>\n"
      ],
      "text/plain": [
       "Warning: a histogram with the name genAs_toMu_pt_MuMudR_XLowRange could not be filled and will be skipped\n"
      ]
     },
     "metadata": {},
     "output_type": "display_data"
    },
    {
     "data": {
      "text/html": [
       "<pre style=\"white-space:pre;overflow-x:auto;line-height:normal;font-family:Menlo,'DejaVu Sans Mono',consolas,'Courier New',monospace\">Warning: a histogram with the name genAs_toMu_pt_MuMudR_XXLowRange could not be filled and will be skipped\n",
       "</pre>\n"
      ],
      "text/plain": [
       "Warning: a histogram with the name genAs_toMu_pt_MuMudR_XXLowRange could not be filled and will be skipped\n"
      ]
     },
     "metadata": {},
     "output_type": "display_data"
    },
    {
     "data": {
      "text/html": [
       "<pre style=\"white-space:pre;overflow-x:auto;line-height:normal;font-family:Menlo,'DejaVu Sans Mono',consolas,'Courier New',monospace\">Warning: a histogram with the name genAs_toMu_lxy_MuMudR could not be filled and will be skipped\n",
       "</pre>\n"
      ],
      "text/plain": [
       "Warning: a histogram with the name genAs_toMu_lxy_MuMudR could not be filled and will be skipped\n"
      ]
     },
     "metadata": {},
     "output_type": "display_data"
    },
    {
     "data": {
      "text/html": [
       "<pre style=\"white-space:pre;overflow-x:auto;line-height:normal;font-family:Menlo,'DejaVu Sans Mono',consolas,'Courier New',monospace\">Warning: a histogram with the name genAs_toMu_lxy_MuMudR_XLowRange could not be filled and will be skipped\n",
       "</pre>\n"
      ],
      "text/plain": [
       "Warning: a histogram with the name genAs_toMu_lxy_MuMudR_XLowRange could not be filled and will be skipped\n"
      ]
     },
     "metadata": {},
     "output_type": "display_data"
    },
    {
     "data": {
      "text/html": [
       "<pre style=\"white-space:pre;overflow-x:auto;line-height:normal;font-family:Menlo,'DejaVu Sans Mono',consolas,'Courier New',monospace\">Warning: a histogram with the name genAs_toMu_lxy_MuMudR_XXLowRange could not be filled and will be skipped\n",
       "</pre>\n"
      ],
      "text/plain": [
       "Warning: a histogram with the name genAs_toMu_lxy_MuMudR_XXLowRange could not be filled and will be skipped\n"
      ]
     },
     "metadata": {},
     "output_type": "display_data"
    },
    {
     "data": {
      "text/html": [
       "<pre style=\"white-space:pre;overflow-x:auto;line-height:normal;font-family:Menlo,'DejaVu Sans Mono',consolas,'Courier New',monospace\">Warning: a histogram with the name genAs_toMu_pt_MuMudR_highRange could not be filled and will be skipped\n",
       "</pre>\n"
      ],
      "text/plain": [
       "Warning: a histogram with the name genAs_toMu_pt_MuMudR_highRange could not be filled and will be skipped\n"
      ]
     },
     "metadata": {},
     "output_type": "display_data"
    },
    {
     "data": {
      "text/html": [
       "<pre style=\"white-space:pre;overflow-x:auto;line-height:normal;font-family:Menlo,'DejaVu Sans Mono',consolas,'Courier New',monospace\">Warning: a histogram with the name genAs_toMu_pt_highRange_MuMudR_lowRange could not be filled and will be skipped\n",
       "</pre>\n"
      ],
      "text/plain": [
       "Warning: a histogram with the name genAs_toMu_pt_highRange_MuMudR_lowRange could not be filled and will be skipped\n"
      ]
     },
     "metadata": {},
     "output_type": "display_data"
    },
    {
     "data": {
      "text/html": [
       "<pre style=\"white-space:pre;overflow-x:auto;line-height:normal;font-family:Menlo,'DejaVu Sans Mono',consolas,'Courier New',monospace\">Applying genMus status 1\n",
       "</pre>\n"
      ],
      "text/plain": [
       "Applying genMus status 1\n"
      ]
     },
     "metadata": {},
     "output_type": "display_data"
    },
    {
     "data": {
      "text/html": [
       "<pre style=\"white-space:pre;overflow-x:auto;line-height:normal;font-family:Menlo,'DejaVu Sans Mono',consolas,'Courier New',monospace\">Applying genEs status 1\n",
       "</pre>\n"
      ],
      "text/plain": [
       "Applying genEs status 1\n"
      ]
     },
     "metadata": {},
     "output_type": "display_data"
    },
    {
     "data": {
      "text/html": [
       "<pre style=\"white-space:pre;overflow-x:auto;line-height:normal;font-family:Menlo,'DejaVu Sans Mono',consolas,'Courier New',monospace\">Applying genAs_toMu &gt;= 2 close mu\n",
       "</pre>\n"
      ],
      "text/plain": [
       "Applying genAs_toMu >= 2 close mu\n"
      ]
     },
     "metadata": {},
     "output_type": "display_data"
    },
    {
     "data": {
      "text/html": [
       "<pre style=\"white-space:pre;overflow-x:auto;line-height:normal;font-family:Menlo,'DejaVu Sans Mono',consolas,'Courier New',monospace\">Applying cut: PV filter\n",
       "</pre>\n"
      ],
      "text/plain": [
       "Applying cut: PV filter\n"
      ]
     },
     "metadata": {},
     "output_type": "display_data"
    },
    {
     "data": {
      "text/html": [
       "<pre style=\"white-space:pre;overflow-x:auto;line-height:normal;font-family:Menlo,'DejaVu Sans Mono',consolas,'Courier New',monospace\">Warning: a histogram with the name genAs_toMu_pt_MuMudR_lowRange could not be filled and will be skipped\n",
       "</pre>\n"
      ],
      "text/plain": [
       "Warning: a histogram with the name genAs_toMu_pt_MuMudR_lowRange could not be filled and will be skipped\n"
      ]
     },
     "metadata": {},
     "output_type": "display_data"
    },
    {
     "data": {
      "text/html": [
       "<pre style=\"white-space:pre;overflow-x:auto;line-height:normal;font-family:Menlo,'DejaVu Sans Mono',consolas,'Courier New',monospace\">Warning: a histogram with the name genAs_toMu_pt_MuMudR_XLowRange could not be filled and will be skipped\n",
       "</pre>\n"
      ],
      "text/plain": [
       "Warning: a histogram with the name genAs_toMu_pt_MuMudR_XLowRange could not be filled and will be skipped\n"
      ]
     },
     "metadata": {},
     "output_type": "display_data"
    },
    {
     "data": {
      "text/html": [
       "<pre style=\"white-space:pre;overflow-x:auto;line-height:normal;font-family:Menlo,'DejaVu Sans Mono',consolas,'Courier New',monospace\">Warning: a histogram with the name genAs_toMu_pt_MuMudR_XXLowRange could not be filled and will be skipped\n",
       "</pre>\n"
      ],
      "text/plain": [
       "Warning: a histogram with the name genAs_toMu_pt_MuMudR_XXLowRange could not be filled and will be skipped\n"
      ]
     },
     "metadata": {},
     "output_type": "display_data"
    },
    {
     "data": {
      "text/html": [
       "<pre style=\"white-space:pre;overflow-x:auto;line-height:normal;font-family:Menlo,'DejaVu Sans Mono',consolas,'Courier New',monospace\">Warning: a histogram with the name genAs_toMu_lxy_MuMudR could not be filled and will be skipped\n",
       "</pre>\n"
      ],
      "text/plain": [
       "Warning: a histogram with the name genAs_toMu_lxy_MuMudR could not be filled and will be skipped\n"
      ]
     },
     "metadata": {},
     "output_type": "display_data"
    },
    {
     "data": {
      "text/html": [
       "<pre style=\"white-space:pre;overflow-x:auto;line-height:normal;font-family:Menlo,'DejaVu Sans Mono',consolas,'Courier New',monospace\">Warning: a histogram with the name genAs_toMu_lxy_MuMudR_XLowRange could not be filled and will be skipped\n",
       "</pre>\n"
      ],
      "text/plain": [
       "Warning: a histogram with the name genAs_toMu_lxy_MuMudR_XLowRange could not be filled and will be skipped\n"
      ]
     },
     "metadata": {},
     "output_type": "display_data"
    },
    {
     "data": {
      "text/html": [
       "<pre style=\"white-space:pre;overflow-x:auto;line-height:normal;font-family:Menlo,'DejaVu Sans Mono',consolas,'Courier New',monospace\">Warning: a histogram with the name genAs_toMu_lxy_MuMudR_XXLowRange could not be filled and will be skipped\n",
       "</pre>\n"
      ],
      "text/plain": [
       "Warning: a histogram with the name genAs_toMu_lxy_MuMudR_XXLowRange could not be filled and will be skipped\n"
      ]
     },
     "metadata": {},
     "output_type": "display_data"
    },
    {
     "data": {
      "text/html": [
       "<pre style=\"white-space:pre;overflow-x:auto;line-height:normal;font-family:Menlo,'DejaVu Sans Mono',consolas,'Courier New',monospace\">Warning: a histogram with the name genAs_toMu_pt_MuMudR_highRange could not be filled and will be skipped\n",
       "</pre>\n"
      ],
      "text/plain": [
       "Warning: a histogram with the name genAs_toMu_pt_MuMudR_highRange could not be filled and will be skipped\n"
      ]
     },
     "metadata": {},
     "output_type": "display_data"
    },
    {
     "data": {
      "text/html": [
       "<pre style=\"white-space:pre;overflow-x:auto;line-height:normal;font-family:Menlo,'DejaVu Sans Mono',consolas,'Courier New',monospace\">Warning: a histogram with the name genAs_toMu_pt_highRange_MuMudR_lowRange could not be filled and will be skipped\n",
       "</pre>\n"
      ],
      "text/plain": [
       "Warning: a histogram with the name genAs_toMu_pt_highRange_MuMudR_lowRange could not be filled and will be skipped\n"
      ]
     },
     "metadata": {},
     "output_type": "display_data"
    },
    {
     "data": {
      "text/html": [
       "<pre style=\"white-space:pre;overflow-x:auto;line-height:normal;font-family:Menlo,'DejaVu Sans Mono',consolas,'Courier New',monospace\">Applying genMus status 1\n",
       "</pre>\n"
      ],
      "text/plain": [
       "Applying genMus status 1\n"
      ]
     },
     "metadata": {},
     "output_type": "display_data"
    },
    {
     "data": {
      "text/html": [
       "<pre style=\"white-space:pre;overflow-x:auto;line-height:normal;font-family:Menlo,'DejaVu Sans Mono',consolas,'Courier New',monospace\">Applying genEs status 1\n",
       "</pre>\n"
      ],
      "text/plain": [
       "Applying genEs status 1\n"
      ]
     },
     "metadata": {},
     "output_type": "display_data"
    },
    {
     "data": {
      "text/html": [
       "<pre style=\"white-space:pre;overflow-x:auto;line-height:normal;font-family:Menlo,'DejaVu Sans Mono',consolas,'Courier New',monospace\">Applying electrons pT &gt; 10 GeV\n",
       "</pre>\n"
      ],
      "text/plain": [
       "Applying electrons pT > 10 GeV\n"
      ]
     },
     "metadata": {},
     "output_type": "display_data"
    },
    {
     "data": {
      "text/html": [
       "<pre style=\"white-space:pre;overflow-x:auto;line-height:normal;font-family:Menlo,'DejaVu Sans Mono',consolas,'Courier New',monospace\">Applying electrons |eta| &lt; 2.4\n",
       "</pre>\n"
      ],
      "text/plain": [
       "Applying electrons |eta| < 2.4\n"
      ]
     },
     "metadata": {},
     "output_type": "display_data"
    },
    {
     "data": {
      "text/html": [
       "<pre style=\"white-space:pre;overflow-x:auto;line-height:normal;font-family:Menlo,'DejaVu Sans Mono',consolas,'Courier New',monospace\">Applying electrons MVANonIsoWPL\n",
       "</pre>\n"
      ],
      "text/plain": [
       "Applying electrons MVANonIsoWPL\n"
      ]
     },
     "metadata": {},
     "output_type": "display_data"
    },
    {
     "data": {
      "text/html": [
       "<pre style=\"white-space:pre;overflow-x:auto;line-height:normal;font-family:Menlo,'DejaVu Sans Mono',consolas,'Courier New',monospace\">Applying muons looseID\n",
       "</pre>\n"
      ],
      "text/plain": [
       "Applying muons looseID\n"
      ]
     },
     "metadata": {},
     "output_type": "display_data"
    },
    {
     "data": {
      "text/html": [
       "<pre style=\"white-space:pre;overflow-x:auto;line-height:normal;font-family:Menlo,'DejaVu Sans Mono',consolas,'Courier New',monospace\">Applying muons pT &gt; 5 GeV\n",
       "</pre>\n"
      ],
      "text/plain": [
       "Applying muons pT > 5 GeV\n"
      ]
     },
     "metadata": {},
     "output_type": "display_data"
    },
    {
     "data": {
      "text/html": [
       "<pre style=\"white-space:pre;overflow-x:auto;line-height:normal;font-family:Menlo,'DejaVu Sans Mono',consolas,'Courier New',monospace\">Applying muons |eta| &lt; 2.4\n",
       "</pre>\n"
      ],
      "text/plain": [
       "Applying muons |eta| < 2.4\n"
      ]
     },
     "metadata": {},
     "output_type": "display_data"
    },
    {
     "data": {
      "text/html": [
       "<pre style=\"white-space:pre;overflow-x:auto;line-height:normal;font-family:Menlo,'DejaVu Sans Mono',consolas,'Courier New',monospace\">Applying photons pT &gt; 20 GeV\n",
       "</pre>\n"
      ],
      "text/plain": [
       "Applying photons pT > 20 GeV\n"
      ]
     },
     "metadata": {},
     "output_type": "display_data"
    },
    {
     "data": {
      "text/html": [
       "<pre style=\"white-space:pre;overflow-x:auto;line-height:normal;font-family:Menlo,'DejaVu Sans Mono',consolas,'Courier New',monospace\">Applying photons |eta| &lt; 2.5\n",
       "</pre>\n"
      ],
      "text/plain": [
       "Applying photons |eta| < 2.5\n"
      ]
     },
     "metadata": {},
     "output_type": "display_data"
    },
    {
     "data": {
      "text/html": [
       "<pre style=\"white-space:pre;overflow-x:auto;line-height:normal;font-family:Menlo,'DejaVu Sans Mono',consolas,'Courier New',monospace\">Applying photons Custom Cutbased\n",
       "</pre>\n"
      ],
      "text/plain": [
       "Applying photons Custom Cutbased\n"
      ]
     },
     "metadata": {},
     "output_type": "display_data"
    },
    {
     "data": {
      "text/html": [
       "<pre style=\"white-space:pre;overflow-x:auto;line-height:normal;font-family:Menlo,'DejaVu Sans Mono',consolas,'Courier New',monospace\">Applying photons pixelSeed\n",
       "</pre>\n"
      ],
      "text/plain": [
       "Applying photons pixelSeed\n"
      ]
     },
     "metadata": {},
     "output_type": "display_data"
    },
    {
     "data": {
      "text/html": [
       "<pre style=\"white-space:pre;overflow-x:auto;line-height:normal;font-family:Menlo,'DejaVu Sans Mono',consolas,'Courier New',monospace\">Applying photons Photon DR Veto 0p025\n",
       "</pre>\n"
      ],
      "text/plain": [
       "Applying photons Photon DR Veto 0p025\n"
      ]
     },
     "metadata": {},
     "output_type": "display_data"
    },
    {
     "data": {
      "text/html": [
       "<pre style=\"white-space:pre;overflow-x:auto;line-height:normal;font-family:Menlo,'DejaVu Sans Mono',consolas,'Courier New',monospace\">Applying dsaMuons pT &gt; 10 GeV\n",
       "</pre>\n"
      ],
      "text/plain": [
       "Applying dsaMuons pT > 10 GeV\n"
      ]
     },
     "metadata": {},
     "output_type": "display_data"
    },
    {
     "data": {
      "text/html": [
       "<pre style=\"white-space:pre;overflow-x:auto;line-height:normal;font-family:Menlo,'DejaVu Sans Mono',consolas,'Courier New',monospace\">Applying dsaMuons |eta| &lt; 2.4\n",
       "</pre>\n"
      ],
      "text/plain": [
       "Applying dsaMuons |eta| < 2.4\n"
      ]
     },
     "metadata": {},
     "output_type": "display_data"
    },
    {
     "data": {
      "text/html": [
       "<pre style=\"white-space:pre;overflow-x:auto;line-height:normal;font-family:Menlo,'DejaVu Sans Mono',consolas,'Courier New',monospace\">Applying dsaMuons displaced ID\n",
       "</pre>\n"
      ],
      "text/plain": [
       "Applying dsaMuons displaced ID\n"
      ]
     },
     "metadata": {},
     "output_type": "display_data"
    },
    {
     "data": {
      "text/html": [
       "<pre style=\"white-space:pre;overflow-x:auto;line-height:normal;font-family:Menlo,'DejaVu Sans Mono',consolas,'Courier New',monospace\">Applying genAs_toMu close mu\n",
       "</pre>\n"
      ],
      "text/plain": [
       "Applying genAs_toMu close mu\n"
      ]
     },
     "metadata": {},
     "output_type": "display_data"
    },
    {
     "data": {
      "text/html": [
       "<pre style=\"white-space:pre;overflow-x:auto;line-height:normal;font-family:Menlo,'DejaVu Sans Mono',consolas,'Courier New',monospace\">Applying cut: PV filter\n",
       "</pre>\n"
      ],
      "text/plain": [
       "Applying cut: PV filter\n"
      ]
     },
     "metadata": {},
     "output_type": "display_data"
    },
    {
     "data": {
      "text/html": [
       "<pre style=\"white-space:pre;overflow-x:auto;line-height:normal;font-family:Menlo,'DejaVu Sans Mono',consolas,'Courier New',monospace\">Applying cut: pass triggers\n",
       "</pre>\n"
      ],
      "text/plain": [
       "Applying cut: pass triggers\n"
      ]
     },
     "metadata": {},
     "output_type": "display_data"
    },
    {
     "data": {
      "text/html": [
       "<pre style=\"white-space:pre;overflow-x:auto;line-height:normal;font-family:Menlo,'DejaVu Sans Mono',consolas,'Courier New',monospace\">Warning: a histogram with the name genAs_toMu_pt_MuMudR_lowRange could not be filled and will be skipped\n",
       "</pre>\n"
      ],
      "text/plain": [
       "Warning: a histogram with the name genAs_toMu_pt_MuMudR_lowRange could not be filled and will be skipped\n"
      ]
     },
     "metadata": {},
     "output_type": "display_data"
    },
    {
     "data": {
      "text/html": [
       "<pre style=\"white-space:pre;overflow-x:auto;line-height:normal;font-family:Menlo,'DejaVu Sans Mono',consolas,'Courier New',monospace\">Warning: a histogram with the name genAs_toMu_pt_MuMudR_XLowRange could not be filled and will be skipped\n",
       "</pre>\n"
      ],
      "text/plain": [
       "Warning: a histogram with the name genAs_toMu_pt_MuMudR_XLowRange could not be filled and will be skipped\n"
      ]
     },
     "metadata": {},
     "output_type": "display_data"
    },
    {
     "data": {
      "text/html": [
       "<pre style=\"white-space:pre;overflow-x:auto;line-height:normal;font-family:Menlo,'DejaVu Sans Mono',consolas,'Courier New',monospace\">Warning: a histogram with the name genAs_toMu_pt_MuMudR_XXLowRange could not be filled and will be skipped\n",
       "</pre>\n"
      ],
      "text/plain": [
       "Warning: a histogram with the name genAs_toMu_pt_MuMudR_XXLowRange could not be filled and will be skipped\n"
      ]
     },
     "metadata": {},
     "output_type": "display_data"
    },
    {
     "data": {
      "text/html": [
       "<pre style=\"white-space:pre;overflow-x:auto;line-height:normal;font-family:Menlo,'DejaVu Sans Mono',consolas,'Courier New',monospace\">Warning: a histogram with the name genAs_toMu_lxy_MuMudR could not be filled and will be skipped\n",
       "</pre>\n"
      ],
      "text/plain": [
       "Warning: a histogram with the name genAs_toMu_lxy_MuMudR could not be filled and will be skipped\n"
      ]
     },
     "metadata": {},
     "output_type": "display_data"
    },
    {
     "data": {
      "text/html": [
       "<pre style=\"white-space:pre;overflow-x:auto;line-height:normal;font-family:Menlo,'DejaVu Sans Mono',consolas,'Courier New',monospace\">Warning: a histogram with the name genAs_toMu_lxy_MuMudR_XLowRange could not be filled and will be skipped\n",
       "</pre>\n"
      ],
      "text/plain": [
       "Warning: a histogram with the name genAs_toMu_lxy_MuMudR_XLowRange could not be filled and will be skipped\n"
      ]
     },
     "metadata": {},
     "output_type": "display_data"
    },
    {
     "data": {
      "text/html": [
       "<pre style=\"white-space:pre;overflow-x:auto;line-height:normal;font-family:Menlo,'DejaVu Sans Mono',consolas,'Courier New',monospace\">Warning: a histogram with the name genAs_toMu_lxy_MuMudR_XXLowRange could not be filled and will be skipped\n",
       "</pre>\n"
      ],
      "text/plain": [
       "Warning: a histogram with the name genAs_toMu_lxy_MuMudR_XXLowRange could not be filled and will be skipped\n"
      ]
     },
     "metadata": {},
     "output_type": "display_data"
    },
    {
     "data": {
      "text/html": [
       "<pre style=\"white-space:pre;overflow-x:auto;line-height:normal;font-family:Menlo,'DejaVu Sans Mono',consolas,'Courier New',monospace\">Warning: a histogram with the name genAs_toMu_pt_MuMudR_highRange could not be filled and will be skipped\n",
       "</pre>\n"
      ],
      "text/plain": [
       "Warning: a histogram with the name genAs_toMu_pt_MuMudR_highRange could not be filled and will be skipped\n"
      ]
     },
     "metadata": {},
     "output_type": "display_data"
    },
    {
     "data": {
      "text/html": [
       "<pre style=\"white-space:pre;overflow-x:auto;line-height:normal;font-family:Menlo,'DejaVu Sans Mono',consolas,'Courier New',monospace\">Warning: a histogram with the name genAs_toMu_pt_highRange_MuMudR_lowRange could not be filled and will be skipped\n",
       "</pre>\n"
      ],
      "text/plain": [
       "Warning: a histogram with the name genAs_toMu_pt_highRange_MuMudR_lowRange could not be filled and will be skipped\n"
      ]
     },
     "metadata": {},
     "output_type": "display_data"
    },
    {
     "data": {
      "text/html": [
       "<pre style=\"white-space:pre;overflow-x:auto;line-height:normal;font-family:Menlo,'DejaVu Sans Mono',consolas,'Courier New',monospace\">Applying genMus status 1\n",
       "</pre>\n"
      ],
      "text/plain": [
       "Applying genMus status 1\n"
      ]
     },
     "metadata": {},
     "output_type": "display_data"
    },
    {
     "data": {
      "text/html": [
       "<pre style=\"white-space:pre;overflow-x:auto;line-height:normal;font-family:Menlo,'DejaVu Sans Mono',consolas,'Courier New',monospace\">Applying genEs status 1\n",
       "</pre>\n"
      ],
      "text/plain": [
       "Applying genEs status 1\n"
      ]
     },
     "metadata": {},
     "output_type": "display_data"
    },
    {
     "data": {
      "text/html": [
       "<pre style=\"white-space:pre;overflow-x:auto;line-height:normal;font-family:Menlo,'DejaVu Sans Mono',consolas,'Courier New',monospace\">Applying electrons pT &gt; 10 GeV\n",
       "</pre>\n"
      ],
      "text/plain": [
       "Applying electrons pT > 10 GeV\n"
      ]
     },
     "metadata": {},
     "output_type": "display_data"
    },
    {
     "data": {
      "text/html": [
       "<pre style=\"white-space:pre;overflow-x:auto;line-height:normal;font-family:Menlo,'DejaVu Sans Mono',consolas,'Courier New',monospace\">Applying electrons |eta| &lt; 2.4\n",
       "</pre>\n"
      ],
      "text/plain": [
       "Applying electrons |eta| < 2.4\n"
      ]
     },
     "metadata": {},
     "output_type": "display_data"
    },
    {
     "data": {
      "text/html": [
       "<pre style=\"white-space:pre;overflow-x:auto;line-height:normal;font-family:Menlo,'DejaVu Sans Mono',consolas,'Courier New',monospace\">Applying electrons MVANonIsoWPL\n",
       "</pre>\n"
      ],
      "text/plain": [
       "Applying electrons MVANonIsoWPL\n"
      ]
     },
     "metadata": {},
     "output_type": "display_data"
    },
    {
     "data": {
      "text/html": [
       "<pre style=\"white-space:pre;overflow-x:auto;line-height:normal;font-family:Menlo,'DejaVu Sans Mono',consolas,'Courier New',monospace\">Applying muons looseID\n",
       "</pre>\n"
      ],
      "text/plain": [
       "Applying muons looseID\n"
      ]
     },
     "metadata": {},
     "output_type": "display_data"
    },
    {
     "data": {
      "text/html": [
       "<pre style=\"white-space:pre;overflow-x:auto;line-height:normal;font-family:Menlo,'DejaVu Sans Mono',consolas,'Courier New',monospace\">Applying muons pT &gt; 5 GeV\n",
       "</pre>\n"
      ],
      "text/plain": [
       "Applying muons pT > 5 GeV\n"
      ]
     },
     "metadata": {},
     "output_type": "display_data"
    },
    {
     "data": {
      "text/html": [
       "<pre style=\"white-space:pre;overflow-x:auto;line-height:normal;font-family:Menlo,'DejaVu Sans Mono',consolas,'Courier New',monospace\">Applying muons |eta| &lt; 2.4\n",
       "</pre>\n"
      ],
      "text/plain": [
       "Applying muons |eta| < 2.4\n"
      ]
     },
     "metadata": {},
     "output_type": "display_data"
    },
    {
     "data": {
      "text/html": [
       "<pre style=\"white-space:pre;overflow-x:auto;line-height:normal;font-family:Menlo,'DejaVu Sans Mono',consolas,'Courier New',monospace\">Applying photons pT &gt; 20 GeV\n",
       "</pre>\n"
      ],
      "text/plain": [
       "Applying photons pT > 20 GeV\n"
      ]
     },
     "metadata": {},
     "output_type": "display_data"
    },
    {
     "data": {
      "text/html": [
       "<pre style=\"white-space:pre;overflow-x:auto;line-height:normal;font-family:Menlo,'DejaVu Sans Mono',consolas,'Courier New',monospace\">Applying photons |eta| &lt; 2.5\n",
       "</pre>\n"
      ],
      "text/plain": [
       "Applying photons |eta| < 2.5\n"
      ]
     },
     "metadata": {},
     "output_type": "display_data"
    },
    {
     "data": {
      "text/html": [
       "<pre style=\"white-space:pre;overflow-x:auto;line-height:normal;font-family:Menlo,'DejaVu Sans Mono',consolas,'Courier New',monospace\">Applying photons Custom Cutbased\n",
       "</pre>\n"
      ],
      "text/plain": [
       "Applying photons Custom Cutbased\n"
      ]
     },
     "metadata": {},
     "output_type": "display_data"
    },
    {
     "data": {
      "text/html": [
       "<pre style=\"white-space:pre;overflow-x:auto;line-height:normal;font-family:Menlo,'DejaVu Sans Mono',consolas,'Courier New',monospace\">Applying photons pixelSeed\n",
       "</pre>\n"
      ],
      "text/plain": [
       "Applying photons pixelSeed\n"
      ]
     },
     "metadata": {},
     "output_type": "display_data"
    },
    {
     "data": {
      "text/html": [
       "<pre style=\"white-space:pre;overflow-x:auto;line-height:normal;font-family:Menlo,'DejaVu Sans Mono',consolas,'Courier New',monospace\">Applying photons Photon DR Veto 0p025\n",
       "</pre>\n"
      ],
      "text/plain": [
       "Applying photons Photon DR Veto 0p025\n"
      ]
     },
     "metadata": {},
     "output_type": "display_data"
    },
    {
     "data": {
      "text/html": [
       "<pre style=\"white-space:pre;overflow-x:auto;line-height:normal;font-family:Menlo,'DejaVu Sans Mono',consolas,'Courier New',monospace\">Applying dsaMuons pT &gt; 10 GeV\n",
       "</pre>\n"
      ],
      "text/plain": [
       "Applying dsaMuons pT > 10 GeV\n"
      ]
     },
     "metadata": {},
     "output_type": "display_data"
    },
    {
     "data": {
      "text/html": [
       "<pre style=\"white-space:pre;overflow-x:auto;line-height:normal;font-family:Menlo,'DejaVu Sans Mono',consolas,'Courier New',monospace\">Applying dsaMuons |eta| &lt; 2.4\n",
       "</pre>\n"
      ],
      "text/plain": [
       "Applying dsaMuons |eta| < 2.4\n"
      ]
     },
     "metadata": {},
     "output_type": "display_data"
    },
    {
     "data": {
      "text/html": [
       "<pre style=\"white-space:pre;overflow-x:auto;line-height:normal;font-family:Menlo,'DejaVu Sans Mono',consolas,'Courier New',monospace\">Applying dsaMuons displaced ID\n",
       "</pre>\n"
      ],
      "text/plain": [
       "Applying dsaMuons displaced ID\n"
      ]
     },
     "metadata": {},
     "output_type": "display_data"
    },
    {
     "data": {
      "text/html": [
       "<pre style=\"white-space:pre;overflow-x:auto;line-height:normal;font-family:Menlo,'DejaVu Sans Mono',consolas,'Courier New',monospace\">Applying genAs_toMu &gt;= 2 close mu\n",
       "</pre>\n"
      ],
      "text/plain": [
       "Applying genAs_toMu >= 2 close mu\n"
      ]
     },
     "metadata": {},
     "output_type": "display_data"
    },
    {
     "data": {
      "text/html": [
       "<pre style=\"white-space:pre;overflow-x:auto;line-height:normal;font-family:Menlo,'DejaVu Sans Mono',consolas,'Courier New',monospace\">Applying cut: PV filter\n",
       "</pre>\n"
      ],
      "text/plain": [
       "Applying cut: PV filter\n"
      ]
     },
     "metadata": {},
     "output_type": "display_data"
    },
    {
     "data": {
      "text/html": [
       "<pre style=\"white-space:pre;overflow-x:auto;line-height:normal;font-family:Menlo,'DejaVu Sans Mono',consolas,'Courier New',monospace\">Applying cut: pass triggers\n",
       "</pre>\n"
      ],
      "text/plain": [
       "Applying cut: pass triggers\n"
      ]
     },
     "metadata": {},
     "output_type": "display_data"
    },
    {
     "data": {
      "text/html": [
       "<pre style=\"white-space:pre;overflow-x:auto;line-height:normal;font-family:Menlo,'DejaVu Sans Mono',consolas,'Courier New',monospace\">Warning: a histogram with the name genAs_toMu_pt_MuMudR_lowRange could not be filled and will be skipped\n",
       "</pre>\n"
      ],
      "text/plain": [
       "Warning: a histogram with the name genAs_toMu_pt_MuMudR_lowRange could not be filled and will be skipped\n"
      ]
     },
     "metadata": {},
     "output_type": "display_data"
    },
    {
     "data": {
      "text/html": [
       "<pre style=\"white-space:pre;overflow-x:auto;line-height:normal;font-family:Menlo,'DejaVu Sans Mono',consolas,'Courier New',monospace\">Warning: a histogram with the name genAs_toMu_pt_MuMudR_XLowRange could not be filled and will be skipped\n",
       "</pre>\n"
      ],
      "text/plain": [
       "Warning: a histogram with the name genAs_toMu_pt_MuMudR_XLowRange could not be filled and will be skipped\n"
      ]
     },
     "metadata": {},
     "output_type": "display_data"
    },
    {
     "data": {
      "text/html": [
       "<pre style=\"white-space:pre;overflow-x:auto;line-height:normal;font-family:Menlo,'DejaVu Sans Mono',consolas,'Courier New',monospace\">Warning: a histogram with the name genAs_toMu_pt_MuMudR_XXLowRange could not be filled and will be skipped\n",
       "</pre>\n"
      ],
      "text/plain": [
       "Warning: a histogram with the name genAs_toMu_pt_MuMudR_XXLowRange could not be filled and will be skipped\n"
      ]
     },
     "metadata": {},
     "output_type": "display_data"
    },
    {
     "data": {
      "text/html": [
       "<pre style=\"white-space:pre;overflow-x:auto;line-height:normal;font-family:Menlo,'DejaVu Sans Mono',consolas,'Courier New',monospace\">Warning: a histogram with the name genAs_toMu_lxy_MuMudR could not be filled and will be skipped\n",
       "</pre>\n"
      ],
      "text/plain": [
       "Warning: a histogram with the name genAs_toMu_lxy_MuMudR could not be filled and will be skipped\n"
      ]
     },
     "metadata": {},
     "output_type": "display_data"
    },
    {
     "data": {
      "text/html": [
       "<pre style=\"white-space:pre;overflow-x:auto;line-height:normal;font-family:Menlo,'DejaVu Sans Mono',consolas,'Courier New',monospace\">Warning: a histogram with the name genAs_toMu_lxy_MuMudR_XLowRange could not be filled and will be skipped\n",
       "</pre>\n"
      ],
      "text/plain": [
       "Warning: a histogram with the name genAs_toMu_lxy_MuMudR_XLowRange could not be filled and will be skipped\n"
      ]
     },
     "metadata": {},
     "output_type": "display_data"
    },
    {
     "data": {
      "text/html": [
       "<pre style=\"white-space:pre;overflow-x:auto;line-height:normal;font-family:Menlo,'DejaVu Sans Mono',consolas,'Courier New',monospace\">Warning: a histogram with the name genAs_toMu_lxy_MuMudR_XXLowRange could not be filled and will be skipped\n",
       "</pre>\n"
      ],
      "text/plain": [
       "Warning: a histogram with the name genAs_toMu_lxy_MuMudR_XXLowRange could not be filled and will be skipped\n"
      ]
     },
     "metadata": {},
     "output_type": "display_data"
    },
    {
     "data": {
      "text/html": [
       "<pre style=\"white-space:pre;overflow-x:auto;line-height:normal;font-family:Menlo,'DejaVu Sans Mono',consolas,'Courier New',monospace\">Warning: a histogram with the name genAs_toMu_pt_MuMudR_highRange could not be filled and will be skipped\n",
       "</pre>\n"
      ],
      "text/plain": [
       "Warning: a histogram with the name genAs_toMu_pt_MuMudR_highRange could not be filled and will be skipped\n"
      ]
     },
     "metadata": {},
     "output_type": "display_data"
    },
    {
     "data": {
      "text/html": [
       "<pre style=\"white-space:pre;overflow-x:auto;line-height:normal;font-family:Menlo,'DejaVu Sans Mono',consolas,'Courier New',monospace\">Warning: a histogram with the name genAs_toMu_pt_highRange_MuMudR_lowRange could not be filled and will be skipped\n",
       "</pre>\n"
      ],
      "text/plain": [
       "Warning: a histogram with the name genAs_toMu_pt_highRange_MuMudR_lowRange could not be filled and will be skipped\n"
      ]
     },
     "metadata": {},
     "output_type": "display_data"
    },
    {
     "data": {
      "text/html": [
       "<pre style=\"white-space:pre;overflow-x:auto;line-height:normal;font-family:Menlo,'DejaVu Sans Mono',consolas,'Courier New',monospace\">/usr/local/lib/python3.10/site-packages/coffea/nanoevents/schemas/nanoaod.py:205: RuntimeWarning: Missing \n",
       "cross-reference index for LowPtElectron_electronIdx =&gt; Electron\n",
       "  warnings.warn(\n",
       "</pre>\n"
      ],
      "text/plain": [
       "/usr/local/lib/python3.10/site-packages/coffea/nanoevents/schemas/nanoaod.py:205: RuntimeWarning: Missing \n",
       "cross-reference index for LowPtElectron_electronIdx => Electron\n",
       "  warnings.warn(\n"
      ]
     },
     "metadata": {},
     "output_type": "display_data"
    },
    {
     "data": {
      "text/html": [
       "<pre style=\"white-space:pre;overflow-x:auto;line-height:normal;font-family:Menlo,'DejaVu Sans Mono',consolas,'Courier New',monospace\">/usr/local/lib/python3.10/site-packages/coffea/nanoevents/schemas/nanoaod.py:205: RuntimeWarning: Missing \n",
       "cross-reference index for LowPtElectron_photonIdx =&gt; Photon\n",
       "  warnings.warn(\n",
       "</pre>\n"
      ],
      "text/plain": [
       "/usr/local/lib/python3.10/site-packages/coffea/nanoevents/schemas/nanoaod.py:205: RuntimeWarning: Missing \n",
       "cross-reference index for LowPtElectron_photonIdx => Photon\n",
       "  warnings.warn(\n"
      ]
     },
     "metadata": {},
     "output_type": "display_data"
    },
    {
     "data": {
      "text/html": [
       "<pre style=\"white-space:pre;overflow-x:auto;line-height:normal;font-family:Menlo,'DejaVu Sans Mono',consolas,'Courier New',monospace\">Applying genMus status 1\n",
       "</pre>\n"
      ],
      "text/plain": [
       "Applying genMus status 1\n"
      ]
     },
     "metadata": {},
     "output_type": "display_data"
    },
    {
     "data": {
      "text/html": [
       "<pre style=\"white-space:pre;overflow-x:auto;line-height:normal;font-family:Menlo,'DejaVu Sans Mono',consolas,'Courier New',monospace\">Applying genEs status 1\n",
       "</pre>\n"
      ],
      "text/plain": [
       "Applying genEs status 1\n"
      ]
     },
     "metadata": {},
     "output_type": "display_data"
    },
    {
     "data": {
      "text/html": [
       "<pre style=\"white-space:pre;overflow-x:auto;line-height:normal;font-family:Menlo,'DejaVu Sans Mono',consolas,'Courier New',monospace\">Applying cut: PV filter\n",
       "</pre>\n"
      ],
      "text/plain": [
       "Applying cut: PV filter\n"
      ]
     },
     "metadata": {},
     "output_type": "display_data"
    },
    {
     "data": {
      "text/html": [
       "<pre style=\"white-space:pre;overflow-x:auto;line-height:normal;font-family:Menlo,'DejaVu Sans Mono',consolas,'Courier New',monospace\">Applying genMus status 1\n",
       "</pre>\n"
      ],
      "text/plain": [
       "Applying genMus status 1\n"
      ]
     },
     "metadata": {},
     "output_type": "display_data"
    },
    {
     "data": {
      "text/html": [
       "<pre style=\"white-space:pre;overflow-x:auto;line-height:normal;font-family:Menlo,'DejaVu Sans Mono',consolas,'Courier New',monospace\">Applying genEs status 1\n",
       "</pre>\n"
      ],
      "text/plain": [
       "Applying genEs status 1\n"
      ]
     },
     "metadata": {},
     "output_type": "display_data"
    },
    {
     "data": {
      "text/html": [
       "<pre style=\"white-space:pre;overflow-x:auto;line-height:normal;font-family:Menlo,'DejaVu Sans Mono',consolas,'Courier New',monospace\">Applying genAs_toMu close dsaMu\n",
       "</pre>\n"
      ],
      "text/plain": [
       "Applying genAs_toMu close dsaMu\n"
      ]
     },
     "metadata": {},
     "output_type": "display_data"
    },
    {
     "data": {
      "text/html": [
       "<pre style=\"white-space:pre;overflow-x:auto;line-height:normal;font-family:Menlo,'DejaVu Sans Mono',consolas,'Courier New',monospace\">Applying cut: PV filter\n",
       "</pre>\n"
      ],
      "text/plain": [
       "Applying cut: PV filter\n"
      ]
     },
     "metadata": {},
     "output_type": "display_data"
    },
    {
     "data": {
      "text/html": [
       "<pre style=\"white-space:pre;overflow-x:auto;line-height:normal;font-family:Menlo,'DejaVu Sans Mono',consolas,'Courier New',monospace\">Warning: a histogram with the name genAs_toMu_pt_MuMudR_lowRange could not be filled and will be skipped\n",
       "</pre>\n"
      ],
      "text/plain": [
       "Warning: a histogram with the name genAs_toMu_pt_MuMudR_lowRange could not be filled and will be skipped\n"
      ]
     },
     "metadata": {},
     "output_type": "display_data"
    },
    {
     "data": {
      "text/html": [
       "<pre style=\"white-space:pre;overflow-x:auto;line-height:normal;font-family:Menlo,'DejaVu Sans Mono',consolas,'Courier New',monospace\">Warning: a histogram with the name genAs_toMu_pt_MuMudR_XLowRange could not be filled and will be skipped\n",
       "</pre>\n"
      ],
      "text/plain": [
       "Warning: a histogram with the name genAs_toMu_pt_MuMudR_XLowRange could not be filled and will be skipped\n"
      ]
     },
     "metadata": {},
     "output_type": "display_data"
    },
    {
     "data": {
      "text/html": [
       "<pre style=\"white-space:pre;overflow-x:auto;line-height:normal;font-family:Menlo,'DejaVu Sans Mono',consolas,'Courier New',monospace\">Warning: a histogram with the name genAs_toMu_pt_MuMudR_XXLowRange could not be filled and will be skipped\n",
       "</pre>\n"
      ],
      "text/plain": [
       "Warning: a histogram with the name genAs_toMu_pt_MuMudR_XXLowRange could not be filled and will be skipped\n"
      ]
     },
     "metadata": {},
     "output_type": "display_data"
    },
    {
     "data": {
      "text/html": [
       "<pre style=\"white-space:pre;overflow-x:auto;line-height:normal;font-family:Menlo,'DejaVu Sans Mono',consolas,'Courier New',monospace\">Warning: a histogram with the name genAs_toMu_lxy_MuMudR could not be filled and will be skipped\n",
       "</pre>\n"
      ],
      "text/plain": [
       "Warning: a histogram with the name genAs_toMu_lxy_MuMudR could not be filled and will be skipped\n"
      ]
     },
     "metadata": {},
     "output_type": "display_data"
    },
    {
     "data": {
      "text/html": [
       "<pre style=\"white-space:pre;overflow-x:auto;line-height:normal;font-family:Menlo,'DejaVu Sans Mono',consolas,'Courier New',monospace\">Warning: a histogram with the name genAs_toMu_lxy_MuMudR_XLowRange could not be filled and will be skipped\n",
       "</pre>\n"
      ],
      "text/plain": [
       "Warning: a histogram with the name genAs_toMu_lxy_MuMudR_XLowRange could not be filled and will be skipped\n"
      ]
     },
     "metadata": {},
     "output_type": "display_data"
    },
    {
     "data": {
      "text/html": [
       "<pre style=\"white-space:pre;overflow-x:auto;line-height:normal;font-family:Menlo,'DejaVu Sans Mono',consolas,'Courier New',monospace\">Warning: a histogram with the name genAs_toMu_lxy_MuMudR_XXLowRange could not be filled and will be skipped\n",
       "</pre>\n"
      ],
      "text/plain": [
       "Warning: a histogram with the name genAs_toMu_lxy_MuMudR_XXLowRange could not be filled and will be skipped\n"
      ]
     },
     "metadata": {},
     "output_type": "display_data"
    },
    {
     "data": {
      "text/html": [
       "<pre style=\"white-space:pre;overflow-x:auto;line-height:normal;font-family:Menlo,'DejaVu Sans Mono',consolas,'Courier New',monospace\">Warning: a histogram with the name genAs_toMu_pt_MuMudR_highRange could not be filled and will be skipped\n",
       "</pre>\n"
      ],
      "text/plain": [
       "Warning: a histogram with the name genAs_toMu_pt_MuMudR_highRange could not be filled and will be skipped\n"
      ]
     },
     "metadata": {},
     "output_type": "display_data"
    },
    {
     "data": {
      "text/html": [
       "<pre style=\"white-space:pre;overflow-x:auto;line-height:normal;font-family:Menlo,'DejaVu Sans Mono',consolas,'Courier New',monospace\">Warning: a histogram with the name genAs_toMu_pt_highRange_MuMudR_lowRange could not be filled and will be skipped\n",
       "</pre>\n"
      ],
      "text/plain": [
       "Warning: a histogram with the name genAs_toMu_pt_highRange_MuMudR_lowRange could not be filled and will be skipped\n"
      ]
     },
     "metadata": {},
     "output_type": "display_data"
    },
    {
     "data": {
      "text/html": [
       "<pre style=\"white-space:pre;overflow-x:auto;line-height:normal;font-family:Menlo,'DejaVu Sans Mono',consolas,'Courier New',monospace\">Applying genMus status 1\n",
       "</pre>\n"
      ],
      "text/plain": [
       "Applying genMus status 1\n"
      ]
     },
     "metadata": {},
     "output_type": "display_data"
    },
    {
     "data": {
      "text/html": [
       "<pre style=\"white-space:pre;overflow-x:auto;line-height:normal;font-family:Menlo,'DejaVu Sans Mono',consolas,'Courier New',monospace\">Applying genEs status 1\n",
       "</pre>\n"
      ],
      "text/plain": [
       "Applying genEs status 1\n"
      ]
     },
     "metadata": {},
     "output_type": "display_data"
    },
    {
     "data": {
      "text/html": [
       "<pre style=\"white-space:pre;overflow-x:auto;line-height:normal;font-family:Menlo,'DejaVu Sans Mono',consolas,'Courier New',monospace\">Applying genAs_toMu &gt;= 2 close dsaMu\n",
       "</pre>\n"
      ],
      "text/plain": [
       "Applying genAs_toMu >= 2 close dsaMu\n"
      ]
     },
     "metadata": {},
     "output_type": "display_data"
    },
    {
     "data": {
      "text/html": [
       "<pre style=\"white-space:pre;overflow-x:auto;line-height:normal;font-family:Menlo,'DejaVu Sans Mono',consolas,'Courier New',monospace\">Applying cut: PV filter\n",
       "</pre>\n"
      ],
      "text/plain": [
       "Applying cut: PV filter\n"
      ]
     },
     "metadata": {},
     "output_type": "display_data"
    },
    {
     "data": {
      "text/html": [
       "<pre style=\"white-space:pre;overflow-x:auto;line-height:normal;font-family:Menlo,'DejaVu Sans Mono',consolas,'Courier New',monospace\">Warning: a histogram with the name genAs_toMu_pt_MuMudR_lowRange could not be filled and will be skipped\n",
       "</pre>\n"
      ],
      "text/plain": [
       "Warning: a histogram with the name genAs_toMu_pt_MuMudR_lowRange could not be filled and will be skipped\n"
      ]
     },
     "metadata": {},
     "output_type": "display_data"
    },
    {
     "data": {
      "text/html": [
       "<pre style=\"white-space:pre;overflow-x:auto;line-height:normal;font-family:Menlo,'DejaVu Sans Mono',consolas,'Courier New',monospace\">Warning: a histogram with the name genAs_toMu_pt_MuMudR_XLowRange could not be filled and will be skipped\n",
       "</pre>\n"
      ],
      "text/plain": [
       "Warning: a histogram with the name genAs_toMu_pt_MuMudR_XLowRange could not be filled and will be skipped\n"
      ]
     },
     "metadata": {},
     "output_type": "display_data"
    },
    {
     "data": {
      "text/html": [
       "<pre style=\"white-space:pre;overflow-x:auto;line-height:normal;font-family:Menlo,'DejaVu Sans Mono',consolas,'Courier New',monospace\">Warning: a histogram with the name genAs_toMu_pt_MuMudR_XXLowRange could not be filled and will be skipped\n",
       "</pre>\n"
      ],
      "text/plain": [
       "Warning: a histogram with the name genAs_toMu_pt_MuMudR_XXLowRange could not be filled and will be skipped\n"
      ]
     },
     "metadata": {},
     "output_type": "display_data"
    },
    {
     "data": {
      "text/html": [
       "<pre style=\"white-space:pre;overflow-x:auto;line-height:normal;font-family:Menlo,'DejaVu Sans Mono',consolas,'Courier New',monospace\">Warning: a histogram with the name genAs_toMu_lxy_MuMudR could not be filled and will be skipped\n",
       "</pre>\n"
      ],
      "text/plain": [
       "Warning: a histogram with the name genAs_toMu_lxy_MuMudR could not be filled and will be skipped\n"
      ]
     },
     "metadata": {},
     "output_type": "display_data"
    },
    {
     "data": {
      "text/html": [
       "<pre style=\"white-space:pre;overflow-x:auto;line-height:normal;font-family:Menlo,'DejaVu Sans Mono',consolas,'Courier New',monospace\">Warning: a histogram with the name genAs_toMu_lxy_MuMudR_XLowRange could not be filled and will be skipped\n",
       "</pre>\n"
      ],
      "text/plain": [
       "Warning: a histogram with the name genAs_toMu_lxy_MuMudR_XLowRange could not be filled and will be skipped\n"
      ]
     },
     "metadata": {},
     "output_type": "display_data"
    },
    {
     "data": {
      "text/html": [
       "<pre style=\"white-space:pre;overflow-x:auto;line-height:normal;font-family:Menlo,'DejaVu Sans Mono',consolas,'Courier New',monospace\">Warning: a histogram with the name genAs_toMu_lxy_MuMudR_XXLowRange could not be filled and will be skipped\n",
       "</pre>\n"
      ],
      "text/plain": [
       "Warning: a histogram with the name genAs_toMu_lxy_MuMudR_XXLowRange could not be filled and will be skipped\n"
      ]
     },
     "metadata": {},
     "output_type": "display_data"
    },
    {
     "data": {
      "text/html": [
       "<pre style=\"white-space:pre;overflow-x:auto;line-height:normal;font-family:Menlo,'DejaVu Sans Mono',consolas,'Courier New',monospace\">Warning: a histogram with the name genAs_toMu_pt_MuMudR_highRange could not be filled and will be skipped\n",
       "</pre>\n"
      ],
      "text/plain": [
       "Warning: a histogram with the name genAs_toMu_pt_MuMudR_highRange could not be filled and will be skipped\n"
      ]
     },
     "metadata": {},
     "output_type": "display_data"
    },
    {
     "data": {
      "text/html": [
       "<pre style=\"white-space:pre;overflow-x:auto;line-height:normal;font-family:Menlo,'DejaVu Sans Mono',consolas,'Courier New',monospace\">Warning: a histogram with the name genAs_toMu_pt_highRange_MuMudR_lowRange could not be filled and will be skipped\n",
       "</pre>\n"
      ],
      "text/plain": [
       "Warning: a histogram with the name genAs_toMu_pt_highRange_MuMudR_lowRange could not be filled and will be skipped\n"
      ]
     },
     "metadata": {},
     "output_type": "display_data"
    },
    {
     "data": {
      "text/html": [
       "<pre style=\"white-space:pre;overflow-x:auto;line-height:normal;font-family:Menlo,'DejaVu Sans Mono',consolas,'Courier New',monospace\">Applying genMus status 1\n",
       "</pre>\n"
      ],
      "text/plain": [
       "Applying genMus status 1\n"
      ]
     },
     "metadata": {},
     "output_type": "display_data"
    },
    {
     "data": {
      "text/html": [
       "<pre style=\"white-space:pre;overflow-x:auto;line-height:normal;font-family:Menlo,'DejaVu Sans Mono',consolas,'Courier New',monospace\">Applying genEs status 1\n",
       "</pre>\n"
      ],
      "text/plain": [
       "Applying genEs status 1\n"
      ]
     },
     "metadata": {},
     "output_type": "display_data"
    },
    {
     "data": {
      "text/html": [
       "<pre style=\"white-space:pre;overflow-x:auto;line-height:normal;font-family:Menlo,'DejaVu Sans Mono',consolas,'Courier New',monospace\">Applying electrons pT &gt; 10 GeV\n",
       "</pre>\n"
      ],
      "text/plain": [
       "Applying electrons pT > 10 GeV\n"
      ]
     },
     "metadata": {},
     "output_type": "display_data"
    },
    {
     "data": {
      "text/html": [
       "<pre style=\"white-space:pre;overflow-x:auto;line-height:normal;font-family:Menlo,'DejaVu Sans Mono',consolas,'Courier New',monospace\">Applying electrons |eta| &lt; 2.4\n",
       "</pre>\n"
      ],
      "text/plain": [
       "Applying electrons |eta| < 2.4\n"
      ]
     },
     "metadata": {},
     "output_type": "display_data"
    },
    {
     "data": {
      "text/html": [
       "<pre style=\"white-space:pre;overflow-x:auto;line-height:normal;font-family:Menlo,'DejaVu Sans Mono',consolas,'Courier New',monospace\">Applying electrons MVANonIsoWPL\n",
       "</pre>\n"
      ],
      "text/plain": [
       "Applying electrons MVANonIsoWPL\n"
      ]
     },
     "metadata": {},
     "output_type": "display_data"
    },
    {
     "data": {
      "text/html": [
       "<pre style=\"white-space:pre;overflow-x:auto;line-height:normal;font-family:Menlo,'DejaVu Sans Mono',consolas,'Courier New',monospace\">Applying muons looseID\n",
       "</pre>\n"
      ],
      "text/plain": [
       "Applying muons looseID\n"
      ]
     },
     "metadata": {},
     "output_type": "display_data"
    },
    {
     "data": {
      "text/html": [
       "<pre style=\"white-space:pre;overflow-x:auto;line-height:normal;font-family:Menlo,'DejaVu Sans Mono',consolas,'Courier New',monospace\">Applying muons pT &gt; 5 GeV\n",
       "</pre>\n"
      ],
      "text/plain": [
       "Applying muons pT > 5 GeV\n"
      ]
     },
     "metadata": {},
     "output_type": "display_data"
    },
    {
     "data": {
      "text/html": [
       "<pre style=\"white-space:pre;overflow-x:auto;line-height:normal;font-family:Menlo,'DejaVu Sans Mono',consolas,'Courier New',monospace\">Applying muons |eta| &lt; 2.4\n",
       "</pre>\n"
      ],
      "text/plain": [
       "Applying muons |eta| < 2.4\n"
      ]
     },
     "metadata": {},
     "output_type": "display_data"
    },
    {
     "data": {
      "text/html": [
       "<pre style=\"white-space:pre;overflow-x:auto;line-height:normal;font-family:Menlo,'DejaVu Sans Mono',consolas,'Courier New',monospace\">Applying photons pT &gt; 20 GeV\n",
       "</pre>\n"
      ],
      "text/plain": [
       "Applying photons pT > 20 GeV\n"
      ]
     },
     "metadata": {},
     "output_type": "display_data"
    },
    {
     "data": {
      "text/html": [
       "<pre style=\"white-space:pre;overflow-x:auto;line-height:normal;font-family:Menlo,'DejaVu Sans Mono',consolas,'Courier New',monospace\">Applying photons |eta| &lt; 2.5\n",
       "</pre>\n"
      ],
      "text/plain": [
       "Applying photons |eta| < 2.5\n"
      ]
     },
     "metadata": {},
     "output_type": "display_data"
    },
    {
     "data": {
      "text/html": [
       "<pre style=\"white-space:pre;overflow-x:auto;line-height:normal;font-family:Menlo,'DejaVu Sans Mono',consolas,'Courier New',monospace\">Applying photons Custom Cutbased\n",
       "</pre>\n"
      ],
      "text/plain": [
       "Applying photons Custom Cutbased\n"
      ]
     },
     "metadata": {},
     "output_type": "display_data"
    },
    {
     "data": {
      "text/html": [
       "<pre style=\"white-space:pre;overflow-x:auto;line-height:normal;font-family:Menlo,'DejaVu Sans Mono',consolas,'Courier New',monospace\">Applying photons pixelSeed\n",
       "</pre>\n"
      ],
      "text/plain": [
       "Applying photons pixelSeed\n"
      ]
     },
     "metadata": {},
     "output_type": "display_data"
    },
    {
     "data": {
      "text/html": [
       "<pre style=\"white-space:pre;overflow-x:auto;line-height:normal;font-family:Menlo,'DejaVu Sans Mono',consolas,'Courier New',monospace\">Applying photons Photon DR Veto 0p025\n",
       "</pre>\n"
      ],
      "text/plain": [
       "Applying photons Photon DR Veto 0p025\n"
      ]
     },
     "metadata": {},
     "output_type": "display_data"
    },
    {
     "data": {
      "text/html": [
       "<pre style=\"white-space:pre;overflow-x:auto;line-height:normal;font-family:Menlo,'DejaVu Sans Mono',consolas,'Courier New',monospace\">Applying dsaMuons pT &gt; 10 GeV\n",
       "</pre>\n"
      ],
      "text/plain": [
       "Applying dsaMuons pT > 10 GeV\n"
      ]
     },
     "metadata": {},
     "output_type": "display_data"
    },
    {
     "data": {
      "text/html": [
       "<pre style=\"white-space:pre;overflow-x:auto;line-height:normal;font-family:Menlo,'DejaVu Sans Mono',consolas,'Courier New',monospace\">Applying dsaMuons |eta| &lt; 2.4\n",
       "</pre>\n"
      ],
      "text/plain": [
       "Applying dsaMuons |eta| < 2.4\n"
      ]
     },
     "metadata": {},
     "output_type": "display_data"
    },
    {
     "data": {
      "text/html": [
       "<pre style=\"white-space:pre;overflow-x:auto;line-height:normal;font-family:Menlo,'DejaVu Sans Mono',consolas,'Courier New',monospace\">Applying dsaMuons displaced ID\n",
       "</pre>\n"
      ],
      "text/plain": [
       "Applying dsaMuons displaced ID\n"
      ]
     },
     "metadata": {},
     "output_type": "display_data"
    },
    {
     "data": {
      "text/html": [
       "<pre style=\"white-space:pre;overflow-x:auto;line-height:normal;font-family:Menlo,'DejaVu Sans Mono',consolas,'Courier New',monospace\">Applying genAs_toMu close dsaMu\n",
       "</pre>\n"
      ],
      "text/plain": [
       "Applying genAs_toMu close dsaMu\n"
      ]
     },
     "metadata": {},
     "output_type": "display_data"
    },
    {
     "data": {
      "text/html": [
       "<pre style=\"white-space:pre;overflow-x:auto;line-height:normal;font-family:Menlo,'DejaVu Sans Mono',consolas,'Courier New',monospace\">Applying cut: PV filter\n",
       "</pre>\n"
      ],
      "text/plain": [
       "Applying cut: PV filter\n"
      ]
     },
     "metadata": {},
     "output_type": "display_data"
    },
    {
     "data": {
      "text/html": [
       "<pre style=\"white-space:pre;overflow-x:auto;line-height:normal;font-family:Menlo,'DejaVu Sans Mono',consolas,'Courier New',monospace\">Applying cut: pass triggers\n",
       "</pre>\n"
      ],
      "text/plain": [
       "Applying cut: pass triggers\n"
      ]
     },
     "metadata": {},
     "output_type": "display_data"
    },
    {
     "data": {
      "text/html": [
       "<pre style=\"white-space:pre;overflow-x:auto;line-height:normal;font-family:Menlo,'DejaVu Sans Mono',consolas,'Courier New',monospace\">Warning: a histogram with the name genAs_toMu_pt_MuMudR_lowRange could not be filled and will be skipped\n",
       "</pre>\n"
      ],
      "text/plain": [
       "Warning: a histogram with the name genAs_toMu_pt_MuMudR_lowRange could not be filled and will be skipped\n"
      ]
     },
     "metadata": {},
     "output_type": "display_data"
    },
    {
     "data": {
      "text/html": [
       "<pre style=\"white-space:pre;overflow-x:auto;line-height:normal;font-family:Menlo,'DejaVu Sans Mono',consolas,'Courier New',monospace\">Warning: a histogram with the name genAs_toMu_pt_MuMudR_XLowRange could not be filled and will be skipped\n",
       "</pre>\n"
      ],
      "text/plain": [
       "Warning: a histogram with the name genAs_toMu_pt_MuMudR_XLowRange could not be filled and will be skipped\n"
      ]
     },
     "metadata": {},
     "output_type": "display_data"
    },
    {
     "data": {
      "text/html": [
       "<pre style=\"white-space:pre;overflow-x:auto;line-height:normal;font-family:Menlo,'DejaVu Sans Mono',consolas,'Courier New',monospace\">Warning: a histogram with the name genAs_toMu_pt_MuMudR_XXLowRange could not be filled and will be skipped\n",
       "</pre>\n"
      ],
      "text/plain": [
       "Warning: a histogram with the name genAs_toMu_pt_MuMudR_XXLowRange could not be filled and will be skipped\n"
      ]
     },
     "metadata": {},
     "output_type": "display_data"
    },
    {
     "data": {
      "text/html": [
       "<pre style=\"white-space:pre;overflow-x:auto;line-height:normal;font-family:Menlo,'DejaVu Sans Mono',consolas,'Courier New',monospace\">Warning: a histogram with the name genAs_toMu_lxy_MuMudR could not be filled and will be skipped\n",
       "</pre>\n"
      ],
      "text/plain": [
       "Warning: a histogram with the name genAs_toMu_lxy_MuMudR could not be filled and will be skipped\n"
      ]
     },
     "metadata": {},
     "output_type": "display_data"
    },
    {
     "data": {
      "text/html": [
       "<pre style=\"white-space:pre;overflow-x:auto;line-height:normal;font-family:Menlo,'DejaVu Sans Mono',consolas,'Courier New',monospace\">Warning: a histogram with the name genAs_toMu_lxy_MuMudR_XLowRange could not be filled and will be skipped\n",
       "</pre>\n"
      ],
      "text/plain": [
       "Warning: a histogram with the name genAs_toMu_lxy_MuMudR_XLowRange could not be filled and will be skipped\n"
      ]
     },
     "metadata": {},
     "output_type": "display_data"
    },
    {
     "data": {
      "text/html": [
       "<pre style=\"white-space:pre;overflow-x:auto;line-height:normal;font-family:Menlo,'DejaVu Sans Mono',consolas,'Courier New',monospace\">Warning: a histogram with the name genAs_toMu_lxy_MuMudR_XXLowRange could not be filled and will be skipped\n",
       "</pre>\n"
      ],
      "text/plain": [
       "Warning: a histogram with the name genAs_toMu_lxy_MuMudR_XXLowRange could not be filled and will be skipped\n"
      ]
     },
     "metadata": {},
     "output_type": "display_data"
    },
    {
     "data": {
      "text/html": [
       "<pre style=\"white-space:pre;overflow-x:auto;line-height:normal;font-family:Menlo,'DejaVu Sans Mono',consolas,'Courier New',monospace\">Warning: a histogram with the name genAs_toMu_pt_MuMudR_highRange could not be filled and will be skipped\n",
       "</pre>\n"
      ],
      "text/plain": [
       "Warning: a histogram with the name genAs_toMu_pt_MuMudR_highRange could not be filled and will be skipped\n"
      ]
     },
     "metadata": {},
     "output_type": "display_data"
    },
    {
     "data": {
      "text/html": [
       "<pre style=\"white-space:pre;overflow-x:auto;line-height:normal;font-family:Menlo,'DejaVu Sans Mono',consolas,'Courier New',monospace\">Warning: a histogram with the name genAs_toMu_pt_highRange_MuMudR_lowRange could not be filled and will be skipped\n",
       "</pre>\n"
      ],
      "text/plain": [
       "Warning: a histogram with the name genAs_toMu_pt_highRange_MuMudR_lowRange could not be filled and will be skipped\n"
      ]
     },
     "metadata": {},
     "output_type": "display_data"
    },
    {
     "data": {
      "text/html": [
       "<pre style=\"white-space:pre;overflow-x:auto;line-height:normal;font-family:Menlo,'DejaVu Sans Mono',consolas,'Courier New',monospace\">Applying genMus status 1\n",
       "</pre>\n"
      ],
      "text/plain": [
       "Applying genMus status 1\n"
      ]
     },
     "metadata": {},
     "output_type": "display_data"
    },
    {
     "data": {
      "text/html": [
       "<pre style=\"white-space:pre;overflow-x:auto;line-height:normal;font-family:Menlo,'DejaVu Sans Mono',consolas,'Courier New',monospace\">Applying genEs status 1\n",
       "</pre>\n"
      ],
      "text/plain": [
       "Applying genEs status 1\n"
      ]
     },
     "metadata": {},
     "output_type": "display_data"
    },
    {
     "data": {
      "text/html": [
       "<pre style=\"white-space:pre;overflow-x:auto;line-height:normal;font-family:Menlo,'DejaVu Sans Mono',consolas,'Courier New',monospace\">Applying electrons pT &gt; 10 GeV\n",
       "</pre>\n"
      ],
      "text/plain": [
       "Applying electrons pT > 10 GeV\n"
      ]
     },
     "metadata": {},
     "output_type": "display_data"
    },
    {
     "data": {
      "text/html": [
       "<pre style=\"white-space:pre;overflow-x:auto;line-height:normal;font-family:Menlo,'DejaVu Sans Mono',consolas,'Courier New',monospace\">Applying electrons |eta| &lt; 2.4\n",
       "</pre>\n"
      ],
      "text/plain": [
       "Applying electrons |eta| < 2.4\n"
      ]
     },
     "metadata": {},
     "output_type": "display_data"
    },
    {
     "data": {
      "text/html": [
       "<pre style=\"white-space:pre;overflow-x:auto;line-height:normal;font-family:Menlo,'DejaVu Sans Mono',consolas,'Courier New',monospace\">Applying electrons MVANonIsoWPL\n",
       "</pre>\n"
      ],
      "text/plain": [
       "Applying electrons MVANonIsoWPL\n"
      ]
     },
     "metadata": {},
     "output_type": "display_data"
    },
    {
     "data": {
      "text/html": [
       "<pre style=\"white-space:pre;overflow-x:auto;line-height:normal;font-family:Menlo,'DejaVu Sans Mono',consolas,'Courier New',monospace\">Applying muons looseID\n",
       "</pre>\n"
      ],
      "text/plain": [
       "Applying muons looseID\n"
      ]
     },
     "metadata": {},
     "output_type": "display_data"
    },
    {
     "data": {
      "text/html": [
       "<pre style=\"white-space:pre;overflow-x:auto;line-height:normal;font-family:Menlo,'DejaVu Sans Mono',consolas,'Courier New',monospace\">Applying muons pT &gt; 5 GeV\n",
       "</pre>\n"
      ],
      "text/plain": [
       "Applying muons pT > 5 GeV\n"
      ]
     },
     "metadata": {},
     "output_type": "display_data"
    },
    {
     "data": {
      "text/html": [
       "<pre style=\"white-space:pre;overflow-x:auto;line-height:normal;font-family:Menlo,'DejaVu Sans Mono',consolas,'Courier New',monospace\">Applying muons |eta| &lt; 2.4\n",
       "</pre>\n"
      ],
      "text/plain": [
       "Applying muons |eta| < 2.4\n"
      ]
     },
     "metadata": {},
     "output_type": "display_data"
    },
    {
     "data": {
      "text/html": [
       "<pre style=\"white-space:pre;overflow-x:auto;line-height:normal;font-family:Menlo,'DejaVu Sans Mono',consolas,'Courier New',monospace\">Applying photons pT &gt; 20 GeV\n",
       "</pre>\n"
      ],
      "text/plain": [
       "Applying photons pT > 20 GeV\n"
      ]
     },
     "metadata": {},
     "output_type": "display_data"
    },
    {
     "data": {
      "text/html": [
       "<pre style=\"white-space:pre;overflow-x:auto;line-height:normal;font-family:Menlo,'DejaVu Sans Mono',consolas,'Courier New',monospace\">Applying photons |eta| &lt; 2.5\n",
       "</pre>\n"
      ],
      "text/plain": [
       "Applying photons |eta| < 2.5\n"
      ]
     },
     "metadata": {},
     "output_type": "display_data"
    },
    {
     "data": {
      "text/html": [
       "<pre style=\"white-space:pre;overflow-x:auto;line-height:normal;font-family:Menlo,'DejaVu Sans Mono',consolas,'Courier New',monospace\">Applying photons Custom Cutbased\n",
       "</pre>\n"
      ],
      "text/plain": [
       "Applying photons Custom Cutbased\n"
      ]
     },
     "metadata": {},
     "output_type": "display_data"
    },
    {
     "data": {
      "text/html": [
       "<pre style=\"white-space:pre;overflow-x:auto;line-height:normal;font-family:Menlo,'DejaVu Sans Mono',consolas,'Courier New',monospace\">Applying photons pixelSeed\n",
       "</pre>\n"
      ],
      "text/plain": [
       "Applying photons pixelSeed\n"
      ]
     },
     "metadata": {},
     "output_type": "display_data"
    },
    {
     "data": {
      "text/html": [
       "<pre style=\"white-space:pre;overflow-x:auto;line-height:normal;font-family:Menlo,'DejaVu Sans Mono',consolas,'Courier New',monospace\">Applying photons Photon DR Veto 0p025\n",
       "</pre>\n"
      ],
      "text/plain": [
       "Applying photons Photon DR Veto 0p025\n"
      ]
     },
     "metadata": {},
     "output_type": "display_data"
    },
    {
     "data": {
      "text/html": [
       "<pre style=\"white-space:pre;overflow-x:auto;line-height:normal;font-family:Menlo,'DejaVu Sans Mono',consolas,'Courier New',monospace\">Applying dsaMuons pT &gt; 10 GeV\n",
       "</pre>\n"
      ],
      "text/plain": [
       "Applying dsaMuons pT > 10 GeV\n"
      ]
     },
     "metadata": {},
     "output_type": "display_data"
    },
    {
     "data": {
      "text/html": [
       "<pre style=\"white-space:pre;overflow-x:auto;line-height:normal;font-family:Menlo,'DejaVu Sans Mono',consolas,'Courier New',monospace\">Applying dsaMuons |eta| &lt; 2.4\n",
       "</pre>\n"
      ],
      "text/plain": [
       "Applying dsaMuons |eta| < 2.4\n"
      ]
     },
     "metadata": {},
     "output_type": "display_data"
    },
    {
     "data": {
      "text/html": [
       "<pre style=\"white-space:pre;overflow-x:auto;line-height:normal;font-family:Menlo,'DejaVu Sans Mono',consolas,'Courier New',monospace\">Applying dsaMuons displaced ID\n",
       "</pre>\n"
      ],
      "text/plain": [
       "Applying dsaMuons displaced ID\n"
      ]
     },
     "metadata": {},
     "output_type": "display_data"
    },
    {
     "data": {
      "text/html": [
       "<pre style=\"white-space:pre;overflow-x:auto;line-height:normal;font-family:Menlo,'DejaVu Sans Mono',consolas,'Courier New',monospace\">Applying genAs_toMu &gt;= 2 close dsaMu\n",
       "</pre>\n"
      ],
      "text/plain": [
       "Applying genAs_toMu >= 2 close dsaMu\n"
      ]
     },
     "metadata": {},
     "output_type": "display_data"
    },
    {
     "data": {
      "text/html": [
       "<pre style=\"white-space:pre;overflow-x:auto;line-height:normal;font-family:Menlo,'DejaVu Sans Mono',consolas,'Courier New',monospace\">Applying cut: PV filter\n",
       "</pre>\n"
      ],
      "text/plain": [
       "Applying cut: PV filter\n"
      ]
     },
     "metadata": {},
     "output_type": "display_data"
    },
    {
     "data": {
      "text/html": [
       "<pre style=\"white-space:pre;overflow-x:auto;line-height:normal;font-family:Menlo,'DejaVu Sans Mono',consolas,'Courier New',monospace\">Applying cut: pass triggers\n",
       "</pre>\n"
      ],
      "text/plain": [
       "Applying cut: pass triggers\n"
      ]
     },
     "metadata": {},
     "output_type": "display_data"
    },
    {
     "data": {
      "text/html": [
       "<pre style=\"white-space:pre;overflow-x:auto;line-height:normal;font-family:Menlo,'DejaVu Sans Mono',consolas,'Courier New',monospace\">Warning: a histogram with the name genAs_toMu_pt_MuMudR_lowRange could not be filled and will be skipped\n",
       "</pre>\n"
      ],
      "text/plain": [
       "Warning: a histogram with the name genAs_toMu_pt_MuMudR_lowRange could not be filled and will be skipped\n"
      ]
     },
     "metadata": {},
     "output_type": "display_data"
    },
    {
     "data": {
      "text/html": [
       "<pre style=\"white-space:pre;overflow-x:auto;line-height:normal;font-family:Menlo,'DejaVu Sans Mono',consolas,'Courier New',monospace\">Warning: a histogram with the name genAs_toMu_pt_MuMudR_XLowRange could not be filled and will be skipped\n",
       "</pre>\n"
      ],
      "text/plain": [
       "Warning: a histogram with the name genAs_toMu_pt_MuMudR_XLowRange could not be filled and will be skipped\n"
      ]
     },
     "metadata": {},
     "output_type": "display_data"
    },
    {
     "data": {
      "text/html": [
       "<pre style=\"white-space:pre;overflow-x:auto;line-height:normal;font-family:Menlo,'DejaVu Sans Mono',consolas,'Courier New',monospace\">Warning: a histogram with the name genAs_toMu_pt_MuMudR_XXLowRange could not be filled and will be skipped\n",
       "</pre>\n"
      ],
      "text/plain": [
       "Warning: a histogram with the name genAs_toMu_pt_MuMudR_XXLowRange could not be filled and will be skipped\n"
      ]
     },
     "metadata": {},
     "output_type": "display_data"
    },
    {
     "data": {
      "text/html": [
       "<pre style=\"white-space:pre;overflow-x:auto;line-height:normal;font-family:Menlo,'DejaVu Sans Mono',consolas,'Courier New',monospace\">Warning: a histogram with the name genAs_toMu_lxy_MuMudR could not be filled and will be skipped\n",
       "</pre>\n"
      ],
      "text/plain": [
       "Warning: a histogram with the name genAs_toMu_lxy_MuMudR could not be filled and will be skipped\n"
      ]
     },
     "metadata": {},
     "output_type": "display_data"
    },
    {
     "data": {
      "text/html": [
       "<pre style=\"white-space:pre;overflow-x:auto;line-height:normal;font-family:Menlo,'DejaVu Sans Mono',consolas,'Courier New',monospace\">Warning: a histogram with the name genAs_toMu_lxy_MuMudR_XLowRange could not be filled and will be skipped\n",
       "</pre>\n"
      ],
      "text/plain": [
       "Warning: a histogram with the name genAs_toMu_lxy_MuMudR_XLowRange could not be filled and will be skipped\n"
      ]
     },
     "metadata": {},
     "output_type": "display_data"
    },
    {
     "data": {
      "text/html": [
       "<pre style=\"white-space:pre;overflow-x:auto;line-height:normal;font-family:Menlo,'DejaVu Sans Mono',consolas,'Courier New',monospace\">Warning: a histogram with the name genAs_toMu_lxy_MuMudR_XXLowRange could not be filled and will be skipped\n",
       "</pre>\n"
      ],
      "text/plain": [
       "Warning: a histogram with the name genAs_toMu_lxy_MuMudR_XXLowRange could not be filled and will be skipped\n"
      ]
     },
     "metadata": {},
     "output_type": "display_data"
    },
    {
     "data": {
      "text/html": [
       "<pre style=\"white-space:pre;overflow-x:auto;line-height:normal;font-family:Menlo,'DejaVu Sans Mono',consolas,'Courier New',monospace\">Warning: a histogram with the name genAs_toMu_pt_MuMudR_highRange could not be filled and will be skipped\n",
       "</pre>\n"
      ],
      "text/plain": [
       "Warning: a histogram with the name genAs_toMu_pt_MuMudR_highRange could not be filled and will be skipped\n"
      ]
     },
     "metadata": {},
     "output_type": "display_data"
    },
    {
     "data": {
      "text/html": [
       "<pre style=\"white-space:pre;overflow-x:auto;line-height:normal;font-family:Menlo,'DejaVu Sans Mono',consolas,'Courier New',monospace\">Warning: a histogram with the name genAs_toMu_pt_highRange_MuMudR_lowRange could not be filled and will be skipped\n",
       "</pre>\n"
      ],
      "text/plain": [
       "Warning: a histogram with the name genAs_toMu_pt_highRange_MuMudR_lowRange could not be filled and will be skipped\n"
      ]
     },
     "metadata": {},
     "output_type": "display_data"
    },
    {
     "data": {
      "text/html": [
       "<pre style=\"white-space:pre;overflow-x:auto;line-height:normal;font-family:Menlo,'DejaVu Sans Mono',consolas,'Courier New',monospace\">Applying genMus status 1\n",
       "</pre>\n"
      ],
      "text/plain": [
       "Applying genMus status 1\n"
      ]
     },
     "metadata": {},
     "output_type": "display_data"
    },
    {
     "data": {
      "text/html": [
       "<pre style=\"white-space:pre;overflow-x:auto;line-height:normal;font-family:Menlo,'DejaVu Sans Mono',consolas,'Courier New',monospace\">Applying genEs status 1\n",
       "</pre>\n"
      ],
      "text/plain": [
       "Applying genEs status 1\n"
      ]
     },
     "metadata": {},
     "output_type": "display_data"
    },
    {
     "data": {
      "text/html": [
       "<pre style=\"white-space:pre;overflow-x:auto;line-height:normal;font-family:Menlo,'DejaVu Sans Mono',consolas,'Courier New',monospace\">Applying genAs_toMu close mu\n",
       "</pre>\n"
      ],
      "text/plain": [
       "Applying genAs_toMu close mu\n"
      ]
     },
     "metadata": {},
     "output_type": "display_data"
    },
    {
     "data": {
      "text/html": [
       "<pre style=\"white-space:pre;overflow-x:auto;line-height:normal;font-family:Menlo,'DejaVu Sans Mono',consolas,'Courier New',monospace\">Applying cut: PV filter\n",
       "</pre>\n"
      ],
      "text/plain": [
       "Applying cut: PV filter\n"
      ]
     },
     "metadata": {},
     "output_type": "display_data"
    },
    {
     "data": {
      "text/html": [
       "<pre style=\"white-space:pre;overflow-x:auto;line-height:normal;font-family:Menlo,'DejaVu Sans Mono',consolas,'Courier New',monospace\">Warning: a histogram with the name genAs_toMu_pt_MuMudR_lowRange could not be filled and will be skipped\n",
       "</pre>\n"
      ],
      "text/plain": [
       "Warning: a histogram with the name genAs_toMu_pt_MuMudR_lowRange could not be filled and will be skipped\n"
      ]
     },
     "metadata": {},
     "output_type": "display_data"
    },
    {
     "data": {
      "text/html": [
       "<pre style=\"white-space:pre;overflow-x:auto;line-height:normal;font-family:Menlo,'DejaVu Sans Mono',consolas,'Courier New',monospace\">Warning: a histogram with the name genAs_toMu_pt_MuMudR_XLowRange could not be filled and will be skipped\n",
       "</pre>\n"
      ],
      "text/plain": [
       "Warning: a histogram with the name genAs_toMu_pt_MuMudR_XLowRange could not be filled and will be skipped\n"
      ]
     },
     "metadata": {},
     "output_type": "display_data"
    },
    {
     "data": {
      "text/html": [
       "<pre style=\"white-space:pre;overflow-x:auto;line-height:normal;font-family:Menlo,'DejaVu Sans Mono',consolas,'Courier New',monospace\">Warning: a histogram with the name genAs_toMu_pt_MuMudR_XXLowRange could not be filled and will be skipped\n",
       "</pre>\n"
      ],
      "text/plain": [
       "Warning: a histogram with the name genAs_toMu_pt_MuMudR_XXLowRange could not be filled and will be skipped\n"
      ]
     },
     "metadata": {},
     "output_type": "display_data"
    },
    {
     "data": {
      "text/html": [
       "<pre style=\"white-space:pre;overflow-x:auto;line-height:normal;font-family:Menlo,'DejaVu Sans Mono',consolas,'Courier New',monospace\">Warning: a histogram with the name genAs_toMu_lxy_MuMudR could not be filled and will be skipped\n",
       "</pre>\n"
      ],
      "text/plain": [
       "Warning: a histogram with the name genAs_toMu_lxy_MuMudR could not be filled and will be skipped\n"
      ]
     },
     "metadata": {},
     "output_type": "display_data"
    },
    {
     "data": {
      "text/html": [
       "<pre style=\"white-space:pre;overflow-x:auto;line-height:normal;font-family:Menlo,'DejaVu Sans Mono',consolas,'Courier New',monospace\">Warning: a histogram with the name genAs_toMu_lxy_MuMudR_XLowRange could not be filled and will be skipped\n",
       "</pre>\n"
      ],
      "text/plain": [
       "Warning: a histogram with the name genAs_toMu_lxy_MuMudR_XLowRange could not be filled and will be skipped\n"
      ]
     },
     "metadata": {},
     "output_type": "display_data"
    },
    {
     "data": {
      "text/html": [
       "<pre style=\"white-space:pre;overflow-x:auto;line-height:normal;font-family:Menlo,'DejaVu Sans Mono',consolas,'Courier New',monospace\">Warning: a histogram with the name genAs_toMu_lxy_MuMudR_XXLowRange could not be filled and will be skipped\n",
       "</pre>\n"
      ],
      "text/plain": [
       "Warning: a histogram with the name genAs_toMu_lxy_MuMudR_XXLowRange could not be filled and will be skipped\n"
      ]
     },
     "metadata": {},
     "output_type": "display_data"
    },
    {
     "data": {
      "text/html": [
       "<pre style=\"white-space:pre;overflow-x:auto;line-height:normal;font-family:Menlo,'DejaVu Sans Mono',consolas,'Courier New',monospace\">Warning: a histogram with the name genAs_toMu_pt_MuMudR_highRange could not be filled and will be skipped\n",
       "</pre>\n"
      ],
      "text/plain": [
       "Warning: a histogram with the name genAs_toMu_pt_MuMudR_highRange could not be filled and will be skipped\n"
      ]
     },
     "metadata": {},
     "output_type": "display_data"
    },
    {
     "data": {
      "text/html": [
       "<pre style=\"white-space:pre;overflow-x:auto;line-height:normal;font-family:Menlo,'DejaVu Sans Mono',consolas,'Courier New',monospace\">Warning: a histogram with the name genAs_toMu_pt_highRange_MuMudR_lowRange could not be filled and will be skipped\n",
       "</pre>\n"
      ],
      "text/plain": [
       "Warning: a histogram with the name genAs_toMu_pt_highRange_MuMudR_lowRange could not be filled and will be skipped\n"
      ]
     },
     "metadata": {},
     "output_type": "display_data"
    },
    {
     "data": {
      "text/html": [
       "<pre style=\"white-space:pre;overflow-x:auto;line-height:normal;font-family:Menlo,'DejaVu Sans Mono',consolas,'Courier New',monospace\">Applying genMus status 1\n",
       "</pre>\n"
      ],
      "text/plain": [
       "Applying genMus status 1\n"
      ]
     },
     "metadata": {},
     "output_type": "display_data"
    },
    {
     "data": {
      "text/html": [
       "<pre style=\"white-space:pre;overflow-x:auto;line-height:normal;font-family:Menlo,'DejaVu Sans Mono',consolas,'Courier New',monospace\">Applying genEs status 1\n",
       "</pre>\n"
      ],
      "text/plain": [
       "Applying genEs status 1\n"
      ]
     },
     "metadata": {},
     "output_type": "display_data"
    },
    {
     "data": {
      "text/html": [
       "<pre style=\"white-space:pre;overflow-x:auto;line-height:normal;font-family:Menlo,'DejaVu Sans Mono',consolas,'Courier New',monospace\">Applying genAs_toMu &gt;= 2 close mu\n",
       "</pre>\n"
      ],
      "text/plain": [
       "Applying genAs_toMu >= 2 close mu\n"
      ]
     },
     "metadata": {},
     "output_type": "display_data"
    },
    {
     "data": {
      "text/html": [
       "<pre style=\"white-space:pre;overflow-x:auto;line-height:normal;font-family:Menlo,'DejaVu Sans Mono',consolas,'Courier New',monospace\">Applying cut: PV filter\n",
       "</pre>\n"
      ],
      "text/plain": [
       "Applying cut: PV filter\n"
      ]
     },
     "metadata": {},
     "output_type": "display_data"
    },
    {
     "data": {
      "text/html": [
       "<pre style=\"white-space:pre;overflow-x:auto;line-height:normal;font-family:Menlo,'DejaVu Sans Mono',consolas,'Courier New',monospace\">Warning: a histogram with the name genAs_toMu_pt_MuMudR_lowRange could not be filled and will be skipped\n",
       "</pre>\n"
      ],
      "text/plain": [
       "Warning: a histogram with the name genAs_toMu_pt_MuMudR_lowRange could not be filled and will be skipped\n"
      ]
     },
     "metadata": {},
     "output_type": "display_data"
    },
    {
     "data": {
      "text/html": [
       "<pre style=\"white-space:pre;overflow-x:auto;line-height:normal;font-family:Menlo,'DejaVu Sans Mono',consolas,'Courier New',monospace\">Warning: a histogram with the name genAs_toMu_pt_MuMudR_XLowRange could not be filled and will be skipped\n",
       "</pre>\n"
      ],
      "text/plain": [
       "Warning: a histogram with the name genAs_toMu_pt_MuMudR_XLowRange could not be filled and will be skipped\n"
      ]
     },
     "metadata": {},
     "output_type": "display_data"
    },
    {
     "data": {
      "text/html": [
       "<pre style=\"white-space:pre;overflow-x:auto;line-height:normal;font-family:Menlo,'DejaVu Sans Mono',consolas,'Courier New',monospace\">Warning: a histogram with the name genAs_toMu_pt_MuMudR_XXLowRange could not be filled and will be skipped\n",
       "</pre>\n"
      ],
      "text/plain": [
       "Warning: a histogram with the name genAs_toMu_pt_MuMudR_XXLowRange could not be filled and will be skipped\n"
      ]
     },
     "metadata": {},
     "output_type": "display_data"
    },
    {
     "data": {
      "text/html": [
       "<pre style=\"white-space:pre;overflow-x:auto;line-height:normal;font-family:Menlo,'DejaVu Sans Mono',consolas,'Courier New',monospace\">Warning: a histogram with the name genAs_toMu_lxy_MuMudR could not be filled and will be skipped\n",
       "</pre>\n"
      ],
      "text/plain": [
       "Warning: a histogram with the name genAs_toMu_lxy_MuMudR could not be filled and will be skipped\n"
      ]
     },
     "metadata": {},
     "output_type": "display_data"
    },
    {
     "data": {
      "text/html": [
       "<pre style=\"white-space:pre;overflow-x:auto;line-height:normal;font-family:Menlo,'DejaVu Sans Mono',consolas,'Courier New',monospace\">Warning: a histogram with the name genAs_toMu_lxy_MuMudR_XLowRange could not be filled and will be skipped\n",
       "</pre>\n"
      ],
      "text/plain": [
       "Warning: a histogram with the name genAs_toMu_lxy_MuMudR_XLowRange could not be filled and will be skipped\n"
      ]
     },
     "metadata": {},
     "output_type": "display_data"
    },
    {
     "data": {
      "text/html": [
       "<pre style=\"white-space:pre;overflow-x:auto;line-height:normal;font-family:Menlo,'DejaVu Sans Mono',consolas,'Courier New',monospace\">Warning: a histogram with the name genAs_toMu_lxy_MuMudR_XXLowRange could not be filled and will be skipped\n",
       "</pre>\n"
      ],
      "text/plain": [
       "Warning: a histogram with the name genAs_toMu_lxy_MuMudR_XXLowRange could not be filled and will be skipped\n"
      ]
     },
     "metadata": {},
     "output_type": "display_data"
    },
    {
     "data": {
      "text/html": [
       "<pre style=\"white-space:pre;overflow-x:auto;line-height:normal;font-family:Menlo,'DejaVu Sans Mono',consolas,'Courier New',monospace\">Warning: a histogram with the name genAs_toMu_pt_MuMudR_highRange could not be filled and will be skipped\n",
       "</pre>\n"
      ],
      "text/plain": [
       "Warning: a histogram with the name genAs_toMu_pt_MuMudR_highRange could not be filled and will be skipped\n"
      ]
     },
     "metadata": {},
     "output_type": "display_data"
    },
    {
     "data": {
      "text/html": [
       "<pre style=\"white-space:pre;overflow-x:auto;line-height:normal;font-family:Menlo,'DejaVu Sans Mono',consolas,'Courier New',monospace\">Warning: a histogram with the name genAs_toMu_pt_highRange_MuMudR_lowRange could not be filled and will be skipped\n",
       "</pre>\n"
      ],
      "text/plain": [
       "Warning: a histogram with the name genAs_toMu_pt_highRange_MuMudR_lowRange could not be filled and will be skipped\n"
      ]
     },
     "metadata": {},
     "output_type": "display_data"
    },
    {
     "data": {
      "text/html": [
       "<pre style=\"white-space:pre;overflow-x:auto;line-height:normal;font-family:Menlo,'DejaVu Sans Mono',consolas,'Courier New',monospace\">Applying genMus status 1\n",
       "</pre>\n"
      ],
      "text/plain": [
       "Applying genMus status 1\n"
      ]
     },
     "metadata": {},
     "output_type": "display_data"
    },
    {
     "data": {
      "text/html": [
       "<pre style=\"white-space:pre;overflow-x:auto;line-height:normal;font-family:Menlo,'DejaVu Sans Mono',consolas,'Courier New',monospace\">Applying genEs status 1\n",
       "</pre>\n"
      ],
      "text/plain": [
       "Applying genEs status 1\n"
      ]
     },
     "metadata": {},
     "output_type": "display_data"
    },
    {
     "data": {
      "text/html": [
       "<pre style=\"white-space:pre;overflow-x:auto;line-height:normal;font-family:Menlo,'DejaVu Sans Mono',consolas,'Courier New',monospace\">Applying electrons pT &gt; 10 GeV\n",
       "</pre>\n"
      ],
      "text/plain": [
       "Applying electrons pT > 10 GeV\n"
      ]
     },
     "metadata": {},
     "output_type": "display_data"
    },
    {
     "data": {
      "text/html": [
       "<pre style=\"white-space:pre;overflow-x:auto;line-height:normal;font-family:Menlo,'DejaVu Sans Mono',consolas,'Courier New',monospace\">Applying electrons |eta| &lt; 2.4\n",
       "</pre>\n"
      ],
      "text/plain": [
       "Applying electrons |eta| < 2.4\n"
      ]
     },
     "metadata": {},
     "output_type": "display_data"
    },
    {
     "data": {
      "text/html": [
       "<pre style=\"white-space:pre;overflow-x:auto;line-height:normal;font-family:Menlo,'DejaVu Sans Mono',consolas,'Courier New',monospace\">Applying electrons MVANonIsoWPL\n",
       "</pre>\n"
      ],
      "text/plain": [
       "Applying electrons MVANonIsoWPL\n"
      ]
     },
     "metadata": {},
     "output_type": "display_data"
    },
    {
     "data": {
      "text/html": [
       "<pre style=\"white-space:pre;overflow-x:auto;line-height:normal;font-family:Menlo,'DejaVu Sans Mono',consolas,'Courier New',monospace\">Applying muons looseID\n",
       "</pre>\n"
      ],
      "text/plain": [
       "Applying muons looseID\n"
      ]
     },
     "metadata": {},
     "output_type": "display_data"
    },
    {
     "data": {
      "text/html": [
       "<pre style=\"white-space:pre;overflow-x:auto;line-height:normal;font-family:Menlo,'DejaVu Sans Mono',consolas,'Courier New',monospace\">Applying muons pT &gt; 5 GeV\n",
       "</pre>\n"
      ],
      "text/plain": [
       "Applying muons pT > 5 GeV\n"
      ]
     },
     "metadata": {},
     "output_type": "display_data"
    },
    {
     "data": {
      "text/html": [
       "<pre style=\"white-space:pre;overflow-x:auto;line-height:normal;font-family:Menlo,'DejaVu Sans Mono',consolas,'Courier New',monospace\">Applying muons |eta| &lt; 2.4\n",
       "</pre>\n"
      ],
      "text/plain": [
       "Applying muons |eta| < 2.4\n"
      ]
     },
     "metadata": {},
     "output_type": "display_data"
    },
    {
     "data": {
      "text/html": [
       "<pre style=\"white-space:pre;overflow-x:auto;line-height:normal;font-family:Menlo,'DejaVu Sans Mono',consolas,'Courier New',monospace\">Applying photons pT &gt; 20 GeV\n",
       "</pre>\n"
      ],
      "text/plain": [
       "Applying photons pT > 20 GeV\n"
      ]
     },
     "metadata": {},
     "output_type": "display_data"
    },
    {
     "data": {
      "text/html": [
       "<pre style=\"white-space:pre;overflow-x:auto;line-height:normal;font-family:Menlo,'DejaVu Sans Mono',consolas,'Courier New',monospace\">Applying photons |eta| &lt; 2.5\n",
       "</pre>\n"
      ],
      "text/plain": [
       "Applying photons |eta| < 2.5\n"
      ]
     },
     "metadata": {},
     "output_type": "display_data"
    },
    {
     "data": {
      "text/html": [
       "<pre style=\"white-space:pre;overflow-x:auto;line-height:normal;font-family:Menlo,'DejaVu Sans Mono',consolas,'Courier New',monospace\">Applying photons Custom Cutbased\n",
       "</pre>\n"
      ],
      "text/plain": [
       "Applying photons Custom Cutbased\n"
      ]
     },
     "metadata": {},
     "output_type": "display_data"
    },
    {
     "data": {
      "text/html": [
       "<pre style=\"white-space:pre;overflow-x:auto;line-height:normal;font-family:Menlo,'DejaVu Sans Mono',consolas,'Courier New',monospace\">Applying photons pixelSeed\n",
       "</pre>\n"
      ],
      "text/plain": [
       "Applying photons pixelSeed\n"
      ]
     },
     "metadata": {},
     "output_type": "display_data"
    },
    {
     "data": {
      "text/html": [
       "<pre style=\"white-space:pre;overflow-x:auto;line-height:normal;font-family:Menlo,'DejaVu Sans Mono',consolas,'Courier New',monospace\">Applying photons Photon DR Veto 0p025\n",
       "</pre>\n"
      ],
      "text/plain": [
       "Applying photons Photon DR Veto 0p025\n"
      ]
     },
     "metadata": {},
     "output_type": "display_data"
    },
    {
     "data": {
      "text/html": [
       "<pre style=\"white-space:pre;overflow-x:auto;line-height:normal;font-family:Menlo,'DejaVu Sans Mono',consolas,'Courier New',monospace\">Applying dsaMuons pT &gt; 10 GeV\n",
       "</pre>\n"
      ],
      "text/plain": [
       "Applying dsaMuons pT > 10 GeV\n"
      ]
     },
     "metadata": {},
     "output_type": "display_data"
    },
    {
     "data": {
      "text/html": [
       "<pre style=\"white-space:pre;overflow-x:auto;line-height:normal;font-family:Menlo,'DejaVu Sans Mono',consolas,'Courier New',monospace\">Applying dsaMuons |eta| &lt; 2.4\n",
       "</pre>\n"
      ],
      "text/plain": [
       "Applying dsaMuons |eta| < 2.4\n"
      ]
     },
     "metadata": {},
     "output_type": "display_data"
    },
    {
     "data": {
      "text/html": [
       "<pre style=\"white-space:pre;overflow-x:auto;line-height:normal;font-family:Menlo,'DejaVu Sans Mono',consolas,'Courier New',monospace\">Applying dsaMuons displaced ID\n",
       "</pre>\n"
      ],
      "text/plain": [
       "Applying dsaMuons displaced ID\n"
      ]
     },
     "metadata": {},
     "output_type": "display_data"
    },
    {
     "data": {
      "text/html": [
       "<pre style=\"white-space:pre;overflow-x:auto;line-height:normal;font-family:Menlo,'DejaVu Sans Mono',consolas,'Courier New',monospace\">Applying genAs_toMu close mu\n",
       "</pre>\n"
      ],
      "text/plain": [
       "Applying genAs_toMu close mu\n"
      ]
     },
     "metadata": {},
     "output_type": "display_data"
    },
    {
     "data": {
      "text/html": [
       "<pre style=\"white-space:pre;overflow-x:auto;line-height:normal;font-family:Menlo,'DejaVu Sans Mono',consolas,'Courier New',monospace\">Applying cut: PV filter\n",
       "</pre>\n"
      ],
      "text/plain": [
       "Applying cut: PV filter\n"
      ]
     },
     "metadata": {},
     "output_type": "display_data"
    },
    {
     "data": {
      "text/html": [
       "<pre style=\"white-space:pre;overflow-x:auto;line-height:normal;font-family:Menlo,'DejaVu Sans Mono',consolas,'Courier New',monospace\">Applying cut: pass triggers\n",
       "</pre>\n"
      ],
      "text/plain": [
       "Applying cut: pass triggers\n"
      ]
     },
     "metadata": {},
     "output_type": "display_data"
    },
    {
     "data": {
      "text/html": [
       "<pre style=\"white-space:pre;overflow-x:auto;line-height:normal;font-family:Menlo,'DejaVu Sans Mono',consolas,'Courier New',monospace\">Warning: a histogram with the name genAs_toMu_pt_MuMudR_lowRange could not be filled and will be skipped\n",
       "</pre>\n"
      ],
      "text/plain": [
       "Warning: a histogram with the name genAs_toMu_pt_MuMudR_lowRange could not be filled and will be skipped\n"
      ]
     },
     "metadata": {},
     "output_type": "display_data"
    },
    {
     "data": {
      "text/html": [
       "<pre style=\"white-space:pre;overflow-x:auto;line-height:normal;font-family:Menlo,'DejaVu Sans Mono',consolas,'Courier New',monospace\">Warning: a histogram with the name genAs_toMu_pt_MuMudR_XLowRange could not be filled and will be skipped\n",
       "</pre>\n"
      ],
      "text/plain": [
       "Warning: a histogram with the name genAs_toMu_pt_MuMudR_XLowRange could not be filled and will be skipped\n"
      ]
     },
     "metadata": {},
     "output_type": "display_data"
    },
    {
     "data": {
      "text/html": [
       "<pre style=\"white-space:pre;overflow-x:auto;line-height:normal;font-family:Menlo,'DejaVu Sans Mono',consolas,'Courier New',monospace\">Warning: a histogram with the name genAs_toMu_pt_MuMudR_XXLowRange could not be filled and will be skipped\n",
       "</pre>\n"
      ],
      "text/plain": [
       "Warning: a histogram with the name genAs_toMu_pt_MuMudR_XXLowRange could not be filled and will be skipped\n"
      ]
     },
     "metadata": {},
     "output_type": "display_data"
    },
    {
     "data": {
      "text/html": [
       "<pre style=\"white-space:pre;overflow-x:auto;line-height:normal;font-family:Menlo,'DejaVu Sans Mono',consolas,'Courier New',monospace\">Warning: a histogram with the name genAs_toMu_lxy_MuMudR could not be filled and will be skipped\n",
       "</pre>\n"
      ],
      "text/plain": [
       "Warning: a histogram with the name genAs_toMu_lxy_MuMudR could not be filled and will be skipped\n"
      ]
     },
     "metadata": {},
     "output_type": "display_data"
    },
    {
     "data": {
      "text/html": [
       "<pre style=\"white-space:pre;overflow-x:auto;line-height:normal;font-family:Menlo,'DejaVu Sans Mono',consolas,'Courier New',monospace\">Warning: a histogram with the name genAs_toMu_lxy_MuMudR_XLowRange could not be filled and will be skipped\n",
       "</pre>\n"
      ],
      "text/plain": [
       "Warning: a histogram with the name genAs_toMu_lxy_MuMudR_XLowRange could not be filled and will be skipped\n"
      ]
     },
     "metadata": {},
     "output_type": "display_data"
    },
    {
     "data": {
      "text/html": [
       "<pre style=\"white-space:pre;overflow-x:auto;line-height:normal;font-family:Menlo,'DejaVu Sans Mono',consolas,'Courier New',monospace\">Warning: a histogram with the name genAs_toMu_lxy_MuMudR_XXLowRange could not be filled and will be skipped\n",
       "</pre>\n"
      ],
      "text/plain": [
       "Warning: a histogram with the name genAs_toMu_lxy_MuMudR_XXLowRange could not be filled and will be skipped\n"
      ]
     },
     "metadata": {},
     "output_type": "display_data"
    },
    {
     "data": {
      "text/html": [
       "<pre style=\"white-space:pre;overflow-x:auto;line-height:normal;font-family:Menlo,'DejaVu Sans Mono',consolas,'Courier New',monospace\">Warning: a histogram with the name genAs_toMu_pt_MuMudR_highRange could not be filled and will be skipped\n",
       "</pre>\n"
      ],
      "text/plain": [
       "Warning: a histogram with the name genAs_toMu_pt_MuMudR_highRange could not be filled and will be skipped\n"
      ]
     },
     "metadata": {},
     "output_type": "display_data"
    },
    {
     "data": {
      "text/html": [
       "<pre style=\"white-space:pre;overflow-x:auto;line-height:normal;font-family:Menlo,'DejaVu Sans Mono',consolas,'Courier New',monospace\">Warning: a histogram with the name genAs_toMu_pt_highRange_MuMudR_lowRange could not be filled and will be skipped\n",
       "</pre>\n"
      ],
      "text/plain": [
       "Warning: a histogram with the name genAs_toMu_pt_highRange_MuMudR_lowRange could not be filled and will be skipped\n"
      ]
     },
     "metadata": {},
     "output_type": "display_data"
    },
    {
     "data": {
      "text/html": [
       "<pre style=\"white-space:pre;overflow-x:auto;line-height:normal;font-family:Menlo,'DejaVu Sans Mono',consolas,'Courier New',monospace\">Applying genMus status 1\n",
       "</pre>\n"
      ],
      "text/plain": [
       "Applying genMus status 1\n"
      ]
     },
     "metadata": {},
     "output_type": "display_data"
    },
    {
     "data": {
      "text/html": [
       "<pre style=\"white-space:pre;overflow-x:auto;line-height:normal;font-family:Menlo,'DejaVu Sans Mono',consolas,'Courier New',monospace\">Applying genEs status 1\n",
       "</pre>\n"
      ],
      "text/plain": [
       "Applying genEs status 1\n"
      ]
     },
     "metadata": {},
     "output_type": "display_data"
    },
    {
     "data": {
      "text/html": [
       "<pre style=\"white-space:pre;overflow-x:auto;line-height:normal;font-family:Menlo,'DejaVu Sans Mono',consolas,'Courier New',monospace\">Applying electrons pT &gt; 10 GeV\n",
       "</pre>\n"
      ],
      "text/plain": [
       "Applying electrons pT > 10 GeV\n"
      ]
     },
     "metadata": {},
     "output_type": "display_data"
    },
    {
     "data": {
      "text/html": [
       "<pre style=\"white-space:pre;overflow-x:auto;line-height:normal;font-family:Menlo,'DejaVu Sans Mono',consolas,'Courier New',monospace\">Applying electrons |eta| &lt; 2.4\n",
       "</pre>\n"
      ],
      "text/plain": [
       "Applying electrons |eta| < 2.4\n"
      ]
     },
     "metadata": {},
     "output_type": "display_data"
    },
    {
     "data": {
      "text/html": [
       "<pre style=\"white-space:pre;overflow-x:auto;line-height:normal;font-family:Menlo,'DejaVu Sans Mono',consolas,'Courier New',monospace\">Applying electrons MVANonIsoWPL\n",
       "</pre>\n"
      ],
      "text/plain": [
       "Applying electrons MVANonIsoWPL\n"
      ]
     },
     "metadata": {},
     "output_type": "display_data"
    },
    {
     "data": {
      "text/html": [
       "<pre style=\"white-space:pre;overflow-x:auto;line-height:normal;font-family:Menlo,'DejaVu Sans Mono',consolas,'Courier New',monospace\">Applying muons looseID\n",
       "</pre>\n"
      ],
      "text/plain": [
       "Applying muons looseID\n"
      ]
     },
     "metadata": {},
     "output_type": "display_data"
    },
    {
     "data": {
      "text/html": [
       "<pre style=\"white-space:pre;overflow-x:auto;line-height:normal;font-family:Menlo,'DejaVu Sans Mono',consolas,'Courier New',monospace\">Applying muons pT &gt; 5 GeV\n",
       "</pre>\n"
      ],
      "text/plain": [
       "Applying muons pT > 5 GeV\n"
      ]
     },
     "metadata": {},
     "output_type": "display_data"
    },
    {
     "data": {
      "text/html": [
       "<pre style=\"white-space:pre;overflow-x:auto;line-height:normal;font-family:Menlo,'DejaVu Sans Mono',consolas,'Courier New',monospace\">Applying muons |eta| &lt; 2.4\n",
       "</pre>\n"
      ],
      "text/plain": [
       "Applying muons |eta| < 2.4\n"
      ]
     },
     "metadata": {},
     "output_type": "display_data"
    },
    {
     "data": {
      "text/html": [
       "<pre style=\"white-space:pre;overflow-x:auto;line-height:normal;font-family:Menlo,'DejaVu Sans Mono',consolas,'Courier New',monospace\">Applying photons pT &gt; 20 GeV\n",
       "</pre>\n"
      ],
      "text/plain": [
       "Applying photons pT > 20 GeV\n"
      ]
     },
     "metadata": {},
     "output_type": "display_data"
    },
    {
     "data": {
      "text/html": [
       "<pre style=\"white-space:pre;overflow-x:auto;line-height:normal;font-family:Menlo,'DejaVu Sans Mono',consolas,'Courier New',monospace\">Applying photons |eta| &lt; 2.5\n",
       "</pre>\n"
      ],
      "text/plain": [
       "Applying photons |eta| < 2.5\n"
      ]
     },
     "metadata": {},
     "output_type": "display_data"
    },
    {
     "data": {
      "text/html": [
       "<pre style=\"white-space:pre;overflow-x:auto;line-height:normal;font-family:Menlo,'DejaVu Sans Mono',consolas,'Courier New',monospace\">Applying photons Custom Cutbased\n",
       "</pre>\n"
      ],
      "text/plain": [
       "Applying photons Custom Cutbased\n"
      ]
     },
     "metadata": {},
     "output_type": "display_data"
    },
    {
     "data": {
      "text/html": [
       "<pre style=\"white-space:pre;overflow-x:auto;line-height:normal;font-family:Menlo,'DejaVu Sans Mono',consolas,'Courier New',monospace\">Applying photons pixelSeed\n",
       "</pre>\n"
      ],
      "text/plain": [
       "Applying photons pixelSeed\n"
      ]
     },
     "metadata": {},
     "output_type": "display_data"
    },
    {
     "data": {
      "text/html": [
       "<pre style=\"white-space:pre;overflow-x:auto;line-height:normal;font-family:Menlo,'DejaVu Sans Mono',consolas,'Courier New',monospace\">Applying photons Photon DR Veto 0p025\n",
       "</pre>\n"
      ],
      "text/plain": [
       "Applying photons Photon DR Veto 0p025\n"
      ]
     },
     "metadata": {},
     "output_type": "display_data"
    },
    {
     "data": {
      "text/html": [
       "<pre style=\"white-space:pre;overflow-x:auto;line-height:normal;font-family:Menlo,'DejaVu Sans Mono',consolas,'Courier New',monospace\">Applying dsaMuons pT &gt; 10 GeV\n",
       "</pre>\n"
      ],
      "text/plain": [
       "Applying dsaMuons pT > 10 GeV\n"
      ]
     },
     "metadata": {},
     "output_type": "display_data"
    },
    {
     "data": {
      "text/html": [
       "<pre style=\"white-space:pre;overflow-x:auto;line-height:normal;font-family:Menlo,'DejaVu Sans Mono',consolas,'Courier New',monospace\">Applying dsaMuons |eta| &lt; 2.4\n",
       "</pre>\n"
      ],
      "text/plain": [
       "Applying dsaMuons |eta| < 2.4\n"
      ]
     },
     "metadata": {},
     "output_type": "display_data"
    },
    {
     "data": {
      "text/html": [
       "<pre style=\"white-space:pre;overflow-x:auto;line-height:normal;font-family:Menlo,'DejaVu Sans Mono',consolas,'Courier New',monospace\">Applying dsaMuons displaced ID\n",
       "</pre>\n"
      ],
      "text/plain": [
       "Applying dsaMuons displaced ID\n"
      ]
     },
     "metadata": {},
     "output_type": "display_data"
    },
    {
     "data": {
      "text/html": [
       "<pre style=\"white-space:pre;overflow-x:auto;line-height:normal;font-family:Menlo,'DejaVu Sans Mono',consolas,'Courier New',monospace\">Applying genAs_toMu &gt;= 2 close mu\n",
       "</pre>\n"
      ],
      "text/plain": [
       "Applying genAs_toMu >= 2 close mu\n"
      ]
     },
     "metadata": {},
     "output_type": "display_data"
    },
    {
     "data": {
      "text/html": [
       "<pre style=\"white-space:pre;overflow-x:auto;line-height:normal;font-family:Menlo,'DejaVu Sans Mono',consolas,'Courier New',monospace\">Applying cut: PV filter\n",
       "</pre>\n"
      ],
      "text/plain": [
       "Applying cut: PV filter\n"
      ]
     },
     "metadata": {},
     "output_type": "display_data"
    },
    {
     "data": {
      "text/html": [
       "<pre style=\"white-space:pre;overflow-x:auto;line-height:normal;font-family:Menlo,'DejaVu Sans Mono',consolas,'Courier New',monospace\">Applying cut: pass triggers\n",
       "</pre>\n"
      ],
      "text/plain": [
       "Applying cut: pass triggers\n"
      ]
     },
     "metadata": {},
     "output_type": "display_data"
    },
    {
     "data": {
      "text/html": [
       "<pre style=\"white-space:pre;overflow-x:auto;line-height:normal;font-family:Menlo,'DejaVu Sans Mono',consolas,'Courier New',monospace\">Warning: a histogram with the name genAs_toMu_pt_MuMudR_lowRange could not be filled and will be skipped\n",
       "</pre>\n"
      ],
      "text/plain": [
       "Warning: a histogram with the name genAs_toMu_pt_MuMudR_lowRange could not be filled and will be skipped\n"
      ]
     },
     "metadata": {},
     "output_type": "display_data"
    },
    {
     "data": {
      "text/html": [
       "<pre style=\"white-space:pre;overflow-x:auto;line-height:normal;font-family:Menlo,'DejaVu Sans Mono',consolas,'Courier New',monospace\">Warning: a histogram with the name genAs_toMu_pt_MuMudR_XLowRange could not be filled and will be skipped\n",
       "</pre>\n"
      ],
      "text/plain": [
       "Warning: a histogram with the name genAs_toMu_pt_MuMudR_XLowRange could not be filled and will be skipped\n"
      ]
     },
     "metadata": {},
     "output_type": "display_data"
    },
    {
     "data": {
      "text/html": [
       "<pre style=\"white-space:pre;overflow-x:auto;line-height:normal;font-family:Menlo,'DejaVu Sans Mono',consolas,'Courier New',monospace\">Warning: a histogram with the name genAs_toMu_pt_MuMudR_XXLowRange could not be filled and will be skipped\n",
       "</pre>\n"
      ],
      "text/plain": [
       "Warning: a histogram with the name genAs_toMu_pt_MuMudR_XXLowRange could not be filled and will be skipped\n"
      ]
     },
     "metadata": {},
     "output_type": "display_data"
    },
    {
     "data": {
      "text/html": [
       "<pre style=\"white-space:pre;overflow-x:auto;line-height:normal;font-family:Menlo,'DejaVu Sans Mono',consolas,'Courier New',monospace\">Warning: a histogram with the name genAs_toMu_lxy_MuMudR could not be filled and will be skipped\n",
       "</pre>\n"
      ],
      "text/plain": [
       "Warning: a histogram with the name genAs_toMu_lxy_MuMudR could not be filled and will be skipped\n"
      ]
     },
     "metadata": {},
     "output_type": "display_data"
    },
    {
     "data": {
      "text/html": [
       "<pre style=\"white-space:pre;overflow-x:auto;line-height:normal;font-family:Menlo,'DejaVu Sans Mono',consolas,'Courier New',monospace\">Warning: a histogram with the name genAs_toMu_lxy_MuMudR_XLowRange could not be filled and will be skipped\n",
       "</pre>\n"
      ],
      "text/plain": [
       "Warning: a histogram with the name genAs_toMu_lxy_MuMudR_XLowRange could not be filled and will be skipped\n"
      ]
     },
     "metadata": {},
     "output_type": "display_data"
    },
    {
     "data": {
      "text/html": [
       "<pre style=\"white-space:pre;overflow-x:auto;line-height:normal;font-family:Menlo,'DejaVu Sans Mono',consolas,'Courier New',monospace\">Warning: a histogram with the name genAs_toMu_lxy_MuMudR_XXLowRange could not be filled and will be skipped\n",
       "</pre>\n"
      ],
      "text/plain": [
       "Warning: a histogram with the name genAs_toMu_lxy_MuMudR_XXLowRange could not be filled and will be skipped\n"
      ]
     },
     "metadata": {},
     "output_type": "display_data"
    },
    {
     "data": {
      "text/html": [
       "<pre style=\"white-space:pre;overflow-x:auto;line-height:normal;font-family:Menlo,'DejaVu Sans Mono',consolas,'Courier New',monospace\">Warning: a histogram with the name genAs_toMu_pt_MuMudR_highRange could not be filled and will be skipped\n",
       "</pre>\n"
      ],
      "text/plain": [
       "Warning: a histogram with the name genAs_toMu_pt_MuMudR_highRange could not be filled and will be skipped\n"
      ]
     },
     "metadata": {},
     "output_type": "display_data"
    },
    {
     "data": {
      "text/html": [
       "<pre style=\"white-space:pre;overflow-x:auto;line-height:normal;font-family:Menlo,'DejaVu Sans Mono',consolas,'Courier New',monospace\">Warning: a histogram with the name genAs_toMu_pt_highRange_MuMudR_lowRange could not be filled and will be skipped\n",
       "</pre>\n"
      ],
      "text/plain": [
       "Warning: a histogram with the name genAs_toMu_pt_highRange_MuMudR_lowRange could not be filled and will be skipped\n"
      ]
     },
     "metadata": {},
     "output_type": "display_data"
    },
    {
     "data": {
      "text/html": [
       "<pre style=\"white-space:pre;overflow-x:auto;line-height:normal;font-family:Menlo,'DejaVu Sans Mono',consolas,'Courier New',monospace\">Applying genMus status 1\n",
       "</pre>\n"
      ],
      "text/plain": [
       "Applying genMus status 1\n"
      ]
     },
     "metadata": {},
     "output_type": "display_data"
    },
    {
     "data": {
      "text/html": [
       "<pre style=\"white-space:pre;overflow-x:auto;line-height:normal;font-family:Menlo,'DejaVu Sans Mono',consolas,'Courier New',monospace\">Applying genEs status 1\n",
       "</pre>\n"
      ],
      "text/plain": [
       "Applying genEs status 1\n"
      ]
     },
     "metadata": {},
     "output_type": "display_data"
    },
    {
     "data": {
      "text/html": [
       "<pre style=\"white-space:pre;overflow-x:auto;line-height:normal;font-family:Menlo,'DejaVu Sans Mono',consolas,'Courier New',monospace\">Applying cut: PV filter\n",
       "</pre>\n"
      ],
      "text/plain": [
       "Applying cut: PV filter\n"
      ]
     },
     "metadata": {},
     "output_type": "display_data"
    },
    {
     "data": {
      "text/html": [
       "<pre style=\"white-space:pre;overflow-x:auto;line-height:normal;font-family:Menlo,'DejaVu Sans Mono',consolas,'Courier New',monospace\">Applying genMus status 1\n",
       "</pre>\n"
      ],
      "text/plain": [
       "Applying genMus status 1\n"
      ]
     },
     "metadata": {},
     "output_type": "display_data"
    },
    {
     "data": {
      "text/html": [
       "<pre style=\"white-space:pre;overflow-x:auto;line-height:normal;font-family:Menlo,'DejaVu Sans Mono',consolas,'Courier New',monospace\">Applying genEs status 1\n",
       "</pre>\n"
      ],
      "text/plain": [
       "Applying genEs status 1\n"
      ]
     },
     "metadata": {},
     "output_type": "display_data"
    },
    {
     "data": {
      "text/html": [
       "<pre style=\"white-space:pre;overflow-x:auto;line-height:normal;font-family:Menlo,'DejaVu Sans Mono',consolas,'Courier New',monospace\">Applying genAs_toMu close dsaMu\n",
       "</pre>\n"
      ],
      "text/plain": [
       "Applying genAs_toMu close dsaMu\n"
      ]
     },
     "metadata": {},
     "output_type": "display_data"
    },
    {
     "data": {
      "text/html": [
       "<pre style=\"white-space:pre;overflow-x:auto;line-height:normal;font-family:Menlo,'DejaVu Sans Mono',consolas,'Courier New',monospace\">Applying cut: PV filter\n",
       "</pre>\n"
      ],
      "text/plain": [
       "Applying cut: PV filter\n"
      ]
     },
     "metadata": {},
     "output_type": "display_data"
    },
    {
     "data": {
      "text/html": [
       "<pre style=\"white-space:pre;overflow-x:auto;line-height:normal;font-family:Menlo,'DejaVu Sans Mono',consolas,'Courier New',monospace\">Warning: a histogram with the name genAs_toMu_pt_MuMudR_lowRange could not be filled and will be skipped\n",
       "</pre>\n"
      ],
      "text/plain": [
       "Warning: a histogram with the name genAs_toMu_pt_MuMudR_lowRange could not be filled and will be skipped\n"
      ]
     },
     "metadata": {},
     "output_type": "display_data"
    },
    {
     "data": {
      "text/html": [
       "<pre style=\"white-space:pre;overflow-x:auto;line-height:normal;font-family:Menlo,'DejaVu Sans Mono',consolas,'Courier New',monospace\">Warning: a histogram with the name genAs_toMu_pt_MuMudR_XLowRange could not be filled and will be skipped\n",
       "</pre>\n"
      ],
      "text/plain": [
       "Warning: a histogram with the name genAs_toMu_pt_MuMudR_XLowRange could not be filled and will be skipped\n"
      ]
     },
     "metadata": {},
     "output_type": "display_data"
    },
    {
     "data": {
      "text/html": [
       "<pre style=\"white-space:pre;overflow-x:auto;line-height:normal;font-family:Menlo,'DejaVu Sans Mono',consolas,'Courier New',monospace\">Warning: a histogram with the name genAs_toMu_pt_MuMudR_XXLowRange could not be filled and will be skipped\n",
       "</pre>\n"
      ],
      "text/plain": [
       "Warning: a histogram with the name genAs_toMu_pt_MuMudR_XXLowRange could not be filled and will be skipped\n"
      ]
     },
     "metadata": {},
     "output_type": "display_data"
    },
    {
     "data": {
      "text/html": [
       "<pre style=\"white-space:pre;overflow-x:auto;line-height:normal;font-family:Menlo,'DejaVu Sans Mono',consolas,'Courier New',monospace\">Warning: a histogram with the name genAs_toMu_lxy_MuMudR could not be filled and will be skipped\n",
       "</pre>\n"
      ],
      "text/plain": [
       "Warning: a histogram with the name genAs_toMu_lxy_MuMudR could not be filled and will be skipped\n"
      ]
     },
     "metadata": {},
     "output_type": "display_data"
    },
    {
     "data": {
      "text/html": [
       "<pre style=\"white-space:pre;overflow-x:auto;line-height:normal;font-family:Menlo,'DejaVu Sans Mono',consolas,'Courier New',monospace\">Warning: a histogram with the name genAs_toMu_lxy_MuMudR_XLowRange could not be filled and will be skipped\n",
       "</pre>\n"
      ],
      "text/plain": [
       "Warning: a histogram with the name genAs_toMu_lxy_MuMudR_XLowRange could not be filled and will be skipped\n"
      ]
     },
     "metadata": {},
     "output_type": "display_data"
    },
    {
     "data": {
      "text/html": [
       "<pre style=\"white-space:pre;overflow-x:auto;line-height:normal;font-family:Menlo,'DejaVu Sans Mono',consolas,'Courier New',monospace\">Warning: a histogram with the name genAs_toMu_lxy_MuMudR_XXLowRange could not be filled and will be skipped\n",
       "</pre>\n"
      ],
      "text/plain": [
       "Warning: a histogram with the name genAs_toMu_lxy_MuMudR_XXLowRange could not be filled and will be skipped\n"
      ]
     },
     "metadata": {},
     "output_type": "display_data"
    },
    {
     "data": {
      "text/html": [
       "<pre style=\"white-space:pre;overflow-x:auto;line-height:normal;font-family:Menlo,'DejaVu Sans Mono',consolas,'Courier New',monospace\">Warning: a histogram with the name genAs_toMu_pt_MuMudR_highRange could not be filled and will be skipped\n",
       "</pre>\n"
      ],
      "text/plain": [
       "Warning: a histogram with the name genAs_toMu_pt_MuMudR_highRange could not be filled and will be skipped\n"
      ]
     },
     "metadata": {},
     "output_type": "display_data"
    },
    {
     "data": {
      "text/html": [
       "<pre style=\"white-space:pre;overflow-x:auto;line-height:normal;font-family:Menlo,'DejaVu Sans Mono',consolas,'Courier New',monospace\">Warning: a histogram with the name genAs_toMu_pt_highRange_MuMudR_lowRange could not be filled and will be skipped\n",
       "</pre>\n"
      ],
      "text/plain": [
       "Warning: a histogram with the name genAs_toMu_pt_highRange_MuMudR_lowRange could not be filled and will be skipped\n"
      ]
     },
     "metadata": {},
     "output_type": "display_data"
    },
    {
     "data": {
      "text/html": [
       "<pre style=\"white-space:pre;overflow-x:auto;line-height:normal;font-family:Menlo,'DejaVu Sans Mono',consolas,'Courier New',monospace\">Applying genMus status 1\n",
       "</pre>\n"
      ],
      "text/plain": [
       "Applying genMus status 1\n"
      ]
     },
     "metadata": {},
     "output_type": "display_data"
    },
    {
     "data": {
      "text/html": [
       "<pre style=\"white-space:pre;overflow-x:auto;line-height:normal;font-family:Menlo,'DejaVu Sans Mono',consolas,'Courier New',monospace\">Applying genEs status 1\n",
       "</pre>\n"
      ],
      "text/plain": [
       "Applying genEs status 1\n"
      ]
     },
     "metadata": {},
     "output_type": "display_data"
    },
    {
     "data": {
      "text/html": [
       "<pre style=\"white-space:pre;overflow-x:auto;line-height:normal;font-family:Menlo,'DejaVu Sans Mono',consolas,'Courier New',monospace\">Applying genAs_toMu &gt;= 2 close dsaMu\n",
       "</pre>\n"
      ],
      "text/plain": [
       "Applying genAs_toMu >= 2 close dsaMu\n"
      ]
     },
     "metadata": {},
     "output_type": "display_data"
    },
    {
     "data": {
      "text/html": [
       "<pre style=\"white-space:pre;overflow-x:auto;line-height:normal;font-family:Menlo,'DejaVu Sans Mono',consolas,'Courier New',monospace\">Applying cut: PV filter\n",
       "</pre>\n"
      ],
      "text/plain": [
       "Applying cut: PV filter\n"
      ]
     },
     "metadata": {},
     "output_type": "display_data"
    },
    {
     "data": {
      "text/html": [
       "<pre style=\"white-space:pre;overflow-x:auto;line-height:normal;font-family:Menlo,'DejaVu Sans Mono',consolas,'Courier New',monospace\">Warning: a histogram with the name genAs_toMu_pt_MuMudR_lowRange could not be filled and will be skipped\n",
       "</pre>\n"
      ],
      "text/plain": [
       "Warning: a histogram with the name genAs_toMu_pt_MuMudR_lowRange could not be filled and will be skipped\n"
      ]
     },
     "metadata": {},
     "output_type": "display_data"
    },
    {
     "data": {
      "text/html": [
       "<pre style=\"white-space:pre;overflow-x:auto;line-height:normal;font-family:Menlo,'DejaVu Sans Mono',consolas,'Courier New',monospace\">Warning: a histogram with the name genAs_toMu_pt_MuMudR_XLowRange could not be filled and will be skipped\n",
       "</pre>\n"
      ],
      "text/plain": [
       "Warning: a histogram with the name genAs_toMu_pt_MuMudR_XLowRange could not be filled and will be skipped\n"
      ]
     },
     "metadata": {},
     "output_type": "display_data"
    },
    {
     "data": {
      "text/html": [
       "<pre style=\"white-space:pre;overflow-x:auto;line-height:normal;font-family:Menlo,'DejaVu Sans Mono',consolas,'Courier New',monospace\">Warning: a histogram with the name genAs_toMu_pt_MuMudR_XXLowRange could not be filled and will be skipped\n",
       "</pre>\n"
      ],
      "text/plain": [
       "Warning: a histogram with the name genAs_toMu_pt_MuMudR_XXLowRange could not be filled and will be skipped\n"
      ]
     },
     "metadata": {},
     "output_type": "display_data"
    },
    {
     "data": {
      "text/html": [
       "<pre style=\"white-space:pre;overflow-x:auto;line-height:normal;font-family:Menlo,'DejaVu Sans Mono',consolas,'Courier New',monospace\">Warning: a histogram with the name genAs_toMu_lxy_MuMudR could not be filled and will be skipped\n",
       "</pre>\n"
      ],
      "text/plain": [
       "Warning: a histogram with the name genAs_toMu_lxy_MuMudR could not be filled and will be skipped\n"
      ]
     },
     "metadata": {},
     "output_type": "display_data"
    },
    {
     "data": {
      "text/html": [
       "<pre style=\"white-space:pre;overflow-x:auto;line-height:normal;font-family:Menlo,'DejaVu Sans Mono',consolas,'Courier New',monospace\">Warning: a histogram with the name genAs_toMu_lxy_MuMudR_XLowRange could not be filled and will be skipped\n",
       "</pre>\n"
      ],
      "text/plain": [
       "Warning: a histogram with the name genAs_toMu_lxy_MuMudR_XLowRange could not be filled and will be skipped\n"
      ]
     },
     "metadata": {},
     "output_type": "display_data"
    },
    {
     "data": {
      "text/html": [
       "<pre style=\"white-space:pre;overflow-x:auto;line-height:normal;font-family:Menlo,'DejaVu Sans Mono',consolas,'Courier New',monospace\">Warning: a histogram with the name genAs_toMu_lxy_MuMudR_XXLowRange could not be filled and will be skipped\n",
       "</pre>\n"
      ],
      "text/plain": [
       "Warning: a histogram with the name genAs_toMu_lxy_MuMudR_XXLowRange could not be filled and will be skipped\n"
      ]
     },
     "metadata": {},
     "output_type": "display_data"
    },
    {
     "data": {
      "text/html": [
       "<pre style=\"white-space:pre;overflow-x:auto;line-height:normal;font-family:Menlo,'DejaVu Sans Mono',consolas,'Courier New',monospace\">Warning: a histogram with the name genAs_toMu_pt_MuMudR_highRange could not be filled and will be skipped\n",
       "</pre>\n"
      ],
      "text/plain": [
       "Warning: a histogram with the name genAs_toMu_pt_MuMudR_highRange could not be filled and will be skipped\n"
      ]
     },
     "metadata": {},
     "output_type": "display_data"
    },
    {
     "data": {
      "text/html": [
       "<pre style=\"white-space:pre;overflow-x:auto;line-height:normal;font-family:Menlo,'DejaVu Sans Mono',consolas,'Courier New',monospace\">Warning: a histogram with the name genAs_toMu_pt_highRange_MuMudR_lowRange could not be filled and will be skipped\n",
       "</pre>\n"
      ],
      "text/plain": [
       "Warning: a histogram with the name genAs_toMu_pt_highRange_MuMudR_lowRange could not be filled and will be skipped\n"
      ]
     },
     "metadata": {},
     "output_type": "display_data"
    },
    {
     "data": {
      "text/html": [
       "<pre style=\"white-space:pre;overflow-x:auto;line-height:normal;font-family:Menlo,'DejaVu Sans Mono',consolas,'Courier New',monospace\">Applying genMus status 1\n",
       "</pre>\n"
      ],
      "text/plain": [
       "Applying genMus status 1\n"
      ]
     },
     "metadata": {},
     "output_type": "display_data"
    },
    {
     "data": {
      "text/html": [
       "<pre style=\"white-space:pre;overflow-x:auto;line-height:normal;font-family:Menlo,'DejaVu Sans Mono',consolas,'Courier New',monospace\">Applying genEs status 1\n",
       "</pre>\n"
      ],
      "text/plain": [
       "Applying genEs status 1\n"
      ]
     },
     "metadata": {},
     "output_type": "display_data"
    },
    {
     "data": {
      "text/html": [
       "<pre style=\"white-space:pre;overflow-x:auto;line-height:normal;font-family:Menlo,'DejaVu Sans Mono',consolas,'Courier New',monospace\">Applying electrons pT &gt; 10 GeV\n",
       "</pre>\n"
      ],
      "text/plain": [
       "Applying electrons pT > 10 GeV\n"
      ]
     },
     "metadata": {},
     "output_type": "display_data"
    },
    {
     "data": {
      "text/html": [
       "<pre style=\"white-space:pre;overflow-x:auto;line-height:normal;font-family:Menlo,'DejaVu Sans Mono',consolas,'Courier New',monospace\">Applying electrons |eta| &lt; 2.4\n",
       "</pre>\n"
      ],
      "text/plain": [
       "Applying electrons |eta| < 2.4\n"
      ]
     },
     "metadata": {},
     "output_type": "display_data"
    },
    {
     "data": {
      "text/html": [
       "<pre style=\"white-space:pre;overflow-x:auto;line-height:normal;font-family:Menlo,'DejaVu Sans Mono',consolas,'Courier New',monospace\">Applying electrons MVANonIsoWPL\n",
       "</pre>\n"
      ],
      "text/plain": [
       "Applying electrons MVANonIsoWPL\n"
      ]
     },
     "metadata": {},
     "output_type": "display_data"
    },
    {
     "data": {
      "text/html": [
       "<pre style=\"white-space:pre;overflow-x:auto;line-height:normal;font-family:Menlo,'DejaVu Sans Mono',consolas,'Courier New',monospace\">Applying muons looseID\n",
       "</pre>\n"
      ],
      "text/plain": [
       "Applying muons looseID\n"
      ]
     },
     "metadata": {},
     "output_type": "display_data"
    },
    {
     "data": {
      "text/html": [
       "<pre style=\"white-space:pre;overflow-x:auto;line-height:normal;font-family:Menlo,'DejaVu Sans Mono',consolas,'Courier New',monospace\">Applying muons pT &gt; 5 GeV\n",
       "</pre>\n"
      ],
      "text/plain": [
       "Applying muons pT > 5 GeV\n"
      ]
     },
     "metadata": {},
     "output_type": "display_data"
    },
    {
     "data": {
      "text/html": [
       "<pre style=\"white-space:pre;overflow-x:auto;line-height:normal;font-family:Menlo,'DejaVu Sans Mono',consolas,'Courier New',monospace\">Applying muons |eta| &lt; 2.4\n",
       "</pre>\n"
      ],
      "text/plain": [
       "Applying muons |eta| < 2.4\n"
      ]
     },
     "metadata": {},
     "output_type": "display_data"
    },
    {
     "data": {
      "text/html": [
       "<pre style=\"white-space:pre;overflow-x:auto;line-height:normal;font-family:Menlo,'DejaVu Sans Mono',consolas,'Courier New',monospace\">Applying photons pT &gt; 20 GeV\n",
       "</pre>\n"
      ],
      "text/plain": [
       "Applying photons pT > 20 GeV\n"
      ]
     },
     "metadata": {},
     "output_type": "display_data"
    },
    {
     "data": {
      "text/html": [
       "<pre style=\"white-space:pre;overflow-x:auto;line-height:normal;font-family:Menlo,'DejaVu Sans Mono',consolas,'Courier New',monospace\">Applying photons |eta| &lt; 2.5\n",
       "</pre>\n"
      ],
      "text/plain": [
       "Applying photons |eta| < 2.5\n"
      ]
     },
     "metadata": {},
     "output_type": "display_data"
    },
    {
     "data": {
      "text/html": [
       "<pre style=\"white-space:pre;overflow-x:auto;line-height:normal;font-family:Menlo,'DejaVu Sans Mono',consolas,'Courier New',monospace\">Applying photons Custom Cutbased\n",
       "</pre>\n"
      ],
      "text/plain": [
       "Applying photons Custom Cutbased\n"
      ]
     },
     "metadata": {},
     "output_type": "display_data"
    },
    {
     "data": {
      "text/html": [
       "<pre style=\"white-space:pre;overflow-x:auto;line-height:normal;font-family:Menlo,'DejaVu Sans Mono',consolas,'Courier New',monospace\">Applying photons pixelSeed\n",
       "</pre>\n"
      ],
      "text/plain": [
       "Applying photons pixelSeed\n"
      ]
     },
     "metadata": {},
     "output_type": "display_data"
    },
    {
     "data": {
      "text/html": [
       "<pre style=\"white-space:pre;overflow-x:auto;line-height:normal;font-family:Menlo,'DejaVu Sans Mono',consolas,'Courier New',monospace\">Applying photons Photon DR Veto 0p025\n",
       "</pre>\n"
      ],
      "text/plain": [
       "Applying photons Photon DR Veto 0p025\n"
      ]
     },
     "metadata": {},
     "output_type": "display_data"
    },
    {
     "data": {
      "text/html": [
       "<pre style=\"white-space:pre;overflow-x:auto;line-height:normal;font-family:Menlo,'DejaVu Sans Mono',consolas,'Courier New',monospace\">Applying dsaMuons pT &gt; 10 GeV\n",
       "</pre>\n"
      ],
      "text/plain": [
       "Applying dsaMuons pT > 10 GeV\n"
      ]
     },
     "metadata": {},
     "output_type": "display_data"
    },
    {
     "data": {
      "text/html": [
       "<pre style=\"white-space:pre;overflow-x:auto;line-height:normal;font-family:Menlo,'DejaVu Sans Mono',consolas,'Courier New',monospace\">Applying dsaMuons |eta| &lt; 2.4\n",
       "</pre>\n"
      ],
      "text/plain": [
       "Applying dsaMuons |eta| < 2.4\n"
      ]
     },
     "metadata": {},
     "output_type": "display_data"
    },
    {
     "data": {
      "text/html": [
       "<pre style=\"white-space:pre;overflow-x:auto;line-height:normal;font-family:Menlo,'DejaVu Sans Mono',consolas,'Courier New',monospace\">Applying dsaMuons displaced ID\n",
       "</pre>\n"
      ],
      "text/plain": [
       "Applying dsaMuons displaced ID\n"
      ]
     },
     "metadata": {},
     "output_type": "display_data"
    },
    {
     "data": {
      "text/html": [
       "<pre style=\"white-space:pre;overflow-x:auto;line-height:normal;font-family:Menlo,'DejaVu Sans Mono',consolas,'Courier New',monospace\">Applying genAs_toMu close dsaMu\n",
       "</pre>\n"
      ],
      "text/plain": [
       "Applying genAs_toMu close dsaMu\n"
      ]
     },
     "metadata": {},
     "output_type": "display_data"
    },
    {
     "data": {
      "text/html": [
       "<pre style=\"white-space:pre;overflow-x:auto;line-height:normal;font-family:Menlo,'DejaVu Sans Mono',consolas,'Courier New',monospace\">Applying cut: PV filter\n",
       "</pre>\n"
      ],
      "text/plain": [
       "Applying cut: PV filter\n"
      ]
     },
     "metadata": {},
     "output_type": "display_data"
    },
    {
     "data": {
      "text/html": [
       "<pre style=\"white-space:pre;overflow-x:auto;line-height:normal;font-family:Menlo,'DejaVu Sans Mono',consolas,'Courier New',monospace\">Applying cut: pass triggers\n",
       "</pre>\n"
      ],
      "text/plain": [
       "Applying cut: pass triggers\n"
      ]
     },
     "metadata": {},
     "output_type": "display_data"
    },
    {
     "data": {
      "text/html": [
       "<pre style=\"white-space:pre;overflow-x:auto;line-height:normal;font-family:Menlo,'DejaVu Sans Mono',consolas,'Courier New',monospace\">Warning: a histogram with the name genAs_toMu_pt_MuMudR_lowRange could not be filled and will be skipped\n",
       "</pre>\n"
      ],
      "text/plain": [
       "Warning: a histogram with the name genAs_toMu_pt_MuMudR_lowRange could not be filled and will be skipped\n"
      ]
     },
     "metadata": {},
     "output_type": "display_data"
    },
    {
     "data": {
      "text/html": [
       "<pre style=\"white-space:pre;overflow-x:auto;line-height:normal;font-family:Menlo,'DejaVu Sans Mono',consolas,'Courier New',monospace\">Warning: a histogram with the name genAs_toMu_pt_MuMudR_XLowRange could not be filled and will be skipped\n",
       "</pre>\n"
      ],
      "text/plain": [
       "Warning: a histogram with the name genAs_toMu_pt_MuMudR_XLowRange could not be filled and will be skipped\n"
      ]
     },
     "metadata": {},
     "output_type": "display_data"
    },
    {
     "data": {
      "text/html": [
       "<pre style=\"white-space:pre;overflow-x:auto;line-height:normal;font-family:Menlo,'DejaVu Sans Mono',consolas,'Courier New',monospace\">Warning: a histogram with the name genAs_toMu_pt_MuMudR_XXLowRange could not be filled and will be skipped\n",
       "</pre>\n"
      ],
      "text/plain": [
       "Warning: a histogram with the name genAs_toMu_pt_MuMudR_XXLowRange could not be filled and will be skipped\n"
      ]
     },
     "metadata": {},
     "output_type": "display_data"
    },
    {
     "data": {
      "text/html": [
       "<pre style=\"white-space:pre;overflow-x:auto;line-height:normal;font-family:Menlo,'DejaVu Sans Mono',consolas,'Courier New',monospace\">Warning: a histogram with the name genAs_toMu_lxy_MuMudR could not be filled and will be skipped\n",
       "</pre>\n"
      ],
      "text/plain": [
       "Warning: a histogram with the name genAs_toMu_lxy_MuMudR could not be filled and will be skipped\n"
      ]
     },
     "metadata": {},
     "output_type": "display_data"
    },
    {
     "data": {
      "text/html": [
       "<pre style=\"white-space:pre;overflow-x:auto;line-height:normal;font-family:Menlo,'DejaVu Sans Mono',consolas,'Courier New',monospace\">Warning: a histogram with the name genAs_toMu_lxy_MuMudR_XLowRange could not be filled and will be skipped\n",
       "</pre>\n"
      ],
      "text/plain": [
       "Warning: a histogram with the name genAs_toMu_lxy_MuMudR_XLowRange could not be filled and will be skipped\n"
      ]
     },
     "metadata": {},
     "output_type": "display_data"
    },
    {
     "data": {
      "text/html": [
       "<pre style=\"white-space:pre;overflow-x:auto;line-height:normal;font-family:Menlo,'DejaVu Sans Mono',consolas,'Courier New',monospace\">Warning: a histogram with the name genAs_toMu_lxy_MuMudR_XXLowRange could not be filled and will be skipped\n",
       "</pre>\n"
      ],
      "text/plain": [
       "Warning: a histogram with the name genAs_toMu_lxy_MuMudR_XXLowRange could not be filled and will be skipped\n"
      ]
     },
     "metadata": {},
     "output_type": "display_data"
    },
    {
     "data": {
      "text/html": [
       "<pre style=\"white-space:pre;overflow-x:auto;line-height:normal;font-family:Menlo,'DejaVu Sans Mono',consolas,'Courier New',monospace\">Warning: a histogram with the name genAs_toMu_pt_MuMudR_highRange could not be filled and will be skipped\n",
       "</pre>\n"
      ],
      "text/plain": [
       "Warning: a histogram with the name genAs_toMu_pt_MuMudR_highRange could not be filled and will be skipped\n"
      ]
     },
     "metadata": {},
     "output_type": "display_data"
    },
    {
     "data": {
      "text/html": [
       "<pre style=\"white-space:pre;overflow-x:auto;line-height:normal;font-family:Menlo,'DejaVu Sans Mono',consolas,'Courier New',monospace\">Warning: a histogram with the name genAs_toMu_pt_highRange_MuMudR_lowRange could not be filled and will be skipped\n",
       "</pre>\n"
      ],
      "text/plain": [
       "Warning: a histogram with the name genAs_toMu_pt_highRange_MuMudR_lowRange could not be filled and will be skipped\n"
      ]
     },
     "metadata": {},
     "output_type": "display_data"
    },
    {
     "data": {
      "text/html": [
       "<pre style=\"white-space:pre;overflow-x:auto;line-height:normal;font-family:Menlo,'DejaVu Sans Mono',consolas,'Courier New',monospace\">Applying genMus status 1\n",
       "</pre>\n"
      ],
      "text/plain": [
       "Applying genMus status 1\n"
      ]
     },
     "metadata": {},
     "output_type": "display_data"
    },
    {
     "data": {
      "text/html": [
       "<pre style=\"white-space:pre;overflow-x:auto;line-height:normal;font-family:Menlo,'DejaVu Sans Mono',consolas,'Courier New',monospace\">Applying genEs status 1\n",
       "</pre>\n"
      ],
      "text/plain": [
       "Applying genEs status 1\n"
      ]
     },
     "metadata": {},
     "output_type": "display_data"
    },
    {
     "data": {
      "text/html": [
       "<pre style=\"white-space:pre;overflow-x:auto;line-height:normal;font-family:Menlo,'DejaVu Sans Mono',consolas,'Courier New',monospace\">Applying electrons pT &gt; 10 GeV\n",
       "</pre>\n"
      ],
      "text/plain": [
       "Applying electrons pT > 10 GeV\n"
      ]
     },
     "metadata": {},
     "output_type": "display_data"
    },
    {
     "data": {
      "text/html": [
       "<pre style=\"white-space:pre;overflow-x:auto;line-height:normal;font-family:Menlo,'DejaVu Sans Mono',consolas,'Courier New',monospace\">Applying electrons |eta| &lt; 2.4\n",
       "</pre>\n"
      ],
      "text/plain": [
       "Applying electrons |eta| < 2.4\n"
      ]
     },
     "metadata": {},
     "output_type": "display_data"
    },
    {
     "data": {
      "text/html": [
       "<pre style=\"white-space:pre;overflow-x:auto;line-height:normal;font-family:Menlo,'DejaVu Sans Mono',consolas,'Courier New',monospace\">Applying electrons MVANonIsoWPL\n",
       "</pre>\n"
      ],
      "text/plain": [
       "Applying electrons MVANonIsoWPL\n"
      ]
     },
     "metadata": {},
     "output_type": "display_data"
    },
    {
     "data": {
      "text/html": [
       "<pre style=\"white-space:pre;overflow-x:auto;line-height:normal;font-family:Menlo,'DejaVu Sans Mono',consolas,'Courier New',monospace\">Applying muons looseID\n",
       "</pre>\n"
      ],
      "text/plain": [
       "Applying muons looseID\n"
      ]
     },
     "metadata": {},
     "output_type": "display_data"
    },
    {
     "data": {
      "text/html": [
       "<pre style=\"white-space:pre;overflow-x:auto;line-height:normal;font-family:Menlo,'DejaVu Sans Mono',consolas,'Courier New',monospace\">Applying muons pT &gt; 5 GeV\n",
       "</pre>\n"
      ],
      "text/plain": [
       "Applying muons pT > 5 GeV\n"
      ]
     },
     "metadata": {},
     "output_type": "display_data"
    },
    {
     "data": {
      "text/html": [
       "<pre style=\"white-space:pre;overflow-x:auto;line-height:normal;font-family:Menlo,'DejaVu Sans Mono',consolas,'Courier New',monospace\">Applying muons |eta| &lt; 2.4\n",
       "</pre>\n"
      ],
      "text/plain": [
       "Applying muons |eta| < 2.4\n"
      ]
     },
     "metadata": {},
     "output_type": "display_data"
    },
    {
     "data": {
      "text/html": [
       "<pre style=\"white-space:pre;overflow-x:auto;line-height:normal;font-family:Menlo,'DejaVu Sans Mono',consolas,'Courier New',monospace\">Applying photons pT &gt; 20 GeV\n",
       "</pre>\n"
      ],
      "text/plain": [
       "Applying photons pT > 20 GeV\n"
      ]
     },
     "metadata": {},
     "output_type": "display_data"
    },
    {
     "data": {
      "text/html": [
       "<pre style=\"white-space:pre;overflow-x:auto;line-height:normal;font-family:Menlo,'DejaVu Sans Mono',consolas,'Courier New',monospace\">Applying photons |eta| &lt; 2.5\n",
       "</pre>\n"
      ],
      "text/plain": [
       "Applying photons |eta| < 2.5\n"
      ]
     },
     "metadata": {},
     "output_type": "display_data"
    },
    {
     "data": {
      "text/html": [
       "<pre style=\"white-space:pre;overflow-x:auto;line-height:normal;font-family:Menlo,'DejaVu Sans Mono',consolas,'Courier New',monospace\">Applying photons Custom Cutbased\n",
       "</pre>\n"
      ],
      "text/plain": [
       "Applying photons Custom Cutbased\n"
      ]
     },
     "metadata": {},
     "output_type": "display_data"
    },
    {
     "data": {
      "text/html": [
       "<pre style=\"white-space:pre;overflow-x:auto;line-height:normal;font-family:Menlo,'DejaVu Sans Mono',consolas,'Courier New',monospace\">Applying photons pixelSeed\n",
       "</pre>\n"
      ],
      "text/plain": [
       "Applying photons pixelSeed\n"
      ]
     },
     "metadata": {},
     "output_type": "display_data"
    },
    {
     "data": {
      "text/html": [
       "<pre style=\"white-space:pre;overflow-x:auto;line-height:normal;font-family:Menlo,'DejaVu Sans Mono',consolas,'Courier New',monospace\">Applying photons Photon DR Veto 0p025\n",
       "</pre>\n"
      ],
      "text/plain": [
       "Applying photons Photon DR Veto 0p025\n"
      ]
     },
     "metadata": {},
     "output_type": "display_data"
    },
    {
     "data": {
      "text/html": [
       "<pre style=\"white-space:pre;overflow-x:auto;line-height:normal;font-family:Menlo,'DejaVu Sans Mono',consolas,'Courier New',monospace\">Applying dsaMuons pT &gt; 10 GeV\n",
       "</pre>\n"
      ],
      "text/plain": [
       "Applying dsaMuons pT > 10 GeV\n"
      ]
     },
     "metadata": {},
     "output_type": "display_data"
    },
    {
     "data": {
      "text/html": [
       "<pre style=\"white-space:pre;overflow-x:auto;line-height:normal;font-family:Menlo,'DejaVu Sans Mono',consolas,'Courier New',monospace\">Applying dsaMuons |eta| &lt; 2.4\n",
       "</pre>\n"
      ],
      "text/plain": [
       "Applying dsaMuons |eta| < 2.4\n"
      ]
     },
     "metadata": {},
     "output_type": "display_data"
    },
    {
     "data": {
      "text/html": [
       "<pre style=\"white-space:pre;overflow-x:auto;line-height:normal;font-family:Menlo,'DejaVu Sans Mono',consolas,'Courier New',monospace\">Applying dsaMuons displaced ID\n",
       "</pre>\n"
      ],
      "text/plain": [
       "Applying dsaMuons displaced ID\n"
      ]
     },
     "metadata": {},
     "output_type": "display_data"
    },
    {
     "data": {
      "text/html": [
       "<pre style=\"white-space:pre;overflow-x:auto;line-height:normal;font-family:Menlo,'DejaVu Sans Mono',consolas,'Courier New',monospace\">Applying genAs_toMu &gt;= 2 close dsaMu\n",
       "</pre>\n"
      ],
      "text/plain": [
       "Applying genAs_toMu >= 2 close dsaMu\n"
      ]
     },
     "metadata": {},
     "output_type": "display_data"
    },
    {
     "data": {
      "text/html": [
       "<pre style=\"white-space:pre;overflow-x:auto;line-height:normal;font-family:Menlo,'DejaVu Sans Mono',consolas,'Courier New',monospace\">Applying cut: PV filter\n",
       "</pre>\n"
      ],
      "text/plain": [
       "Applying cut: PV filter\n"
      ]
     },
     "metadata": {},
     "output_type": "display_data"
    },
    {
     "data": {
      "text/html": [
       "<pre style=\"white-space:pre;overflow-x:auto;line-height:normal;font-family:Menlo,'DejaVu Sans Mono',consolas,'Courier New',monospace\">Applying cut: pass triggers\n",
       "</pre>\n"
      ],
      "text/plain": [
       "Applying cut: pass triggers\n"
      ]
     },
     "metadata": {},
     "output_type": "display_data"
    },
    {
     "data": {
      "text/html": [
       "<pre style=\"white-space:pre;overflow-x:auto;line-height:normal;font-family:Menlo,'DejaVu Sans Mono',consolas,'Courier New',monospace\">Warning: a histogram with the name genAs_toMu_pt_MuMudR_lowRange could not be filled and will be skipped\n",
       "</pre>\n"
      ],
      "text/plain": [
       "Warning: a histogram with the name genAs_toMu_pt_MuMudR_lowRange could not be filled and will be skipped\n"
      ]
     },
     "metadata": {},
     "output_type": "display_data"
    },
    {
     "data": {
      "text/html": [
       "<pre style=\"white-space:pre;overflow-x:auto;line-height:normal;font-family:Menlo,'DejaVu Sans Mono',consolas,'Courier New',monospace\">Warning: a histogram with the name genAs_toMu_pt_MuMudR_XLowRange could not be filled and will be skipped\n",
       "</pre>\n"
      ],
      "text/plain": [
       "Warning: a histogram with the name genAs_toMu_pt_MuMudR_XLowRange could not be filled and will be skipped\n"
      ]
     },
     "metadata": {},
     "output_type": "display_data"
    },
    {
     "data": {
      "text/html": [
       "<pre style=\"white-space:pre;overflow-x:auto;line-height:normal;font-family:Menlo,'DejaVu Sans Mono',consolas,'Courier New',monospace\">Warning: a histogram with the name genAs_toMu_pt_MuMudR_XXLowRange could not be filled and will be skipped\n",
       "</pre>\n"
      ],
      "text/plain": [
       "Warning: a histogram with the name genAs_toMu_pt_MuMudR_XXLowRange could not be filled and will be skipped\n"
      ]
     },
     "metadata": {},
     "output_type": "display_data"
    },
    {
     "data": {
      "text/html": [
       "<pre style=\"white-space:pre;overflow-x:auto;line-height:normal;font-family:Menlo,'DejaVu Sans Mono',consolas,'Courier New',monospace\">Warning: a histogram with the name genAs_toMu_lxy_MuMudR could not be filled and will be skipped\n",
       "</pre>\n"
      ],
      "text/plain": [
       "Warning: a histogram with the name genAs_toMu_lxy_MuMudR could not be filled and will be skipped\n"
      ]
     },
     "metadata": {},
     "output_type": "display_data"
    },
    {
     "data": {
      "text/html": [
       "<pre style=\"white-space:pre;overflow-x:auto;line-height:normal;font-family:Menlo,'DejaVu Sans Mono',consolas,'Courier New',monospace\">Warning: a histogram with the name genAs_toMu_lxy_MuMudR_XLowRange could not be filled and will be skipped\n",
       "</pre>\n"
      ],
      "text/plain": [
       "Warning: a histogram with the name genAs_toMu_lxy_MuMudR_XLowRange could not be filled and will be skipped\n"
      ]
     },
     "metadata": {},
     "output_type": "display_data"
    },
    {
     "data": {
      "text/html": [
       "<pre style=\"white-space:pre;overflow-x:auto;line-height:normal;font-family:Menlo,'DejaVu Sans Mono',consolas,'Courier New',monospace\">Warning: a histogram with the name genAs_toMu_lxy_MuMudR_XXLowRange could not be filled and will be skipped\n",
       "</pre>\n"
      ],
      "text/plain": [
       "Warning: a histogram with the name genAs_toMu_lxy_MuMudR_XXLowRange could not be filled and will be skipped\n"
      ]
     },
     "metadata": {},
     "output_type": "display_data"
    },
    {
     "data": {
      "text/html": [
       "<pre style=\"white-space:pre;overflow-x:auto;line-height:normal;font-family:Menlo,'DejaVu Sans Mono',consolas,'Courier New',monospace\">Warning: a histogram with the name genAs_toMu_pt_MuMudR_highRange could not be filled and will be skipped\n",
       "</pre>\n"
      ],
      "text/plain": [
       "Warning: a histogram with the name genAs_toMu_pt_MuMudR_highRange could not be filled and will be skipped\n"
      ]
     },
     "metadata": {},
     "output_type": "display_data"
    },
    {
     "data": {
      "text/html": [
       "<pre style=\"white-space:pre;overflow-x:auto;line-height:normal;font-family:Menlo,'DejaVu Sans Mono',consolas,'Courier New',monospace\">Warning: a histogram with the name genAs_toMu_pt_highRange_MuMudR_lowRange could not be filled and will be skipped\n",
       "</pre>\n"
      ],
      "text/plain": [
       "Warning: a histogram with the name genAs_toMu_pt_highRange_MuMudR_lowRange could not be filled and will be skipped\n"
      ]
     },
     "metadata": {},
     "output_type": "display_data"
    },
    {
     "data": {
      "text/html": [
       "<pre style=\"white-space:pre;overflow-x:auto;line-height:normal;font-family:Menlo,'DejaVu Sans Mono',consolas,'Courier New',monospace\">Applying genMus status 1\n",
       "</pre>\n"
      ],
      "text/plain": [
       "Applying genMus status 1\n"
      ]
     },
     "metadata": {},
     "output_type": "display_data"
    },
    {
     "data": {
      "text/html": [
       "<pre style=\"white-space:pre;overflow-x:auto;line-height:normal;font-family:Menlo,'DejaVu Sans Mono',consolas,'Courier New',monospace\">Applying genEs status 1\n",
       "</pre>\n"
      ],
      "text/plain": [
       "Applying genEs status 1\n"
      ]
     },
     "metadata": {},
     "output_type": "display_data"
    },
    {
     "data": {
      "text/html": [
       "<pre style=\"white-space:pre;overflow-x:auto;line-height:normal;font-family:Menlo,'DejaVu Sans Mono',consolas,'Courier New',monospace\">Applying genAs_toMu close mu\n",
       "</pre>\n"
      ],
      "text/plain": [
       "Applying genAs_toMu close mu\n"
      ]
     },
     "metadata": {},
     "output_type": "display_data"
    },
    {
     "data": {
      "text/html": [
       "<pre style=\"white-space:pre;overflow-x:auto;line-height:normal;font-family:Menlo,'DejaVu Sans Mono',consolas,'Courier New',monospace\">Applying cut: PV filter\n",
       "</pre>\n"
      ],
      "text/plain": [
       "Applying cut: PV filter\n"
      ]
     },
     "metadata": {},
     "output_type": "display_data"
    },
    {
     "data": {
      "text/html": [
       "<pre style=\"white-space:pre;overflow-x:auto;line-height:normal;font-family:Menlo,'DejaVu Sans Mono',consolas,'Courier New',monospace\">Warning: a histogram with the name genAs_toMu_pt_MuMudR_lowRange could not be filled and will be skipped\n",
       "</pre>\n"
      ],
      "text/plain": [
       "Warning: a histogram with the name genAs_toMu_pt_MuMudR_lowRange could not be filled and will be skipped\n"
      ]
     },
     "metadata": {},
     "output_type": "display_data"
    },
    {
     "data": {
      "text/html": [
       "<pre style=\"white-space:pre;overflow-x:auto;line-height:normal;font-family:Menlo,'DejaVu Sans Mono',consolas,'Courier New',monospace\">Warning: a histogram with the name genAs_toMu_pt_MuMudR_XLowRange could not be filled and will be skipped\n",
       "</pre>\n"
      ],
      "text/plain": [
       "Warning: a histogram with the name genAs_toMu_pt_MuMudR_XLowRange could not be filled and will be skipped\n"
      ]
     },
     "metadata": {},
     "output_type": "display_data"
    },
    {
     "data": {
      "text/html": [
       "<pre style=\"white-space:pre;overflow-x:auto;line-height:normal;font-family:Menlo,'DejaVu Sans Mono',consolas,'Courier New',monospace\">Warning: a histogram with the name genAs_toMu_pt_MuMudR_XXLowRange could not be filled and will be skipped\n",
       "</pre>\n"
      ],
      "text/plain": [
       "Warning: a histogram with the name genAs_toMu_pt_MuMudR_XXLowRange could not be filled and will be skipped\n"
      ]
     },
     "metadata": {},
     "output_type": "display_data"
    },
    {
     "data": {
      "text/html": [
       "<pre style=\"white-space:pre;overflow-x:auto;line-height:normal;font-family:Menlo,'DejaVu Sans Mono',consolas,'Courier New',monospace\">Warning: a histogram with the name genAs_toMu_lxy_MuMudR could not be filled and will be skipped\n",
       "</pre>\n"
      ],
      "text/plain": [
       "Warning: a histogram with the name genAs_toMu_lxy_MuMudR could not be filled and will be skipped\n"
      ]
     },
     "metadata": {},
     "output_type": "display_data"
    },
    {
     "data": {
      "text/html": [
       "<pre style=\"white-space:pre;overflow-x:auto;line-height:normal;font-family:Menlo,'DejaVu Sans Mono',consolas,'Courier New',monospace\">Warning: a histogram with the name genAs_toMu_lxy_MuMudR_XLowRange could not be filled and will be skipped\n",
       "</pre>\n"
      ],
      "text/plain": [
       "Warning: a histogram with the name genAs_toMu_lxy_MuMudR_XLowRange could not be filled and will be skipped\n"
      ]
     },
     "metadata": {},
     "output_type": "display_data"
    },
    {
     "data": {
      "text/html": [
       "<pre style=\"white-space:pre;overflow-x:auto;line-height:normal;font-family:Menlo,'DejaVu Sans Mono',consolas,'Courier New',monospace\">Warning: a histogram with the name genAs_toMu_lxy_MuMudR_XXLowRange could not be filled and will be skipped\n",
       "</pre>\n"
      ],
      "text/plain": [
       "Warning: a histogram with the name genAs_toMu_lxy_MuMudR_XXLowRange could not be filled and will be skipped\n"
      ]
     },
     "metadata": {},
     "output_type": "display_data"
    },
    {
     "data": {
      "text/html": [
       "<pre style=\"white-space:pre;overflow-x:auto;line-height:normal;font-family:Menlo,'DejaVu Sans Mono',consolas,'Courier New',monospace\">Warning: a histogram with the name genAs_toMu_pt_MuMudR_highRange could not be filled and will be skipped\n",
       "</pre>\n"
      ],
      "text/plain": [
       "Warning: a histogram with the name genAs_toMu_pt_MuMudR_highRange could not be filled and will be skipped\n"
      ]
     },
     "metadata": {},
     "output_type": "display_data"
    },
    {
     "data": {
      "text/html": [
       "<pre style=\"white-space:pre;overflow-x:auto;line-height:normal;font-family:Menlo,'DejaVu Sans Mono',consolas,'Courier New',monospace\">Warning: a histogram with the name genAs_toMu_pt_highRange_MuMudR_lowRange could not be filled and will be skipped\n",
       "</pre>\n"
      ],
      "text/plain": [
       "Warning: a histogram with the name genAs_toMu_pt_highRange_MuMudR_lowRange could not be filled and will be skipped\n"
      ]
     },
     "metadata": {},
     "output_type": "display_data"
    },
    {
     "data": {
      "text/html": [
       "<pre style=\"white-space:pre;overflow-x:auto;line-height:normal;font-family:Menlo,'DejaVu Sans Mono',consolas,'Courier New',monospace\">Applying genMus status 1\n",
       "</pre>\n"
      ],
      "text/plain": [
       "Applying genMus status 1\n"
      ]
     },
     "metadata": {},
     "output_type": "display_data"
    },
    {
     "data": {
      "text/html": [
       "<pre style=\"white-space:pre;overflow-x:auto;line-height:normal;font-family:Menlo,'DejaVu Sans Mono',consolas,'Courier New',monospace\">Applying genEs status 1\n",
       "</pre>\n"
      ],
      "text/plain": [
       "Applying genEs status 1\n"
      ]
     },
     "metadata": {},
     "output_type": "display_data"
    },
    {
     "data": {
      "text/html": [
       "<pre style=\"white-space:pre;overflow-x:auto;line-height:normal;font-family:Menlo,'DejaVu Sans Mono',consolas,'Courier New',monospace\">Applying genAs_toMu &gt;= 2 close mu\n",
       "</pre>\n"
      ],
      "text/plain": [
       "Applying genAs_toMu >= 2 close mu\n"
      ]
     },
     "metadata": {},
     "output_type": "display_data"
    },
    {
     "data": {
      "text/html": [
       "<pre style=\"white-space:pre;overflow-x:auto;line-height:normal;font-family:Menlo,'DejaVu Sans Mono',consolas,'Courier New',monospace\">Applying cut: PV filter\n",
       "</pre>\n"
      ],
      "text/plain": [
       "Applying cut: PV filter\n"
      ]
     },
     "metadata": {},
     "output_type": "display_data"
    },
    {
     "data": {
      "text/html": [
       "<pre style=\"white-space:pre;overflow-x:auto;line-height:normal;font-family:Menlo,'DejaVu Sans Mono',consolas,'Courier New',monospace\">Warning: a histogram with the name genAs_toMu_pt_MuMudR_lowRange could not be filled and will be skipped\n",
       "</pre>\n"
      ],
      "text/plain": [
       "Warning: a histogram with the name genAs_toMu_pt_MuMudR_lowRange could not be filled and will be skipped\n"
      ]
     },
     "metadata": {},
     "output_type": "display_data"
    },
    {
     "data": {
      "text/html": [
       "<pre style=\"white-space:pre;overflow-x:auto;line-height:normal;font-family:Menlo,'DejaVu Sans Mono',consolas,'Courier New',monospace\">Warning: a histogram with the name genAs_toMu_pt_MuMudR_XLowRange could not be filled and will be skipped\n",
       "</pre>\n"
      ],
      "text/plain": [
       "Warning: a histogram with the name genAs_toMu_pt_MuMudR_XLowRange could not be filled and will be skipped\n"
      ]
     },
     "metadata": {},
     "output_type": "display_data"
    },
    {
     "data": {
      "text/html": [
       "<pre style=\"white-space:pre;overflow-x:auto;line-height:normal;font-family:Menlo,'DejaVu Sans Mono',consolas,'Courier New',monospace\">Warning: a histogram with the name genAs_toMu_pt_MuMudR_XXLowRange could not be filled and will be skipped\n",
       "</pre>\n"
      ],
      "text/plain": [
       "Warning: a histogram with the name genAs_toMu_pt_MuMudR_XXLowRange could not be filled and will be skipped\n"
      ]
     },
     "metadata": {},
     "output_type": "display_data"
    },
    {
     "data": {
      "text/html": [
       "<pre style=\"white-space:pre;overflow-x:auto;line-height:normal;font-family:Menlo,'DejaVu Sans Mono',consolas,'Courier New',monospace\">Warning: a histogram with the name genAs_toMu_lxy_MuMudR could not be filled and will be skipped\n",
       "</pre>\n"
      ],
      "text/plain": [
       "Warning: a histogram with the name genAs_toMu_lxy_MuMudR could not be filled and will be skipped\n"
      ]
     },
     "metadata": {},
     "output_type": "display_data"
    },
    {
     "data": {
      "text/html": [
       "<pre style=\"white-space:pre;overflow-x:auto;line-height:normal;font-family:Menlo,'DejaVu Sans Mono',consolas,'Courier New',monospace\">Warning: a histogram with the name genAs_toMu_lxy_MuMudR_XLowRange could not be filled and will be skipped\n",
       "</pre>\n"
      ],
      "text/plain": [
       "Warning: a histogram with the name genAs_toMu_lxy_MuMudR_XLowRange could not be filled and will be skipped\n"
      ]
     },
     "metadata": {},
     "output_type": "display_data"
    },
    {
     "data": {
      "text/html": [
       "<pre style=\"white-space:pre;overflow-x:auto;line-height:normal;font-family:Menlo,'DejaVu Sans Mono',consolas,'Courier New',monospace\">Warning: a histogram with the name genAs_toMu_lxy_MuMudR_XXLowRange could not be filled and will be skipped\n",
       "</pre>\n"
      ],
      "text/plain": [
       "Warning: a histogram with the name genAs_toMu_lxy_MuMudR_XXLowRange could not be filled and will be skipped\n"
      ]
     },
     "metadata": {},
     "output_type": "display_data"
    },
    {
     "data": {
      "text/html": [
       "<pre style=\"white-space:pre;overflow-x:auto;line-height:normal;font-family:Menlo,'DejaVu Sans Mono',consolas,'Courier New',monospace\">Warning: a histogram with the name genAs_toMu_pt_MuMudR_highRange could not be filled and will be skipped\n",
       "</pre>\n"
      ],
      "text/plain": [
       "Warning: a histogram with the name genAs_toMu_pt_MuMudR_highRange could not be filled and will be skipped\n"
      ]
     },
     "metadata": {},
     "output_type": "display_data"
    },
    {
     "data": {
      "text/html": [
       "<pre style=\"white-space:pre;overflow-x:auto;line-height:normal;font-family:Menlo,'DejaVu Sans Mono',consolas,'Courier New',monospace\">Warning: a histogram with the name genAs_toMu_pt_highRange_MuMudR_lowRange could not be filled and will be skipped\n",
       "</pre>\n"
      ],
      "text/plain": [
       "Warning: a histogram with the name genAs_toMu_pt_highRange_MuMudR_lowRange could not be filled and will be skipped\n"
      ]
     },
     "metadata": {},
     "output_type": "display_data"
    },
    {
     "data": {
      "text/html": [
       "<pre style=\"white-space:pre;overflow-x:auto;line-height:normal;font-family:Menlo,'DejaVu Sans Mono',consolas,'Courier New',monospace\">Applying genMus status 1\n",
       "</pre>\n"
      ],
      "text/plain": [
       "Applying genMus status 1\n"
      ]
     },
     "metadata": {},
     "output_type": "display_data"
    },
    {
     "data": {
      "text/html": [
       "<pre style=\"white-space:pre;overflow-x:auto;line-height:normal;font-family:Menlo,'DejaVu Sans Mono',consolas,'Courier New',monospace\">Applying genEs status 1\n",
       "</pre>\n"
      ],
      "text/plain": [
       "Applying genEs status 1\n"
      ]
     },
     "metadata": {},
     "output_type": "display_data"
    },
    {
     "data": {
      "text/html": [
       "<pre style=\"white-space:pre;overflow-x:auto;line-height:normal;font-family:Menlo,'DejaVu Sans Mono',consolas,'Courier New',monospace\">Applying electrons pT &gt; 10 GeV\n",
       "</pre>\n"
      ],
      "text/plain": [
       "Applying electrons pT > 10 GeV\n"
      ]
     },
     "metadata": {},
     "output_type": "display_data"
    },
    {
     "data": {
      "text/html": [
       "<pre style=\"white-space:pre;overflow-x:auto;line-height:normal;font-family:Menlo,'DejaVu Sans Mono',consolas,'Courier New',monospace\">Applying electrons |eta| &lt; 2.4\n",
       "</pre>\n"
      ],
      "text/plain": [
       "Applying electrons |eta| < 2.4\n"
      ]
     },
     "metadata": {},
     "output_type": "display_data"
    },
    {
     "data": {
      "text/html": [
       "<pre style=\"white-space:pre;overflow-x:auto;line-height:normal;font-family:Menlo,'DejaVu Sans Mono',consolas,'Courier New',monospace\">Applying electrons MVANonIsoWPL\n",
       "</pre>\n"
      ],
      "text/plain": [
       "Applying electrons MVANonIsoWPL\n"
      ]
     },
     "metadata": {},
     "output_type": "display_data"
    },
    {
     "data": {
      "text/html": [
       "<pre style=\"white-space:pre;overflow-x:auto;line-height:normal;font-family:Menlo,'DejaVu Sans Mono',consolas,'Courier New',monospace\">Applying muons looseID\n",
       "</pre>\n"
      ],
      "text/plain": [
       "Applying muons looseID\n"
      ]
     },
     "metadata": {},
     "output_type": "display_data"
    },
    {
     "data": {
      "text/html": [
       "<pre style=\"white-space:pre;overflow-x:auto;line-height:normal;font-family:Menlo,'DejaVu Sans Mono',consolas,'Courier New',monospace\">Applying muons pT &gt; 5 GeV\n",
       "</pre>\n"
      ],
      "text/plain": [
       "Applying muons pT > 5 GeV\n"
      ]
     },
     "metadata": {},
     "output_type": "display_data"
    },
    {
     "data": {
      "text/html": [
       "<pre style=\"white-space:pre;overflow-x:auto;line-height:normal;font-family:Menlo,'DejaVu Sans Mono',consolas,'Courier New',monospace\">Applying muons |eta| &lt; 2.4\n",
       "</pre>\n"
      ],
      "text/plain": [
       "Applying muons |eta| < 2.4\n"
      ]
     },
     "metadata": {},
     "output_type": "display_data"
    },
    {
     "data": {
      "text/html": [
       "<pre style=\"white-space:pre;overflow-x:auto;line-height:normal;font-family:Menlo,'DejaVu Sans Mono',consolas,'Courier New',monospace\">Applying photons pT &gt; 20 GeV\n",
       "</pre>\n"
      ],
      "text/plain": [
       "Applying photons pT > 20 GeV\n"
      ]
     },
     "metadata": {},
     "output_type": "display_data"
    },
    {
     "data": {
      "text/html": [
       "<pre style=\"white-space:pre;overflow-x:auto;line-height:normal;font-family:Menlo,'DejaVu Sans Mono',consolas,'Courier New',monospace\">Applying photons |eta| &lt; 2.5\n",
       "</pre>\n"
      ],
      "text/plain": [
       "Applying photons |eta| < 2.5\n"
      ]
     },
     "metadata": {},
     "output_type": "display_data"
    },
    {
     "data": {
      "text/html": [
       "<pre style=\"white-space:pre;overflow-x:auto;line-height:normal;font-family:Menlo,'DejaVu Sans Mono',consolas,'Courier New',monospace\">Applying photons Custom Cutbased\n",
       "</pre>\n"
      ],
      "text/plain": [
       "Applying photons Custom Cutbased\n"
      ]
     },
     "metadata": {},
     "output_type": "display_data"
    },
    {
     "data": {
      "text/html": [
       "<pre style=\"white-space:pre;overflow-x:auto;line-height:normal;font-family:Menlo,'DejaVu Sans Mono',consolas,'Courier New',monospace\">Applying photons pixelSeed\n",
       "</pre>\n"
      ],
      "text/plain": [
       "Applying photons pixelSeed\n"
      ]
     },
     "metadata": {},
     "output_type": "display_data"
    },
    {
     "data": {
      "text/html": [
       "<pre style=\"white-space:pre;overflow-x:auto;line-height:normal;font-family:Menlo,'DejaVu Sans Mono',consolas,'Courier New',monospace\">Applying photons Photon DR Veto 0p025\n",
       "</pre>\n"
      ],
      "text/plain": [
       "Applying photons Photon DR Veto 0p025\n"
      ]
     },
     "metadata": {},
     "output_type": "display_data"
    },
    {
     "data": {
      "text/html": [
       "<pre style=\"white-space:pre;overflow-x:auto;line-height:normal;font-family:Menlo,'DejaVu Sans Mono',consolas,'Courier New',monospace\">Applying dsaMuons pT &gt; 10 GeV\n",
       "</pre>\n"
      ],
      "text/plain": [
       "Applying dsaMuons pT > 10 GeV\n"
      ]
     },
     "metadata": {},
     "output_type": "display_data"
    },
    {
     "data": {
      "text/html": [
       "<pre style=\"white-space:pre;overflow-x:auto;line-height:normal;font-family:Menlo,'DejaVu Sans Mono',consolas,'Courier New',monospace\">Applying dsaMuons |eta| &lt; 2.4\n",
       "</pre>\n"
      ],
      "text/plain": [
       "Applying dsaMuons |eta| < 2.4\n"
      ]
     },
     "metadata": {},
     "output_type": "display_data"
    },
    {
     "data": {
      "text/html": [
       "<pre style=\"white-space:pre;overflow-x:auto;line-height:normal;font-family:Menlo,'DejaVu Sans Mono',consolas,'Courier New',monospace\">Applying dsaMuons displaced ID\n",
       "</pre>\n"
      ],
      "text/plain": [
       "Applying dsaMuons displaced ID\n"
      ]
     },
     "metadata": {},
     "output_type": "display_data"
    },
    {
     "data": {
      "text/html": [
       "<pre style=\"white-space:pre;overflow-x:auto;line-height:normal;font-family:Menlo,'DejaVu Sans Mono',consolas,'Courier New',monospace\">Applying genAs_toMu close mu\n",
       "</pre>\n"
      ],
      "text/plain": [
       "Applying genAs_toMu close mu\n"
      ]
     },
     "metadata": {},
     "output_type": "display_data"
    },
    {
     "data": {
      "text/html": [
       "<pre style=\"white-space:pre;overflow-x:auto;line-height:normal;font-family:Menlo,'DejaVu Sans Mono',consolas,'Courier New',monospace\">Applying cut: PV filter\n",
       "</pre>\n"
      ],
      "text/plain": [
       "Applying cut: PV filter\n"
      ]
     },
     "metadata": {},
     "output_type": "display_data"
    },
    {
     "data": {
      "text/html": [
       "<pre style=\"white-space:pre;overflow-x:auto;line-height:normal;font-family:Menlo,'DejaVu Sans Mono',consolas,'Courier New',monospace\">Applying cut: pass triggers\n",
       "</pre>\n"
      ],
      "text/plain": [
       "Applying cut: pass triggers\n"
      ]
     },
     "metadata": {},
     "output_type": "display_data"
    },
    {
     "data": {
      "text/html": [
       "<pre style=\"white-space:pre;overflow-x:auto;line-height:normal;font-family:Menlo,'DejaVu Sans Mono',consolas,'Courier New',monospace\">Warning: a histogram with the name genAs_toMu_pt_MuMudR_lowRange could not be filled and will be skipped\n",
       "</pre>\n"
      ],
      "text/plain": [
       "Warning: a histogram with the name genAs_toMu_pt_MuMudR_lowRange could not be filled and will be skipped\n"
      ]
     },
     "metadata": {},
     "output_type": "display_data"
    },
    {
     "data": {
      "text/html": [
       "<pre style=\"white-space:pre;overflow-x:auto;line-height:normal;font-family:Menlo,'DejaVu Sans Mono',consolas,'Courier New',monospace\">Warning: a histogram with the name genAs_toMu_pt_MuMudR_XLowRange could not be filled and will be skipped\n",
       "</pre>\n"
      ],
      "text/plain": [
       "Warning: a histogram with the name genAs_toMu_pt_MuMudR_XLowRange could not be filled and will be skipped\n"
      ]
     },
     "metadata": {},
     "output_type": "display_data"
    },
    {
     "data": {
      "text/html": [
       "<pre style=\"white-space:pre;overflow-x:auto;line-height:normal;font-family:Menlo,'DejaVu Sans Mono',consolas,'Courier New',monospace\">Warning: a histogram with the name genAs_toMu_pt_MuMudR_XXLowRange could not be filled and will be skipped\n",
       "</pre>\n"
      ],
      "text/plain": [
       "Warning: a histogram with the name genAs_toMu_pt_MuMudR_XXLowRange could not be filled and will be skipped\n"
      ]
     },
     "metadata": {},
     "output_type": "display_data"
    },
    {
     "data": {
      "text/html": [
       "<pre style=\"white-space:pre;overflow-x:auto;line-height:normal;font-family:Menlo,'DejaVu Sans Mono',consolas,'Courier New',monospace\">Warning: a histogram with the name genAs_toMu_lxy_MuMudR could not be filled and will be skipped\n",
       "</pre>\n"
      ],
      "text/plain": [
       "Warning: a histogram with the name genAs_toMu_lxy_MuMudR could not be filled and will be skipped\n"
      ]
     },
     "metadata": {},
     "output_type": "display_data"
    },
    {
     "data": {
      "text/html": [
       "<pre style=\"white-space:pre;overflow-x:auto;line-height:normal;font-family:Menlo,'DejaVu Sans Mono',consolas,'Courier New',monospace\">Warning: a histogram with the name genAs_toMu_lxy_MuMudR_XLowRange could not be filled and will be skipped\n",
       "</pre>\n"
      ],
      "text/plain": [
       "Warning: a histogram with the name genAs_toMu_lxy_MuMudR_XLowRange could not be filled and will be skipped\n"
      ]
     },
     "metadata": {},
     "output_type": "display_data"
    },
    {
     "data": {
      "text/html": [
       "<pre style=\"white-space:pre;overflow-x:auto;line-height:normal;font-family:Menlo,'DejaVu Sans Mono',consolas,'Courier New',monospace\">Warning: a histogram with the name genAs_toMu_lxy_MuMudR_XXLowRange could not be filled and will be skipped\n",
       "</pre>\n"
      ],
      "text/plain": [
       "Warning: a histogram with the name genAs_toMu_lxy_MuMudR_XXLowRange could not be filled and will be skipped\n"
      ]
     },
     "metadata": {},
     "output_type": "display_data"
    },
    {
     "data": {
      "text/html": [
       "<pre style=\"white-space:pre;overflow-x:auto;line-height:normal;font-family:Menlo,'DejaVu Sans Mono',consolas,'Courier New',monospace\">Warning: a histogram with the name genAs_toMu_pt_MuMudR_highRange could not be filled and will be skipped\n",
       "</pre>\n"
      ],
      "text/plain": [
       "Warning: a histogram with the name genAs_toMu_pt_MuMudR_highRange could not be filled and will be skipped\n"
      ]
     },
     "metadata": {},
     "output_type": "display_data"
    },
    {
     "data": {
      "text/html": [
       "<pre style=\"white-space:pre;overflow-x:auto;line-height:normal;font-family:Menlo,'DejaVu Sans Mono',consolas,'Courier New',monospace\">Warning: a histogram with the name genAs_toMu_pt_highRange_MuMudR_lowRange could not be filled and will be skipped\n",
       "</pre>\n"
      ],
      "text/plain": [
       "Warning: a histogram with the name genAs_toMu_pt_highRange_MuMudR_lowRange could not be filled and will be skipped\n"
      ]
     },
     "metadata": {},
     "output_type": "display_data"
    },
    {
     "data": {
      "text/html": [
       "<pre style=\"white-space:pre;overflow-x:auto;line-height:normal;font-family:Menlo,'DejaVu Sans Mono',consolas,'Courier New',monospace\">Applying genMus status 1\n",
       "</pre>\n"
      ],
      "text/plain": [
       "Applying genMus status 1\n"
      ]
     },
     "metadata": {},
     "output_type": "display_data"
    },
    {
     "data": {
      "text/html": [
       "<pre style=\"white-space:pre;overflow-x:auto;line-height:normal;font-family:Menlo,'DejaVu Sans Mono',consolas,'Courier New',monospace\">Applying genEs status 1\n",
       "</pre>\n"
      ],
      "text/plain": [
       "Applying genEs status 1\n"
      ]
     },
     "metadata": {},
     "output_type": "display_data"
    },
    {
     "data": {
      "text/html": [
       "<pre style=\"white-space:pre;overflow-x:auto;line-height:normal;font-family:Menlo,'DejaVu Sans Mono',consolas,'Courier New',monospace\">Applying electrons pT &gt; 10 GeV\n",
       "</pre>\n"
      ],
      "text/plain": [
       "Applying electrons pT > 10 GeV\n"
      ]
     },
     "metadata": {},
     "output_type": "display_data"
    },
    {
     "data": {
      "text/html": [
       "<pre style=\"white-space:pre;overflow-x:auto;line-height:normal;font-family:Menlo,'DejaVu Sans Mono',consolas,'Courier New',monospace\">Applying electrons |eta| &lt; 2.4\n",
       "</pre>\n"
      ],
      "text/plain": [
       "Applying electrons |eta| < 2.4\n"
      ]
     },
     "metadata": {},
     "output_type": "display_data"
    },
    {
     "data": {
      "text/html": [
       "<pre style=\"white-space:pre;overflow-x:auto;line-height:normal;font-family:Menlo,'DejaVu Sans Mono',consolas,'Courier New',monospace\">Applying electrons MVANonIsoWPL\n",
       "</pre>\n"
      ],
      "text/plain": [
       "Applying electrons MVANonIsoWPL\n"
      ]
     },
     "metadata": {},
     "output_type": "display_data"
    },
    {
     "data": {
      "text/html": [
       "<pre style=\"white-space:pre;overflow-x:auto;line-height:normal;font-family:Menlo,'DejaVu Sans Mono',consolas,'Courier New',monospace\">Applying muons looseID\n",
       "</pre>\n"
      ],
      "text/plain": [
       "Applying muons looseID\n"
      ]
     },
     "metadata": {},
     "output_type": "display_data"
    },
    {
     "data": {
      "text/html": [
       "<pre style=\"white-space:pre;overflow-x:auto;line-height:normal;font-family:Menlo,'DejaVu Sans Mono',consolas,'Courier New',monospace\">Applying muons pT &gt; 5 GeV\n",
       "</pre>\n"
      ],
      "text/plain": [
       "Applying muons pT > 5 GeV\n"
      ]
     },
     "metadata": {},
     "output_type": "display_data"
    },
    {
     "data": {
      "text/html": [
       "<pre style=\"white-space:pre;overflow-x:auto;line-height:normal;font-family:Menlo,'DejaVu Sans Mono',consolas,'Courier New',monospace\">Applying muons |eta| &lt; 2.4\n",
       "</pre>\n"
      ],
      "text/plain": [
       "Applying muons |eta| < 2.4\n"
      ]
     },
     "metadata": {},
     "output_type": "display_data"
    },
    {
     "data": {
      "text/html": [
       "<pre style=\"white-space:pre;overflow-x:auto;line-height:normal;font-family:Menlo,'DejaVu Sans Mono',consolas,'Courier New',monospace\">Applying photons pT &gt; 20 GeV\n",
       "</pre>\n"
      ],
      "text/plain": [
       "Applying photons pT > 20 GeV\n"
      ]
     },
     "metadata": {},
     "output_type": "display_data"
    },
    {
     "data": {
      "text/html": [
       "<pre style=\"white-space:pre;overflow-x:auto;line-height:normal;font-family:Menlo,'DejaVu Sans Mono',consolas,'Courier New',monospace\">Applying photons |eta| &lt; 2.5\n",
       "</pre>\n"
      ],
      "text/plain": [
       "Applying photons |eta| < 2.5\n"
      ]
     },
     "metadata": {},
     "output_type": "display_data"
    },
    {
     "data": {
      "text/html": [
       "<pre style=\"white-space:pre;overflow-x:auto;line-height:normal;font-family:Menlo,'DejaVu Sans Mono',consolas,'Courier New',monospace\">Applying photons Custom Cutbased\n",
       "</pre>\n"
      ],
      "text/plain": [
       "Applying photons Custom Cutbased\n"
      ]
     },
     "metadata": {},
     "output_type": "display_data"
    },
    {
     "data": {
      "text/html": [
       "<pre style=\"white-space:pre;overflow-x:auto;line-height:normal;font-family:Menlo,'DejaVu Sans Mono',consolas,'Courier New',monospace\">Applying photons pixelSeed\n",
       "</pre>\n"
      ],
      "text/plain": [
       "Applying photons pixelSeed\n"
      ]
     },
     "metadata": {},
     "output_type": "display_data"
    },
    {
     "data": {
      "text/html": [
       "<pre style=\"white-space:pre;overflow-x:auto;line-height:normal;font-family:Menlo,'DejaVu Sans Mono',consolas,'Courier New',monospace\">Applying photons Photon DR Veto 0p025\n",
       "</pre>\n"
      ],
      "text/plain": [
       "Applying photons Photon DR Veto 0p025\n"
      ]
     },
     "metadata": {},
     "output_type": "display_data"
    },
    {
     "data": {
      "text/html": [
       "<pre style=\"white-space:pre;overflow-x:auto;line-height:normal;font-family:Menlo,'DejaVu Sans Mono',consolas,'Courier New',monospace\">Applying dsaMuons pT &gt; 10 GeV\n",
       "</pre>\n"
      ],
      "text/plain": [
       "Applying dsaMuons pT > 10 GeV\n"
      ]
     },
     "metadata": {},
     "output_type": "display_data"
    },
    {
     "data": {
      "text/html": [
       "<pre style=\"white-space:pre;overflow-x:auto;line-height:normal;font-family:Menlo,'DejaVu Sans Mono',consolas,'Courier New',monospace\">Applying dsaMuons |eta| &lt; 2.4\n",
       "</pre>\n"
      ],
      "text/plain": [
       "Applying dsaMuons |eta| < 2.4\n"
      ]
     },
     "metadata": {},
     "output_type": "display_data"
    },
    {
     "data": {
      "text/html": [
       "<pre style=\"white-space:pre;overflow-x:auto;line-height:normal;font-family:Menlo,'DejaVu Sans Mono',consolas,'Courier New',monospace\">Applying dsaMuons displaced ID\n",
       "</pre>\n"
      ],
      "text/plain": [
       "Applying dsaMuons displaced ID\n"
      ]
     },
     "metadata": {},
     "output_type": "display_data"
    },
    {
     "data": {
      "text/html": [
       "<pre style=\"white-space:pre;overflow-x:auto;line-height:normal;font-family:Menlo,'DejaVu Sans Mono',consolas,'Courier New',monospace\">Applying genAs_toMu &gt;= 2 close mu\n",
       "</pre>\n"
      ],
      "text/plain": [
       "Applying genAs_toMu >= 2 close mu\n"
      ]
     },
     "metadata": {},
     "output_type": "display_data"
    },
    {
     "data": {
      "text/html": [
       "<pre style=\"white-space:pre;overflow-x:auto;line-height:normal;font-family:Menlo,'DejaVu Sans Mono',consolas,'Courier New',monospace\">Applying cut: PV filter\n",
       "</pre>\n"
      ],
      "text/plain": [
       "Applying cut: PV filter\n"
      ]
     },
     "metadata": {},
     "output_type": "display_data"
    },
    {
     "data": {
      "text/html": [
       "<pre style=\"white-space:pre;overflow-x:auto;line-height:normal;font-family:Menlo,'DejaVu Sans Mono',consolas,'Courier New',monospace\">Applying cut: pass triggers\n",
       "</pre>\n"
      ],
      "text/plain": [
       "Applying cut: pass triggers\n"
      ]
     },
     "metadata": {},
     "output_type": "display_data"
    },
    {
     "data": {
      "text/html": [
       "<pre style=\"white-space:pre;overflow-x:auto;line-height:normal;font-family:Menlo,'DejaVu Sans Mono',consolas,'Courier New',monospace\">Warning: a histogram with the name genAs_toMu_pt_MuMudR_lowRange could not be filled and will be skipped\n",
       "</pre>\n"
      ],
      "text/plain": [
       "Warning: a histogram with the name genAs_toMu_pt_MuMudR_lowRange could not be filled and will be skipped\n"
      ]
     },
     "metadata": {},
     "output_type": "display_data"
    },
    {
     "data": {
      "text/html": [
       "<pre style=\"white-space:pre;overflow-x:auto;line-height:normal;font-family:Menlo,'DejaVu Sans Mono',consolas,'Courier New',monospace\">Warning: a histogram with the name genAs_toMu_pt_MuMudR_XLowRange could not be filled and will be skipped\n",
       "</pre>\n"
      ],
      "text/plain": [
       "Warning: a histogram with the name genAs_toMu_pt_MuMudR_XLowRange could not be filled and will be skipped\n"
      ]
     },
     "metadata": {},
     "output_type": "display_data"
    },
    {
     "data": {
      "text/html": [
       "<pre style=\"white-space:pre;overflow-x:auto;line-height:normal;font-family:Menlo,'DejaVu Sans Mono',consolas,'Courier New',monospace\">Warning: a histogram with the name genAs_toMu_pt_MuMudR_XXLowRange could not be filled and will be skipped\n",
       "</pre>\n"
      ],
      "text/plain": [
       "Warning: a histogram with the name genAs_toMu_pt_MuMudR_XXLowRange could not be filled and will be skipped\n"
      ]
     },
     "metadata": {},
     "output_type": "display_data"
    },
    {
     "data": {
      "text/html": [
       "<pre style=\"white-space:pre;overflow-x:auto;line-height:normal;font-family:Menlo,'DejaVu Sans Mono',consolas,'Courier New',monospace\">Warning: a histogram with the name genAs_toMu_lxy_MuMudR could not be filled and will be skipped\n",
       "</pre>\n"
      ],
      "text/plain": [
       "Warning: a histogram with the name genAs_toMu_lxy_MuMudR could not be filled and will be skipped\n"
      ]
     },
     "metadata": {},
     "output_type": "display_data"
    },
    {
     "data": {
      "text/html": [
       "<pre style=\"white-space:pre;overflow-x:auto;line-height:normal;font-family:Menlo,'DejaVu Sans Mono',consolas,'Courier New',monospace\">Warning: a histogram with the name genAs_toMu_lxy_MuMudR_XLowRange could not be filled and will be skipped\n",
       "</pre>\n"
      ],
      "text/plain": [
       "Warning: a histogram with the name genAs_toMu_lxy_MuMudR_XLowRange could not be filled and will be skipped\n"
      ]
     },
     "metadata": {},
     "output_type": "display_data"
    },
    {
     "data": {
      "text/html": [
       "<pre style=\"white-space:pre;overflow-x:auto;line-height:normal;font-family:Menlo,'DejaVu Sans Mono',consolas,'Courier New',monospace\">Warning: a histogram with the name genAs_toMu_lxy_MuMudR_XXLowRange could not be filled and will be skipped\n",
       "</pre>\n"
      ],
      "text/plain": [
       "Warning: a histogram with the name genAs_toMu_lxy_MuMudR_XXLowRange could not be filled and will be skipped\n"
      ]
     },
     "metadata": {},
     "output_type": "display_data"
    },
    {
     "data": {
      "text/html": [
       "<pre style=\"white-space:pre;overflow-x:auto;line-height:normal;font-family:Menlo,'DejaVu Sans Mono',consolas,'Courier New',monospace\">Warning: a histogram with the name genAs_toMu_pt_MuMudR_highRange could not be filled and will be skipped\n",
       "</pre>\n"
      ],
      "text/plain": [
       "Warning: a histogram with the name genAs_toMu_pt_MuMudR_highRange could not be filled and will be skipped\n"
      ]
     },
     "metadata": {},
     "output_type": "display_data"
    },
    {
     "data": {
      "text/html": [
       "<pre style=\"white-space:pre;overflow-x:auto;line-height:normal;font-family:Menlo,'DejaVu Sans Mono',consolas,'Courier New',monospace\">Warning: a histogram with the name genAs_toMu_pt_highRange_MuMudR_lowRange could not be filled and will be skipped\n",
       "</pre>\n"
      ],
      "text/plain": [
       "Warning: a histogram with the name genAs_toMu_pt_highRange_MuMudR_lowRange could not be filled and will be skipped\n"
      ]
     },
     "metadata": {},
     "output_type": "display_data"
    },
    {
     "data": {
      "text/html": [
       "<pre style=\"white-space:pre;overflow-x:auto;line-height:normal;font-family:Menlo,'DejaVu Sans Mono',consolas,'Courier New',monospace\">Applying genMus status 1\n",
       "</pre>\n"
      ],
      "text/plain": [
       "Applying genMus status 1\n"
      ]
     },
     "metadata": {},
     "output_type": "display_data"
    },
    {
     "data": {
      "text/html": [
       "<pre style=\"white-space:pre;overflow-x:auto;line-height:normal;font-family:Menlo,'DejaVu Sans Mono',consolas,'Courier New',monospace\">Applying genEs status 1\n",
       "</pre>\n"
      ],
      "text/plain": [
       "Applying genEs status 1\n"
      ]
     },
     "metadata": {},
     "output_type": "display_data"
    },
    {
     "data": {
      "text/html": [
       "<pre style=\"white-space:pre;overflow-x:auto;line-height:normal;font-family:Menlo,'DejaVu Sans Mono',consolas,'Courier New',monospace\">Applying cut: PV filter\n",
       "</pre>\n"
      ],
      "text/plain": [
       "Applying cut: PV filter\n"
      ]
     },
     "metadata": {},
     "output_type": "display_data"
    },
    {
     "data": {
      "text/html": [
       "<pre style=\"white-space:pre;overflow-x:auto;line-height:normal;font-family:Menlo,'DejaVu Sans Mono',consolas,'Courier New',monospace\">Applying genMus status 1\n",
       "</pre>\n"
      ],
      "text/plain": [
       "Applying genMus status 1\n"
      ]
     },
     "metadata": {},
     "output_type": "display_data"
    },
    {
     "data": {
      "text/html": [
       "<pre style=\"white-space:pre;overflow-x:auto;line-height:normal;font-family:Menlo,'DejaVu Sans Mono',consolas,'Courier New',monospace\">Applying genEs status 1\n",
       "</pre>\n"
      ],
      "text/plain": [
       "Applying genEs status 1\n"
      ]
     },
     "metadata": {},
     "output_type": "display_data"
    },
    {
     "data": {
      "text/html": [
       "<pre style=\"white-space:pre;overflow-x:auto;line-height:normal;font-family:Menlo,'DejaVu Sans Mono',consolas,'Courier New',monospace\">Applying genAs_toMu close dsaMu\n",
       "</pre>\n"
      ],
      "text/plain": [
       "Applying genAs_toMu close dsaMu\n"
      ]
     },
     "metadata": {},
     "output_type": "display_data"
    },
    {
     "data": {
      "text/html": [
       "<pre style=\"white-space:pre;overflow-x:auto;line-height:normal;font-family:Menlo,'DejaVu Sans Mono',consolas,'Courier New',monospace\">Applying cut: PV filter\n",
       "</pre>\n"
      ],
      "text/plain": [
       "Applying cut: PV filter\n"
      ]
     },
     "metadata": {},
     "output_type": "display_data"
    },
    {
     "data": {
      "text/html": [
       "<pre style=\"white-space:pre;overflow-x:auto;line-height:normal;font-family:Menlo,'DejaVu Sans Mono',consolas,'Courier New',monospace\">Warning: a histogram with the name genAs_toMu_pt_MuMudR_lowRange could not be filled and will be skipped\n",
       "</pre>\n"
      ],
      "text/plain": [
       "Warning: a histogram with the name genAs_toMu_pt_MuMudR_lowRange could not be filled and will be skipped\n"
      ]
     },
     "metadata": {},
     "output_type": "display_data"
    },
    {
     "data": {
      "text/html": [
       "<pre style=\"white-space:pre;overflow-x:auto;line-height:normal;font-family:Menlo,'DejaVu Sans Mono',consolas,'Courier New',monospace\">Warning: a histogram with the name genAs_toMu_pt_MuMudR_XLowRange could not be filled and will be skipped\n",
       "</pre>\n"
      ],
      "text/plain": [
       "Warning: a histogram with the name genAs_toMu_pt_MuMudR_XLowRange could not be filled and will be skipped\n"
      ]
     },
     "metadata": {},
     "output_type": "display_data"
    },
    {
     "data": {
      "text/html": [
       "<pre style=\"white-space:pre;overflow-x:auto;line-height:normal;font-family:Menlo,'DejaVu Sans Mono',consolas,'Courier New',monospace\">Warning: a histogram with the name genAs_toMu_pt_MuMudR_XXLowRange could not be filled and will be skipped\n",
       "</pre>\n"
      ],
      "text/plain": [
       "Warning: a histogram with the name genAs_toMu_pt_MuMudR_XXLowRange could not be filled and will be skipped\n"
      ]
     },
     "metadata": {},
     "output_type": "display_data"
    },
    {
     "data": {
      "text/html": [
       "<pre style=\"white-space:pre;overflow-x:auto;line-height:normal;font-family:Menlo,'DejaVu Sans Mono',consolas,'Courier New',monospace\">Warning: a histogram with the name genAs_toMu_lxy_MuMudR could not be filled and will be skipped\n",
       "</pre>\n"
      ],
      "text/plain": [
       "Warning: a histogram with the name genAs_toMu_lxy_MuMudR could not be filled and will be skipped\n"
      ]
     },
     "metadata": {},
     "output_type": "display_data"
    },
    {
     "data": {
      "text/html": [
       "<pre style=\"white-space:pre;overflow-x:auto;line-height:normal;font-family:Menlo,'DejaVu Sans Mono',consolas,'Courier New',monospace\">Warning: a histogram with the name genAs_toMu_lxy_MuMudR_XLowRange could not be filled and will be skipped\n",
       "</pre>\n"
      ],
      "text/plain": [
       "Warning: a histogram with the name genAs_toMu_lxy_MuMudR_XLowRange could not be filled and will be skipped\n"
      ]
     },
     "metadata": {},
     "output_type": "display_data"
    },
    {
     "data": {
      "text/html": [
       "<pre style=\"white-space:pre;overflow-x:auto;line-height:normal;font-family:Menlo,'DejaVu Sans Mono',consolas,'Courier New',monospace\">Warning: a histogram with the name genAs_toMu_lxy_MuMudR_XXLowRange could not be filled and will be skipped\n",
       "</pre>\n"
      ],
      "text/plain": [
       "Warning: a histogram with the name genAs_toMu_lxy_MuMudR_XXLowRange could not be filled and will be skipped\n"
      ]
     },
     "metadata": {},
     "output_type": "display_data"
    },
    {
     "data": {
      "text/html": [
       "<pre style=\"white-space:pre;overflow-x:auto;line-height:normal;font-family:Menlo,'DejaVu Sans Mono',consolas,'Courier New',monospace\">Warning: a histogram with the name genAs_toMu_pt_MuMudR_highRange could not be filled and will be skipped\n",
       "</pre>\n"
      ],
      "text/plain": [
       "Warning: a histogram with the name genAs_toMu_pt_MuMudR_highRange could not be filled and will be skipped\n"
      ]
     },
     "metadata": {},
     "output_type": "display_data"
    },
    {
     "data": {
      "text/html": [
       "<pre style=\"white-space:pre;overflow-x:auto;line-height:normal;font-family:Menlo,'DejaVu Sans Mono',consolas,'Courier New',monospace\">Warning: a histogram with the name genAs_toMu_pt_highRange_MuMudR_lowRange could not be filled and will be skipped\n",
       "</pre>\n"
      ],
      "text/plain": [
       "Warning: a histogram with the name genAs_toMu_pt_highRange_MuMudR_lowRange could not be filled and will be skipped\n"
      ]
     },
     "metadata": {},
     "output_type": "display_data"
    },
    {
     "data": {
      "text/html": [
       "<pre style=\"white-space:pre;overflow-x:auto;line-height:normal;font-family:Menlo,'DejaVu Sans Mono',consolas,'Courier New',monospace\">Applying genMus status 1\n",
       "</pre>\n"
      ],
      "text/plain": [
       "Applying genMus status 1\n"
      ]
     },
     "metadata": {},
     "output_type": "display_data"
    },
    {
     "data": {
      "text/html": [
       "<pre style=\"white-space:pre;overflow-x:auto;line-height:normal;font-family:Menlo,'DejaVu Sans Mono',consolas,'Courier New',monospace\">Applying genEs status 1\n",
       "</pre>\n"
      ],
      "text/plain": [
       "Applying genEs status 1\n"
      ]
     },
     "metadata": {},
     "output_type": "display_data"
    },
    {
     "data": {
      "text/html": [
       "<pre style=\"white-space:pre;overflow-x:auto;line-height:normal;font-family:Menlo,'DejaVu Sans Mono',consolas,'Courier New',monospace\">Applying genAs_toMu &gt;= 2 close dsaMu\n",
       "</pre>\n"
      ],
      "text/plain": [
       "Applying genAs_toMu >= 2 close dsaMu\n"
      ]
     },
     "metadata": {},
     "output_type": "display_data"
    },
    {
     "data": {
      "text/html": [
       "<pre style=\"white-space:pre;overflow-x:auto;line-height:normal;font-family:Menlo,'DejaVu Sans Mono',consolas,'Courier New',monospace\">Applying cut: PV filter\n",
       "</pre>\n"
      ],
      "text/plain": [
       "Applying cut: PV filter\n"
      ]
     },
     "metadata": {},
     "output_type": "display_data"
    },
    {
     "data": {
      "text/html": [
       "<pre style=\"white-space:pre;overflow-x:auto;line-height:normal;font-family:Menlo,'DejaVu Sans Mono',consolas,'Courier New',monospace\">Warning: a histogram with the name genAs_toMu_pt_MuMudR_lowRange could not be filled and will be skipped\n",
       "</pre>\n"
      ],
      "text/plain": [
       "Warning: a histogram with the name genAs_toMu_pt_MuMudR_lowRange could not be filled and will be skipped\n"
      ]
     },
     "metadata": {},
     "output_type": "display_data"
    },
    {
     "data": {
      "text/html": [
       "<pre style=\"white-space:pre;overflow-x:auto;line-height:normal;font-family:Menlo,'DejaVu Sans Mono',consolas,'Courier New',monospace\">Warning: a histogram with the name genAs_toMu_pt_MuMudR_XLowRange could not be filled and will be skipped\n",
       "</pre>\n"
      ],
      "text/plain": [
       "Warning: a histogram with the name genAs_toMu_pt_MuMudR_XLowRange could not be filled and will be skipped\n"
      ]
     },
     "metadata": {},
     "output_type": "display_data"
    },
    {
     "data": {
      "text/html": [
       "<pre style=\"white-space:pre;overflow-x:auto;line-height:normal;font-family:Menlo,'DejaVu Sans Mono',consolas,'Courier New',monospace\">Warning: a histogram with the name genAs_toMu_pt_MuMudR_XXLowRange could not be filled and will be skipped\n",
       "</pre>\n"
      ],
      "text/plain": [
       "Warning: a histogram with the name genAs_toMu_pt_MuMudR_XXLowRange could not be filled and will be skipped\n"
      ]
     },
     "metadata": {},
     "output_type": "display_data"
    },
    {
     "data": {
      "text/html": [
       "<pre style=\"white-space:pre;overflow-x:auto;line-height:normal;font-family:Menlo,'DejaVu Sans Mono',consolas,'Courier New',monospace\">Warning: a histogram with the name genAs_toMu_lxy_MuMudR could not be filled and will be skipped\n",
       "</pre>\n"
      ],
      "text/plain": [
       "Warning: a histogram with the name genAs_toMu_lxy_MuMudR could not be filled and will be skipped\n"
      ]
     },
     "metadata": {},
     "output_type": "display_data"
    },
    {
     "data": {
      "text/html": [
       "<pre style=\"white-space:pre;overflow-x:auto;line-height:normal;font-family:Menlo,'DejaVu Sans Mono',consolas,'Courier New',monospace\">Warning: a histogram with the name genAs_toMu_lxy_MuMudR_XLowRange could not be filled and will be skipped\n",
       "</pre>\n"
      ],
      "text/plain": [
       "Warning: a histogram with the name genAs_toMu_lxy_MuMudR_XLowRange could not be filled and will be skipped\n"
      ]
     },
     "metadata": {},
     "output_type": "display_data"
    },
    {
     "data": {
      "text/html": [
       "<pre style=\"white-space:pre;overflow-x:auto;line-height:normal;font-family:Menlo,'DejaVu Sans Mono',consolas,'Courier New',monospace\">Warning: a histogram with the name genAs_toMu_lxy_MuMudR_XXLowRange could not be filled and will be skipped\n",
       "</pre>\n"
      ],
      "text/plain": [
       "Warning: a histogram with the name genAs_toMu_lxy_MuMudR_XXLowRange could not be filled and will be skipped\n"
      ]
     },
     "metadata": {},
     "output_type": "display_data"
    },
    {
     "data": {
      "text/html": [
       "<pre style=\"white-space:pre;overflow-x:auto;line-height:normal;font-family:Menlo,'DejaVu Sans Mono',consolas,'Courier New',monospace\">Warning: a histogram with the name genAs_toMu_pt_MuMudR_highRange could not be filled and will be skipped\n",
       "</pre>\n"
      ],
      "text/plain": [
       "Warning: a histogram with the name genAs_toMu_pt_MuMudR_highRange could not be filled and will be skipped\n"
      ]
     },
     "metadata": {},
     "output_type": "display_data"
    },
    {
     "data": {
      "text/html": [
       "<pre style=\"white-space:pre;overflow-x:auto;line-height:normal;font-family:Menlo,'DejaVu Sans Mono',consolas,'Courier New',monospace\">Warning: a histogram with the name genAs_toMu_pt_highRange_MuMudR_lowRange could not be filled and will be skipped\n",
       "</pre>\n"
      ],
      "text/plain": [
       "Warning: a histogram with the name genAs_toMu_pt_highRange_MuMudR_lowRange could not be filled and will be skipped\n"
      ]
     },
     "metadata": {},
     "output_type": "display_data"
    },
    {
     "data": {
      "text/html": [
       "<pre style=\"white-space:pre;overflow-x:auto;line-height:normal;font-family:Menlo,'DejaVu Sans Mono',consolas,'Courier New',monospace\">Applying genMus status 1\n",
       "</pre>\n"
      ],
      "text/plain": [
       "Applying genMus status 1\n"
      ]
     },
     "metadata": {},
     "output_type": "display_data"
    },
    {
     "data": {
      "text/html": [
       "<pre style=\"white-space:pre;overflow-x:auto;line-height:normal;font-family:Menlo,'DejaVu Sans Mono',consolas,'Courier New',monospace\">Applying genEs status 1\n",
       "</pre>\n"
      ],
      "text/plain": [
       "Applying genEs status 1\n"
      ]
     },
     "metadata": {},
     "output_type": "display_data"
    },
    {
     "data": {
      "text/html": [
       "<pre style=\"white-space:pre;overflow-x:auto;line-height:normal;font-family:Menlo,'DejaVu Sans Mono',consolas,'Courier New',monospace\">Applying electrons pT &gt; 10 GeV\n",
       "</pre>\n"
      ],
      "text/plain": [
       "Applying electrons pT > 10 GeV\n"
      ]
     },
     "metadata": {},
     "output_type": "display_data"
    },
    {
     "data": {
      "text/html": [
       "<pre style=\"white-space:pre;overflow-x:auto;line-height:normal;font-family:Menlo,'DejaVu Sans Mono',consolas,'Courier New',monospace\">Applying electrons |eta| &lt; 2.4\n",
       "</pre>\n"
      ],
      "text/plain": [
       "Applying electrons |eta| < 2.4\n"
      ]
     },
     "metadata": {},
     "output_type": "display_data"
    },
    {
     "data": {
      "text/html": [
       "<pre style=\"white-space:pre;overflow-x:auto;line-height:normal;font-family:Menlo,'DejaVu Sans Mono',consolas,'Courier New',monospace\">Applying electrons MVANonIsoWPL\n",
       "</pre>\n"
      ],
      "text/plain": [
       "Applying electrons MVANonIsoWPL\n"
      ]
     },
     "metadata": {},
     "output_type": "display_data"
    },
    {
     "data": {
      "text/html": [
       "<pre style=\"white-space:pre;overflow-x:auto;line-height:normal;font-family:Menlo,'DejaVu Sans Mono',consolas,'Courier New',monospace\">Applying muons looseID\n",
       "</pre>\n"
      ],
      "text/plain": [
       "Applying muons looseID\n"
      ]
     },
     "metadata": {},
     "output_type": "display_data"
    },
    {
     "data": {
      "text/html": [
       "<pre style=\"white-space:pre;overflow-x:auto;line-height:normal;font-family:Menlo,'DejaVu Sans Mono',consolas,'Courier New',monospace\">Applying muons pT &gt; 5 GeV\n",
       "</pre>\n"
      ],
      "text/plain": [
       "Applying muons pT > 5 GeV\n"
      ]
     },
     "metadata": {},
     "output_type": "display_data"
    },
    {
     "data": {
      "text/html": [
       "<pre style=\"white-space:pre;overflow-x:auto;line-height:normal;font-family:Menlo,'DejaVu Sans Mono',consolas,'Courier New',monospace\">Applying muons |eta| &lt; 2.4\n",
       "</pre>\n"
      ],
      "text/plain": [
       "Applying muons |eta| < 2.4\n"
      ]
     },
     "metadata": {},
     "output_type": "display_data"
    },
    {
     "data": {
      "text/html": [
       "<pre style=\"white-space:pre;overflow-x:auto;line-height:normal;font-family:Menlo,'DejaVu Sans Mono',consolas,'Courier New',monospace\">Applying photons pT &gt; 20 GeV\n",
       "</pre>\n"
      ],
      "text/plain": [
       "Applying photons pT > 20 GeV\n"
      ]
     },
     "metadata": {},
     "output_type": "display_data"
    },
    {
     "data": {
      "text/html": [
       "<pre style=\"white-space:pre;overflow-x:auto;line-height:normal;font-family:Menlo,'DejaVu Sans Mono',consolas,'Courier New',monospace\">Applying photons |eta| &lt; 2.5\n",
       "</pre>\n"
      ],
      "text/plain": [
       "Applying photons |eta| < 2.5\n"
      ]
     },
     "metadata": {},
     "output_type": "display_data"
    },
    {
     "data": {
      "text/html": [
       "<pre style=\"white-space:pre;overflow-x:auto;line-height:normal;font-family:Menlo,'DejaVu Sans Mono',consolas,'Courier New',monospace\">Applying photons Custom Cutbased\n",
       "</pre>\n"
      ],
      "text/plain": [
       "Applying photons Custom Cutbased\n"
      ]
     },
     "metadata": {},
     "output_type": "display_data"
    },
    {
     "data": {
      "text/html": [
       "<pre style=\"white-space:pre;overflow-x:auto;line-height:normal;font-family:Menlo,'DejaVu Sans Mono',consolas,'Courier New',monospace\">Applying photons pixelSeed\n",
       "</pre>\n"
      ],
      "text/plain": [
       "Applying photons pixelSeed\n"
      ]
     },
     "metadata": {},
     "output_type": "display_data"
    },
    {
     "data": {
      "text/html": [
       "<pre style=\"white-space:pre;overflow-x:auto;line-height:normal;font-family:Menlo,'DejaVu Sans Mono',consolas,'Courier New',monospace\">Applying photons Photon DR Veto 0p025\n",
       "</pre>\n"
      ],
      "text/plain": [
       "Applying photons Photon DR Veto 0p025\n"
      ]
     },
     "metadata": {},
     "output_type": "display_data"
    },
    {
     "data": {
      "text/html": [
       "<pre style=\"white-space:pre;overflow-x:auto;line-height:normal;font-family:Menlo,'DejaVu Sans Mono',consolas,'Courier New',monospace\">Applying dsaMuons pT &gt; 10 GeV\n",
       "</pre>\n"
      ],
      "text/plain": [
       "Applying dsaMuons pT > 10 GeV\n"
      ]
     },
     "metadata": {},
     "output_type": "display_data"
    },
    {
     "data": {
      "text/html": [
       "<pre style=\"white-space:pre;overflow-x:auto;line-height:normal;font-family:Menlo,'DejaVu Sans Mono',consolas,'Courier New',monospace\">Applying dsaMuons |eta| &lt; 2.4\n",
       "</pre>\n"
      ],
      "text/plain": [
       "Applying dsaMuons |eta| < 2.4\n"
      ]
     },
     "metadata": {},
     "output_type": "display_data"
    },
    {
     "data": {
      "text/html": [
       "<pre style=\"white-space:pre;overflow-x:auto;line-height:normal;font-family:Menlo,'DejaVu Sans Mono',consolas,'Courier New',monospace\">Applying dsaMuons displaced ID\n",
       "</pre>\n"
      ],
      "text/plain": [
       "Applying dsaMuons displaced ID\n"
      ]
     },
     "metadata": {},
     "output_type": "display_data"
    },
    {
     "data": {
      "text/html": [
       "<pre style=\"white-space:pre;overflow-x:auto;line-height:normal;font-family:Menlo,'DejaVu Sans Mono',consolas,'Courier New',monospace\">Applying genAs_toMu close dsaMu\n",
       "</pre>\n"
      ],
      "text/plain": [
       "Applying genAs_toMu close dsaMu\n"
      ]
     },
     "metadata": {},
     "output_type": "display_data"
    },
    {
     "data": {
      "text/html": [
       "<pre style=\"white-space:pre;overflow-x:auto;line-height:normal;font-family:Menlo,'DejaVu Sans Mono',consolas,'Courier New',monospace\">Applying cut: PV filter\n",
       "</pre>\n"
      ],
      "text/plain": [
       "Applying cut: PV filter\n"
      ]
     },
     "metadata": {},
     "output_type": "display_data"
    },
    {
     "data": {
      "text/html": [
       "<pre style=\"white-space:pre;overflow-x:auto;line-height:normal;font-family:Menlo,'DejaVu Sans Mono',consolas,'Courier New',monospace\">Applying cut: pass triggers\n",
       "</pre>\n"
      ],
      "text/plain": [
       "Applying cut: pass triggers\n"
      ]
     },
     "metadata": {},
     "output_type": "display_data"
    },
    {
     "data": {
      "text/html": [
       "<pre style=\"white-space:pre;overflow-x:auto;line-height:normal;font-family:Menlo,'DejaVu Sans Mono',consolas,'Courier New',monospace\">Warning: a histogram with the name genAs_toMu_pt_MuMudR_lowRange could not be filled and will be skipped\n",
       "</pre>\n"
      ],
      "text/plain": [
       "Warning: a histogram with the name genAs_toMu_pt_MuMudR_lowRange could not be filled and will be skipped\n"
      ]
     },
     "metadata": {},
     "output_type": "display_data"
    },
    {
     "data": {
      "text/html": [
       "<pre style=\"white-space:pre;overflow-x:auto;line-height:normal;font-family:Menlo,'DejaVu Sans Mono',consolas,'Courier New',monospace\">Warning: a histogram with the name genAs_toMu_pt_MuMudR_XLowRange could not be filled and will be skipped\n",
       "</pre>\n"
      ],
      "text/plain": [
       "Warning: a histogram with the name genAs_toMu_pt_MuMudR_XLowRange could not be filled and will be skipped\n"
      ]
     },
     "metadata": {},
     "output_type": "display_data"
    },
    {
     "data": {
      "text/html": [
       "<pre style=\"white-space:pre;overflow-x:auto;line-height:normal;font-family:Menlo,'DejaVu Sans Mono',consolas,'Courier New',monospace\">Warning: a histogram with the name genAs_toMu_pt_MuMudR_XXLowRange could not be filled and will be skipped\n",
       "</pre>\n"
      ],
      "text/plain": [
       "Warning: a histogram with the name genAs_toMu_pt_MuMudR_XXLowRange could not be filled and will be skipped\n"
      ]
     },
     "metadata": {},
     "output_type": "display_data"
    },
    {
     "data": {
      "text/html": [
       "<pre style=\"white-space:pre;overflow-x:auto;line-height:normal;font-family:Menlo,'DejaVu Sans Mono',consolas,'Courier New',monospace\">Warning: a histogram with the name genAs_toMu_lxy_MuMudR could not be filled and will be skipped\n",
       "</pre>\n"
      ],
      "text/plain": [
       "Warning: a histogram with the name genAs_toMu_lxy_MuMudR could not be filled and will be skipped\n"
      ]
     },
     "metadata": {},
     "output_type": "display_data"
    },
    {
     "data": {
      "text/html": [
       "<pre style=\"white-space:pre;overflow-x:auto;line-height:normal;font-family:Menlo,'DejaVu Sans Mono',consolas,'Courier New',monospace\">Warning: a histogram with the name genAs_toMu_lxy_MuMudR_XLowRange could not be filled and will be skipped\n",
       "</pre>\n"
      ],
      "text/plain": [
       "Warning: a histogram with the name genAs_toMu_lxy_MuMudR_XLowRange could not be filled and will be skipped\n"
      ]
     },
     "metadata": {},
     "output_type": "display_data"
    },
    {
     "data": {
      "text/html": [
       "<pre style=\"white-space:pre;overflow-x:auto;line-height:normal;font-family:Menlo,'DejaVu Sans Mono',consolas,'Courier New',monospace\">Warning: a histogram with the name genAs_toMu_lxy_MuMudR_XXLowRange could not be filled and will be skipped\n",
       "</pre>\n"
      ],
      "text/plain": [
       "Warning: a histogram with the name genAs_toMu_lxy_MuMudR_XXLowRange could not be filled and will be skipped\n"
      ]
     },
     "metadata": {},
     "output_type": "display_data"
    },
    {
     "data": {
      "text/html": [
       "<pre style=\"white-space:pre;overflow-x:auto;line-height:normal;font-family:Menlo,'DejaVu Sans Mono',consolas,'Courier New',monospace\">Warning: a histogram with the name genAs_toMu_pt_MuMudR_highRange could not be filled and will be skipped\n",
       "</pre>\n"
      ],
      "text/plain": [
       "Warning: a histogram with the name genAs_toMu_pt_MuMudR_highRange could not be filled and will be skipped\n"
      ]
     },
     "metadata": {},
     "output_type": "display_data"
    },
    {
     "data": {
      "text/html": [
       "<pre style=\"white-space:pre;overflow-x:auto;line-height:normal;font-family:Menlo,'DejaVu Sans Mono',consolas,'Courier New',monospace\">Warning: a histogram with the name genAs_toMu_pt_highRange_MuMudR_lowRange could not be filled and will be skipped\n",
       "</pre>\n"
      ],
      "text/plain": [
       "Warning: a histogram with the name genAs_toMu_pt_highRange_MuMudR_lowRange could not be filled and will be skipped\n"
      ]
     },
     "metadata": {},
     "output_type": "display_data"
    },
    {
     "data": {
      "text/html": [
       "<pre style=\"white-space:pre;overflow-x:auto;line-height:normal;font-family:Menlo,'DejaVu Sans Mono',consolas,'Courier New',monospace\">Applying genMus status 1\n",
       "</pre>\n"
      ],
      "text/plain": [
       "Applying genMus status 1\n"
      ]
     },
     "metadata": {},
     "output_type": "display_data"
    },
    {
     "data": {
      "text/html": [
       "<pre style=\"white-space:pre;overflow-x:auto;line-height:normal;font-family:Menlo,'DejaVu Sans Mono',consolas,'Courier New',monospace\">Applying genEs status 1\n",
       "</pre>\n"
      ],
      "text/plain": [
       "Applying genEs status 1\n"
      ]
     },
     "metadata": {},
     "output_type": "display_data"
    },
    {
     "data": {
      "text/html": [
       "<pre style=\"white-space:pre;overflow-x:auto;line-height:normal;font-family:Menlo,'DejaVu Sans Mono',consolas,'Courier New',monospace\">Applying electrons pT &gt; 10 GeV\n",
       "</pre>\n"
      ],
      "text/plain": [
       "Applying electrons pT > 10 GeV\n"
      ]
     },
     "metadata": {},
     "output_type": "display_data"
    },
    {
     "data": {
      "text/html": [
       "<pre style=\"white-space:pre;overflow-x:auto;line-height:normal;font-family:Menlo,'DejaVu Sans Mono',consolas,'Courier New',monospace\">Applying electrons |eta| &lt; 2.4\n",
       "</pre>\n"
      ],
      "text/plain": [
       "Applying electrons |eta| < 2.4\n"
      ]
     },
     "metadata": {},
     "output_type": "display_data"
    },
    {
     "data": {
      "text/html": [
       "<pre style=\"white-space:pre;overflow-x:auto;line-height:normal;font-family:Menlo,'DejaVu Sans Mono',consolas,'Courier New',monospace\">Applying electrons MVANonIsoWPL\n",
       "</pre>\n"
      ],
      "text/plain": [
       "Applying electrons MVANonIsoWPL\n"
      ]
     },
     "metadata": {},
     "output_type": "display_data"
    },
    {
     "data": {
      "text/html": [
       "<pre style=\"white-space:pre;overflow-x:auto;line-height:normal;font-family:Menlo,'DejaVu Sans Mono',consolas,'Courier New',monospace\">Applying muons looseID\n",
       "</pre>\n"
      ],
      "text/plain": [
       "Applying muons looseID\n"
      ]
     },
     "metadata": {},
     "output_type": "display_data"
    },
    {
     "data": {
      "text/html": [
       "<pre style=\"white-space:pre;overflow-x:auto;line-height:normal;font-family:Menlo,'DejaVu Sans Mono',consolas,'Courier New',monospace\">Applying muons pT &gt; 5 GeV\n",
       "</pre>\n"
      ],
      "text/plain": [
       "Applying muons pT > 5 GeV\n"
      ]
     },
     "metadata": {},
     "output_type": "display_data"
    },
    {
     "data": {
      "text/html": [
       "<pre style=\"white-space:pre;overflow-x:auto;line-height:normal;font-family:Menlo,'DejaVu Sans Mono',consolas,'Courier New',monospace\">Applying muons |eta| &lt; 2.4\n",
       "</pre>\n"
      ],
      "text/plain": [
       "Applying muons |eta| < 2.4\n"
      ]
     },
     "metadata": {},
     "output_type": "display_data"
    },
    {
     "data": {
      "text/html": [
       "<pre style=\"white-space:pre;overflow-x:auto;line-height:normal;font-family:Menlo,'DejaVu Sans Mono',consolas,'Courier New',monospace\">Applying photons pT &gt; 20 GeV\n",
       "</pre>\n"
      ],
      "text/plain": [
       "Applying photons pT > 20 GeV\n"
      ]
     },
     "metadata": {},
     "output_type": "display_data"
    },
    {
     "data": {
      "text/html": [
       "<pre style=\"white-space:pre;overflow-x:auto;line-height:normal;font-family:Menlo,'DejaVu Sans Mono',consolas,'Courier New',monospace\">Applying photons |eta| &lt; 2.5\n",
       "</pre>\n"
      ],
      "text/plain": [
       "Applying photons |eta| < 2.5\n"
      ]
     },
     "metadata": {},
     "output_type": "display_data"
    },
    {
     "data": {
      "text/html": [
       "<pre style=\"white-space:pre;overflow-x:auto;line-height:normal;font-family:Menlo,'DejaVu Sans Mono',consolas,'Courier New',monospace\">Applying photons Custom Cutbased\n",
       "</pre>\n"
      ],
      "text/plain": [
       "Applying photons Custom Cutbased\n"
      ]
     },
     "metadata": {},
     "output_type": "display_data"
    },
    {
     "data": {
      "text/html": [
       "<pre style=\"white-space:pre;overflow-x:auto;line-height:normal;font-family:Menlo,'DejaVu Sans Mono',consolas,'Courier New',monospace\">Applying photons pixelSeed\n",
       "</pre>\n"
      ],
      "text/plain": [
       "Applying photons pixelSeed\n"
      ]
     },
     "metadata": {},
     "output_type": "display_data"
    },
    {
     "data": {
      "text/html": [
       "<pre style=\"white-space:pre;overflow-x:auto;line-height:normal;font-family:Menlo,'DejaVu Sans Mono',consolas,'Courier New',monospace\">Applying photons Photon DR Veto 0p025\n",
       "</pre>\n"
      ],
      "text/plain": [
       "Applying photons Photon DR Veto 0p025\n"
      ]
     },
     "metadata": {},
     "output_type": "display_data"
    },
    {
     "data": {
      "text/html": [
       "<pre style=\"white-space:pre;overflow-x:auto;line-height:normal;font-family:Menlo,'DejaVu Sans Mono',consolas,'Courier New',monospace\">Applying dsaMuons pT &gt; 10 GeV\n",
       "</pre>\n"
      ],
      "text/plain": [
       "Applying dsaMuons pT > 10 GeV\n"
      ]
     },
     "metadata": {},
     "output_type": "display_data"
    },
    {
     "data": {
      "text/html": [
       "<pre style=\"white-space:pre;overflow-x:auto;line-height:normal;font-family:Menlo,'DejaVu Sans Mono',consolas,'Courier New',monospace\">Applying dsaMuons |eta| &lt; 2.4\n",
       "</pre>\n"
      ],
      "text/plain": [
       "Applying dsaMuons |eta| < 2.4\n"
      ]
     },
     "metadata": {},
     "output_type": "display_data"
    },
    {
     "data": {
      "text/html": [
       "<pre style=\"white-space:pre;overflow-x:auto;line-height:normal;font-family:Menlo,'DejaVu Sans Mono',consolas,'Courier New',monospace\">Applying dsaMuons displaced ID\n",
       "</pre>\n"
      ],
      "text/plain": [
       "Applying dsaMuons displaced ID\n"
      ]
     },
     "metadata": {},
     "output_type": "display_data"
    },
    {
     "data": {
      "text/html": [
       "<pre style=\"white-space:pre;overflow-x:auto;line-height:normal;font-family:Menlo,'DejaVu Sans Mono',consolas,'Courier New',monospace\">Applying genAs_toMu &gt;= 2 close dsaMu\n",
       "</pre>\n"
      ],
      "text/plain": [
       "Applying genAs_toMu >= 2 close dsaMu\n"
      ]
     },
     "metadata": {},
     "output_type": "display_data"
    },
    {
     "data": {
      "text/html": [
       "<pre style=\"white-space:pre;overflow-x:auto;line-height:normal;font-family:Menlo,'DejaVu Sans Mono',consolas,'Courier New',monospace\">Applying cut: PV filter\n",
       "</pre>\n"
      ],
      "text/plain": [
       "Applying cut: PV filter\n"
      ]
     },
     "metadata": {},
     "output_type": "display_data"
    },
    {
     "data": {
      "text/html": [
       "<pre style=\"white-space:pre;overflow-x:auto;line-height:normal;font-family:Menlo,'DejaVu Sans Mono',consolas,'Courier New',monospace\">Applying cut: pass triggers\n",
       "</pre>\n"
      ],
      "text/plain": [
       "Applying cut: pass triggers\n"
      ]
     },
     "metadata": {},
     "output_type": "display_data"
    },
    {
     "data": {
      "text/html": [
       "<pre style=\"white-space:pre;overflow-x:auto;line-height:normal;font-family:Menlo,'DejaVu Sans Mono',consolas,'Courier New',monospace\">Warning: a histogram with the name genAs_toMu_pt_MuMudR_lowRange could not be filled and will be skipped\n",
       "</pre>\n"
      ],
      "text/plain": [
       "Warning: a histogram with the name genAs_toMu_pt_MuMudR_lowRange could not be filled and will be skipped\n"
      ]
     },
     "metadata": {},
     "output_type": "display_data"
    },
    {
     "data": {
      "text/html": [
       "<pre style=\"white-space:pre;overflow-x:auto;line-height:normal;font-family:Menlo,'DejaVu Sans Mono',consolas,'Courier New',monospace\">Warning: a histogram with the name genAs_toMu_pt_MuMudR_XLowRange could not be filled and will be skipped\n",
       "</pre>\n"
      ],
      "text/plain": [
       "Warning: a histogram with the name genAs_toMu_pt_MuMudR_XLowRange could not be filled and will be skipped\n"
      ]
     },
     "metadata": {},
     "output_type": "display_data"
    },
    {
     "data": {
      "text/html": [
       "<pre style=\"white-space:pre;overflow-x:auto;line-height:normal;font-family:Menlo,'DejaVu Sans Mono',consolas,'Courier New',monospace\">Warning: a histogram with the name genAs_toMu_pt_MuMudR_XXLowRange could not be filled and will be skipped\n",
       "</pre>\n"
      ],
      "text/plain": [
       "Warning: a histogram with the name genAs_toMu_pt_MuMudR_XXLowRange could not be filled and will be skipped\n"
      ]
     },
     "metadata": {},
     "output_type": "display_data"
    },
    {
     "data": {
      "text/html": [
       "<pre style=\"white-space:pre;overflow-x:auto;line-height:normal;font-family:Menlo,'DejaVu Sans Mono',consolas,'Courier New',monospace\">Warning: a histogram with the name genAs_toMu_lxy_MuMudR could not be filled and will be skipped\n",
       "</pre>\n"
      ],
      "text/plain": [
       "Warning: a histogram with the name genAs_toMu_lxy_MuMudR could not be filled and will be skipped\n"
      ]
     },
     "metadata": {},
     "output_type": "display_data"
    },
    {
     "data": {
      "text/html": [
       "<pre style=\"white-space:pre;overflow-x:auto;line-height:normal;font-family:Menlo,'DejaVu Sans Mono',consolas,'Courier New',monospace\">Warning: a histogram with the name genAs_toMu_lxy_MuMudR_XLowRange could not be filled and will be skipped\n",
       "</pre>\n"
      ],
      "text/plain": [
       "Warning: a histogram with the name genAs_toMu_lxy_MuMudR_XLowRange could not be filled and will be skipped\n"
      ]
     },
     "metadata": {},
     "output_type": "display_data"
    },
    {
     "data": {
      "text/html": [
       "<pre style=\"white-space:pre;overflow-x:auto;line-height:normal;font-family:Menlo,'DejaVu Sans Mono',consolas,'Courier New',monospace\">Warning: a histogram with the name genAs_toMu_lxy_MuMudR_XXLowRange could not be filled and will be skipped\n",
       "</pre>\n"
      ],
      "text/plain": [
       "Warning: a histogram with the name genAs_toMu_lxy_MuMudR_XXLowRange could not be filled and will be skipped\n"
      ]
     },
     "metadata": {},
     "output_type": "display_data"
    },
    {
     "data": {
      "text/html": [
       "<pre style=\"white-space:pre;overflow-x:auto;line-height:normal;font-family:Menlo,'DejaVu Sans Mono',consolas,'Courier New',monospace\">Warning: a histogram with the name genAs_toMu_pt_MuMudR_highRange could not be filled and will be skipped\n",
       "</pre>\n"
      ],
      "text/plain": [
       "Warning: a histogram with the name genAs_toMu_pt_MuMudR_highRange could not be filled and will be skipped\n"
      ]
     },
     "metadata": {},
     "output_type": "display_data"
    },
    {
     "data": {
      "text/html": [
       "<pre style=\"white-space:pre;overflow-x:auto;line-height:normal;font-family:Menlo,'DejaVu Sans Mono',consolas,'Courier New',monospace\">Warning: a histogram with the name genAs_toMu_pt_highRange_MuMudR_lowRange could not be filled and will be skipped\n",
       "</pre>\n"
      ],
      "text/plain": [
       "Warning: a histogram with the name genAs_toMu_pt_highRange_MuMudR_lowRange could not be filled and will be skipped\n"
      ]
     },
     "metadata": {},
     "output_type": "display_data"
    },
    {
     "data": {
      "text/html": [
       "<pre style=\"white-space:pre;overflow-x:auto;line-height:normal;font-family:Menlo,'DejaVu Sans Mono',consolas,'Courier New',monospace\">Applying genMus status 1\n",
       "</pre>\n"
      ],
      "text/plain": [
       "Applying genMus status 1\n"
      ]
     },
     "metadata": {},
     "output_type": "display_data"
    },
    {
     "data": {
      "text/html": [
       "<pre style=\"white-space:pre;overflow-x:auto;line-height:normal;font-family:Menlo,'DejaVu Sans Mono',consolas,'Courier New',monospace\">Applying genEs status 1\n",
       "</pre>\n"
      ],
      "text/plain": [
       "Applying genEs status 1\n"
      ]
     },
     "metadata": {},
     "output_type": "display_data"
    },
    {
     "data": {
      "text/html": [
       "<pre style=\"white-space:pre;overflow-x:auto;line-height:normal;font-family:Menlo,'DejaVu Sans Mono',consolas,'Courier New',monospace\">Applying genAs_toMu close mu\n",
       "</pre>\n"
      ],
      "text/plain": [
       "Applying genAs_toMu close mu\n"
      ]
     },
     "metadata": {},
     "output_type": "display_data"
    },
    {
     "data": {
      "text/html": [
       "<pre style=\"white-space:pre;overflow-x:auto;line-height:normal;font-family:Menlo,'DejaVu Sans Mono',consolas,'Courier New',monospace\">Applying cut: PV filter\n",
       "</pre>\n"
      ],
      "text/plain": [
       "Applying cut: PV filter\n"
      ]
     },
     "metadata": {},
     "output_type": "display_data"
    },
    {
     "data": {
      "text/html": [
       "<pre style=\"white-space:pre;overflow-x:auto;line-height:normal;font-family:Menlo,'DejaVu Sans Mono',consolas,'Courier New',monospace\">Warning: a histogram with the name genAs_toMu_pt_MuMudR_lowRange could not be filled and will be skipped\n",
       "</pre>\n"
      ],
      "text/plain": [
       "Warning: a histogram with the name genAs_toMu_pt_MuMudR_lowRange could not be filled and will be skipped\n"
      ]
     },
     "metadata": {},
     "output_type": "display_data"
    },
    {
     "data": {
      "text/html": [
       "<pre style=\"white-space:pre;overflow-x:auto;line-height:normal;font-family:Menlo,'DejaVu Sans Mono',consolas,'Courier New',monospace\">Warning: a histogram with the name genAs_toMu_pt_MuMudR_XLowRange could not be filled and will be skipped\n",
       "</pre>\n"
      ],
      "text/plain": [
       "Warning: a histogram with the name genAs_toMu_pt_MuMudR_XLowRange could not be filled and will be skipped\n"
      ]
     },
     "metadata": {},
     "output_type": "display_data"
    },
    {
     "data": {
      "text/html": [
       "<pre style=\"white-space:pre;overflow-x:auto;line-height:normal;font-family:Menlo,'DejaVu Sans Mono',consolas,'Courier New',monospace\">Warning: a histogram with the name genAs_toMu_pt_MuMudR_XXLowRange could not be filled and will be skipped\n",
       "</pre>\n"
      ],
      "text/plain": [
       "Warning: a histogram with the name genAs_toMu_pt_MuMudR_XXLowRange could not be filled and will be skipped\n"
      ]
     },
     "metadata": {},
     "output_type": "display_data"
    },
    {
     "data": {
      "text/html": [
       "<pre style=\"white-space:pre;overflow-x:auto;line-height:normal;font-family:Menlo,'DejaVu Sans Mono',consolas,'Courier New',monospace\">Warning: a histogram with the name genAs_toMu_lxy_MuMudR could not be filled and will be skipped\n",
       "</pre>\n"
      ],
      "text/plain": [
       "Warning: a histogram with the name genAs_toMu_lxy_MuMudR could not be filled and will be skipped\n"
      ]
     },
     "metadata": {},
     "output_type": "display_data"
    },
    {
     "data": {
      "text/html": [
       "<pre style=\"white-space:pre;overflow-x:auto;line-height:normal;font-family:Menlo,'DejaVu Sans Mono',consolas,'Courier New',monospace\">Warning: a histogram with the name genAs_toMu_lxy_MuMudR_XLowRange could not be filled and will be skipped\n",
       "</pre>\n"
      ],
      "text/plain": [
       "Warning: a histogram with the name genAs_toMu_lxy_MuMudR_XLowRange could not be filled and will be skipped\n"
      ]
     },
     "metadata": {},
     "output_type": "display_data"
    },
    {
     "data": {
      "text/html": [
       "<pre style=\"white-space:pre;overflow-x:auto;line-height:normal;font-family:Menlo,'DejaVu Sans Mono',consolas,'Courier New',monospace\">Warning: a histogram with the name genAs_toMu_lxy_MuMudR_XXLowRange could not be filled and will be skipped\n",
       "</pre>\n"
      ],
      "text/plain": [
       "Warning: a histogram with the name genAs_toMu_lxy_MuMudR_XXLowRange could not be filled and will be skipped\n"
      ]
     },
     "metadata": {},
     "output_type": "display_data"
    },
    {
     "data": {
      "text/html": [
       "<pre style=\"white-space:pre;overflow-x:auto;line-height:normal;font-family:Menlo,'DejaVu Sans Mono',consolas,'Courier New',monospace\">Warning: a histogram with the name genAs_toMu_pt_MuMudR_highRange could not be filled and will be skipped\n",
       "</pre>\n"
      ],
      "text/plain": [
       "Warning: a histogram with the name genAs_toMu_pt_MuMudR_highRange could not be filled and will be skipped\n"
      ]
     },
     "metadata": {},
     "output_type": "display_data"
    },
    {
     "data": {
      "text/html": [
       "<pre style=\"white-space:pre;overflow-x:auto;line-height:normal;font-family:Menlo,'DejaVu Sans Mono',consolas,'Courier New',monospace\">Warning: a histogram with the name genAs_toMu_pt_highRange_MuMudR_lowRange could not be filled and will be skipped\n",
       "</pre>\n"
      ],
      "text/plain": [
       "Warning: a histogram with the name genAs_toMu_pt_highRange_MuMudR_lowRange could not be filled and will be skipped\n"
      ]
     },
     "metadata": {},
     "output_type": "display_data"
    },
    {
     "data": {
      "text/html": [
       "<pre style=\"white-space:pre;overflow-x:auto;line-height:normal;font-family:Menlo,'DejaVu Sans Mono',consolas,'Courier New',monospace\">Applying genMus status 1\n",
       "</pre>\n"
      ],
      "text/plain": [
       "Applying genMus status 1\n"
      ]
     },
     "metadata": {},
     "output_type": "display_data"
    },
    {
     "data": {
      "text/html": [
       "<pre style=\"white-space:pre;overflow-x:auto;line-height:normal;font-family:Menlo,'DejaVu Sans Mono',consolas,'Courier New',monospace\">Applying genEs status 1\n",
       "</pre>\n"
      ],
      "text/plain": [
       "Applying genEs status 1\n"
      ]
     },
     "metadata": {},
     "output_type": "display_data"
    },
    {
     "data": {
      "text/html": [
       "<pre style=\"white-space:pre;overflow-x:auto;line-height:normal;font-family:Menlo,'DejaVu Sans Mono',consolas,'Courier New',monospace\">Applying genAs_toMu &gt;= 2 close mu\n",
       "</pre>\n"
      ],
      "text/plain": [
       "Applying genAs_toMu >= 2 close mu\n"
      ]
     },
     "metadata": {},
     "output_type": "display_data"
    },
    {
     "data": {
      "text/html": [
       "<pre style=\"white-space:pre;overflow-x:auto;line-height:normal;font-family:Menlo,'DejaVu Sans Mono',consolas,'Courier New',monospace\">Applying cut: PV filter\n",
       "</pre>\n"
      ],
      "text/plain": [
       "Applying cut: PV filter\n"
      ]
     },
     "metadata": {},
     "output_type": "display_data"
    },
    {
     "data": {
      "text/html": [
       "<pre style=\"white-space:pre;overflow-x:auto;line-height:normal;font-family:Menlo,'DejaVu Sans Mono',consolas,'Courier New',monospace\">Warning: a histogram with the name genAs_toMu_pt_MuMudR_lowRange could not be filled and will be skipped\n",
       "</pre>\n"
      ],
      "text/plain": [
       "Warning: a histogram with the name genAs_toMu_pt_MuMudR_lowRange could not be filled and will be skipped\n"
      ]
     },
     "metadata": {},
     "output_type": "display_data"
    },
    {
     "data": {
      "text/html": [
       "<pre style=\"white-space:pre;overflow-x:auto;line-height:normal;font-family:Menlo,'DejaVu Sans Mono',consolas,'Courier New',monospace\">Warning: a histogram with the name genAs_toMu_pt_MuMudR_XLowRange could not be filled and will be skipped\n",
       "</pre>\n"
      ],
      "text/plain": [
       "Warning: a histogram with the name genAs_toMu_pt_MuMudR_XLowRange could not be filled and will be skipped\n"
      ]
     },
     "metadata": {},
     "output_type": "display_data"
    },
    {
     "data": {
      "text/html": [
       "<pre style=\"white-space:pre;overflow-x:auto;line-height:normal;font-family:Menlo,'DejaVu Sans Mono',consolas,'Courier New',monospace\">Warning: a histogram with the name genAs_toMu_pt_MuMudR_XXLowRange could not be filled and will be skipped\n",
       "</pre>\n"
      ],
      "text/plain": [
       "Warning: a histogram with the name genAs_toMu_pt_MuMudR_XXLowRange could not be filled and will be skipped\n"
      ]
     },
     "metadata": {},
     "output_type": "display_data"
    },
    {
     "data": {
      "text/html": [
       "<pre style=\"white-space:pre;overflow-x:auto;line-height:normal;font-family:Menlo,'DejaVu Sans Mono',consolas,'Courier New',monospace\">Warning: a histogram with the name genAs_toMu_lxy_MuMudR could not be filled and will be skipped\n",
       "</pre>\n"
      ],
      "text/plain": [
       "Warning: a histogram with the name genAs_toMu_lxy_MuMudR could not be filled and will be skipped\n"
      ]
     },
     "metadata": {},
     "output_type": "display_data"
    },
    {
     "data": {
      "text/html": [
       "<pre style=\"white-space:pre;overflow-x:auto;line-height:normal;font-family:Menlo,'DejaVu Sans Mono',consolas,'Courier New',monospace\">Warning: a histogram with the name genAs_toMu_lxy_MuMudR_XLowRange could not be filled and will be skipped\n",
       "</pre>\n"
      ],
      "text/plain": [
       "Warning: a histogram with the name genAs_toMu_lxy_MuMudR_XLowRange could not be filled and will be skipped\n"
      ]
     },
     "metadata": {},
     "output_type": "display_data"
    },
    {
     "data": {
      "text/html": [
       "<pre style=\"white-space:pre;overflow-x:auto;line-height:normal;font-family:Menlo,'DejaVu Sans Mono',consolas,'Courier New',monospace\">Warning: a histogram with the name genAs_toMu_lxy_MuMudR_XXLowRange could not be filled and will be skipped\n",
       "</pre>\n"
      ],
      "text/plain": [
       "Warning: a histogram with the name genAs_toMu_lxy_MuMudR_XXLowRange could not be filled and will be skipped\n"
      ]
     },
     "metadata": {},
     "output_type": "display_data"
    },
    {
     "data": {
      "text/html": [
       "<pre style=\"white-space:pre;overflow-x:auto;line-height:normal;font-family:Menlo,'DejaVu Sans Mono',consolas,'Courier New',monospace\">Warning: a histogram with the name genAs_toMu_pt_MuMudR_highRange could not be filled and will be skipped\n",
       "</pre>\n"
      ],
      "text/plain": [
       "Warning: a histogram with the name genAs_toMu_pt_MuMudR_highRange could not be filled and will be skipped\n"
      ]
     },
     "metadata": {},
     "output_type": "display_data"
    },
    {
     "data": {
      "text/html": [
       "<pre style=\"white-space:pre;overflow-x:auto;line-height:normal;font-family:Menlo,'DejaVu Sans Mono',consolas,'Courier New',monospace\">Warning: a histogram with the name genAs_toMu_pt_highRange_MuMudR_lowRange could not be filled and will be skipped\n",
       "</pre>\n"
      ],
      "text/plain": [
       "Warning: a histogram with the name genAs_toMu_pt_highRange_MuMudR_lowRange could not be filled and will be skipped\n"
      ]
     },
     "metadata": {},
     "output_type": "display_data"
    },
    {
     "data": {
      "text/html": [
       "<pre style=\"white-space:pre;overflow-x:auto;line-height:normal;font-family:Menlo,'DejaVu Sans Mono',consolas,'Courier New',monospace\">Applying genMus status 1\n",
       "</pre>\n"
      ],
      "text/plain": [
       "Applying genMus status 1\n"
      ]
     },
     "metadata": {},
     "output_type": "display_data"
    },
    {
     "data": {
      "text/html": [
       "<pre style=\"white-space:pre;overflow-x:auto;line-height:normal;font-family:Menlo,'DejaVu Sans Mono',consolas,'Courier New',monospace\">Applying genEs status 1\n",
       "</pre>\n"
      ],
      "text/plain": [
       "Applying genEs status 1\n"
      ]
     },
     "metadata": {},
     "output_type": "display_data"
    },
    {
     "data": {
      "text/html": [
       "<pre style=\"white-space:pre;overflow-x:auto;line-height:normal;font-family:Menlo,'DejaVu Sans Mono',consolas,'Courier New',monospace\">Applying electrons pT &gt; 10 GeV\n",
       "</pre>\n"
      ],
      "text/plain": [
       "Applying electrons pT > 10 GeV\n"
      ]
     },
     "metadata": {},
     "output_type": "display_data"
    },
    {
     "data": {
      "text/html": [
       "<pre style=\"white-space:pre;overflow-x:auto;line-height:normal;font-family:Menlo,'DejaVu Sans Mono',consolas,'Courier New',monospace\">Applying electrons |eta| &lt; 2.4\n",
       "</pre>\n"
      ],
      "text/plain": [
       "Applying electrons |eta| < 2.4\n"
      ]
     },
     "metadata": {},
     "output_type": "display_data"
    },
    {
     "data": {
      "text/html": [
       "<pre style=\"white-space:pre;overflow-x:auto;line-height:normal;font-family:Menlo,'DejaVu Sans Mono',consolas,'Courier New',monospace\">Applying electrons MVANonIsoWPL\n",
       "</pre>\n"
      ],
      "text/plain": [
       "Applying electrons MVANonIsoWPL\n"
      ]
     },
     "metadata": {},
     "output_type": "display_data"
    },
    {
     "data": {
      "text/html": [
       "<pre style=\"white-space:pre;overflow-x:auto;line-height:normal;font-family:Menlo,'DejaVu Sans Mono',consolas,'Courier New',monospace\">Applying muons looseID\n",
       "</pre>\n"
      ],
      "text/plain": [
       "Applying muons looseID\n"
      ]
     },
     "metadata": {},
     "output_type": "display_data"
    },
    {
     "data": {
      "text/html": [
       "<pre style=\"white-space:pre;overflow-x:auto;line-height:normal;font-family:Menlo,'DejaVu Sans Mono',consolas,'Courier New',monospace\">Applying muons pT &gt; 5 GeV\n",
       "</pre>\n"
      ],
      "text/plain": [
       "Applying muons pT > 5 GeV\n"
      ]
     },
     "metadata": {},
     "output_type": "display_data"
    },
    {
     "data": {
      "text/html": [
       "<pre style=\"white-space:pre;overflow-x:auto;line-height:normal;font-family:Menlo,'DejaVu Sans Mono',consolas,'Courier New',monospace\">Applying muons |eta| &lt; 2.4\n",
       "</pre>\n"
      ],
      "text/plain": [
       "Applying muons |eta| < 2.4\n"
      ]
     },
     "metadata": {},
     "output_type": "display_data"
    },
    {
     "data": {
      "text/html": [
       "<pre style=\"white-space:pre;overflow-x:auto;line-height:normal;font-family:Menlo,'DejaVu Sans Mono',consolas,'Courier New',monospace\">Applying photons pT &gt; 20 GeV\n",
       "</pre>\n"
      ],
      "text/plain": [
       "Applying photons pT > 20 GeV\n"
      ]
     },
     "metadata": {},
     "output_type": "display_data"
    },
    {
     "data": {
      "text/html": [
       "<pre style=\"white-space:pre;overflow-x:auto;line-height:normal;font-family:Menlo,'DejaVu Sans Mono',consolas,'Courier New',monospace\">Applying photons |eta| &lt; 2.5\n",
       "</pre>\n"
      ],
      "text/plain": [
       "Applying photons |eta| < 2.5\n"
      ]
     },
     "metadata": {},
     "output_type": "display_data"
    },
    {
     "data": {
      "text/html": [
       "<pre style=\"white-space:pre;overflow-x:auto;line-height:normal;font-family:Menlo,'DejaVu Sans Mono',consolas,'Courier New',monospace\">Applying photons Custom Cutbased\n",
       "</pre>\n"
      ],
      "text/plain": [
       "Applying photons Custom Cutbased\n"
      ]
     },
     "metadata": {},
     "output_type": "display_data"
    },
    {
     "data": {
      "text/html": [
       "<pre style=\"white-space:pre;overflow-x:auto;line-height:normal;font-family:Menlo,'DejaVu Sans Mono',consolas,'Courier New',monospace\">Applying photons pixelSeed\n",
       "</pre>\n"
      ],
      "text/plain": [
       "Applying photons pixelSeed\n"
      ]
     },
     "metadata": {},
     "output_type": "display_data"
    },
    {
     "data": {
      "text/html": [
       "<pre style=\"white-space:pre;overflow-x:auto;line-height:normal;font-family:Menlo,'DejaVu Sans Mono',consolas,'Courier New',monospace\">Applying photons Photon DR Veto 0p025\n",
       "</pre>\n"
      ],
      "text/plain": [
       "Applying photons Photon DR Veto 0p025\n"
      ]
     },
     "metadata": {},
     "output_type": "display_data"
    },
    {
     "data": {
      "text/html": [
       "<pre style=\"white-space:pre;overflow-x:auto;line-height:normal;font-family:Menlo,'DejaVu Sans Mono',consolas,'Courier New',monospace\">Applying dsaMuons pT &gt; 10 GeV\n",
       "</pre>\n"
      ],
      "text/plain": [
       "Applying dsaMuons pT > 10 GeV\n"
      ]
     },
     "metadata": {},
     "output_type": "display_data"
    },
    {
     "data": {
      "text/html": [
       "<pre style=\"white-space:pre;overflow-x:auto;line-height:normal;font-family:Menlo,'DejaVu Sans Mono',consolas,'Courier New',monospace\">Applying dsaMuons |eta| &lt; 2.4\n",
       "</pre>\n"
      ],
      "text/plain": [
       "Applying dsaMuons |eta| < 2.4\n"
      ]
     },
     "metadata": {},
     "output_type": "display_data"
    },
    {
     "data": {
      "text/html": [
       "<pre style=\"white-space:pre;overflow-x:auto;line-height:normal;font-family:Menlo,'DejaVu Sans Mono',consolas,'Courier New',monospace\">Applying dsaMuons displaced ID\n",
       "</pre>\n"
      ],
      "text/plain": [
       "Applying dsaMuons displaced ID\n"
      ]
     },
     "metadata": {},
     "output_type": "display_data"
    },
    {
     "data": {
      "text/html": [
       "<pre style=\"white-space:pre;overflow-x:auto;line-height:normal;font-family:Menlo,'DejaVu Sans Mono',consolas,'Courier New',monospace\">Applying genAs_toMu close mu\n",
       "</pre>\n"
      ],
      "text/plain": [
       "Applying genAs_toMu close mu\n"
      ]
     },
     "metadata": {},
     "output_type": "display_data"
    },
    {
     "data": {
      "text/html": [
       "<pre style=\"white-space:pre;overflow-x:auto;line-height:normal;font-family:Menlo,'DejaVu Sans Mono',consolas,'Courier New',monospace\">Applying cut: PV filter\n",
       "</pre>\n"
      ],
      "text/plain": [
       "Applying cut: PV filter\n"
      ]
     },
     "metadata": {},
     "output_type": "display_data"
    },
    {
     "data": {
      "text/html": [
       "<pre style=\"white-space:pre;overflow-x:auto;line-height:normal;font-family:Menlo,'DejaVu Sans Mono',consolas,'Courier New',monospace\">Applying cut: pass triggers\n",
       "</pre>\n"
      ],
      "text/plain": [
       "Applying cut: pass triggers\n"
      ]
     },
     "metadata": {},
     "output_type": "display_data"
    },
    {
     "data": {
      "text/html": [
       "<pre style=\"white-space:pre;overflow-x:auto;line-height:normal;font-family:Menlo,'DejaVu Sans Mono',consolas,'Courier New',monospace\">Warning: a histogram with the name genAs_toMu_pt_MuMudR_lowRange could not be filled and will be skipped\n",
       "</pre>\n"
      ],
      "text/plain": [
       "Warning: a histogram with the name genAs_toMu_pt_MuMudR_lowRange could not be filled and will be skipped\n"
      ]
     },
     "metadata": {},
     "output_type": "display_data"
    },
    {
     "data": {
      "text/html": [
       "<pre style=\"white-space:pre;overflow-x:auto;line-height:normal;font-family:Menlo,'DejaVu Sans Mono',consolas,'Courier New',monospace\">Warning: a histogram with the name genAs_toMu_pt_MuMudR_XLowRange could not be filled and will be skipped\n",
       "</pre>\n"
      ],
      "text/plain": [
       "Warning: a histogram with the name genAs_toMu_pt_MuMudR_XLowRange could not be filled and will be skipped\n"
      ]
     },
     "metadata": {},
     "output_type": "display_data"
    },
    {
     "data": {
      "text/html": [
       "<pre style=\"white-space:pre;overflow-x:auto;line-height:normal;font-family:Menlo,'DejaVu Sans Mono',consolas,'Courier New',monospace\">Warning: a histogram with the name genAs_toMu_pt_MuMudR_XXLowRange could not be filled and will be skipped\n",
       "</pre>\n"
      ],
      "text/plain": [
       "Warning: a histogram with the name genAs_toMu_pt_MuMudR_XXLowRange could not be filled and will be skipped\n"
      ]
     },
     "metadata": {},
     "output_type": "display_data"
    },
    {
     "data": {
      "text/html": [
       "<pre style=\"white-space:pre;overflow-x:auto;line-height:normal;font-family:Menlo,'DejaVu Sans Mono',consolas,'Courier New',monospace\">Warning: a histogram with the name genAs_toMu_lxy_MuMudR could not be filled and will be skipped\n",
       "</pre>\n"
      ],
      "text/plain": [
       "Warning: a histogram with the name genAs_toMu_lxy_MuMudR could not be filled and will be skipped\n"
      ]
     },
     "metadata": {},
     "output_type": "display_data"
    },
    {
     "data": {
      "text/html": [
       "<pre style=\"white-space:pre;overflow-x:auto;line-height:normal;font-family:Menlo,'DejaVu Sans Mono',consolas,'Courier New',monospace\">Warning: a histogram with the name genAs_toMu_lxy_MuMudR_XLowRange could not be filled and will be skipped\n",
       "</pre>\n"
      ],
      "text/plain": [
       "Warning: a histogram with the name genAs_toMu_lxy_MuMudR_XLowRange could not be filled and will be skipped\n"
      ]
     },
     "metadata": {},
     "output_type": "display_data"
    },
    {
     "data": {
      "text/html": [
       "<pre style=\"white-space:pre;overflow-x:auto;line-height:normal;font-family:Menlo,'DejaVu Sans Mono',consolas,'Courier New',monospace\">Warning: a histogram with the name genAs_toMu_lxy_MuMudR_XXLowRange could not be filled and will be skipped\n",
       "</pre>\n"
      ],
      "text/plain": [
       "Warning: a histogram with the name genAs_toMu_lxy_MuMudR_XXLowRange could not be filled and will be skipped\n"
      ]
     },
     "metadata": {},
     "output_type": "display_data"
    },
    {
     "data": {
      "text/html": [
       "<pre style=\"white-space:pre;overflow-x:auto;line-height:normal;font-family:Menlo,'DejaVu Sans Mono',consolas,'Courier New',monospace\">Warning: a histogram with the name genAs_toMu_pt_MuMudR_highRange could not be filled and will be skipped\n",
       "</pre>\n"
      ],
      "text/plain": [
       "Warning: a histogram with the name genAs_toMu_pt_MuMudR_highRange could not be filled and will be skipped\n"
      ]
     },
     "metadata": {},
     "output_type": "display_data"
    },
    {
     "data": {
      "text/html": [
       "<pre style=\"white-space:pre;overflow-x:auto;line-height:normal;font-family:Menlo,'DejaVu Sans Mono',consolas,'Courier New',monospace\">Warning: a histogram with the name genAs_toMu_pt_highRange_MuMudR_lowRange could not be filled and will be skipped\n",
       "</pre>\n"
      ],
      "text/plain": [
       "Warning: a histogram with the name genAs_toMu_pt_highRange_MuMudR_lowRange could not be filled and will be skipped\n"
      ]
     },
     "metadata": {},
     "output_type": "display_data"
    },
    {
     "data": {
      "text/html": [
       "<pre style=\"white-space:pre;overflow-x:auto;line-height:normal;font-family:Menlo,'DejaVu Sans Mono',consolas,'Courier New',monospace\">Applying genMus status 1\n",
       "</pre>\n"
      ],
      "text/plain": [
       "Applying genMus status 1\n"
      ]
     },
     "metadata": {},
     "output_type": "display_data"
    },
    {
     "data": {
      "text/html": [
       "<pre style=\"white-space:pre;overflow-x:auto;line-height:normal;font-family:Menlo,'DejaVu Sans Mono',consolas,'Courier New',monospace\">Applying genEs status 1\n",
       "</pre>\n"
      ],
      "text/plain": [
       "Applying genEs status 1\n"
      ]
     },
     "metadata": {},
     "output_type": "display_data"
    },
    {
     "data": {
      "text/html": [
       "<pre style=\"white-space:pre;overflow-x:auto;line-height:normal;font-family:Menlo,'DejaVu Sans Mono',consolas,'Courier New',monospace\">Applying electrons pT &gt; 10 GeV\n",
       "</pre>\n"
      ],
      "text/plain": [
       "Applying electrons pT > 10 GeV\n"
      ]
     },
     "metadata": {},
     "output_type": "display_data"
    },
    {
     "data": {
      "text/html": [
       "<pre style=\"white-space:pre;overflow-x:auto;line-height:normal;font-family:Menlo,'DejaVu Sans Mono',consolas,'Courier New',monospace\">Applying electrons |eta| &lt; 2.4\n",
       "</pre>\n"
      ],
      "text/plain": [
       "Applying electrons |eta| < 2.4\n"
      ]
     },
     "metadata": {},
     "output_type": "display_data"
    },
    {
     "data": {
      "text/html": [
       "<pre style=\"white-space:pre;overflow-x:auto;line-height:normal;font-family:Menlo,'DejaVu Sans Mono',consolas,'Courier New',monospace\">Applying electrons MVANonIsoWPL\n",
       "</pre>\n"
      ],
      "text/plain": [
       "Applying electrons MVANonIsoWPL\n"
      ]
     },
     "metadata": {},
     "output_type": "display_data"
    },
    {
     "data": {
      "text/html": [
       "<pre style=\"white-space:pre;overflow-x:auto;line-height:normal;font-family:Menlo,'DejaVu Sans Mono',consolas,'Courier New',monospace\">Applying muons looseID\n",
       "</pre>\n"
      ],
      "text/plain": [
       "Applying muons looseID\n"
      ]
     },
     "metadata": {},
     "output_type": "display_data"
    },
    {
     "data": {
      "text/html": [
       "<pre style=\"white-space:pre;overflow-x:auto;line-height:normal;font-family:Menlo,'DejaVu Sans Mono',consolas,'Courier New',monospace\">Applying muons pT &gt; 5 GeV\n",
       "</pre>\n"
      ],
      "text/plain": [
       "Applying muons pT > 5 GeV\n"
      ]
     },
     "metadata": {},
     "output_type": "display_data"
    },
    {
     "data": {
      "text/html": [
       "<pre style=\"white-space:pre;overflow-x:auto;line-height:normal;font-family:Menlo,'DejaVu Sans Mono',consolas,'Courier New',monospace\">Applying muons |eta| &lt; 2.4\n",
       "</pre>\n"
      ],
      "text/plain": [
       "Applying muons |eta| < 2.4\n"
      ]
     },
     "metadata": {},
     "output_type": "display_data"
    },
    {
     "data": {
      "text/html": [
       "<pre style=\"white-space:pre;overflow-x:auto;line-height:normal;font-family:Menlo,'DejaVu Sans Mono',consolas,'Courier New',monospace\">Applying photons pT &gt; 20 GeV\n",
       "</pre>\n"
      ],
      "text/plain": [
       "Applying photons pT > 20 GeV\n"
      ]
     },
     "metadata": {},
     "output_type": "display_data"
    },
    {
     "data": {
      "text/html": [
       "<pre style=\"white-space:pre;overflow-x:auto;line-height:normal;font-family:Menlo,'DejaVu Sans Mono',consolas,'Courier New',monospace\">Applying photons |eta| &lt; 2.5\n",
       "</pre>\n"
      ],
      "text/plain": [
       "Applying photons |eta| < 2.5\n"
      ]
     },
     "metadata": {},
     "output_type": "display_data"
    },
    {
     "data": {
      "text/html": [
       "<pre style=\"white-space:pre;overflow-x:auto;line-height:normal;font-family:Menlo,'DejaVu Sans Mono',consolas,'Courier New',monospace\">Applying photons Custom Cutbased\n",
       "</pre>\n"
      ],
      "text/plain": [
       "Applying photons Custom Cutbased\n"
      ]
     },
     "metadata": {},
     "output_type": "display_data"
    },
    {
     "data": {
      "text/html": [
       "<pre style=\"white-space:pre;overflow-x:auto;line-height:normal;font-family:Menlo,'DejaVu Sans Mono',consolas,'Courier New',monospace\">Applying photons pixelSeed\n",
       "</pre>\n"
      ],
      "text/plain": [
       "Applying photons pixelSeed\n"
      ]
     },
     "metadata": {},
     "output_type": "display_data"
    },
    {
     "data": {
      "text/html": [
       "<pre style=\"white-space:pre;overflow-x:auto;line-height:normal;font-family:Menlo,'DejaVu Sans Mono',consolas,'Courier New',monospace\">Applying photons Photon DR Veto 0p025\n",
       "</pre>\n"
      ],
      "text/plain": [
       "Applying photons Photon DR Veto 0p025\n"
      ]
     },
     "metadata": {},
     "output_type": "display_data"
    },
    {
     "data": {
      "text/html": [
       "<pre style=\"white-space:pre;overflow-x:auto;line-height:normal;font-family:Menlo,'DejaVu Sans Mono',consolas,'Courier New',monospace\">Applying dsaMuons pT &gt; 10 GeV\n",
       "</pre>\n"
      ],
      "text/plain": [
       "Applying dsaMuons pT > 10 GeV\n"
      ]
     },
     "metadata": {},
     "output_type": "display_data"
    },
    {
     "data": {
      "text/html": [
       "<pre style=\"white-space:pre;overflow-x:auto;line-height:normal;font-family:Menlo,'DejaVu Sans Mono',consolas,'Courier New',monospace\">Applying dsaMuons |eta| &lt; 2.4\n",
       "</pre>\n"
      ],
      "text/plain": [
       "Applying dsaMuons |eta| < 2.4\n"
      ]
     },
     "metadata": {},
     "output_type": "display_data"
    },
    {
     "data": {
      "text/html": [
       "<pre style=\"white-space:pre;overflow-x:auto;line-height:normal;font-family:Menlo,'DejaVu Sans Mono',consolas,'Courier New',monospace\">Applying dsaMuons displaced ID\n",
       "</pre>\n"
      ],
      "text/plain": [
       "Applying dsaMuons displaced ID\n"
      ]
     },
     "metadata": {},
     "output_type": "display_data"
    },
    {
     "data": {
      "text/html": [
       "<pre style=\"white-space:pre;overflow-x:auto;line-height:normal;font-family:Menlo,'DejaVu Sans Mono',consolas,'Courier New',monospace\">Applying genAs_toMu &gt;= 2 close mu\n",
       "</pre>\n"
      ],
      "text/plain": [
       "Applying genAs_toMu >= 2 close mu\n"
      ]
     },
     "metadata": {},
     "output_type": "display_data"
    },
    {
     "data": {
      "text/html": [
       "<pre style=\"white-space:pre;overflow-x:auto;line-height:normal;font-family:Menlo,'DejaVu Sans Mono',consolas,'Courier New',monospace\">Applying cut: PV filter\n",
       "</pre>\n"
      ],
      "text/plain": [
       "Applying cut: PV filter\n"
      ]
     },
     "metadata": {},
     "output_type": "display_data"
    },
    {
     "data": {
      "text/html": [
       "<pre style=\"white-space:pre;overflow-x:auto;line-height:normal;font-family:Menlo,'DejaVu Sans Mono',consolas,'Courier New',monospace\">Applying cut: pass triggers\n",
       "</pre>\n"
      ],
      "text/plain": [
       "Applying cut: pass triggers\n"
      ]
     },
     "metadata": {},
     "output_type": "display_data"
    },
    {
     "data": {
      "text/html": [
       "<pre style=\"white-space:pre;overflow-x:auto;line-height:normal;font-family:Menlo,'DejaVu Sans Mono',consolas,'Courier New',monospace\">Warning: a histogram with the name genAs_toMu_pt_MuMudR_lowRange could not be filled and will be skipped\n",
       "</pre>\n"
      ],
      "text/plain": [
       "Warning: a histogram with the name genAs_toMu_pt_MuMudR_lowRange could not be filled and will be skipped\n"
      ]
     },
     "metadata": {},
     "output_type": "display_data"
    },
    {
     "data": {
      "text/html": [
       "<pre style=\"white-space:pre;overflow-x:auto;line-height:normal;font-family:Menlo,'DejaVu Sans Mono',consolas,'Courier New',monospace\">Warning: a histogram with the name genAs_toMu_pt_MuMudR_XLowRange could not be filled and will be skipped\n",
       "</pre>\n"
      ],
      "text/plain": [
       "Warning: a histogram with the name genAs_toMu_pt_MuMudR_XLowRange could not be filled and will be skipped\n"
      ]
     },
     "metadata": {},
     "output_type": "display_data"
    },
    {
     "data": {
      "text/html": [
       "<pre style=\"white-space:pre;overflow-x:auto;line-height:normal;font-family:Menlo,'DejaVu Sans Mono',consolas,'Courier New',monospace\">Warning: a histogram with the name genAs_toMu_pt_MuMudR_XXLowRange could not be filled and will be skipped\n",
       "</pre>\n"
      ],
      "text/plain": [
       "Warning: a histogram with the name genAs_toMu_pt_MuMudR_XXLowRange could not be filled and will be skipped\n"
      ]
     },
     "metadata": {},
     "output_type": "display_data"
    },
    {
     "data": {
      "text/html": [
       "<pre style=\"white-space:pre;overflow-x:auto;line-height:normal;font-family:Menlo,'DejaVu Sans Mono',consolas,'Courier New',monospace\">Warning: a histogram with the name genAs_toMu_lxy_MuMudR could not be filled and will be skipped\n",
       "</pre>\n"
      ],
      "text/plain": [
       "Warning: a histogram with the name genAs_toMu_lxy_MuMudR could not be filled and will be skipped\n"
      ]
     },
     "metadata": {},
     "output_type": "display_data"
    },
    {
     "data": {
      "text/html": [
       "<pre style=\"white-space:pre;overflow-x:auto;line-height:normal;font-family:Menlo,'DejaVu Sans Mono',consolas,'Courier New',monospace\">Warning: a histogram with the name genAs_toMu_lxy_MuMudR_XLowRange could not be filled and will be skipped\n",
       "</pre>\n"
      ],
      "text/plain": [
       "Warning: a histogram with the name genAs_toMu_lxy_MuMudR_XLowRange could not be filled and will be skipped\n"
      ]
     },
     "metadata": {},
     "output_type": "display_data"
    },
    {
     "data": {
      "text/html": [
       "<pre style=\"white-space:pre;overflow-x:auto;line-height:normal;font-family:Menlo,'DejaVu Sans Mono',consolas,'Courier New',monospace\">Warning: a histogram with the name genAs_toMu_lxy_MuMudR_XXLowRange could not be filled and will be skipped\n",
       "</pre>\n"
      ],
      "text/plain": [
       "Warning: a histogram with the name genAs_toMu_lxy_MuMudR_XXLowRange could not be filled and will be skipped\n"
      ]
     },
     "metadata": {},
     "output_type": "display_data"
    },
    {
     "data": {
      "text/html": [
       "<pre style=\"white-space:pre;overflow-x:auto;line-height:normal;font-family:Menlo,'DejaVu Sans Mono',consolas,'Courier New',monospace\">Warning: a histogram with the name genAs_toMu_pt_MuMudR_highRange could not be filled and will be skipped\n",
       "</pre>\n"
      ],
      "text/plain": [
       "Warning: a histogram with the name genAs_toMu_pt_MuMudR_highRange could not be filled and will be skipped\n"
      ]
     },
     "metadata": {},
     "output_type": "display_data"
    },
    {
     "data": {
      "text/html": [
       "<pre style=\"white-space:pre;overflow-x:auto;line-height:normal;font-family:Menlo,'DejaVu Sans Mono',consolas,'Courier New',monospace\">Warning: a histogram with the name genAs_toMu_pt_highRange_MuMudR_lowRange could not be filled and will be skipped\n",
       "</pre>\n"
      ],
      "text/plain": [
       "Warning: a histogram with the name genAs_toMu_pt_highRange_MuMudR_lowRange could not be filled and will be skipped\n"
      ]
     },
     "metadata": {},
     "output_type": "display_data"
    },
    {
     "data": {
      "text/html": [
       "<pre style=\"white-space:pre;overflow-x:auto;line-height:normal;font-family:Menlo,'DejaVu Sans Mono',consolas,'Courier New',monospace\">Applying genMus status 1\n",
       "</pre>\n"
      ],
      "text/plain": [
       "Applying genMus status 1\n"
      ]
     },
     "metadata": {},
     "output_type": "display_data"
    },
    {
     "data": {
      "text/html": [
       "<pre style=\"white-space:pre;overflow-x:auto;line-height:normal;font-family:Menlo,'DejaVu Sans Mono',consolas,'Courier New',monospace\">Applying genEs status 1\n",
       "</pre>\n"
      ],
      "text/plain": [
       "Applying genEs status 1\n"
      ]
     },
     "metadata": {},
     "output_type": "display_data"
    },
    {
     "data": {
      "text/html": [
       "<pre style=\"white-space:pre;overflow-x:auto;line-height:normal;font-family:Menlo,'DejaVu Sans Mono',consolas,'Courier New',monospace\">Applying cut: PV filter\n",
       "</pre>\n"
      ],
      "text/plain": [
       "Applying cut: PV filter\n"
      ]
     },
     "metadata": {},
     "output_type": "display_data"
    },
    {
     "data": {
      "text/html": [
       "<pre style=\"white-space:pre;overflow-x:auto;line-height:normal;font-family:Menlo,'DejaVu Sans Mono',consolas,'Courier New',monospace\">Applying genMus status 1\n",
       "</pre>\n"
      ],
      "text/plain": [
       "Applying genMus status 1\n"
      ]
     },
     "metadata": {},
     "output_type": "display_data"
    },
    {
     "data": {
      "text/html": [
       "<pre style=\"white-space:pre;overflow-x:auto;line-height:normal;font-family:Menlo,'DejaVu Sans Mono',consolas,'Courier New',monospace\">Applying genEs status 1\n",
       "</pre>\n"
      ],
      "text/plain": [
       "Applying genEs status 1\n"
      ]
     },
     "metadata": {},
     "output_type": "display_data"
    },
    {
     "data": {
      "text/html": [
       "<pre style=\"white-space:pre;overflow-x:auto;line-height:normal;font-family:Menlo,'DejaVu Sans Mono',consolas,'Courier New',monospace\">Applying genAs_toMu close dsaMu\n",
       "</pre>\n"
      ],
      "text/plain": [
       "Applying genAs_toMu close dsaMu\n"
      ]
     },
     "metadata": {},
     "output_type": "display_data"
    },
    {
     "data": {
      "text/html": [
       "<pre style=\"white-space:pre;overflow-x:auto;line-height:normal;font-family:Menlo,'DejaVu Sans Mono',consolas,'Courier New',monospace\">Applying cut: PV filter\n",
       "</pre>\n"
      ],
      "text/plain": [
       "Applying cut: PV filter\n"
      ]
     },
     "metadata": {},
     "output_type": "display_data"
    },
    {
     "data": {
      "text/html": [
       "<pre style=\"white-space:pre;overflow-x:auto;line-height:normal;font-family:Menlo,'DejaVu Sans Mono',consolas,'Courier New',monospace\">Warning: a histogram with the name genAs_toMu_pt_MuMudR_lowRange could not be filled and will be skipped\n",
       "</pre>\n"
      ],
      "text/plain": [
       "Warning: a histogram with the name genAs_toMu_pt_MuMudR_lowRange could not be filled and will be skipped\n"
      ]
     },
     "metadata": {},
     "output_type": "display_data"
    },
    {
     "data": {
      "text/html": [
       "<pre style=\"white-space:pre;overflow-x:auto;line-height:normal;font-family:Menlo,'DejaVu Sans Mono',consolas,'Courier New',monospace\">Warning: a histogram with the name genAs_toMu_pt_MuMudR_XLowRange could not be filled and will be skipped\n",
       "</pre>\n"
      ],
      "text/plain": [
       "Warning: a histogram with the name genAs_toMu_pt_MuMudR_XLowRange could not be filled and will be skipped\n"
      ]
     },
     "metadata": {},
     "output_type": "display_data"
    },
    {
     "data": {
      "text/html": [
       "<pre style=\"white-space:pre;overflow-x:auto;line-height:normal;font-family:Menlo,'DejaVu Sans Mono',consolas,'Courier New',monospace\">Warning: a histogram with the name genAs_toMu_pt_MuMudR_XXLowRange could not be filled and will be skipped\n",
       "</pre>\n"
      ],
      "text/plain": [
       "Warning: a histogram with the name genAs_toMu_pt_MuMudR_XXLowRange could not be filled and will be skipped\n"
      ]
     },
     "metadata": {},
     "output_type": "display_data"
    },
    {
     "data": {
      "text/html": [
       "<pre style=\"white-space:pre;overflow-x:auto;line-height:normal;font-family:Menlo,'DejaVu Sans Mono',consolas,'Courier New',monospace\">Warning: a histogram with the name genAs_toMu_lxy_MuMudR could not be filled and will be skipped\n",
       "</pre>\n"
      ],
      "text/plain": [
       "Warning: a histogram with the name genAs_toMu_lxy_MuMudR could not be filled and will be skipped\n"
      ]
     },
     "metadata": {},
     "output_type": "display_data"
    },
    {
     "data": {
      "text/html": [
       "<pre style=\"white-space:pre;overflow-x:auto;line-height:normal;font-family:Menlo,'DejaVu Sans Mono',consolas,'Courier New',monospace\">Warning: a histogram with the name genAs_toMu_lxy_MuMudR_XLowRange could not be filled and will be skipped\n",
       "</pre>\n"
      ],
      "text/plain": [
       "Warning: a histogram with the name genAs_toMu_lxy_MuMudR_XLowRange could not be filled and will be skipped\n"
      ]
     },
     "metadata": {},
     "output_type": "display_data"
    },
    {
     "data": {
      "text/html": [
       "<pre style=\"white-space:pre;overflow-x:auto;line-height:normal;font-family:Menlo,'DejaVu Sans Mono',consolas,'Courier New',monospace\">Warning: a histogram with the name genAs_toMu_lxy_MuMudR_XXLowRange could not be filled and will be skipped\n",
       "</pre>\n"
      ],
      "text/plain": [
       "Warning: a histogram with the name genAs_toMu_lxy_MuMudR_XXLowRange could not be filled and will be skipped\n"
      ]
     },
     "metadata": {},
     "output_type": "display_data"
    },
    {
     "data": {
      "text/html": [
       "<pre style=\"white-space:pre;overflow-x:auto;line-height:normal;font-family:Menlo,'DejaVu Sans Mono',consolas,'Courier New',monospace\">Warning: a histogram with the name genAs_toMu_pt_MuMudR_highRange could not be filled and will be skipped\n",
       "</pre>\n"
      ],
      "text/plain": [
       "Warning: a histogram with the name genAs_toMu_pt_MuMudR_highRange could not be filled and will be skipped\n"
      ]
     },
     "metadata": {},
     "output_type": "display_data"
    },
    {
     "data": {
      "text/html": [
       "<pre style=\"white-space:pre;overflow-x:auto;line-height:normal;font-family:Menlo,'DejaVu Sans Mono',consolas,'Courier New',monospace\">Warning: a histogram with the name genAs_toMu_pt_highRange_MuMudR_lowRange could not be filled and will be skipped\n",
       "</pre>\n"
      ],
      "text/plain": [
       "Warning: a histogram with the name genAs_toMu_pt_highRange_MuMudR_lowRange could not be filled and will be skipped\n"
      ]
     },
     "metadata": {},
     "output_type": "display_data"
    },
    {
     "data": {
      "text/html": [
       "<pre style=\"white-space:pre;overflow-x:auto;line-height:normal;font-family:Menlo,'DejaVu Sans Mono',consolas,'Courier New',monospace\">Applying genMus status 1\n",
       "</pre>\n"
      ],
      "text/plain": [
       "Applying genMus status 1\n"
      ]
     },
     "metadata": {},
     "output_type": "display_data"
    },
    {
     "data": {
      "text/html": [
       "<pre style=\"white-space:pre;overflow-x:auto;line-height:normal;font-family:Menlo,'DejaVu Sans Mono',consolas,'Courier New',monospace\">Applying genEs status 1\n",
       "</pre>\n"
      ],
      "text/plain": [
       "Applying genEs status 1\n"
      ]
     },
     "metadata": {},
     "output_type": "display_data"
    },
    {
     "data": {
      "text/html": [
       "<pre style=\"white-space:pre;overflow-x:auto;line-height:normal;font-family:Menlo,'DejaVu Sans Mono',consolas,'Courier New',monospace\">Applying genAs_toMu &gt;= 2 close dsaMu\n",
       "</pre>\n"
      ],
      "text/plain": [
       "Applying genAs_toMu >= 2 close dsaMu\n"
      ]
     },
     "metadata": {},
     "output_type": "display_data"
    },
    {
     "data": {
      "text/html": [
       "<pre style=\"white-space:pre;overflow-x:auto;line-height:normal;font-family:Menlo,'DejaVu Sans Mono',consolas,'Courier New',monospace\">Applying cut: PV filter\n",
       "</pre>\n"
      ],
      "text/plain": [
       "Applying cut: PV filter\n"
      ]
     },
     "metadata": {},
     "output_type": "display_data"
    },
    {
     "data": {
      "text/html": [
       "<pre style=\"white-space:pre;overflow-x:auto;line-height:normal;font-family:Menlo,'DejaVu Sans Mono',consolas,'Courier New',monospace\">Warning: a histogram with the name genAs_toMu_pt_MuMudR_lowRange could not be filled and will be skipped\n",
       "</pre>\n"
      ],
      "text/plain": [
       "Warning: a histogram with the name genAs_toMu_pt_MuMudR_lowRange could not be filled and will be skipped\n"
      ]
     },
     "metadata": {},
     "output_type": "display_data"
    },
    {
     "data": {
      "text/html": [
       "<pre style=\"white-space:pre;overflow-x:auto;line-height:normal;font-family:Menlo,'DejaVu Sans Mono',consolas,'Courier New',monospace\">Warning: a histogram with the name genAs_toMu_pt_MuMudR_XLowRange could not be filled and will be skipped\n",
       "</pre>\n"
      ],
      "text/plain": [
       "Warning: a histogram with the name genAs_toMu_pt_MuMudR_XLowRange could not be filled and will be skipped\n"
      ]
     },
     "metadata": {},
     "output_type": "display_data"
    },
    {
     "data": {
      "text/html": [
       "<pre style=\"white-space:pre;overflow-x:auto;line-height:normal;font-family:Menlo,'DejaVu Sans Mono',consolas,'Courier New',monospace\">Warning: a histogram with the name genAs_toMu_pt_MuMudR_XXLowRange could not be filled and will be skipped\n",
       "</pre>\n"
      ],
      "text/plain": [
       "Warning: a histogram with the name genAs_toMu_pt_MuMudR_XXLowRange could not be filled and will be skipped\n"
      ]
     },
     "metadata": {},
     "output_type": "display_data"
    },
    {
     "data": {
      "text/html": [
       "<pre style=\"white-space:pre;overflow-x:auto;line-height:normal;font-family:Menlo,'DejaVu Sans Mono',consolas,'Courier New',monospace\">Warning: a histogram with the name genAs_toMu_lxy_MuMudR could not be filled and will be skipped\n",
       "</pre>\n"
      ],
      "text/plain": [
       "Warning: a histogram with the name genAs_toMu_lxy_MuMudR could not be filled and will be skipped\n"
      ]
     },
     "metadata": {},
     "output_type": "display_data"
    },
    {
     "data": {
      "text/html": [
       "<pre style=\"white-space:pre;overflow-x:auto;line-height:normal;font-family:Menlo,'DejaVu Sans Mono',consolas,'Courier New',monospace\">Warning: a histogram with the name genAs_toMu_lxy_MuMudR_XLowRange could not be filled and will be skipped\n",
       "</pre>\n"
      ],
      "text/plain": [
       "Warning: a histogram with the name genAs_toMu_lxy_MuMudR_XLowRange could not be filled and will be skipped\n"
      ]
     },
     "metadata": {},
     "output_type": "display_data"
    },
    {
     "data": {
      "text/html": [
       "<pre style=\"white-space:pre;overflow-x:auto;line-height:normal;font-family:Menlo,'DejaVu Sans Mono',consolas,'Courier New',monospace\">Warning: a histogram with the name genAs_toMu_lxy_MuMudR_XXLowRange could not be filled and will be skipped\n",
       "</pre>\n"
      ],
      "text/plain": [
       "Warning: a histogram with the name genAs_toMu_lxy_MuMudR_XXLowRange could not be filled and will be skipped\n"
      ]
     },
     "metadata": {},
     "output_type": "display_data"
    },
    {
     "data": {
      "text/html": [
       "<pre style=\"white-space:pre;overflow-x:auto;line-height:normal;font-family:Menlo,'DejaVu Sans Mono',consolas,'Courier New',monospace\">Warning: a histogram with the name genAs_toMu_pt_MuMudR_highRange could not be filled and will be skipped\n",
       "</pre>\n"
      ],
      "text/plain": [
       "Warning: a histogram with the name genAs_toMu_pt_MuMudR_highRange could not be filled and will be skipped\n"
      ]
     },
     "metadata": {},
     "output_type": "display_data"
    },
    {
     "data": {
      "text/html": [
       "<pre style=\"white-space:pre;overflow-x:auto;line-height:normal;font-family:Menlo,'DejaVu Sans Mono',consolas,'Courier New',monospace\">Warning: a histogram with the name genAs_toMu_pt_highRange_MuMudR_lowRange could not be filled and will be skipped\n",
       "</pre>\n"
      ],
      "text/plain": [
       "Warning: a histogram with the name genAs_toMu_pt_highRange_MuMudR_lowRange could not be filled and will be skipped\n"
      ]
     },
     "metadata": {},
     "output_type": "display_data"
    },
    {
     "data": {
      "text/html": [
       "<pre style=\"white-space:pre;overflow-x:auto;line-height:normal;font-family:Menlo,'DejaVu Sans Mono',consolas,'Courier New',monospace\">Applying genMus status 1\n",
       "</pre>\n"
      ],
      "text/plain": [
       "Applying genMus status 1\n"
      ]
     },
     "metadata": {},
     "output_type": "display_data"
    },
    {
     "data": {
      "text/html": [
       "<pre style=\"white-space:pre;overflow-x:auto;line-height:normal;font-family:Menlo,'DejaVu Sans Mono',consolas,'Courier New',monospace\">Applying genEs status 1\n",
       "</pre>\n"
      ],
      "text/plain": [
       "Applying genEs status 1\n"
      ]
     },
     "metadata": {},
     "output_type": "display_data"
    },
    {
     "data": {
      "text/html": [
       "<pre style=\"white-space:pre;overflow-x:auto;line-height:normal;font-family:Menlo,'DejaVu Sans Mono',consolas,'Courier New',monospace\">Applying electrons pT &gt; 10 GeV\n",
       "</pre>\n"
      ],
      "text/plain": [
       "Applying electrons pT > 10 GeV\n"
      ]
     },
     "metadata": {},
     "output_type": "display_data"
    },
    {
     "data": {
      "text/html": [
       "<pre style=\"white-space:pre;overflow-x:auto;line-height:normal;font-family:Menlo,'DejaVu Sans Mono',consolas,'Courier New',monospace\">Applying electrons |eta| &lt; 2.4\n",
       "</pre>\n"
      ],
      "text/plain": [
       "Applying electrons |eta| < 2.4\n"
      ]
     },
     "metadata": {},
     "output_type": "display_data"
    },
    {
     "data": {
      "text/html": [
       "<pre style=\"white-space:pre;overflow-x:auto;line-height:normal;font-family:Menlo,'DejaVu Sans Mono',consolas,'Courier New',monospace\">Applying electrons MVANonIsoWPL\n",
       "</pre>\n"
      ],
      "text/plain": [
       "Applying electrons MVANonIsoWPL\n"
      ]
     },
     "metadata": {},
     "output_type": "display_data"
    },
    {
     "data": {
      "text/html": [
       "<pre style=\"white-space:pre;overflow-x:auto;line-height:normal;font-family:Menlo,'DejaVu Sans Mono',consolas,'Courier New',monospace\">Applying muons looseID\n",
       "</pre>\n"
      ],
      "text/plain": [
       "Applying muons looseID\n"
      ]
     },
     "metadata": {},
     "output_type": "display_data"
    },
    {
     "data": {
      "text/html": [
       "<pre style=\"white-space:pre;overflow-x:auto;line-height:normal;font-family:Menlo,'DejaVu Sans Mono',consolas,'Courier New',monospace\">Applying muons pT &gt; 5 GeV\n",
       "</pre>\n"
      ],
      "text/plain": [
       "Applying muons pT > 5 GeV\n"
      ]
     },
     "metadata": {},
     "output_type": "display_data"
    },
    {
     "data": {
      "text/html": [
       "<pre style=\"white-space:pre;overflow-x:auto;line-height:normal;font-family:Menlo,'DejaVu Sans Mono',consolas,'Courier New',monospace\">Applying muons |eta| &lt; 2.4\n",
       "</pre>\n"
      ],
      "text/plain": [
       "Applying muons |eta| < 2.4\n"
      ]
     },
     "metadata": {},
     "output_type": "display_data"
    },
    {
     "data": {
      "text/html": [
       "<pre style=\"white-space:pre;overflow-x:auto;line-height:normal;font-family:Menlo,'DejaVu Sans Mono',consolas,'Courier New',monospace\">Applying photons pT &gt; 20 GeV\n",
       "</pre>\n"
      ],
      "text/plain": [
       "Applying photons pT > 20 GeV\n"
      ]
     },
     "metadata": {},
     "output_type": "display_data"
    },
    {
     "data": {
      "text/html": [
       "<pre style=\"white-space:pre;overflow-x:auto;line-height:normal;font-family:Menlo,'DejaVu Sans Mono',consolas,'Courier New',monospace\">Applying photons |eta| &lt; 2.5\n",
       "</pre>\n"
      ],
      "text/plain": [
       "Applying photons |eta| < 2.5\n"
      ]
     },
     "metadata": {},
     "output_type": "display_data"
    },
    {
     "data": {
      "text/html": [
       "<pre style=\"white-space:pre;overflow-x:auto;line-height:normal;font-family:Menlo,'DejaVu Sans Mono',consolas,'Courier New',monospace\">Applying photons Custom Cutbased\n",
       "</pre>\n"
      ],
      "text/plain": [
       "Applying photons Custom Cutbased\n"
      ]
     },
     "metadata": {},
     "output_type": "display_data"
    },
    {
     "data": {
      "text/html": [
       "<pre style=\"white-space:pre;overflow-x:auto;line-height:normal;font-family:Menlo,'DejaVu Sans Mono',consolas,'Courier New',monospace\">Applying photons pixelSeed\n",
       "</pre>\n"
      ],
      "text/plain": [
       "Applying photons pixelSeed\n"
      ]
     },
     "metadata": {},
     "output_type": "display_data"
    },
    {
     "data": {
      "text/html": [
       "<pre style=\"white-space:pre;overflow-x:auto;line-height:normal;font-family:Menlo,'DejaVu Sans Mono',consolas,'Courier New',monospace\">Applying photons Photon DR Veto 0p025\n",
       "</pre>\n"
      ],
      "text/plain": [
       "Applying photons Photon DR Veto 0p025\n"
      ]
     },
     "metadata": {},
     "output_type": "display_data"
    },
    {
     "data": {
      "text/html": [
       "<pre style=\"white-space:pre;overflow-x:auto;line-height:normal;font-family:Menlo,'DejaVu Sans Mono',consolas,'Courier New',monospace\">Applying dsaMuons pT &gt; 10 GeV\n",
       "</pre>\n"
      ],
      "text/plain": [
       "Applying dsaMuons pT > 10 GeV\n"
      ]
     },
     "metadata": {},
     "output_type": "display_data"
    },
    {
     "data": {
      "text/html": [
       "<pre style=\"white-space:pre;overflow-x:auto;line-height:normal;font-family:Menlo,'DejaVu Sans Mono',consolas,'Courier New',monospace\">Applying dsaMuons |eta| &lt; 2.4\n",
       "</pre>\n"
      ],
      "text/plain": [
       "Applying dsaMuons |eta| < 2.4\n"
      ]
     },
     "metadata": {},
     "output_type": "display_data"
    },
    {
     "data": {
      "text/html": [
       "<pre style=\"white-space:pre;overflow-x:auto;line-height:normal;font-family:Menlo,'DejaVu Sans Mono',consolas,'Courier New',monospace\">Applying dsaMuons displaced ID\n",
       "</pre>\n"
      ],
      "text/plain": [
       "Applying dsaMuons displaced ID\n"
      ]
     },
     "metadata": {},
     "output_type": "display_data"
    },
    {
     "data": {
      "text/html": [
       "<pre style=\"white-space:pre;overflow-x:auto;line-height:normal;font-family:Menlo,'DejaVu Sans Mono',consolas,'Courier New',monospace\">Applying genAs_toMu close dsaMu\n",
       "</pre>\n"
      ],
      "text/plain": [
       "Applying genAs_toMu close dsaMu\n"
      ]
     },
     "metadata": {},
     "output_type": "display_data"
    },
    {
     "data": {
      "text/html": [
       "<pre style=\"white-space:pre;overflow-x:auto;line-height:normal;font-family:Menlo,'DejaVu Sans Mono',consolas,'Courier New',monospace\">Applying cut: PV filter\n",
       "</pre>\n"
      ],
      "text/plain": [
       "Applying cut: PV filter\n"
      ]
     },
     "metadata": {},
     "output_type": "display_data"
    },
    {
     "data": {
      "text/html": [
       "<pre style=\"white-space:pre;overflow-x:auto;line-height:normal;font-family:Menlo,'DejaVu Sans Mono',consolas,'Courier New',monospace\">Applying cut: pass triggers\n",
       "</pre>\n"
      ],
      "text/plain": [
       "Applying cut: pass triggers\n"
      ]
     },
     "metadata": {},
     "output_type": "display_data"
    },
    {
     "data": {
      "text/html": [
       "<pre style=\"white-space:pre;overflow-x:auto;line-height:normal;font-family:Menlo,'DejaVu Sans Mono',consolas,'Courier New',monospace\">Warning: a histogram with the name genAs_toMu_pt_MuMudR_lowRange could not be filled and will be skipped\n",
       "</pre>\n"
      ],
      "text/plain": [
       "Warning: a histogram with the name genAs_toMu_pt_MuMudR_lowRange could not be filled and will be skipped\n"
      ]
     },
     "metadata": {},
     "output_type": "display_data"
    },
    {
     "data": {
      "text/html": [
       "<pre style=\"white-space:pre;overflow-x:auto;line-height:normal;font-family:Menlo,'DejaVu Sans Mono',consolas,'Courier New',monospace\">Warning: a histogram with the name genAs_toMu_pt_MuMudR_XLowRange could not be filled and will be skipped\n",
       "</pre>\n"
      ],
      "text/plain": [
       "Warning: a histogram with the name genAs_toMu_pt_MuMudR_XLowRange could not be filled and will be skipped\n"
      ]
     },
     "metadata": {},
     "output_type": "display_data"
    },
    {
     "data": {
      "text/html": [
       "<pre style=\"white-space:pre;overflow-x:auto;line-height:normal;font-family:Menlo,'DejaVu Sans Mono',consolas,'Courier New',monospace\">Warning: a histogram with the name genAs_toMu_pt_MuMudR_XXLowRange could not be filled and will be skipped\n",
       "</pre>\n"
      ],
      "text/plain": [
       "Warning: a histogram with the name genAs_toMu_pt_MuMudR_XXLowRange could not be filled and will be skipped\n"
      ]
     },
     "metadata": {},
     "output_type": "display_data"
    },
    {
     "data": {
      "text/html": [
       "<pre style=\"white-space:pre;overflow-x:auto;line-height:normal;font-family:Menlo,'DejaVu Sans Mono',consolas,'Courier New',monospace\">Warning: a histogram with the name genAs_toMu_lxy_MuMudR could not be filled and will be skipped\n",
       "</pre>\n"
      ],
      "text/plain": [
       "Warning: a histogram with the name genAs_toMu_lxy_MuMudR could not be filled and will be skipped\n"
      ]
     },
     "metadata": {},
     "output_type": "display_data"
    },
    {
     "data": {
      "text/html": [
       "<pre style=\"white-space:pre;overflow-x:auto;line-height:normal;font-family:Menlo,'DejaVu Sans Mono',consolas,'Courier New',monospace\">Warning: a histogram with the name genAs_toMu_lxy_MuMudR_XLowRange could not be filled and will be skipped\n",
       "</pre>\n"
      ],
      "text/plain": [
       "Warning: a histogram with the name genAs_toMu_lxy_MuMudR_XLowRange could not be filled and will be skipped\n"
      ]
     },
     "metadata": {},
     "output_type": "display_data"
    },
    {
     "data": {
      "text/html": [
       "<pre style=\"white-space:pre;overflow-x:auto;line-height:normal;font-family:Menlo,'DejaVu Sans Mono',consolas,'Courier New',monospace\">Warning: a histogram with the name genAs_toMu_lxy_MuMudR_XXLowRange could not be filled and will be skipped\n",
       "</pre>\n"
      ],
      "text/plain": [
       "Warning: a histogram with the name genAs_toMu_lxy_MuMudR_XXLowRange could not be filled and will be skipped\n"
      ]
     },
     "metadata": {},
     "output_type": "display_data"
    },
    {
     "data": {
      "text/html": [
       "<pre style=\"white-space:pre;overflow-x:auto;line-height:normal;font-family:Menlo,'DejaVu Sans Mono',consolas,'Courier New',monospace\">Warning: a histogram with the name genAs_toMu_pt_MuMudR_highRange could not be filled and will be skipped\n",
       "</pre>\n"
      ],
      "text/plain": [
       "Warning: a histogram with the name genAs_toMu_pt_MuMudR_highRange could not be filled and will be skipped\n"
      ]
     },
     "metadata": {},
     "output_type": "display_data"
    },
    {
     "data": {
      "text/html": [
       "<pre style=\"white-space:pre;overflow-x:auto;line-height:normal;font-family:Menlo,'DejaVu Sans Mono',consolas,'Courier New',monospace\">Warning: a histogram with the name genAs_toMu_pt_highRange_MuMudR_lowRange could not be filled and will be skipped\n",
       "</pre>\n"
      ],
      "text/plain": [
       "Warning: a histogram with the name genAs_toMu_pt_highRange_MuMudR_lowRange could not be filled and will be skipped\n"
      ]
     },
     "metadata": {},
     "output_type": "display_data"
    },
    {
     "data": {
      "text/html": [
       "<pre style=\"white-space:pre;overflow-x:auto;line-height:normal;font-family:Menlo,'DejaVu Sans Mono',consolas,'Courier New',monospace\">Applying genMus status 1\n",
       "</pre>\n"
      ],
      "text/plain": [
       "Applying genMus status 1\n"
      ]
     },
     "metadata": {},
     "output_type": "display_data"
    },
    {
     "data": {
      "text/html": [
       "<pre style=\"white-space:pre;overflow-x:auto;line-height:normal;font-family:Menlo,'DejaVu Sans Mono',consolas,'Courier New',monospace\">Applying genEs status 1\n",
       "</pre>\n"
      ],
      "text/plain": [
       "Applying genEs status 1\n"
      ]
     },
     "metadata": {},
     "output_type": "display_data"
    },
    {
     "data": {
      "text/html": [
       "<pre style=\"white-space:pre;overflow-x:auto;line-height:normal;font-family:Menlo,'DejaVu Sans Mono',consolas,'Courier New',monospace\">Applying electrons pT &gt; 10 GeV\n",
       "</pre>\n"
      ],
      "text/plain": [
       "Applying electrons pT > 10 GeV\n"
      ]
     },
     "metadata": {},
     "output_type": "display_data"
    },
    {
     "data": {
      "text/html": [
       "<pre style=\"white-space:pre;overflow-x:auto;line-height:normal;font-family:Menlo,'DejaVu Sans Mono',consolas,'Courier New',monospace\">Applying electrons |eta| &lt; 2.4\n",
       "</pre>\n"
      ],
      "text/plain": [
       "Applying electrons |eta| < 2.4\n"
      ]
     },
     "metadata": {},
     "output_type": "display_data"
    },
    {
     "data": {
      "text/html": [
       "<pre style=\"white-space:pre;overflow-x:auto;line-height:normal;font-family:Menlo,'DejaVu Sans Mono',consolas,'Courier New',monospace\">Applying electrons MVANonIsoWPL\n",
       "</pre>\n"
      ],
      "text/plain": [
       "Applying electrons MVANonIsoWPL\n"
      ]
     },
     "metadata": {},
     "output_type": "display_data"
    },
    {
     "data": {
      "text/html": [
       "<pre style=\"white-space:pre;overflow-x:auto;line-height:normal;font-family:Menlo,'DejaVu Sans Mono',consolas,'Courier New',monospace\">Applying muons looseID\n",
       "</pre>\n"
      ],
      "text/plain": [
       "Applying muons looseID\n"
      ]
     },
     "metadata": {},
     "output_type": "display_data"
    },
    {
     "data": {
      "text/html": [
       "<pre style=\"white-space:pre;overflow-x:auto;line-height:normal;font-family:Menlo,'DejaVu Sans Mono',consolas,'Courier New',monospace\">Applying muons pT &gt; 5 GeV\n",
       "</pre>\n"
      ],
      "text/plain": [
       "Applying muons pT > 5 GeV\n"
      ]
     },
     "metadata": {},
     "output_type": "display_data"
    },
    {
     "data": {
      "text/html": [
       "<pre style=\"white-space:pre;overflow-x:auto;line-height:normal;font-family:Menlo,'DejaVu Sans Mono',consolas,'Courier New',monospace\">Applying muons |eta| &lt; 2.4\n",
       "</pre>\n"
      ],
      "text/plain": [
       "Applying muons |eta| < 2.4\n"
      ]
     },
     "metadata": {},
     "output_type": "display_data"
    },
    {
     "data": {
      "text/html": [
       "<pre style=\"white-space:pre;overflow-x:auto;line-height:normal;font-family:Menlo,'DejaVu Sans Mono',consolas,'Courier New',monospace\">Applying photons pT &gt; 20 GeV\n",
       "</pre>\n"
      ],
      "text/plain": [
       "Applying photons pT > 20 GeV\n"
      ]
     },
     "metadata": {},
     "output_type": "display_data"
    },
    {
     "data": {
      "text/html": [
       "<pre style=\"white-space:pre;overflow-x:auto;line-height:normal;font-family:Menlo,'DejaVu Sans Mono',consolas,'Courier New',monospace\">Applying photons |eta| &lt; 2.5\n",
       "</pre>\n"
      ],
      "text/plain": [
       "Applying photons |eta| < 2.5\n"
      ]
     },
     "metadata": {},
     "output_type": "display_data"
    },
    {
     "data": {
      "text/html": [
       "<pre style=\"white-space:pre;overflow-x:auto;line-height:normal;font-family:Menlo,'DejaVu Sans Mono',consolas,'Courier New',monospace\">Applying photons Custom Cutbased\n",
       "</pre>\n"
      ],
      "text/plain": [
       "Applying photons Custom Cutbased\n"
      ]
     },
     "metadata": {},
     "output_type": "display_data"
    },
    {
     "data": {
      "text/html": [
       "<pre style=\"white-space:pre;overflow-x:auto;line-height:normal;font-family:Menlo,'DejaVu Sans Mono',consolas,'Courier New',monospace\">Applying photons pixelSeed\n",
       "</pre>\n"
      ],
      "text/plain": [
       "Applying photons pixelSeed\n"
      ]
     },
     "metadata": {},
     "output_type": "display_data"
    },
    {
     "data": {
      "text/html": [
       "<pre style=\"white-space:pre;overflow-x:auto;line-height:normal;font-family:Menlo,'DejaVu Sans Mono',consolas,'Courier New',monospace\">Applying photons Photon DR Veto 0p025\n",
       "</pre>\n"
      ],
      "text/plain": [
       "Applying photons Photon DR Veto 0p025\n"
      ]
     },
     "metadata": {},
     "output_type": "display_data"
    },
    {
     "data": {
      "text/html": [
       "<pre style=\"white-space:pre;overflow-x:auto;line-height:normal;font-family:Menlo,'DejaVu Sans Mono',consolas,'Courier New',monospace\">Applying dsaMuons pT &gt; 10 GeV\n",
       "</pre>\n"
      ],
      "text/plain": [
       "Applying dsaMuons pT > 10 GeV\n"
      ]
     },
     "metadata": {},
     "output_type": "display_data"
    },
    {
     "data": {
      "text/html": [
       "<pre style=\"white-space:pre;overflow-x:auto;line-height:normal;font-family:Menlo,'DejaVu Sans Mono',consolas,'Courier New',monospace\">Applying dsaMuons |eta| &lt; 2.4\n",
       "</pre>\n"
      ],
      "text/plain": [
       "Applying dsaMuons |eta| < 2.4\n"
      ]
     },
     "metadata": {},
     "output_type": "display_data"
    },
    {
     "data": {
      "text/html": [
       "<pre style=\"white-space:pre;overflow-x:auto;line-height:normal;font-family:Menlo,'DejaVu Sans Mono',consolas,'Courier New',monospace\">Applying dsaMuons displaced ID\n",
       "</pre>\n"
      ],
      "text/plain": [
       "Applying dsaMuons displaced ID\n"
      ]
     },
     "metadata": {},
     "output_type": "display_data"
    },
    {
     "data": {
      "text/html": [
       "<pre style=\"white-space:pre;overflow-x:auto;line-height:normal;font-family:Menlo,'DejaVu Sans Mono',consolas,'Courier New',monospace\">Applying genAs_toMu &gt;= 2 close dsaMu\n",
       "</pre>\n"
      ],
      "text/plain": [
       "Applying genAs_toMu >= 2 close dsaMu\n"
      ]
     },
     "metadata": {},
     "output_type": "display_data"
    },
    {
     "data": {
      "text/html": [
       "<pre style=\"white-space:pre;overflow-x:auto;line-height:normal;font-family:Menlo,'DejaVu Sans Mono',consolas,'Courier New',monospace\">Applying cut: PV filter\n",
       "</pre>\n"
      ],
      "text/plain": [
       "Applying cut: PV filter\n"
      ]
     },
     "metadata": {},
     "output_type": "display_data"
    },
    {
     "data": {
      "text/html": [
       "<pre style=\"white-space:pre;overflow-x:auto;line-height:normal;font-family:Menlo,'DejaVu Sans Mono',consolas,'Courier New',monospace\">Applying cut: pass triggers\n",
       "</pre>\n"
      ],
      "text/plain": [
       "Applying cut: pass triggers\n"
      ]
     },
     "metadata": {},
     "output_type": "display_data"
    },
    {
     "data": {
      "text/html": [
       "<pre style=\"white-space:pre;overflow-x:auto;line-height:normal;font-family:Menlo,'DejaVu Sans Mono',consolas,'Courier New',monospace\">Warning: a histogram with the name genAs_toMu_pt_MuMudR_lowRange could not be filled and will be skipped\n",
       "</pre>\n"
      ],
      "text/plain": [
       "Warning: a histogram with the name genAs_toMu_pt_MuMudR_lowRange could not be filled and will be skipped\n"
      ]
     },
     "metadata": {},
     "output_type": "display_data"
    },
    {
     "data": {
      "text/html": [
       "<pre style=\"white-space:pre;overflow-x:auto;line-height:normal;font-family:Menlo,'DejaVu Sans Mono',consolas,'Courier New',monospace\">Warning: a histogram with the name genAs_toMu_pt_MuMudR_XLowRange could not be filled and will be skipped\n",
       "</pre>\n"
      ],
      "text/plain": [
       "Warning: a histogram with the name genAs_toMu_pt_MuMudR_XLowRange could not be filled and will be skipped\n"
      ]
     },
     "metadata": {},
     "output_type": "display_data"
    },
    {
     "data": {
      "text/html": [
       "<pre style=\"white-space:pre;overflow-x:auto;line-height:normal;font-family:Menlo,'DejaVu Sans Mono',consolas,'Courier New',monospace\">Warning: a histogram with the name genAs_toMu_pt_MuMudR_XXLowRange could not be filled and will be skipped\n",
       "</pre>\n"
      ],
      "text/plain": [
       "Warning: a histogram with the name genAs_toMu_pt_MuMudR_XXLowRange could not be filled and will be skipped\n"
      ]
     },
     "metadata": {},
     "output_type": "display_data"
    },
    {
     "data": {
      "text/html": [
       "<pre style=\"white-space:pre;overflow-x:auto;line-height:normal;font-family:Menlo,'DejaVu Sans Mono',consolas,'Courier New',monospace\">Warning: a histogram with the name genAs_toMu_lxy_MuMudR could not be filled and will be skipped\n",
       "</pre>\n"
      ],
      "text/plain": [
       "Warning: a histogram with the name genAs_toMu_lxy_MuMudR could not be filled and will be skipped\n"
      ]
     },
     "metadata": {},
     "output_type": "display_data"
    },
    {
     "data": {
      "text/html": [
       "<pre style=\"white-space:pre;overflow-x:auto;line-height:normal;font-family:Menlo,'DejaVu Sans Mono',consolas,'Courier New',monospace\">Warning: a histogram with the name genAs_toMu_lxy_MuMudR_XLowRange could not be filled and will be skipped\n",
       "</pre>\n"
      ],
      "text/plain": [
       "Warning: a histogram with the name genAs_toMu_lxy_MuMudR_XLowRange could not be filled and will be skipped\n"
      ]
     },
     "metadata": {},
     "output_type": "display_data"
    },
    {
     "data": {
      "text/html": [
       "<pre style=\"white-space:pre;overflow-x:auto;line-height:normal;font-family:Menlo,'DejaVu Sans Mono',consolas,'Courier New',monospace\">Warning: a histogram with the name genAs_toMu_lxy_MuMudR_XXLowRange could not be filled and will be skipped\n",
       "</pre>\n"
      ],
      "text/plain": [
       "Warning: a histogram with the name genAs_toMu_lxy_MuMudR_XXLowRange could not be filled and will be skipped\n"
      ]
     },
     "metadata": {},
     "output_type": "display_data"
    },
    {
     "data": {
      "text/html": [
       "<pre style=\"white-space:pre;overflow-x:auto;line-height:normal;font-family:Menlo,'DejaVu Sans Mono',consolas,'Courier New',monospace\">Warning: a histogram with the name genAs_toMu_pt_MuMudR_highRange could not be filled and will be skipped\n",
       "</pre>\n"
      ],
      "text/plain": [
       "Warning: a histogram with the name genAs_toMu_pt_MuMudR_highRange could not be filled and will be skipped\n"
      ]
     },
     "metadata": {},
     "output_type": "display_data"
    },
    {
     "data": {
      "text/html": [
       "<pre style=\"white-space:pre;overflow-x:auto;line-height:normal;font-family:Menlo,'DejaVu Sans Mono',consolas,'Courier New',monospace\">Warning: a histogram with the name genAs_toMu_pt_highRange_MuMudR_lowRange could not be filled and will be skipped\n",
       "</pre>\n"
      ],
      "text/plain": [
       "Warning: a histogram with the name genAs_toMu_pt_highRange_MuMudR_lowRange could not be filled and will be skipped\n"
      ]
     },
     "metadata": {},
     "output_type": "display_data"
    },
    {
     "data": {
      "text/html": [
       "<pre style=\"white-space:pre;overflow-x:auto;line-height:normal;font-family:Menlo,'DejaVu Sans Mono',consolas,'Courier New',monospace\">Applying genMus status 1\n",
       "</pre>\n"
      ],
      "text/plain": [
       "Applying genMus status 1\n"
      ]
     },
     "metadata": {},
     "output_type": "display_data"
    },
    {
     "data": {
      "text/html": [
       "<pre style=\"white-space:pre;overflow-x:auto;line-height:normal;font-family:Menlo,'DejaVu Sans Mono',consolas,'Courier New',monospace\">Applying genEs status 1\n",
       "</pre>\n"
      ],
      "text/plain": [
       "Applying genEs status 1\n"
      ]
     },
     "metadata": {},
     "output_type": "display_data"
    },
    {
     "data": {
      "text/html": [
       "<pre style=\"white-space:pre;overflow-x:auto;line-height:normal;font-family:Menlo,'DejaVu Sans Mono',consolas,'Courier New',monospace\">Applying genAs_toMu close mu\n",
       "</pre>\n"
      ],
      "text/plain": [
       "Applying genAs_toMu close mu\n"
      ]
     },
     "metadata": {},
     "output_type": "display_data"
    },
    {
     "data": {
      "text/html": [
       "<pre style=\"white-space:pre;overflow-x:auto;line-height:normal;font-family:Menlo,'DejaVu Sans Mono',consolas,'Courier New',monospace\">Applying cut: PV filter\n",
       "</pre>\n"
      ],
      "text/plain": [
       "Applying cut: PV filter\n"
      ]
     },
     "metadata": {},
     "output_type": "display_data"
    },
    {
     "data": {
      "text/html": [
       "<pre style=\"white-space:pre;overflow-x:auto;line-height:normal;font-family:Menlo,'DejaVu Sans Mono',consolas,'Courier New',monospace\">Warning: a histogram with the name genAs_toMu_pt_MuMudR_lowRange could not be filled and will be skipped\n",
       "</pre>\n"
      ],
      "text/plain": [
       "Warning: a histogram with the name genAs_toMu_pt_MuMudR_lowRange could not be filled and will be skipped\n"
      ]
     },
     "metadata": {},
     "output_type": "display_data"
    },
    {
     "data": {
      "text/html": [
       "<pre style=\"white-space:pre;overflow-x:auto;line-height:normal;font-family:Menlo,'DejaVu Sans Mono',consolas,'Courier New',monospace\">Warning: a histogram with the name genAs_toMu_pt_MuMudR_XLowRange could not be filled and will be skipped\n",
       "</pre>\n"
      ],
      "text/plain": [
       "Warning: a histogram with the name genAs_toMu_pt_MuMudR_XLowRange could not be filled and will be skipped\n"
      ]
     },
     "metadata": {},
     "output_type": "display_data"
    },
    {
     "data": {
      "text/html": [
       "<pre style=\"white-space:pre;overflow-x:auto;line-height:normal;font-family:Menlo,'DejaVu Sans Mono',consolas,'Courier New',monospace\">Warning: a histogram with the name genAs_toMu_pt_MuMudR_XXLowRange could not be filled and will be skipped\n",
       "</pre>\n"
      ],
      "text/plain": [
       "Warning: a histogram with the name genAs_toMu_pt_MuMudR_XXLowRange could not be filled and will be skipped\n"
      ]
     },
     "metadata": {},
     "output_type": "display_data"
    },
    {
     "data": {
      "text/html": [
       "<pre style=\"white-space:pre;overflow-x:auto;line-height:normal;font-family:Menlo,'DejaVu Sans Mono',consolas,'Courier New',monospace\">Warning: a histogram with the name genAs_toMu_lxy_MuMudR could not be filled and will be skipped\n",
       "</pre>\n"
      ],
      "text/plain": [
       "Warning: a histogram with the name genAs_toMu_lxy_MuMudR could not be filled and will be skipped\n"
      ]
     },
     "metadata": {},
     "output_type": "display_data"
    },
    {
     "data": {
      "text/html": [
       "<pre style=\"white-space:pre;overflow-x:auto;line-height:normal;font-family:Menlo,'DejaVu Sans Mono',consolas,'Courier New',monospace\">Warning: a histogram with the name genAs_toMu_lxy_MuMudR_XLowRange could not be filled and will be skipped\n",
       "</pre>\n"
      ],
      "text/plain": [
       "Warning: a histogram with the name genAs_toMu_lxy_MuMudR_XLowRange could not be filled and will be skipped\n"
      ]
     },
     "metadata": {},
     "output_type": "display_data"
    },
    {
     "data": {
      "text/html": [
       "<pre style=\"white-space:pre;overflow-x:auto;line-height:normal;font-family:Menlo,'DejaVu Sans Mono',consolas,'Courier New',monospace\">Warning: a histogram with the name genAs_toMu_lxy_MuMudR_XXLowRange could not be filled and will be skipped\n",
       "</pre>\n"
      ],
      "text/plain": [
       "Warning: a histogram with the name genAs_toMu_lxy_MuMudR_XXLowRange could not be filled and will be skipped\n"
      ]
     },
     "metadata": {},
     "output_type": "display_data"
    },
    {
     "data": {
      "text/html": [
       "<pre style=\"white-space:pre;overflow-x:auto;line-height:normal;font-family:Menlo,'DejaVu Sans Mono',consolas,'Courier New',monospace\">Warning: a histogram with the name genAs_toMu_pt_MuMudR_highRange could not be filled and will be skipped\n",
       "</pre>\n"
      ],
      "text/plain": [
       "Warning: a histogram with the name genAs_toMu_pt_MuMudR_highRange could not be filled and will be skipped\n"
      ]
     },
     "metadata": {},
     "output_type": "display_data"
    },
    {
     "data": {
      "text/html": [
       "<pre style=\"white-space:pre;overflow-x:auto;line-height:normal;font-family:Menlo,'DejaVu Sans Mono',consolas,'Courier New',monospace\">Warning: a histogram with the name genAs_toMu_pt_highRange_MuMudR_lowRange could not be filled and will be skipped\n",
       "</pre>\n"
      ],
      "text/plain": [
       "Warning: a histogram with the name genAs_toMu_pt_highRange_MuMudR_lowRange could not be filled and will be skipped\n"
      ]
     },
     "metadata": {},
     "output_type": "display_data"
    },
    {
     "data": {
      "text/html": [
       "<pre style=\"white-space:pre;overflow-x:auto;line-height:normal;font-family:Menlo,'DejaVu Sans Mono',consolas,'Courier New',monospace\">Applying genMus status 1\n",
       "</pre>\n"
      ],
      "text/plain": [
       "Applying genMus status 1\n"
      ]
     },
     "metadata": {},
     "output_type": "display_data"
    },
    {
     "data": {
      "text/html": [
       "<pre style=\"white-space:pre;overflow-x:auto;line-height:normal;font-family:Menlo,'DejaVu Sans Mono',consolas,'Courier New',monospace\">Applying genEs status 1\n",
       "</pre>\n"
      ],
      "text/plain": [
       "Applying genEs status 1\n"
      ]
     },
     "metadata": {},
     "output_type": "display_data"
    },
    {
     "data": {
      "text/html": [
       "<pre style=\"white-space:pre;overflow-x:auto;line-height:normal;font-family:Menlo,'DejaVu Sans Mono',consolas,'Courier New',monospace\">Applying genAs_toMu &gt;= 2 close mu\n",
       "</pre>\n"
      ],
      "text/plain": [
       "Applying genAs_toMu >= 2 close mu\n"
      ]
     },
     "metadata": {},
     "output_type": "display_data"
    },
    {
     "data": {
      "text/html": [
       "<pre style=\"white-space:pre;overflow-x:auto;line-height:normal;font-family:Menlo,'DejaVu Sans Mono',consolas,'Courier New',monospace\">Applying cut: PV filter\n",
       "</pre>\n"
      ],
      "text/plain": [
       "Applying cut: PV filter\n"
      ]
     },
     "metadata": {},
     "output_type": "display_data"
    },
    {
     "data": {
      "text/html": [
       "<pre style=\"white-space:pre;overflow-x:auto;line-height:normal;font-family:Menlo,'DejaVu Sans Mono',consolas,'Courier New',monospace\">Warning: a histogram with the name genAs_toMu_pt_MuMudR_lowRange could not be filled and will be skipped\n",
       "</pre>\n"
      ],
      "text/plain": [
       "Warning: a histogram with the name genAs_toMu_pt_MuMudR_lowRange could not be filled and will be skipped\n"
      ]
     },
     "metadata": {},
     "output_type": "display_data"
    },
    {
     "data": {
      "text/html": [
       "<pre style=\"white-space:pre;overflow-x:auto;line-height:normal;font-family:Menlo,'DejaVu Sans Mono',consolas,'Courier New',monospace\">Warning: a histogram with the name genAs_toMu_pt_MuMudR_XLowRange could not be filled and will be skipped\n",
       "</pre>\n"
      ],
      "text/plain": [
       "Warning: a histogram with the name genAs_toMu_pt_MuMudR_XLowRange could not be filled and will be skipped\n"
      ]
     },
     "metadata": {},
     "output_type": "display_data"
    },
    {
     "data": {
      "text/html": [
       "<pre style=\"white-space:pre;overflow-x:auto;line-height:normal;font-family:Menlo,'DejaVu Sans Mono',consolas,'Courier New',monospace\">Warning: a histogram with the name genAs_toMu_pt_MuMudR_XXLowRange could not be filled and will be skipped\n",
       "</pre>\n"
      ],
      "text/plain": [
       "Warning: a histogram with the name genAs_toMu_pt_MuMudR_XXLowRange could not be filled and will be skipped\n"
      ]
     },
     "metadata": {},
     "output_type": "display_data"
    },
    {
     "data": {
      "text/html": [
       "<pre style=\"white-space:pre;overflow-x:auto;line-height:normal;font-family:Menlo,'DejaVu Sans Mono',consolas,'Courier New',monospace\">Warning: a histogram with the name genAs_toMu_lxy_MuMudR could not be filled and will be skipped\n",
       "</pre>\n"
      ],
      "text/plain": [
       "Warning: a histogram with the name genAs_toMu_lxy_MuMudR could not be filled and will be skipped\n"
      ]
     },
     "metadata": {},
     "output_type": "display_data"
    },
    {
     "data": {
      "text/html": [
       "<pre style=\"white-space:pre;overflow-x:auto;line-height:normal;font-family:Menlo,'DejaVu Sans Mono',consolas,'Courier New',monospace\">Warning: a histogram with the name genAs_toMu_lxy_MuMudR_XLowRange could not be filled and will be skipped\n",
       "</pre>\n"
      ],
      "text/plain": [
       "Warning: a histogram with the name genAs_toMu_lxy_MuMudR_XLowRange could not be filled and will be skipped\n"
      ]
     },
     "metadata": {},
     "output_type": "display_data"
    },
    {
     "data": {
      "text/html": [
       "<pre style=\"white-space:pre;overflow-x:auto;line-height:normal;font-family:Menlo,'DejaVu Sans Mono',consolas,'Courier New',monospace\">Warning: a histogram with the name genAs_toMu_lxy_MuMudR_XXLowRange could not be filled and will be skipped\n",
       "</pre>\n"
      ],
      "text/plain": [
       "Warning: a histogram with the name genAs_toMu_lxy_MuMudR_XXLowRange could not be filled and will be skipped\n"
      ]
     },
     "metadata": {},
     "output_type": "display_data"
    },
    {
     "data": {
      "text/html": [
       "<pre style=\"white-space:pre;overflow-x:auto;line-height:normal;font-family:Menlo,'DejaVu Sans Mono',consolas,'Courier New',monospace\">Warning: a histogram with the name genAs_toMu_pt_MuMudR_highRange could not be filled and will be skipped\n",
       "</pre>\n"
      ],
      "text/plain": [
       "Warning: a histogram with the name genAs_toMu_pt_MuMudR_highRange could not be filled and will be skipped\n"
      ]
     },
     "metadata": {},
     "output_type": "display_data"
    },
    {
     "data": {
      "text/html": [
       "<pre style=\"white-space:pre;overflow-x:auto;line-height:normal;font-family:Menlo,'DejaVu Sans Mono',consolas,'Courier New',monospace\">Warning: a histogram with the name genAs_toMu_pt_highRange_MuMudR_lowRange could not be filled and will be skipped\n",
       "</pre>\n"
      ],
      "text/plain": [
       "Warning: a histogram with the name genAs_toMu_pt_highRange_MuMudR_lowRange could not be filled and will be skipped\n"
      ]
     },
     "metadata": {},
     "output_type": "display_data"
    },
    {
     "data": {
      "text/html": [
       "<pre style=\"white-space:pre;overflow-x:auto;line-height:normal;font-family:Menlo,'DejaVu Sans Mono',consolas,'Courier New',monospace\">Applying genMus status 1\n",
       "</pre>\n"
      ],
      "text/plain": [
       "Applying genMus status 1\n"
      ]
     },
     "metadata": {},
     "output_type": "display_data"
    },
    {
     "data": {
      "text/html": [
       "<pre style=\"white-space:pre;overflow-x:auto;line-height:normal;font-family:Menlo,'DejaVu Sans Mono',consolas,'Courier New',monospace\">Applying genEs status 1\n",
       "</pre>\n"
      ],
      "text/plain": [
       "Applying genEs status 1\n"
      ]
     },
     "metadata": {},
     "output_type": "display_data"
    },
    {
     "data": {
      "text/html": [
       "<pre style=\"white-space:pre;overflow-x:auto;line-height:normal;font-family:Menlo,'DejaVu Sans Mono',consolas,'Courier New',monospace\">Applying electrons pT &gt; 10 GeV\n",
       "</pre>\n"
      ],
      "text/plain": [
       "Applying electrons pT > 10 GeV\n"
      ]
     },
     "metadata": {},
     "output_type": "display_data"
    },
    {
     "data": {
      "text/html": [
       "<pre style=\"white-space:pre;overflow-x:auto;line-height:normal;font-family:Menlo,'DejaVu Sans Mono',consolas,'Courier New',monospace\">Applying electrons |eta| &lt; 2.4\n",
       "</pre>\n"
      ],
      "text/plain": [
       "Applying electrons |eta| < 2.4\n"
      ]
     },
     "metadata": {},
     "output_type": "display_data"
    },
    {
     "data": {
      "text/html": [
       "<pre style=\"white-space:pre;overflow-x:auto;line-height:normal;font-family:Menlo,'DejaVu Sans Mono',consolas,'Courier New',monospace\">Applying electrons MVANonIsoWPL\n",
       "</pre>\n"
      ],
      "text/plain": [
       "Applying electrons MVANonIsoWPL\n"
      ]
     },
     "metadata": {},
     "output_type": "display_data"
    },
    {
     "data": {
      "text/html": [
       "<pre style=\"white-space:pre;overflow-x:auto;line-height:normal;font-family:Menlo,'DejaVu Sans Mono',consolas,'Courier New',monospace\">Applying muons looseID\n",
       "</pre>\n"
      ],
      "text/plain": [
       "Applying muons looseID\n"
      ]
     },
     "metadata": {},
     "output_type": "display_data"
    },
    {
     "data": {
      "text/html": [
       "<pre style=\"white-space:pre;overflow-x:auto;line-height:normal;font-family:Menlo,'DejaVu Sans Mono',consolas,'Courier New',monospace\">Applying muons pT &gt; 5 GeV\n",
       "</pre>\n"
      ],
      "text/plain": [
       "Applying muons pT > 5 GeV\n"
      ]
     },
     "metadata": {},
     "output_type": "display_data"
    },
    {
     "data": {
      "text/html": [
       "<pre style=\"white-space:pre;overflow-x:auto;line-height:normal;font-family:Menlo,'DejaVu Sans Mono',consolas,'Courier New',monospace\">Applying muons |eta| &lt; 2.4\n",
       "</pre>\n"
      ],
      "text/plain": [
       "Applying muons |eta| < 2.4\n"
      ]
     },
     "metadata": {},
     "output_type": "display_data"
    },
    {
     "data": {
      "text/html": [
       "<pre style=\"white-space:pre;overflow-x:auto;line-height:normal;font-family:Menlo,'DejaVu Sans Mono',consolas,'Courier New',monospace\">Applying photons pT &gt; 20 GeV\n",
       "</pre>\n"
      ],
      "text/plain": [
       "Applying photons pT > 20 GeV\n"
      ]
     },
     "metadata": {},
     "output_type": "display_data"
    },
    {
     "data": {
      "text/html": [
       "<pre style=\"white-space:pre;overflow-x:auto;line-height:normal;font-family:Menlo,'DejaVu Sans Mono',consolas,'Courier New',monospace\">Applying photons |eta| &lt; 2.5\n",
       "</pre>\n"
      ],
      "text/plain": [
       "Applying photons |eta| < 2.5\n"
      ]
     },
     "metadata": {},
     "output_type": "display_data"
    },
    {
     "data": {
      "text/html": [
       "<pre style=\"white-space:pre;overflow-x:auto;line-height:normal;font-family:Menlo,'DejaVu Sans Mono',consolas,'Courier New',monospace\">Applying photons Custom Cutbased\n",
       "</pre>\n"
      ],
      "text/plain": [
       "Applying photons Custom Cutbased\n"
      ]
     },
     "metadata": {},
     "output_type": "display_data"
    },
    {
     "data": {
      "text/html": [
       "<pre style=\"white-space:pre;overflow-x:auto;line-height:normal;font-family:Menlo,'DejaVu Sans Mono',consolas,'Courier New',monospace\">Applying photons pixelSeed\n",
       "</pre>\n"
      ],
      "text/plain": [
       "Applying photons pixelSeed\n"
      ]
     },
     "metadata": {},
     "output_type": "display_data"
    },
    {
     "data": {
      "text/html": [
       "<pre style=\"white-space:pre;overflow-x:auto;line-height:normal;font-family:Menlo,'DejaVu Sans Mono',consolas,'Courier New',monospace\">Applying photons Photon DR Veto 0p025\n",
       "</pre>\n"
      ],
      "text/plain": [
       "Applying photons Photon DR Veto 0p025\n"
      ]
     },
     "metadata": {},
     "output_type": "display_data"
    },
    {
     "data": {
      "text/html": [
       "<pre style=\"white-space:pre;overflow-x:auto;line-height:normal;font-family:Menlo,'DejaVu Sans Mono',consolas,'Courier New',monospace\">Applying dsaMuons pT &gt; 10 GeV\n",
       "</pre>\n"
      ],
      "text/plain": [
       "Applying dsaMuons pT > 10 GeV\n"
      ]
     },
     "metadata": {},
     "output_type": "display_data"
    },
    {
     "data": {
      "text/html": [
       "<pre style=\"white-space:pre;overflow-x:auto;line-height:normal;font-family:Menlo,'DejaVu Sans Mono',consolas,'Courier New',monospace\">Applying dsaMuons |eta| &lt; 2.4\n",
       "</pre>\n"
      ],
      "text/plain": [
       "Applying dsaMuons |eta| < 2.4\n"
      ]
     },
     "metadata": {},
     "output_type": "display_data"
    },
    {
     "data": {
      "text/html": [
       "<pre style=\"white-space:pre;overflow-x:auto;line-height:normal;font-family:Menlo,'DejaVu Sans Mono',consolas,'Courier New',monospace\">Applying dsaMuons displaced ID\n",
       "</pre>\n"
      ],
      "text/plain": [
       "Applying dsaMuons displaced ID\n"
      ]
     },
     "metadata": {},
     "output_type": "display_data"
    },
    {
     "data": {
      "text/html": [
       "<pre style=\"white-space:pre;overflow-x:auto;line-height:normal;font-family:Menlo,'DejaVu Sans Mono',consolas,'Courier New',monospace\">Applying genAs_toMu close mu\n",
       "</pre>\n"
      ],
      "text/plain": [
       "Applying genAs_toMu close mu\n"
      ]
     },
     "metadata": {},
     "output_type": "display_data"
    },
    {
     "data": {
      "text/html": [
       "<pre style=\"white-space:pre;overflow-x:auto;line-height:normal;font-family:Menlo,'DejaVu Sans Mono',consolas,'Courier New',monospace\">Applying cut: PV filter\n",
       "</pre>\n"
      ],
      "text/plain": [
       "Applying cut: PV filter\n"
      ]
     },
     "metadata": {},
     "output_type": "display_data"
    },
    {
     "data": {
      "text/html": [
       "<pre style=\"white-space:pre;overflow-x:auto;line-height:normal;font-family:Menlo,'DejaVu Sans Mono',consolas,'Courier New',monospace\">Applying cut: pass triggers\n",
       "</pre>\n"
      ],
      "text/plain": [
       "Applying cut: pass triggers\n"
      ]
     },
     "metadata": {},
     "output_type": "display_data"
    },
    {
     "data": {
      "text/html": [
       "<pre style=\"white-space:pre;overflow-x:auto;line-height:normal;font-family:Menlo,'DejaVu Sans Mono',consolas,'Courier New',monospace\">Warning: a histogram with the name genAs_toMu_pt_MuMudR_lowRange could not be filled and will be skipped\n",
       "</pre>\n"
      ],
      "text/plain": [
       "Warning: a histogram with the name genAs_toMu_pt_MuMudR_lowRange could not be filled and will be skipped\n"
      ]
     },
     "metadata": {},
     "output_type": "display_data"
    },
    {
     "data": {
      "text/html": [
       "<pre style=\"white-space:pre;overflow-x:auto;line-height:normal;font-family:Menlo,'DejaVu Sans Mono',consolas,'Courier New',monospace\">Warning: a histogram with the name genAs_toMu_pt_MuMudR_XLowRange could not be filled and will be skipped\n",
       "</pre>\n"
      ],
      "text/plain": [
       "Warning: a histogram with the name genAs_toMu_pt_MuMudR_XLowRange could not be filled and will be skipped\n"
      ]
     },
     "metadata": {},
     "output_type": "display_data"
    },
    {
     "data": {
      "text/html": [
       "<pre style=\"white-space:pre;overflow-x:auto;line-height:normal;font-family:Menlo,'DejaVu Sans Mono',consolas,'Courier New',monospace\">Warning: a histogram with the name genAs_toMu_pt_MuMudR_XXLowRange could not be filled and will be skipped\n",
       "</pre>\n"
      ],
      "text/plain": [
       "Warning: a histogram with the name genAs_toMu_pt_MuMudR_XXLowRange could not be filled and will be skipped\n"
      ]
     },
     "metadata": {},
     "output_type": "display_data"
    },
    {
     "data": {
      "text/html": [
       "<pre style=\"white-space:pre;overflow-x:auto;line-height:normal;font-family:Menlo,'DejaVu Sans Mono',consolas,'Courier New',monospace\">Warning: a histogram with the name genAs_toMu_lxy_MuMudR could not be filled and will be skipped\n",
       "</pre>\n"
      ],
      "text/plain": [
       "Warning: a histogram with the name genAs_toMu_lxy_MuMudR could not be filled and will be skipped\n"
      ]
     },
     "metadata": {},
     "output_type": "display_data"
    },
    {
     "data": {
      "text/html": [
       "<pre style=\"white-space:pre;overflow-x:auto;line-height:normal;font-family:Menlo,'DejaVu Sans Mono',consolas,'Courier New',monospace\">Warning: a histogram with the name genAs_toMu_lxy_MuMudR_XLowRange could not be filled and will be skipped\n",
       "</pre>\n"
      ],
      "text/plain": [
       "Warning: a histogram with the name genAs_toMu_lxy_MuMudR_XLowRange could not be filled and will be skipped\n"
      ]
     },
     "metadata": {},
     "output_type": "display_data"
    },
    {
     "data": {
      "text/html": [
       "<pre style=\"white-space:pre;overflow-x:auto;line-height:normal;font-family:Menlo,'DejaVu Sans Mono',consolas,'Courier New',monospace\">Warning: a histogram with the name genAs_toMu_lxy_MuMudR_XXLowRange could not be filled and will be skipped\n",
       "</pre>\n"
      ],
      "text/plain": [
       "Warning: a histogram with the name genAs_toMu_lxy_MuMudR_XXLowRange could not be filled and will be skipped\n"
      ]
     },
     "metadata": {},
     "output_type": "display_data"
    },
    {
     "data": {
      "text/html": [
       "<pre style=\"white-space:pre;overflow-x:auto;line-height:normal;font-family:Menlo,'DejaVu Sans Mono',consolas,'Courier New',monospace\">Warning: a histogram with the name genAs_toMu_pt_MuMudR_highRange could not be filled and will be skipped\n",
       "</pre>\n"
      ],
      "text/plain": [
       "Warning: a histogram with the name genAs_toMu_pt_MuMudR_highRange could not be filled and will be skipped\n"
      ]
     },
     "metadata": {},
     "output_type": "display_data"
    },
    {
     "data": {
      "text/html": [
       "<pre style=\"white-space:pre;overflow-x:auto;line-height:normal;font-family:Menlo,'DejaVu Sans Mono',consolas,'Courier New',monospace\">Warning: a histogram with the name genAs_toMu_pt_highRange_MuMudR_lowRange could not be filled and will be skipped\n",
       "</pre>\n"
      ],
      "text/plain": [
       "Warning: a histogram with the name genAs_toMu_pt_highRange_MuMudR_lowRange could not be filled and will be skipped\n"
      ]
     },
     "metadata": {},
     "output_type": "display_data"
    },
    {
     "data": {
      "text/html": [
       "<pre style=\"white-space:pre;overflow-x:auto;line-height:normal;font-family:Menlo,'DejaVu Sans Mono',consolas,'Courier New',monospace\">Applying genMus status 1\n",
       "</pre>\n"
      ],
      "text/plain": [
       "Applying genMus status 1\n"
      ]
     },
     "metadata": {},
     "output_type": "display_data"
    },
    {
     "data": {
      "text/html": [
       "<pre style=\"white-space:pre;overflow-x:auto;line-height:normal;font-family:Menlo,'DejaVu Sans Mono',consolas,'Courier New',monospace\">Applying genEs status 1\n",
       "</pre>\n"
      ],
      "text/plain": [
       "Applying genEs status 1\n"
      ]
     },
     "metadata": {},
     "output_type": "display_data"
    },
    {
     "data": {
      "text/html": [
       "<pre style=\"white-space:pre;overflow-x:auto;line-height:normal;font-family:Menlo,'DejaVu Sans Mono',consolas,'Courier New',monospace\">Applying electrons pT &gt; 10 GeV\n",
       "</pre>\n"
      ],
      "text/plain": [
       "Applying electrons pT > 10 GeV\n"
      ]
     },
     "metadata": {},
     "output_type": "display_data"
    },
    {
     "data": {
      "text/html": [
       "<pre style=\"white-space:pre;overflow-x:auto;line-height:normal;font-family:Menlo,'DejaVu Sans Mono',consolas,'Courier New',monospace\">Applying electrons |eta| &lt; 2.4\n",
       "</pre>\n"
      ],
      "text/plain": [
       "Applying electrons |eta| < 2.4\n"
      ]
     },
     "metadata": {},
     "output_type": "display_data"
    },
    {
     "data": {
      "text/html": [
       "<pre style=\"white-space:pre;overflow-x:auto;line-height:normal;font-family:Menlo,'DejaVu Sans Mono',consolas,'Courier New',monospace\">Applying electrons MVANonIsoWPL\n",
       "</pre>\n"
      ],
      "text/plain": [
       "Applying electrons MVANonIsoWPL\n"
      ]
     },
     "metadata": {},
     "output_type": "display_data"
    },
    {
     "data": {
      "text/html": [
       "<pre style=\"white-space:pre;overflow-x:auto;line-height:normal;font-family:Menlo,'DejaVu Sans Mono',consolas,'Courier New',monospace\">Applying muons looseID\n",
       "</pre>\n"
      ],
      "text/plain": [
       "Applying muons looseID\n"
      ]
     },
     "metadata": {},
     "output_type": "display_data"
    },
    {
     "data": {
      "text/html": [
       "<pre style=\"white-space:pre;overflow-x:auto;line-height:normal;font-family:Menlo,'DejaVu Sans Mono',consolas,'Courier New',monospace\">Applying muons pT &gt; 5 GeV\n",
       "</pre>\n"
      ],
      "text/plain": [
       "Applying muons pT > 5 GeV\n"
      ]
     },
     "metadata": {},
     "output_type": "display_data"
    },
    {
     "data": {
      "text/html": [
       "<pre style=\"white-space:pre;overflow-x:auto;line-height:normal;font-family:Menlo,'DejaVu Sans Mono',consolas,'Courier New',monospace\">Applying muons |eta| &lt; 2.4\n",
       "</pre>\n"
      ],
      "text/plain": [
       "Applying muons |eta| < 2.4\n"
      ]
     },
     "metadata": {},
     "output_type": "display_data"
    },
    {
     "data": {
      "text/html": [
       "<pre style=\"white-space:pre;overflow-x:auto;line-height:normal;font-family:Menlo,'DejaVu Sans Mono',consolas,'Courier New',monospace\">Applying photons pT &gt; 20 GeV\n",
       "</pre>\n"
      ],
      "text/plain": [
       "Applying photons pT > 20 GeV\n"
      ]
     },
     "metadata": {},
     "output_type": "display_data"
    },
    {
     "data": {
      "text/html": [
       "<pre style=\"white-space:pre;overflow-x:auto;line-height:normal;font-family:Menlo,'DejaVu Sans Mono',consolas,'Courier New',monospace\">Applying photons |eta| &lt; 2.5\n",
       "</pre>\n"
      ],
      "text/plain": [
       "Applying photons |eta| < 2.5\n"
      ]
     },
     "metadata": {},
     "output_type": "display_data"
    },
    {
     "data": {
      "text/html": [
       "<pre style=\"white-space:pre;overflow-x:auto;line-height:normal;font-family:Menlo,'DejaVu Sans Mono',consolas,'Courier New',monospace\">Applying photons Custom Cutbased\n",
       "</pre>\n"
      ],
      "text/plain": [
       "Applying photons Custom Cutbased\n"
      ]
     },
     "metadata": {},
     "output_type": "display_data"
    },
    {
     "data": {
      "text/html": [
       "<pre style=\"white-space:pre;overflow-x:auto;line-height:normal;font-family:Menlo,'DejaVu Sans Mono',consolas,'Courier New',monospace\">Applying photons pixelSeed\n",
       "</pre>\n"
      ],
      "text/plain": [
       "Applying photons pixelSeed\n"
      ]
     },
     "metadata": {},
     "output_type": "display_data"
    },
    {
     "data": {
      "text/html": [
       "<pre style=\"white-space:pre;overflow-x:auto;line-height:normal;font-family:Menlo,'DejaVu Sans Mono',consolas,'Courier New',monospace\">Applying photons Photon DR Veto 0p025\n",
       "</pre>\n"
      ],
      "text/plain": [
       "Applying photons Photon DR Veto 0p025\n"
      ]
     },
     "metadata": {},
     "output_type": "display_data"
    },
    {
     "data": {
      "text/html": [
       "<pre style=\"white-space:pre;overflow-x:auto;line-height:normal;font-family:Menlo,'DejaVu Sans Mono',consolas,'Courier New',monospace\">Applying dsaMuons pT &gt; 10 GeV\n",
       "</pre>\n"
      ],
      "text/plain": [
       "Applying dsaMuons pT > 10 GeV\n"
      ]
     },
     "metadata": {},
     "output_type": "display_data"
    },
    {
     "data": {
      "text/html": [
       "<pre style=\"white-space:pre;overflow-x:auto;line-height:normal;font-family:Menlo,'DejaVu Sans Mono',consolas,'Courier New',monospace\">Applying dsaMuons |eta| &lt; 2.4\n",
       "</pre>\n"
      ],
      "text/plain": [
       "Applying dsaMuons |eta| < 2.4\n"
      ]
     },
     "metadata": {},
     "output_type": "display_data"
    },
    {
     "data": {
      "text/html": [
       "<pre style=\"white-space:pre;overflow-x:auto;line-height:normal;font-family:Menlo,'DejaVu Sans Mono',consolas,'Courier New',monospace\">Applying dsaMuons displaced ID\n",
       "</pre>\n"
      ],
      "text/plain": [
       "Applying dsaMuons displaced ID\n"
      ]
     },
     "metadata": {},
     "output_type": "display_data"
    },
    {
     "data": {
      "text/html": [
       "<pre style=\"white-space:pre;overflow-x:auto;line-height:normal;font-family:Menlo,'DejaVu Sans Mono',consolas,'Courier New',monospace\">Applying genAs_toMu &gt;= 2 close mu\n",
       "</pre>\n"
      ],
      "text/plain": [
       "Applying genAs_toMu >= 2 close mu\n"
      ]
     },
     "metadata": {},
     "output_type": "display_data"
    },
    {
     "data": {
      "text/html": [
       "<pre style=\"white-space:pre;overflow-x:auto;line-height:normal;font-family:Menlo,'DejaVu Sans Mono',consolas,'Courier New',monospace\">Applying cut: PV filter\n",
       "</pre>\n"
      ],
      "text/plain": [
       "Applying cut: PV filter\n"
      ]
     },
     "metadata": {},
     "output_type": "display_data"
    },
    {
     "data": {
      "text/html": [
       "<pre style=\"white-space:pre;overflow-x:auto;line-height:normal;font-family:Menlo,'DejaVu Sans Mono',consolas,'Courier New',monospace\">Applying cut: pass triggers\n",
       "</pre>\n"
      ],
      "text/plain": [
       "Applying cut: pass triggers\n"
      ]
     },
     "metadata": {},
     "output_type": "display_data"
    },
    {
     "data": {
      "text/html": [
       "<pre style=\"white-space:pre;overflow-x:auto;line-height:normal;font-family:Menlo,'DejaVu Sans Mono',consolas,'Courier New',monospace\">Warning: a histogram with the name genAs_toMu_pt_MuMudR_lowRange could not be filled and will be skipped\n",
       "</pre>\n"
      ],
      "text/plain": [
       "Warning: a histogram with the name genAs_toMu_pt_MuMudR_lowRange could not be filled and will be skipped\n"
      ]
     },
     "metadata": {},
     "output_type": "display_data"
    },
    {
     "data": {
      "text/html": [
       "<pre style=\"white-space:pre;overflow-x:auto;line-height:normal;font-family:Menlo,'DejaVu Sans Mono',consolas,'Courier New',monospace\">Warning: a histogram with the name genAs_toMu_pt_MuMudR_XLowRange could not be filled and will be skipped\n",
       "</pre>\n"
      ],
      "text/plain": [
       "Warning: a histogram with the name genAs_toMu_pt_MuMudR_XLowRange could not be filled and will be skipped\n"
      ]
     },
     "metadata": {},
     "output_type": "display_data"
    },
    {
     "data": {
      "text/html": [
       "<pre style=\"white-space:pre;overflow-x:auto;line-height:normal;font-family:Menlo,'DejaVu Sans Mono',consolas,'Courier New',monospace\">Warning: a histogram with the name genAs_toMu_pt_MuMudR_XXLowRange could not be filled and will be skipped\n",
       "</pre>\n"
      ],
      "text/plain": [
       "Warning: a histogram with the name genAs_toMu_pt_MuMudR_XXLowRange could not be filled and will be skipped\n"
      ]
     },
     "metadata": {},
     "output_type": "display_data"
    },
    {
     "data": {
      "text/html": [
       "<pre style=\"white-space:pre;overflow-x:auto;line-height:normal;font-family:Menlo,'DejaVu Sans Mono',consolas,'Courier New',monospace\">Warning: a histogram with the name genAs_toMu_lxy_MuMudR could not be filled and will be skipped\n",
       "</pre>\n"
      ],
      "text/plain": [
       "Warning: a histogram with the name genAs_toMu_lxy_MuMudR could not be filled and will be skipped\n"
      ]
     },
     "metadata": {},
     "output_type": "display_data"
    },
    {
     "data": {
      "text/html": [
       "<pre style=\"white-space:pre;overflow-x:auto;line-height:normal;font-family:Menlo,'DejaVu Sans Mono',consolas,'Courier New',monospace\">Warning: a histogram with the name genAs_toMu_lxy_MuMudR_XLowRange could not be filled and will be skipped\n",
       "</pre>\n"
      ],
      "text/plain": [
       "Warning: a histogram with the name genAs_toMu_lxy_MuMudR_XLowRange could not be filled and will be skipped\n"
      ]
     },
     "metadata": {},
     "output_type": "display_data"
    },
    {
     "data": {
      "text/html": [
       "<pre style=\"white-space:pre;overflow-x:auto;line-height:normal;font-family:Menlo,'DejaVu Sans Mono',consolas,'Courier New',monospace\">Warning: a histogram with the name genAs_toMu_lxy_MuMudR_XXLowRange could not be filled and will be skipped\n",
       "</pre>\n"
      ],
      "text/plain": [
       "Warning: a histogram with the name genAs_toMu_lxy_MuMudR_XXLowRange could not be filled and will be skipped\n"
      ]
     },
     "metadata": {},
     "output_type": "display_data"
    },
    {
     "data": {
      "text/html": [
       "<pre style=\"white-space:pre;overflow-x:auto;line-height:normal;font-family:Menlo,'DejaVu Sans Mono',consolas,'Courier New',monospace\">Warning: a histogram with the name genAs_toMu_pt_MuMudR_highRange could not be filled and will be skipped\n",
       "</pre>\n"
      ],
      "text/plain": [
       "Warning: a histogram with the name genAs_toMu_pt_MuMudR_highRange could not be filled and will be skipped\n"
      ]
     },
     "metadata": {},
     "output_type": "display_data"
    },
    {
     "data": {
      "text/html": [
       "<pre style=\"white-space:pre;overflow-x:auto;line-height:normal;font-family:Menlo,'DejaVu Sans Mono',consolas,'Courier New',monospace\">Warning: a histogram with the name genAs_toMu_pt_highRange_MuMudR_lowRange could not be filled and will be skipped\n",
       "</pre>\n"
      ],
      "text/plain": [
       "Warning: a histogram with the name genAs_toMu_pt_highRange_MuMudR_lowRange could not be filled and will be skipped\n"
      ]
     },
     "metadata": {},
     "output_type": "display_data"
    },
    {
     "data": {
      "text/html": [
       "<pre style=\"white-space:pre;overflow-x:auto;line-height:normal;font-family:Menlo,'DejaVu Sans Mono',consolas,'Courier New',monospace\">Applying genMus status 1\n",
       "</pre>\n"
      ],
      "text/plain": [
       "Applying genMus status 1\n"
      ]
     },
     "metadata": {},
     "output_type": "display_data"
    },
    {
     "data": {
      "text/html": [
       "<pre style=\"white-space:pre;overflow-x:auto;line-height:normal;font-family:Menlo,'DejaVu Sans Mono',consolas,'Courier New',monospace\">Applying genEs status 1\n",
       "</pre>\n"
      ],
      "text/plain": [
       "Applying genEs status 1\n"
      ]
     },
     "metadata": {},
     "output_type": "display_data"
    },
    {
     "data": {
      "text/html": [
       "<pre style=\"white-space:pre;overflow-x:auto;line-height:normal;font-family:Menlo,'DejaVu Sans Mono',consolas,'Courier New',monospace\">Applying cut: PV filter\n",
       "</pre>\n"
      ],
      "text/plain": [
       "Applying cut: PV filter\n"
      ]
     },
     "metadata": {},
     "output_type": "display_data"
    },
    {
     "data": {
      "text/html": [
       "<pre style=\"white-space:pre;overflow-x:auto;line-height:normal;font-family:Menlo,'DejaVu Sans Mono',consolas,'Courier New',monospace\">Applying genMus status 1\n",
       "</pre>\n"
      ],
      "text/plain": [
       "Applying genMus status 1\n"
      ]
     },
     "metadata": {},
     "output_type": "display_data"
    },
    {
     "data": {
      "text/html": [
       "<pre style=\"white-space:pre;overflow-x:auto;line-height:normal;font-family:Menlo,'DejaVu Sans Mono',consolas,'Courier New',monospace\">Applying genEs status 1\n",
       "</pre>\n"
      ],
      "text/plain": [
       "Applying genEs status 1\n"
      ]
     },
     "metadata": {},
     "output_type": "display_data"
    },
    {
     "data": {
      "text/html": [
       "<pre style=\"white-space:pre;overflow-x:auto;line-height:normal;font-family:Menlo,'DejaVu Sans Mono',consolas,'Courier New',monospace\">Applying genAs_toMu close dsaMu\n",
       "</pre>\n"
      ],
      "text/plain": [
       "Applying genAs_toMu close dsaMu\n"
      ]
     },
     "metadata": {},
     "output_type": "display_data"
    },
    {
     "data": {
      "text/html": [
       "<pre style=\"white-space:pre;overflow-x:auto;line-height:normal;font-family:Menlo,'DejaVu Sans Mono',consolas,'Courier New',monospace\">Applying cut: PV filter\n",
       "</pre>\n"
      ],
      "text/plain": [
       "Applying cut: PV filter\n"
      ]
     },
     "metadata": {},
     "output_type": "display_data"
    },
    {
     "data": {
      "text/html": [
       "<pre style=\"white-space:pre;overflow-x:auto;line-height:normal;font-family:Menlo,'DejaVu Sans Mono',consolas,'Courier New',monospace\">Warning: a histogram with the name genAs_toMu_pt_MuMudR_lowRange could not be filled and will be skipped\n",
       "</pre>\n"
      ],
      "text/plain": [
       "Warning: a histogram with the name genAs_toMu_pt_MuMudR_lowRange could not be filled and will be skipped\n"
      ]
     },
     "metadata": {},
     "output_type": "display_data"
    },
    {
     "data": {
      "text/html": [
       "<pre style=\"white-space:pre;overflow-x:auto;line-height:normal;font-family:Menlo,'DejaVu Sans Mono',consolas,'Courier New',monospace\">Warning: a histogram with the name genAs_toMu_pt_MuMudR_XLowRange could not be filled and will be skipped\n",
       "</pre>\n"
      ],
      "text/plain": [
       "Warning: a histogram with the name genAs_toMu_pt_MuMudR_XLowRange could not be filled and will be skipped\n"
      ]
     },
     "metadata": {},
     "output_type": "display_data"
    },
    {
     "data": {
      "text/html": [
       "<pre style=\"white-space:pre;overflow-x:auto;line-height:normal;font-family:Menlo,'DejaVu Sans Mono',consolas,'Courier New',monospace\">Warning: a histogram with the name genAs_toMu_pt_MuMudR_XXLowRange could not be filled and will be skipped\n",
       "</pre>\n"
      ],
      "text/plain": [
       "Warning: a histogram with the name genAs_toMu_pt_MuMudR_XXLowRange could not be filled and will be skipped\n"
      ]
     },
     "metadata": {},
     "output_type": "display_data"
    },
    {
     "data": {
      "text/html": [
       "<pre style=\"white-space:pre;overflow-x:auto;line-height:normal;font-family:Menlo,'DejaVu Sans Mono',consolas,'Courier New',monospace\">Warning: a histogram with the name genAs_toMu_lxy_MuMudR could not be filled and will be skipped\n",
       "</pre>\n"
      ],
      "text/plain": [
       "Warning: a histogram with the name genAs_toMu_lxy_MuMudR could not be filled and will be skipped\n"
      ]
     },
     "metadata": {},
     "output_type": "display_data"
    },
    {
     "data": {
      "text/html": [
       "<pre style=\"white-space:pre;overflow-x:auto;line-height:normal;font-family:Menlo,'DejaVu Sans Mono',consolas,'Courier New',monospace\">Warning: a histogram with the name genAs_toMu_lxy_MuMudR_XLowRange could not be filled and will be skipped\n",
       "</pre>\n"
      ],
      "text/plain": [
       "Warning: a histogram with the name genAs_toMu_lxy_MuMudR_XLowRange could not be filled and will be skipped\n"
      ]
     },
     "metadata": {},
     "output_type": "display_data"
    },
    {
     "data": {
      "text/html": [
       "<pre style=\"white-space:pre;overflow-x:auto;line-height:normal;font-family:Menlo,'DejaVu Sans Mono',consolas,'Courier New',monospace\">Warning: a histogram with the name genAs_toMu_lxy_MuMudR_XXLowRange could not be filled and will be skipped\n",
       "</pre>\n"
      ],
      "text/plain": [
       "Warning: a histogram with the name genAs_toMu_lxy_MuMudR_XXLowRange could not be filled and will be skipped\n"
      ]
     },
     "metadata": {},
     "output_type": "display_data"
    },
    {
     "data": {
      "text/html": [
       "<pre style=\"white-space:pre;overflow-x:auto;line-height:normal;font-family:Menlo,'DejaVu Sans Mono',consolas,'Courier New',monospace\">Warning: a histogram with the name genAs_toMu_pt_MuMudR_highRange could not be filled and will be skipped\n",
       "</pre>\n"
      ],
      "text/plain": [
       "Warning: a histogram with the name genAs_toMu_pt_MuMudR_highRange could not be filled and will be skipped\n"
      ]
     },
     "metadata": {},
     "output_type": "display_data"
    },
    {
     "data": {
      "text/html": [
       "<pre style=\"white-space:pre;overflow-x:auto;line-height:normal;font-family:Menlo,'DejaVu Sans Mono',consolas,'Courier New',monospace\">Warning: a histogram with the name genAs_toMu_pt_highRange_MuMudR_lowRange could not be filled and will be skipped\n",
       "</pre>\n"
      ],
      "text/plain": [
       "Warning: a histogram with the name genAs_toMu_pt_highRange_MuMudR_lowRange could not be filled and will be skipped\n"
      ]
     },
     "metadata": {},
     "output_type": "display_data"
    },
    {
     "data": {
      "text/html": [
       "<pre style=\"white-space:pre;overflow-x:auto;line-height:normal;font-family:Menlo,'DejaVu Sans Mono',consolas,'Courier New',monospace\">Applying genMus status 1\n",
       "</pre>\n"
      ],
      "text/plain": [
       "Applying genMus status 1\n"
      ]
     },
     "metadata": {},
     "output_type": "display_data"
    },
    {
     "data": {
      "text/html": [
       "<pre style=\"white-space:pre;overflow-x:auto;line-height:normal;font-family:Menlo,'DejaVu Sans Mono',consolas,'Courier New',monospace\">Applying genEs status 1\n",
       "</pre>\n"
      ],
      "text/plain": [
       "Applying genEs status 1\n"
      ]
     },
     "metadata": {},
     "output_type": "display_data"
    },
    {
     "data": {
      "text/html": [
       "<pre style=\"white-space:pre;overflow-x:auto;line-height:normal;font-family:Menlo,'DejaVu Sans Mono',consolas,'Courier New',monospace\">Applying genAs_toMu &gt;= 2 close dsaMu\n",
       "</pre>\n"
      ],
      "text/plain": [
       "Applying genAs_toMu >= 2 close dsaMu\n"
      ]
     },
     "metadata": {},
     "output_type": "display_data"
    },
    {
     "data": {
      "text/html": [
       "<pre style=\"white-space:pre;overflow-x:auto;line-height:normal;font-family:Menlo,'DejaVu Sans Mono',consolas,'Courier New',monospace\">Applying cut: PV filter\n",
       "</pre>\n"
      ],
      "text/plain": [
       "Applying cut: PV filter\n"
      ]
     },
     "metadata": {},
     "output_type": "display_data"
    },
    {
     "data": {
      "text/html": [
       "<pre style=\"white-space:pre;overflow-x:auto;line-height:normal;font-family:Menlo,'DejaVu Sans Mono',consolas,'Courier New',monospace\">Warning: a histogram with the name genAs_toMu_pt_MuMudR_lowRange could not be filled and will be skipped\n",
       "</pre>\n"
      ],
      "text/plain": [
       "Warning: a histogram with the name genAs_toMu_pt_MuMudR_lowRange could not be filled and will be skipped\n"
      ]
     },
     "metadata": {},
     "output_type": "display_data"
    },
    {
     "data": {
      "text/html": [
       "<pre style=\"white-space:pre;overflow-x:auto;line-height:normal;font-family:Menlo,'DejaVu Sans Mono',consolas,'Courier New',monospace\">Warning: a histogram with the name genAs_toMu_pt_MuMudR_XLowRange could not be filled and will be skipped\n",
       "</pre>\n"
      ],
      "text/plain": [
       "Warning: a histogram with the name genAs_toMu_pt_MuMudR_XLowRange could not be filled and will be skipped\n"
      ]
     },
     "metadata": {},
     "output_type": "display_data"
    },
    {
     "data": {
      "text/html": [
       "<pre style=\"white-space:pre;overflow-x:auto;line-height:normal;font-family:Menlo,'DejaVu Sans Mono',consolas,'Courier New',monospace\">Warning: a histogram with the name genAs_toMu_pt_MuMudR_XXLowRange could not be filled and will be skipped\n",
       "</pre>\n"
      ],
      "text/plain": [
       "Warning: a histogram with the name genAs_toMu_pt_MuMudR_XXLowRange could not be filled and will be skipped\n"
      ]
     },
     "metadata": {},
     "output_type": "display_data"
    },
    {
     "data": {
      "text/html": [
       "<pre style=\"white-space:pre;overflow-x:auto;line-height:normal;font-family:Menlo,'DejaVu Sans Mono',consolas,'Courier New',monospace\">Warning: a histogram with the name genAs_toMu_lxy_MuMudR could not be filled and will be skipped\n",
       "</pre>\n"
      ],
      "text/plain": [
       "Warning: a histogram with the name genAs_toMu_lxy_MuMudR could not be filled and will be skipped\n"
      ]
     },
     "metadata": {},
     "output_type": "display_data"
    },
    {
     "data": {
      "text/html": [
       "<pre style=\"white-space:pre;overflow-x:auto;line-height:normal;font-family:Menlo,'DejaVu Sans Mono',consolas,'Courier New',monospace\">Warning: a histogram with the name genAs_toMu_lxy_MuMudR_XLowRange could not be filled and will be skipped\n",
       "</pre>\n"
      ],
      "text/plain": [
       "Warning: a histogram with the name genAs_toMu_lxy_MuMudR_XLowRange could not be filled and will be skipped\n"
      ]
     },
     "metadata": {},
     "output_type": "display_data"
    },
    {
     "data": {
      "text/html": [
       "<pre style=\"white-space:pre;overflow-x:auto;line-height:normal;font-family:Menlo,'DejaVu Sans Mono',consolas,'Courier New',monospace\">Warning: a histogram with the name genAs_toMu_lxy_MuMudR_XXLowRange could not be filled and will be skipped\n",
       "</pre>\n"
      ],
      "text/plain": [
       "Warning: a histogram with the name genAs_toMu_lxy_MuMudR_XXLowRange could not be filled and will be skipped\n"
      ]
     },
     "metadata": {},
     "output_type": "display_data"
    },
    {
     "data": {
      "text/html": [
       "<pre style=\"white-space:pre;overflow-x:auto;line-height:normal;font-family:Menlo,'DejaVu Sans Mono',consolas,'Courier New',monospace\">Warning: a histogram with the name genAs_toMu_pt_MuMudR_highRange could not be filled and will be skipped\n",
       "</pre>\n"
      ],
      "text/plain": [
       "Warning: a histogram with the name genAs_toMu_pt_MuMudR_highRange could not be filled and will be skipped\n"
      ]
     },
     "metadata": {},
     "output_type": "display_data"
    },
    {
     "data": {
      "text/html": [
       "<pre style=\"white-space:pre;overflow-x:auto;line-height:normal;font-family:Menlo,'DejaVu Sans Mono',consolas,'Courier New',monospace\">Warning: a histogram with the name genAs_toMu_pt_highRange_MuMudR_lowRange could not be filled and will be skipped\n",
       "</pre>\n"
      ],
      "text/plain": [
       "Warning: a histogram with the name genAs_toMu_pt_highRange_MuMudR_lowRange could not be filled and will be skipped\n"
      ]
     },
     "metadata": {},
     "output_type": "display_data"
    },
    {
     "data": {
      "text/html": [
       "<pre style=\"white-space:pre;overflow-x:auto;line-height:normal;font-family:Menlo,'DejaVu Sans Mono',consolas,'Courier New',monospace\">Applying genMus status 1\n",
       "</pre>\n"
      ],
      "text/plain": [
       "Applying genMus status 1\n"
      ]
     },
     "metadata": {},
     "output_type": "display_data"
    },
    {
     "data": {
      "text/html": [
       "<pre style=\"white-space:pre;overflow-x:auto;line-height:normal;font-family:Menlo,'DejaVu Sans Mono',consolas,'Courier New',monospace\">Applying genEs status 1\n",
       "</pre>\n"
      ],
      "text/plain": [
       "Applying genEs status 1\n"
      ]
     },
     "metadata": {},
     "output_type": "display_data"
    },
    {
     "data": {
      "text/html": [
       "<pre style=\"white-space:pre;overflow-x:auto;line-height:normal;font-family:Menlo,'DejaVu Sans Mono',consolas,'Courier New',monospace\">Applying electrons pT &gt; 10 GeV\n",
       "</pre>\n"
      ],
      "text/plain": [
       "Applying electrons pT > 10 GeV\n"
      ]
     },
     "metadata": {},
     "output_type": "display_data"
    },
    {
     "data": {
      "text/html": [
       "<pre style=\"white-space:pre;overflow-x:auto;line-height:normal;font-family:Menlo,'DejaVu Sans Mono',consolas,'Courier New',monospace\">Applying electrons |eta| &lt; 2.4\n",
       "</pre>\n"
      ],
      "text/plain": [
       "Applying electrons |eta| < 2.4\n"
      ]
     },
     "metadata": {},
     "output_type": "display_data"
    },
    {
     "data": {
      "text/html": [
       "<pre style=\"white-space:pre;overflow-x:auto;line-height:normal;font-family:Menlo,'DejaVu Sans Mono',consolas,'Courier New',monospace\">Applying electrons MVANonIsoWPL\n",
       "</pre>\n"
      ],
      "text/plain": [
       "Applying electrons MVANonIsoWPL\n"
      ]
     },
     "metadata": {},
     "output_type": "display_data"
    },
    {
     "data": {
      "text/html": [
       "<pre style=\"white-space:pre;overflow-x:auto;line-height:normal;font-family:Menlo,'DejaVu Sans Mono',consolas,'Courier New',monospace\">Applying muons looseID\n",
       "</pre>\n"
      ],
      "text/plain": [
       "Applying muons looseID\n"
      ]
     },
     "metadata": {},
     "output_type": "display_data"
    },
    {
     "data": {
      "text/html": [
       "<pre style=\"white-space:pre;overflow-x:auto;line-height:normal;font-family:Menlo,'DejaVu Sans Mono',consolas,'Courier New',monospace\">Applying muons pT &gt; 5 GeV\n",
       "</pre>\n"
      ],
      "text/plain": [
       "Applying muons pT > 5 GeV\n"
      ]
     },
     "metadata": {},
     "output_type": "display_data"
    },
    {
     "data": {
      "text/html": [
       "<pre style=\"white-space:pre;overflow-x:auto;line-height:normal;font-family:Menlo,'DejaVu Sans Mono',consolas,'Courier New',monospace\">Applying muons |eta| &lt; 2.4\n",
       "</pre>\n"
      ],
      "text/plain": [
       "Applying muons |eta| < 2.4\n"
      ]
     },
     "metadata": {},
     "output_type": "display_data"
    },
    {
     "data": {
      "text/html": [
       "<pre style=\"white-space:pre;overflow-x:auto;line-height:normal;font-family:Menlo,'DejaVu Sans Mono',consolas,'Courier New',monospace\">Applying photons pT &gt; 20 GeV\n",
       "</pre>\n"
      ],
      "text/plain": [
       "Applying photons pT > 20 GeV\n"
      ]
     },
     "metadata": {},
     "output_type": "display_data"
    },
    {
     "data": {
      "text/html": [
       "<pre style=\"white-space:pre;overflow-x:auto;line-height:normal;font-family:Menlo,'DejaVu Sans Mono',consolas,'Courier New',monospace\">Applying photons |eta| &lt; 2.5\n",
       "</pre>\n"
      ],
      "text/plain": [
       "Applying photons |eta| < 2.5\n"
      ]
     },
     "metadata": {},
     "output_type": "display_data"
    },
    {
     "data": {
      "text/html": [
       "<pre style=\"white-space:pre;overflow-x:auto;line-height:normal;font-family:Menlo,'DejaVu Sans Mono',consolas,'Courier New',monospace\">Applying photons Custom Cutbased\n",
       "</pre>\n"
      ],
      "text/plain": [
       "Applying photons Custom Cutbased\n"
      ]
     },
     "metadata": {},
     "output_type": "display_data"
    },
    {
     "data": {
      "text/html": [
       "<pre style=\"white-space:pre;overflow-x:auto;line-height:normal;font-family:Menlo,'DejaVu Sans Mono',consolas,'Courier New',monospace\">Applying photons pixelSeed\n",
       "</pre>\n"
      ],
      "text/plain": [
       "Applying photons pixelSeed\n"
      ]
     },
     "metadata": {},
     "output_type": "display_data"
    },
    {
     "data": {
      "text/html": [
       "<pre style=\"white-space:pre;overflow-x:auto;line-height:normal;font-family:Menlo,'DejaVu Sans Mono',consolas,'Courier New',monospace\">Applying photons Photon DR Veto 0p025\n",
       "</pre>\n"
      ],
      "text/plain": [
       "Applying photons Photon DR Veto 0p025\n"
      ]
     },
     "metadata": {},
     "output_type": "display_data"
    },
    {
     "data": {
      "text/html": [
       "<pre style=\"white-space:pre;overflow-x:auto;line-height:normal;font-family:Menlo,'DejaVu Sans Mono',consolas,'Courier New',monospace\">Applying dsaMuons pT &gt; 10 GeV\n",
       "</pre>\n"
      ],
      "text/plain": [
       "Applying dsaMuons pT > 10 GeV\n"
      ]
     },
     "metadata": {},
     "output_type": "display_data"
    },
    {
     "data": {
      "text/html": [
       "<pre style=\"white-space:pre;overflow-x:auto;line-height:normal;font-family:Menlo,'DejaVu Sans Mono',consolas,'Courier New',monospace\">Applying dsaMuons |eta| &lt; 2.4\n",
       "</pre>\n"
      ],
      "text/plain": [
       "Applying dsaMuons |eta| < 2.4\n"
      ]
     },
     "metadata": {},
     "output_type": "display_data"
    },
    {
     "data": {
      "text/html": [
       "<pre style=\"white-space:pre;overflow-x:auto;line-height:normal;font-family:Menlo,'DejaVu Sans Mono',consolas,'Courier New',monospace\">Applying dsaMuons displaced ID\n",
       "</pre>\n"
      ],
      "text/plain": [
       "Applying dsaMuons displaced ID\n"
      ]
     },
     "metadata": {},
     "output_type": "display_data"
    },
    {
     "data": {
      "text/html": [
       "<pre style=\"white-space:pre;overflow-x:auto;line-height:normal;font-family:Menlo,'DejaVu Sans Mono',consolas,'Courier New',monospace\">Applying genAs_toMu close dsaMu\n",
       "</pre>\n"
      ],
      "text/plain": [
       "Applying genAs_toMu close dsaMu\n"
      ]
     },
     "metadata": {},
     "output_type": "display_data"
    },
    {
     "data": {
      "text/html": [
       "<pre style=\"white-space:pre;overflow-x:auto;line-height:normal;font-family:Menlo,'DejaVu Sans Mono',consolas,'Courier New',monospace\">Applying cut: PV filter\n",
       "</pre>\n"
      ],
      "text/plain": [
       "Applying cut: PV filter\n"
      ]
     },
     "metadata": {},
     "output_type": "display_data"
    },
    {
     "data": {
      "text/html": [
       "<pre style=\"white-space:pre;overflow-x:auto;line-height:normal;font-family:Menlo,'DejaVu Sans Mono',consolas,'Courier New',monospace\">Applying cut: pass triggers\n",
       "</pre>\n"
      ],
      "text/plain": [
       "Applying cut: pass triggers\n"
      ]
     },
     "metadata": {},
     "output_type": "display_data"
    },
    {
     "data": {
      "text/html": [
       "<pre style=\"white-space:pre;overflow-x:auto;line-height:normal;font-family:Menlo,'DejaVu Sans Mono',consolas,'Courier New',monospace\">Warning: a histogram with the name genAs_toMu_pt_MuMudR_lowRange could not be filled and will be skipped\n",
       "</pre>\n"
      ],
      "text/plain": [
       "Warning: a histogram with the name genAs_toMu_pt_MuMudR_lowRange could not be filled and will be skipped\n"
      ]
     },
     "metadata": {},
     "output_type": "display_data"
    },
    {
     "data": {
      "text/html": [
       "<pre style=\"white-space:pre;overflow-x:auto;line-height:normal;font-family:Menlo,'DejaVu Sans Mono',consolas,'Courier New',monospace\">Warning: a histogram with the name genAs_toMu_pt_MuMudR_XLowRange could not be filled and will be skipped\n",
       "</pre>\n"
      ],
      "text/plain": [
       "Warning: a histogram with the name genAs_toMu_pt_MuMudR_XLowRange could not be filled and will be skipped\n"
      ]
     },
     "metadata": {},
     "output_type": "display_data"
    },
    {
     "data": {
      "text/html": [
       "<pre style=\"white-space:pre;overflow-x:auto;line-height:normal;font-family:Menlo,'DejaVu Sans Mono',consolas,'Courier New',monospace\">Warning: a histogram with the name genAs_toMu_pt_MuMudR_XXLowRange could not be filled and will be skipped\n",
       "</pre>\n"
      ],
      "text/plain": [
       "Warning: a histogram with the name genAs_toMu_pt_MuMudR_XXLowRange could not be filled and will be skipped\n"
      ]
     },
     "metadata": {},
     "output_type": "display_data"
    },
    {
     "data": {
      "text/html": [
       "<pre style=\"white-space:pre;overflow-x:auto;line-height:normal;font-family:Menlo,'DejaVu Sans Mono',consolas,'Courier New',monospace\">Warning: a histogram with the name genAs_toMu_lxy_MuMudR could not be filled and will be skipped\n",
       "</pre>\n"
      ],
      "text/plain": [
       "Warning: a histogram with the name genAs_toMu_lxy_MuMudR could not be filled and will be skipped\n"
      ]
     },
     "metadata": {},
     "output_type": "display_data"
    },
    {
     "data": {
      "text/html": [
       "<pre style=\"white-space:pre;overflow-x:auto;line-height:normal;font-family:Menlo,'DejaVu Sans Mono',consolas,'Courier New',monospace\">Warning: a histogram with the name genAs_toMu_lxy_MuMudR_XLowRange could not be filled and will be skipped\n",
       "</pre>\n"
      ],
      "text/plain": [
       "Warning: a histogram with the name genAs_toMu_lxy_MuMudR_XLowRange could not be filled and will be skipped\n"
      ]
     },
     "metadata": {},
     "output_type": "display_data"
    },
    {
     "data": {
      "text/html": [
       "<pre style=\"white-space:pre;overflow-x:auto;line-height:normal;font-family:Menlo,'DejaVu Sans Mono',consolas,'Courier New',monospace\">Warning: a histogram with the name genAs_toMu_lxy_MuMudR_XXLowRange could not be filled and will be skipped\n",
       "</pre>\n"
      ],
      "text/plain": [
       "Warning: a histogram with the name genAs_toMu_lxy_MuMudR_XXLowRange could not be filled and will be skipped\n"
      ]
     },
     "metadata": {},
     "output_type": "display_data"
    },
    {
     "data": {
      "text/html": [
       "<pre style=\"white-space:pre;overflow-x:auto;line-height:normal;font-family:Menlo,'DejaVu Sans Mono',consolas,'Courier New',monospace\">Warning: a histogram with the name genAs_toMu_pt_MuMudR_highRange could not be filled and will be skipped\n",
       "</pre>\n"
      ],
      "text/plain": [
       "Warning: a histogram with the name genAs_toMu_pt_MuMudR_highRange could not be filled and will be skipped\n"
      ]
     },
     "metadata": {},
     "output_type": "display_data"
    },
    {
     "data": {
      "text/html": [
       "<pre style=\"white-space:pre;overflow-x:auto;line-height:normal;font-family:Menlo,'DejaVu Sans Mono',consolas,'Courier New',monospace\">Warning: a histogram with the name genAs_toMu_pt_highRange_MuMudR_lowRange could not be filled and will be skipped\n",
       "</pre>\n"
      ],
      "text/plain": [
       "Warning: a histogram with the name genAs_toMu_pt_highRange_MuMudR_lowRange could not be filled and will be skipped\n"
      ]
     },
     "metadata": {},
     "output_type": "display_data"
    },
    {
     "data": {
      "text/html": [
       "<pre style=\"white-space:pre;overflow-x:auto;line-height:normal;font-family:Menlo,'DejaVu Sans Mono',consolas,'Courier New',monospace\">Applying genMus status 1\n",
       "</pre>\n"
      ],
      "text/plain": [
       "Applying genMus status 1\n"
      ]
     },
     "metadata": {},
     "output_type": "display_data"
    },
    {
     "data": {
      "text/html": [
       "<pre style=\"white-space:pre;overflow-x:auto;line-height:normal;font-family:Menlo,'DejaVu Sans Mono',consolas,'Courier New',monospace\">Applying genEs status 1\n",
       "</pre>\n"
      ],
      "text/plain": [
       "Applying genEs status 1\n"
      ]
     },
     "metadata": {},
     "output_type": "display_data"
    },
    {
     "data": {
      "text/html": [
       "<pre style=\"white-space:pre;overflow-x:auto;line-height:normal;font-family:Menlo,'DejaVu Sans Mono',consolas,'Courier New',monospace\">Applying electrons pT &gt; 10 GeV\n",
       "</pre>\n"
      ],
      "text/plain": [
       "Applying electrons pT > 10 GeV\n"
      ]
     },
     "metadata": {},
     "output_type": "display_data"
    },
    {
     "data": {
      "text/html": [
       "<pre style=\"white-space:pre;overflow-x:auto;line-height:normal;font-family:Menlo,'DejaVu Sans Mono',consolas,'Courier New',monospace\">Applying electrons |eta| &lt; 2.4\n",
       "</pre>\n"
      ],
      "text/plain": [
       "Applying electrons |eta| < 2.4\n"
      ]
     },
     "metadata": {},
     "output_type": "display_data"
    },
    {
     "data": {
      "text/html": [
       "<pre style=\"white-space:pre;overflow-x:auto;line-height:normal;font-family:Menlo,'DejaVu Sans Mono',consolas,'Courier New',monospace\">Applying electrons MVANonIsoWPL\n",
       "</pre>\n"
      ],
      "text/plain": [
       "Applying electrons MVANonIsoWPL\n"
      ]
     },
     "metadata": {},
     "output_type": "display_data"
    },
    {
     "data": {
      "text/html": [
       "<pre style=\"white-space:pre;overflow-x:auto;line-height:normal;font-family:Menlo,'DejaVu Sans Mono',consolas,'Courier New',monospace\">Applying muons looseID\n",
       "</pre>\n"
      ],
      "text/plain": [
       "Applying muons looseID\n"
      ]
     },
     "metadata": {},
     "output_type": "display_data"
    },
    {
     "data": {
      "text/html": [
       "<pre style=\"white-space:pre;overflow-x:auto;line-height:normal;font-family:Menlo,'DejaVu Sans Mono',consolas,'Courier New',monospace\">Applying muons pT &gt; 5 GeV\n",
       "</pre>\n"
      ],
      "text/plain": [
       "Applying muons pT > 5 GeV\n"
      ]
     },
     "metadata": {},
     "output_type": "display_data"
    },
    {
     "data": {
      "text/html": [
       "<pre style=\"white-space:pre;overflow-x:auto;line-height:normal;font-family:Menlo,'DejaVu Sans Mono',consolas,'Courier New',monospace\">Applying muons |eta| &lt; 2.4\n",
       "</pre>\n"
      ],
      "text/plain": [
       "Applying muons |eta| < 2.4\n"
      ]
     },
     "metadata": {},
     "output_type": "display_data"
    },
    {
     "data": {
      "text/html": [
       "<pre style=\"white-space:pre;overflow-x:auto;line-height:normal;font-family:Menlo,'DejaVu Sans Mono',consolas,'Courier New',monospace\">Applying photons pT &gt; 20 GeV\n",
       "</pre>\n"
      ],
      "text/plain": [
       "Applying photons pT > 20 GeV\n"
      ]
     },
     "metadata": {},
     "output_type": "display_data"
    },
    {
     "data": {
      "text/html": [
       "<pre style=\"white-space:pre;overflow-x:auto;line-height:normal;font-family:Menlo,'DejaVu Sans Mono',consolas,'Courier New',monospace\">Applying photons |eta| &lt; 2.5\n",
       "</pre>\n"
      ],
      "text/plain": [
       "Applying photons |eta| < 2.5\n"
      ]
     },
     "metadata": {},
     "output_type": "display_data"
    },
    {
     "data": {
      "text/html": [
       "<pre style=\"white-space:pre;overflow-x:auto;line-height:normal;font-family:Menlo,'DejaVu Sans Mono',consolas,'Courier New',monospace\">Applying photons Custom Cutbased\n",
       "</pre>\n"
      ],
      "text/plain": [
       "Applying photons Custom Cutbased\n"
      ]
     },
     "metadata": {},
     "output_type": "display_data"
    },
    {
     "data": {
      "text/html": [
       "<pre style=\"white-space:pre;overflow-x:auto;line-height:normal;font-family:Menlo,'DejaVu Sans Mono',consolas,'Courier New',monospace\">Applying photons pixelSeed\n",
       "</pre>\n"
      ],
      "text/plain": [
       "Applying photons pixelSeed\n"
      ]
     },
     "metadata": {},
     "output_type": "display_data"
    },
    {
     "data": {
      "text/html": [
       "<pre style=\"white-space:pre;overflow-x:auto;line-height:normal;font-family:Menlo,'DejaVu Sans Mono',consolas,'Courier New',monospace\">Applying photons Photon DR Veto 0p025\n",
       "</pre>\n"
      ],
      "text/plain": [
       "Applying photons Photon DR Veto 0p025\n"
      ]
     },
     "metadata": {},
     "output_type": "display_data"
    },
    {
     "data": {
      "text/html": [
       "<pre style=\"white-space:pre;overflow-x:auto;line-height:normal;font-family:Menlo,'DejaVu Sans Mono',consolas,'Courier New',monospace\">Applying dsaMuons pT &gt; 10 GeV\n",
       "</pre>\n"
      ],
      "text/plain": [
       "Applying dsaMuons pT > 10 GeV\n"
      ]
     },
     "metadata": {},
     "output_type": "display_data"
    },
    {
     "data": {
      "text/html": [
       "<pre style=\"white-space:pre;overflow-x:auto;line-height:normal;font-family:Menlo,'DejaVu Sans Mono',consolas,'Courier New',monospace\">Applying dsaMuons |eta| &lt; 2.4\n",
       "</pre>\n"
      ],
      "text/plain": [
       "Applying dsaMuons |eta| < 2.4\n"
      ]
     },
     "metadata": {},
     "output_type": "display_data"
    },
    {
     "data": {
      "text/html": [
       "<pre style=\"white-space:pre;overflow-x:auto;line-height:normal;font-family:Menlo,'DejaVu Sans Mono',consolas,'Courier New',monospace\">Applying dsaMuons displaced ID\n",
       "</pre>\n"
      ],
      "text/plain": [
       "Applying dsaMuons displaced ID\n"
      ]
     },
     "metadata": {},
     "output_type": "display_data"
    },
    {
     "data": {
      "text/html": [
       "<pre style=\"white-space:pre;overflow-x:auto;line-height:normal;font-family:Menlo,'DejaVu Sans Mono',consolas,'Courier New',monospace\">Applying genAs_toMu &gt;= 2 close dsaMu\n",
       "</pre>\n"
      ],
      "text/plain": [
       "Applying genAs_toMu >= 2 close dsaMu\n"
      ]
     },
     "metadata": {},
     "output_type": "display_data"
    },
    {
     "data": {
      "text/html": [
       "<pre style=\"white-space:pre;overflow-x:auto;line-height:normal;font-family:Menlo,'DejaVu Sans Mono',consolas,'Courier New',monospace\">Applying cut: PV filter\n",
       "</pre>\n"
      ],
      "text/plain": [
       "Applying cut: PV filter\n"
      ]
     },
     "metadata": {},
     "output_type": "display_data"
    },
    {
     "data": {
      "text/html": [
       "<pre style=\"white-space:pre;overflow-x:auto;line-height:normal;font-family:Menlo,'DejaVu Sans Mono',consolas,'Courier New',monospace\">Applying cut: pass triggers\n",
       "</pre>\n"
      ],
      "text/plain": [
       "Applying cut: pass triggers\n"
      ]
     },
     "metadata": {},
     "output_type": "display_data"
    },
    {
     "data": {
      "text/html": [
       "<pre style=\"white-space:pre;overflow-x:auto;line-height:normal;font-family:Menlo,'DejaVu Sans Mono',consolas,'Courier New',monospace\">Warning: a histogram with the name genAs_toMu_pt_MuMudR_lowRange could not be filled and will be skipped\n",
       "</pre>\n"
      ],
      "text/plain": [
       "Warning: a histogram with the name genAs_toMu_pt_MuMudR_lowRange could not be filled and will be skipped\n"
      ]
     },
     "metadata": {},
     "output_type": "display_data"
    },
    {
     "data": {
      "text/html": [
       "<pre style=\"white-space:pre;overflow-x:auto;line-height:normal;font-family:Menlo,'DejaVu Sans Mono',consolas,'Courier New',monospace\">Warning: a histogram with the name genAs_toMu_pt_MuMudR_XLowRange could not be filled and will be skipped\n",
       "</pre>\n"
      ],
      "text/plain": [
       "Warning: a histogram with the name genAs_toMu_pt_MuMudR_XLowRange could not be filled and will be skipped\n"
      ]
     },
     "metadata": {},
     "output_type": "display_data"
    },
    {
     "data": {
      "text/html": [
       "<pre style=\"white-space:pre;overflow-x:auto;line-height:normal;font-family:Menlo,'DejaVu Sans Mono',consolas,'Courier New',monospace\">Warning: a histogram with the name genAs_toMu_pt_MuMudR_XXLowRange could not be filled and will be skipped\n",
       "</pre>\n"
      ],
      "text/plain": [
       "Warning: a histogram with the name genAs_toMu_pt_MuMudR_XXLowRange could not be filled and will be skipped\n"
      ]
     },
     "metadata": {},
     "output_type": "display_data"
    },
    {
     "data": {
      "text/html": [
       "<pre style=\"white-space:pre;overflow-x:auto;line-height:normal;font-family:Menlo,'DejaVu Sans Mono',consolas,'Courier New',monospace\">Warning: a histogram with the name genAs_toMu_lxy_MuMudR could not be filled and will be skipped\n",
       "</pre>\n"
      ],
      "text/plain": [
       "Warning: a histogram with the name genAs_toMu_lxy_MuMudR could not be filled and will be skipped\n"
      ]
     },
     "metadata": {},
     "output_type": "display_data"
    },
    {
     "data": {
      "text/html": [
       "<pre style=\"white-space:pre;overflow-x:auto;line-height:normal;font-family:Menlo,'DejaVu Sans Mono',consolas,'Courier New',monospace\">Warning: a histogram with the name genAs_toMu_lxy_MuMudR_XLowRange could not be filled and will be skipped\n",
       "</pre>\n"
      ],
      "text/plain": [
       "Warning: a histogram with the name genAs_toMu_lxy_MuMudR_XLowRange could not be filled and will be skipped\n"
      ]
     },
     "metadata": {},
     "output_type": "display_data"
    },
    {
     "data": {
      "text/html": [
       "<pre style=\"white-space:pre;overflow-x:auto;line-height:normal;font-family:Menlo,'DejaVu Sans Mono',consolas,'Courier New',monospace\">Warning: a histogram with the name genAs_toMu_lxy_MuMudR_XXLowRange could not be filled and will be skipped\n",
       "</pre>\n"
      ],
      "text/plain": [
       "Warning: a histogram with the name genAs_toMu_lxy_MuMudR_XXLowRange could not be filled and will be skipped\n"
      ]
     },
     "metadata": {},
     "output_type": "display_data"
    },
    {
     "data": {
      "text/html": [
       "<pre style=\"white-space:pre;overflow-x:auto;line-height:normal;font-family:Menlo,'DejaVu Sans Mono',consolas,'Courier New',monospace\">Warning: a histogram with the name genAs_toMu_pt_MuMudR_highRange could not be filled and will be skipped\n",
       "</pre>\n"
      ],
      "text/plain": [
       "Warning: a histogram with the name genAs_toMu_pt_MuMudR_highRange could not be filled and will be skipped\n"
      ]
     },
     "metadata": {},
     "output_type": "display_data"
    },
    {
     "data": {
      "text/html": [
       "<pre style=\"white-space:pre;overflow-x:auto;line-height:normal;font-family:Menlo,'DejaVu Sans Mono',consolas,'Courier New',monospace\">Warning: a histogram with the name genAs_toMu_pt_highRange_MuMudR_lowRange could not be filled and will be skipped\n",
       "</pre>\n"
      ],
      "text/plain": [
       "Warning: a histogram with the name genAs_toMu_pt_highRange_MuMudR_lowRange could not be filled and will be skipped\n"
      ]
     },
     "metadata": {},
     "output_type": "display_data"
    },
    {
     "data": {
      "text/html": [
       "<pre style=\"white-space:pre;overflow-x:auto;line-height:normal;font-family:Menlo,'DejaVu Sans Mono',consolas,'Courier New',monospace\">Applying genMus status 1\n",
       "</pre>\n"
      ],
      "text/plain": [
       "Applying genMus status 1\n"
      ]
     },
     "metadata": {},
     "output_type": "display_data"
    },
    {
     "data": {
      "text/html": [
       "<pre style=\"white-space:pre;overflow-x:auto;line-height:normal;font-family:Menlo,'DejaVu Sans Mono',consolas,'Courier New',monospace\">Applying genEs status 1\n",
       "</pre>\n"
      ],
      "text/plain": [
       "Applying genEs status 1\n"
      ]
     },
     "metadata": {},
     "output_type": "display_data"
    },
    {
     "data": {
      "text/html": [
       "<pre style=\"white-space:pre;overflow-x:auto;line-height:normal;font-family:Menlo,'DejaVu Sans Mono',consolas,'Courier New',monospace\">Applying genAs_toMu close mu\n",
       "</pre>\n"
      ],
      "text/plain": [
       "Applying genAs_toMu close mu\n"
      ]
     },
     "metadata": {},
     "output_type": "display_data"
    },
    {
     "data": {
      "text/html": [
       "<pre style=\"white-space:pre;overflow-x:auto;line-height:normal;font-family:Menlo,'DejaVu Sans Mono',consolas,'Courier New',monospace\">Applying cut: PV filter\n",
       "</pre>\n"
      ],
      "text/plain": [
       "Applying cut: PV filter\n"
      ]
     },
     "metadata": {},
     "output_type": "display_data"
    },
    {
     "data": {
      "text/html": [
       "<pre style=\"white-space:pre;overflow-x:auto;line-height:normal;font-family:Menlo,'DejaVu Sans Mono',consolas,'Courier New',monospace\">Warning: a histogram with the name genAs_toMu_pt_MuMudR_lowRange could not be filled and will be skipped\n",
       "</pre>\n"
      ],
      "text/plain": [
       "Warning: a histogram with the name genAs_toMu_pt_MuMudR_lowRange could not be filled and will be skipped\n"
      ]
     },
     "metadata": {},
     "output_type": "display_data"
    },
    {
     "data": {
      "text/html": [
       "<pre style=\"white-space:pre;overflow-x:auto;line-height:normal;font-family:Menlo,'DejaVu Sans Mono',consolas,'Courier New',monospace\">Warning: a histogram with the name genAs_toMu_pt_MuMudR_XLowRange could not be filled and will be skipped\n",
       "</pre>\n"
      ],
      "text/plain": [
       "Warning: a histogram with the name genAs_toMu_pt_MuMudR_XLowRange could not be filled and will be skipped\n"
      ]
     },
     "metadata": {},
     "output_type": "display_data"
    },
    {
     "data": {
      "text/html": [
       "<pre style=\"white-space:pre;overflow-x:auto;line-height:normal;font-family:Menlo,'DejaVu Sans Mono',consolas,'Courier New',monospace\">Warning: a histogram with the name genAs_toMu_pt_MuMudR_XXLowRange could not be filled and will be skipped\n",
       "</pre>\n"
      ],
      "text/plain": [
       "Warning: a histogram with the name genAs_toMu_pt_MuMudR_XXLowRange could not be filled and will be skipped\n"
      ]
     },
     "metadata": {},
     "output_type": "display_data"
    },
    {
     "data": {
      "text/html": [
       "<pre style=\"white-space:pre;overflow-x:auto;line-height:normal;font-family:Menlo,'DejaVu Sans Mono',consolas,'Courier New',monospace\">Warning: a histogram with the name genAs_toMu_lxy_MuMudR could not be filled and will be skipped\n",
       "</pre>\n"
      ],
      "text/plain": [
       "Warning: a histogram with the name genAs_toMu_lxy_MuMudR could not be filled and will be skipped\n"
      ]
     },
     "metadata": {},
     "output_type": "display_data"
    },
    {
     "data": {
      "text/html": [
       "<pre style=\"white-space:pre;overflow-x:auto;line-height:normal;font-family:Menlo,'DejaVu Sans Mono',consolas,'Courier New',monospace\">Warning: a histogram with the name genAs_toMu_lxy_MuMudR_XLowRange could not be filled and will be skipped\n",
       "</pre>\n"
      ],
      "text/plain": [
       "Warning: a histogram with the name genAs_toMu_lxy_MuMudR_XLowRange could not be filled and will be skipped\n"
      ]
     },
     "metadata": {},
     "output_type": "display_data"
    },
    {
     "data": {
      "text/html": [
       "<pre style=\"white-space:pre;overflow-x:auto;line-height:normal;font-family:Menlo,'DejaVu Sans Mono',consolas,'Courier New',monospace\">Warning: a histogram with the name genAs_toMu_lxy_MuMudR_XXLowRange could not be filled and will be skipped\n",
       "</pre>\n"
      ],
      "text/plain": [
       "Warning: a histogram with the name genAs_toMu_lxy_MuMudR_XXLowRange could not be filled and will be skipped\n"
      ]
     },
     "metadata": {},
     "output_type": "display_data"
    },
    {
     "data": {
      "text/html": [
       "<pre style=\"white-space:pre;overflow-x:auto;line-height:normal;font-family:Menlo,'DejaVu Sans Mono',consolas,'Courier New',monospace\">Warning: a histogram with the name genAs_toMu_pt_MuMudR_highRange could not be filled and will be skipped\n",
       "</pre>\n"
      ],
      "text/plain": [
       "Warning: a histogram with the name genAs_toMu_pt_MuMudR_highRange could not be filled and will be skipped\n"
      ]
     },
     "metadata": {},
     "output_type": "display_data"
    },
    {
     "data": {
      "text/html": [
       "<pre style=\"white-space:pre;overflow-x:auto;line-height:normal;font-family:Menlo,'DejaVu Sans Mono',consolas,'Courier New',monospace\">Warning: a histogram with the name genAs_toMu_pt_highRange_MuMudR_lowRange could not be filled and will be skipped\n",
       "</pre>\n"
      ],
      "text/plain": [
       "Warning: a histogram with the name genAs_toMu_pt_highRange_MuMudR_lowRange could not be filled and will be skipped\n"
      ]
     },
     "metadata": {},
     "output_type": "display_data"
    },
    {
     "data": {
      "text/html": [
       "<pre style=\"white-space:pre;overflow-x:auto;line-height:normal;font-family:Menlo,'DejaVu Sans Mono',consolas,'Courier New',monospace\">Applying genMus status 1\n",
       "</pre>\n"
      ],
      "text/plain": [
       "Applying genMus status 1\n"
      ]
     },
     "metadata": {},
     "output_type": "display_data"
    },
    {
     "data": {
      "text/html": [
       "<pre style=\"white-space:pre;overflow-x:auto;line-height:normal;font-family:Menlo,'DejaVu Sans Mono',consolas,'Courier New',monospace\">Applying genEs status 1\n",
       "</pre>\n"
      ],
      "text/plain": [
       "Applying genEs status 1\n"
      ]
     },
     "metadata": {},
     "output_type": "display_data"
    },
    {
     "data": {
      "text/html": [
       "<pre style=\"white-space:pre;overflow-x:auto;line-height:normal;font-family:Menlo,'DejaVu Sans Mono',consolas,'Courier New',monospace\">Applying genAs_toMu &gt;= 2 close mu\n",
       "</pre>\n"
      ],
      "text/plain": [
       "Applying genAs_toMu >= 2 close mu\n"
      ]
     },
     "metadata": {},
     "output_type": "display_data"
    },
    {
     "data": {
      "text/html": [
       "<pre style=\"white-space:pre;overflow-x:auto;line-height:normal;font-family:Menlo,'DejaVu Sans Mono',consolas,'Courier New',monospace\">Applying cut: PV filter\n",
       "</pre>\n"
      ],
      "text/plain": [
       "Applying cut: PV filter\n"
      ]
     },
     "metadata": {},
     "output_type": "display_data"
    },
    {
     "data": {
      "text/html": [
       "<pre style=\"white-space:pre;overflow-x:auto;line-height:normal;font-family:Menlo,'DejaVu Sans Mono',consolas,'Courier New',monospace\">Warning: a histogram with the name genAs_toMu_pt_MuMudR_lowRange could not be filled and will be skipped\n",
       "</pre>\n"
      ],
      "text/plain": [
       "Warning: a histogram with the name genAs_toMu_pt_MuMudR_lowRange could not be filled and will be skipped\n"
      ]
     },
     "metadata": {},
     "output_type": "display_data"
    },
    {
     "data": {
      "text/html": [
       "<pre style=\"white-space:pre;overflow-x:auto;line-height:normal;font-family:Menlo,'DejaVu Sans Mono',consolas,'Courier New',monospace\">Warning: a histogram with the name genAs_toMu_pt_MuMudR_XLowRange could not be filled and will be skipped\n",
       "</pre>\n"
      ],
      "text/plain": [
       "Warning: a histogram with the name genAs_toMu_pt_MuMudR_XLowRange could not be filled and will be skipped\n"
      ]
     },
     "metadata": {},
     "output_type": "display_data"
    },
    {
     "data": {
      "text/html": [
       "<pre style=\"white-space:pre;overflow-x:auto;line-height:normal;font-family:Menlo,'DejaVu Sans Mono',consolas,'Courier New',monospace\">Warning: a histogram with the name genAs_toMu_pt_MuMudR_XXLowRange could not be filled and will be skipped\n",
       "</pre>\n"
      ],
      "text/plain": [
       "Warning: a histogram with the name genAs_toMu_pt_MuMudR_XXLowRange could not be filled and will be skipped\n"
      ]
     },
     "metadata": {},
     "output_type": "display_data"
    },
    {
     "data": {
      "text/html": [
       "<pre style=\"white-space:pre;overflow-x:auto;line-height:normal;font-family:Menlo,'DejaVu Sans Mono',consolas,'Courier New',monospace\">Warning: a histogram with the name genAs_toMu_lxy_MuMudR could not be filled and will be skipped\n",
       "</pre>\n"
      ],
      "text/plain": [
       "Warning: a histogram with the name genAs_toMu_lxy_MuMudR could not be filled and will be skipped\n"
      ]
     },
     "metadata": {},
     "output_type": "display_data"
    },
    {
     "data": {
      "text/html": [
       "<pre style=\"white-space:pre;overflow-x:auto;line-height:normal;font-family:Menlo,'DejaVu Sans Mono',consolas,'Courier New',monospace\">Warning: a histogram with the name genAs_toMu_lxy_MuMudR_XLowRange could not be filled and will be skipped\n",
       "</pre>\n"
      ],
      "text/plain": [
       "Warning: a histogram with the name genAs_toMu_lxy_MuMudR_XLowRange could not be filled and will be skipped\n"
      ]
     },
     "metadata": {},
     "output_type": "display_data"
    },
    {
     "data": {
      "text/html": [
       "<pre style=\"white-space:pre;overflow-x:auto;line-height:normal;font-family:Menlo,'DejaVu Sans Mono',consolas,'Courier New',monospace\">Warning: a histogram with the name genAs_toMu_lxy_MuMudR_XXLowRange could not be filled and will be skipped\n",
       "</pre>\n"
      ],
      "text/plain": [
       "Warning: a histogram with the name genAs_toMu_lxy_MuMudR_XXLowRange could not be filled and will be skipped\n"
      ]
     },
     "metadata": {},
     "output_type": "display_data"
    },
    {
     "data": {
      "text/html": [
       "<pre style=\"white-space:pre;overflow-x:auto;line-height:normal;font-family:Menlo,'DejaVu Sans Mono',consolas,'Courier New',monospace\">Warning: a histogram with the name genAs_toMu_pt_MuMudR_highRange could not be filled and will be skipped\n",
       "</pre>\n"
      ],
      "text/plain": [
       "Warning: a histogram with the name genAs_toMu_pt_MuMudR_highRange could not be filled and will be skipped\n"
      ]
     },
     "metadata": {},
     "output_type": "display_data"
    },
    {
     "data": {
      "text/html": [
       "<pre style=\"white-space:pre;overflow-x:auto;line-height:normal;font-family:Menlo,'DejaVu Sans Mono',consolas,'Courier New',monospace\">Warning: a histogram with the name genAs_toMu_pt_highRange_MuMudR_lowRange could not be filled and will be skipped\n",
       "</pre>\n"
      ],
      "text/plain": [
       "Warning: a histogram with the name genAs_toMu_pt_highRange_MuMudR_lowRange could not be filled and will be skipped\n"
      ]
     },
     "metadata": {},
     "output_type": "display_data"
    },
    {
     "data": {
      "text/html": [
       "<pre style=\"white-space:pre;overflow-x:auto;line-height:normal;font-family:Menlo,'DejaVu Sans Mono',consolas,'Courier New',monospace\">Applying genMus status 1\n",
       "</pre>\n"
      ],
      "text/plain": [
       "Applying genMus status 1\n"
      ]
     },
     "metadata": {},
     "output_type": "display_data"
    },
    {
     "data": {
      "text/html": [
       "<pre style=\"white-space:pre;overflow-x:auto;line-height:normal;font-family:Menlo,'DejaVu Sans Mono',consolas,'Courier New',monospace\">Applying genEs status 1\n",
       "</pre>\n"
      ],
      "text/plain": [
       "Applying genEs status 1\n"
      ]
     },
     "metadata": {},
     "output_type": "display_data"
    },
    {
     "data": {
      "text/html": [
       "<pre style=\"white-space:pre;overflow-x:auto;line-height:normal;font-family:Menlo,'DejaVu Sans Mono',consolas,'Courier New',monospace\">Applying electrons pT &gt; 10 GeV\n",
       "</pre>\n"
      ],
      "text/plain": [
       "Applying electrons pT > 10 GeV\n"
      ]
     },
     "metadata": {},
     "output_type": "display_data"
    },
    {
     "data": {
      "text/html": [
       "<pre style=\"white-space:pre;overflow-x:auto;line-height:normal;font-family:Menlo,'DejaVu Sans Mono',consolas,'Courier New',monospace\">Applying electrons |eta| &lt; 2.4\n",
       "</pre>\n"
      ],
      "text/plain": [
       "Applying electrons |eta| < 2.4\n"
      ]
     },
     "metadata": {},
     "output_type": "display_data"
    },
    {
     "data": {
      "text/html": [
       "<pre style=\"white-space:pre;overflow-x:auto;line-height:normal;font-family:Menlo,'DejaVu Sans Mono',consolas,'Courier New',monospace\">Applying electrons MVANonIsoWPL\n",
       "</pre>\n"
      ],
      "text/plain": [
       "Applying electrons MVANonIsoWPL\n"
      ]
     },
     "metadata": {},
     "output_type": "display_data"
    },
    {
     "data": {
      "text/html": [
       "<pre style=\"white-space:pre;overflow-x:auto;line-height:normal;font-family:Menlo,'DejaVu Sans Mono',consolas,'Courier New',monospace\">Applying muons looseID\n",
       "</pre>\n"
      ],
      "text/plain": [
       "Applying muons looseID\n"
      ]
     },
     "metadata": {},
     "output_type": "display_data"
    },
    {
     "data": {
      "text/html": [
       "<pre style=\"white-space:pre;overflow-x:auto;line-height:normal;font-family:Menlo,'DejaVu Sans Mono',consolas,'Courier New',monospace\">Applying muons pT &gt; 5 GeV\n",
       "</pre>\n"
      ],
      "text/plain": [
       "Applying muons pT > 5 GeV\n"
      ]
     },
     "metadata": {},
     "output_type": "display_data"
    },
    {
     "data": {
      "text/html": [
       "<pre style=\"white-space:pre;overflow-x:auto;line-height:normal;font-family:Menlo,'DejaVu Sans Mono',consolas,'Courier New',monospace\">Applying muons |eta| &lt; 2.4\n",
       "</pre>\n"
      ],
      "text/plain": [
       "Applying muons |eta| < 2.4\n"
      ]
     },
     "metadata": {},
     "output_type": "display_data"
    },
    {
     "data": {
      "text/html": [
       "<pre style=\"white-space:pre;overflow-x:auto;line-height:normal;font-family:Menlo,'DejaVu Sans Mono',consolas,'Courier New',monospace\">Applying photons pT &gt; 20 GeV\n",
       "</pre>\n"
      ],
      "text/plain": [
       "Applying photons pT > 20 GeV\n"
      ]
     },
     "metadata": {},
     "output_type": "display_data"
    },
    {
     "data": {
      "text/html": [
       "<pre style=\"white-space:pre;overflow-x:auto;line-height:normal;font-family:Menlo,'DejaVu Sans Mono',consolas,'Courier New',monospace\">Applying photons |eta| &lt; 2.5\n",
       "</pre>\n"
      ],
      "text/plain": [
       "Applying photons |eta| < 2.5\n"
      ]
     },
     "metadata": {},
     "output_type": "display_data"
    },
    {
     "data": {
      "text/html": [
       "<pre style=\"white-space:pre;overflow-x:auto;line-height:normal;font-family:Menlo,'DejaVu Sans Mono',consolas,'Courier New',monospace\">Applying photons Custom Cutbased\n",
       "</pre>\n"
      ],
      "text/plain": [
       "Applying photons Custom Cutbased\n"
      ]
     },
     "metadata": {},
     "output_type": "display_data"
    },
    {
     "data": {
      "text/html": [
       "<pre style=\"white-space:pre;overflow-x:auto;line-height:normal;font-family:Menlo,'DejaVu Sans Mono',consolas,'Courier New',monospace\">Applying photons pixelSeed\n",
       "</pre>\n"
      ],
      "text/plain": [
       "Applying photons pixelSeed\n"
      ]
     },
     "metadata": {},
     "output_type": "display_data"
    },
    {
     "data": {
      "text/html": [
       "<pre style=\"white-space:pre;overflow-x:auto;line-height:normal;font-family:Menlo,'DejaVu Sans Mono',consolas,'Courier New',monospace\">Applying photons Photon DR Veto 0p025\n",
       "</pre>\n"
      ],
      "text/plain": [
       "Applying photons Photon DR Veto 0p025\n"
      ]
     },
     "metadata": {},
     "output_type": "display_data"
    },
    {
     "data": {
      "text/html": [
       "<pre style=\"white-space:pre;overflow-x:auto;line-height:normal;font-family:Menlo,'DejaVu Sans Mono',consolas,'Courier New',monospace\">Applying dsaMuons pT &gt; 10 GeV\n",
       "</pre>\n"
      ],
      "text/plain": [
       "Applying dsaMuons pT > 10 GeV\n"
      ]
     },
     "metadata": {},
     "output_type": "display_data"
    },
    {
     "data": {
      "text/html": [
       "<pre style=\"white-space:pre;overflow-x:auto;line-height:normal;font-family:Menlo,'DejaVu Sans Mono',consolas,'Courier New',monospace\">Applying dsaMuons |eta| &lt; 2.4\n",
       "</pre>\n"
      ],
      "text/plain": [
       "Applying dsaMuons |eta| < 2.4\n"
      ]
     },
     "metadata": {},
     "output_type": "display_data"
    },
    {
     "data": {
      "text/html": [
       "<pre style=\"white-space:pre;overflow-x:auto;line-height:normal;font-family:Menlo,'DejaVu Sans Mono',consolas,'Courier New',monospace\">Applying dsaMuons displaced ID\n",
       "</pre>\n"
      ],
      "text/plain": [
       "Applying dsaMuons displaced ID\n"
      ]
     },
     "metadata": {},
     "output_type": "display_data"
    },
    {
     "data": {
      "text/html": [
       "<pre style=\"white-space:pre;overflow-x:auto;line-height:normal;font-family:Menlo,'DejaVu Sans Mono',consolas,'Courier New',monospace\">Applying genAs_toMu close mu\n",
       "</pre>\n"
      ],
      "text/plain": [
       "Applying genAs_toMu close mu\n"
      ]
     },
     "metadata": {},
     "output_type": "display_data"
    },
    {
     "data": {
      "text/html": [
       "<pre style=\"white-space:pre;overflow-x:auto;line-height:normal;font-family:Menlo,'DejaVu Sans Mono',consolas,'Courier New',monospace\">Applying cut: PV filter\n",
       "</pre>\n"
      ],
      "text/plain": [
       "Applying cut: PV filter\n"
      ]
     },
     "metadata": {},
     "output_type": "display_data"
    },
    {
     "data": {
      "text/html": [
       "<pre style=\"white-space:pre;overflow-x:auto;line-height:normal;font-family:Menlo,'DejaVu Sans Mono',consolas,'Courier New',monospace\">Applying cut: pass triggers\n",
       "</pre>\n"
      ],
      "text/plain": [
       "Applying cut: pass triggers\n"
      ]
     },
     "metadata": {},
     "output_type": "display_data"
    },
    {
     "data": {
      "text/html": [
       "<pre style=\"white-space:pre;overflow-x:auto;line-height:normal;font-family:Menlo,'DejaVu Sans Mono',consolas,'Courier New',monospace\">Warning: a histogram with the name genAs_toMu_pt_MuMudR_lowRange could not be filled and will be skipped\n",
       "</pre>\n"
      ],
      "text/plain": [
       "Warning: a histogram with the name genAs_toMu_pt_MuMudR_lowRange could not be filled and will be skipped\n"
      ]
     },
     "metadata": {},
     "output_type": "display_data"
    },
    {
     "data": {
      "text/html": [
       "<pre style=\"white-space:pre;overflow-x:auto;line-height:normal;font-family:Menlo,'DejaVu Sans Mono',consolas,'Courier New',monospace\">Warning: a histogram with the name genAs_toMu_pt_MuMudR_XLowRange could not be filled and will be skipped\n",
       "</pre>\n"
      ],
      "text/plain": [
       "Warning: a histogram with the name genAs_toMu_pt_MuMudR_XLowRange could not be filled and will be skipped\n"
      ]
     },
     "metadata": {},
     "output_type": "display_data"
    },
    {
     "data": {
      "text/html": [
       "<pre style=\"white-space:pre;overflow-x:auto;line-height:normal;font-family:Menlo,'DejaVu Sans Mono',consolas,'Courier New',monospace\">Warning: a histogram with the name genAs_toMu_pt_MuMudR_XXLowRange could not be filled and will be skipped\n",
       "</pre>\n"
      ],
      "text/plain": [
       "Warning: a histogram with the name genAs_toMu_pt_MuMudR_XXLowRange could not be filled and will be skipped\n"
      ]
     },
     "metadata": {},
     "output_type": "display_data"
    },
    {
     "data": {
      "text/html": [
       "<pre style=\"white-space:pre;overflow-x:auto;line-height:normal;font-family:Menlo,'DejaVu Sans Mono',consolas,'Courier New',monospace\">Warning: a histogram with the name genAs_toMu_lxy_MuMudR could not be filled and will be skipped\n",
       "</pre>\n"
      ],
      "text/plain": [
       "Warning: a histogram with the name genAs_toMu_lxy_MuMudR could not be filled and will be skipped\n"
      ]
     },
     "metadata": {},
     "output_type": "display_data"
    },
    {
     "data": {
      "text/html": [
       "<pre style=\"white-space:pre;overflow-x:auto;line-height:normal;font-family:Menlo,'DejaVu Sans Mono',consolas,'Courier New',monospace\">Warning: a histogram with the name genAs_toMu_lxy_MuMudR_XLowRange could not be filled and will be skipped\n",
       "</pre>\n"
      ],
      "text/plain": [
       "Warning: a histogram with the name genAs_toMu_lxy_MuMudR_XLowRange could not be filled and will be skipped\n"
      ]
     },
     "metadata": {},
     "output_type": "display_data"
    },
    {
     "data": {
      "text/html": [
       "<pre style=\"white-space:pre;overflow-x:auto;line-height:normal;font-family:Menlo,'DejaVu Sans Mono',consolas,'Courier New',monospace\">Warning: a histogram with the name genAs_toMu_lxy_MuMudR_XXLowRange could not be filled and will be skipped\n",
       "</pre>\n"
      ],
      "text/plain": [
       "Warning: a histogram with the name genAs_toMu_lxy_MuMudR_XXLowRange could not be filled and will be skipped\n"
      ]
     },
     "metadata": {},
     "output_type": "display_data"
    },
    {
     "data": {
      "text/html": [
       "<pre style=\"white-space:pre;overflow-x:auto;line-height:normal;font-family:Menlo,'DejaVu Sans Mono',consolas,'Courier New',monospace\">Warning: a histogram with the name genAs_toMu_pt_MuMudR_highRange could not be filled and will be skipped\n",
       "</pre>\n"
      ],
      "text/plain": [
       "Warning: a histogram with the name genAs_toMu_pt_MuMudR_highRange could not be filled and will be skipped\n"
      ]
     },
     "metadata": {},
     "output_type": "display_data"
    },
    {
     "data": {
      "text/html": [
       "<pre style=\"white-space:pre;overflow-x:auto;line-height:normal;font-family:Menlo,'DejaVu Sans Mono',consolas,'Courier New',monospace\">Warning: a histogram with the name genAs_toMu_pt_highRange_MuMudR_lowRange could not be filled and will be skipped\n",
       "</pre>\n"
      ],
      "text/plain": [
       "Warning: a histogram with the name genAs_toMu_pt_highRange_MuMudR_lowRange could not be filled and will be skipped\n"
      ]
     },
     "metadata": {},
     "output_type": "display_data"
    },
    {
     "data": {
      "text/html": [
       "<pre style=\"white-space:pre;overflow-x:auto;line-height:normal;font-family:Menlo,'DejaVu Sans Mono',consolas,'Courier New',monospace\">Applying genMus status 1\n",
       "</pre>\n"
      ],
      "text/plain": [
       "Applying genMus status 1\n"
      ]
     },
     "metadata": {},
     "output_type": "display_data"
    },
    {
     "data": {
      "text/html": [
       "<pre style=\"white-space:pre;overflow-x:auto;line-height:normal;font-family:Menlo,'DejaVu Sans Mono',consolas,'Courier New',monospace\">Applying genEs status 1\n",
       "</pre>\n"
      ],
      "text/plain": [
       "Applying genEs status 1\n"
      ]
     },
     "metadata": {},
     "output_type": "display_data"
    },
    {
     "data": {
      "text/html": [
       "<pre style=\"white-space:pre;overflow-x:auto;line-height:normal;font-family:Menlo,'DejaVu Sans Mono',consolas,'Courier New',monospace\">Applying electrons pT &gt; 10 GeV\n",
       "</pre>\n"
      ],
      "text/plain": [
       "Applying electrons pT > 10 GeV\n"
      ]
     },
     "metadata": {},
     "output_type": "display_data"
    },
    {
     "data": {
      "text/html": [
       "<pre style=\"white-space:pre;overflow-x:auto;line-height:normal;font-family:Menlo,'DejaVu Sans Mono',consolas,'Courier New',monospace\">Applying electrons |eta| &lt; 2.4\n",
       "</pre>\n"
      ],
      "text/plain": [
       "Applying electrons |eta| < 2.4\n"
      ]
     },
     "metadata": {},
     "output_type": "display_data"
    },
    {
     "data": {
      "text/html": [
       "<pre style=\"white-space:pre;overflow-x:auto;line-height:normal;font-family:Menlo,'DejaVu Sans Mono',consolas,'Courier New',monospace\">Applying electrons MVANonIsoWPL\n",
       "</pre>\n"
      ],
      "text/plain": [
       "Applying electrons MVANonIsoWPL\n"
      ]
     },
     "metadata": {},
     "output_type": "display_data"
    },
    {
     "data": {
      "text/html": [
       "<pre style=\"white-space:pre;overflow-x:auto;line-height:normal;font-family:Menlo,'DejaVu Sans Mono',consolas,'Courier New',monospace\">Applying muons looseID\n",
       "</pre>\n"
      ],
      "text/plain": [
       "Applying muons looseID\n"
      ]
     },
     "metadata": {},
     "output_type": "display_data"
    },
    {
     "data": {
      "text/html": [
       "<pre style=\"white-space:pre;overflow-x:auto;line-height:normal;font-family:Menlo,'DejaVu Sans Mono',consolas,'Courier New',monospace\">Applying muons pT &gt; 5 GeV\n",
       "</pre>\n"
      ],
      "text/plain": [
       "Applying muons pT > 5 GeV\n"
      ]
     },
     "metadata": {},
     "output_type": "display_data"
    },
    {
     "data": {
      "text/html": [
       "<pre style=\"white-space:pre;overflow-x:auto;line-height:normal;font-family:Menlo,'DejaVu Sans Mono',consolas,'Courier New',monospace\">Applying muons |eta| &lt; 2.4\n",
       "</pre>\n"
      ],
      "text/plain": [
       "Applying muons |eta| < 2.4\n"
      ]
     },
     "metadata": {},
     "output_type": "display_data"
    },
    {
     "data": {
      "text/html": [
       "<pre style=\"white-space:pre;overflow-x:auto;line-height:normal;font-family:Menlo,'DejaVu Sans Mono',consolas,'Courier New',monospace\">Applying photons pT &gt; 20 GeV\n",
       "</pre>\n"
      ],
      "text/plain": [
       "Applying photons pT > 20 GeV\n"
      ]
     },
     "metadata": {},
     "output_type": "display_data"
    },
    {
     "data": {
      "text/html": [
       "<pre style=\"white-space:pre;overflow-x:auto;line-height:normal;font-family:Menlo,'DejaVu Sans Mono',consolas,'Courier New',monospace\">Applying photons |eta| &lt; 2.5\n",
       "</pre>\n"
      ],
      "text/plain": [
       "Applying photons |eta| < 2.5\n"
      ]
     },
     "metadata": {},
     "output_type": "display_data"
    },
    {
     "data": {
      "text/html": [
       "<pre style=\"white-space:pre;overflow-x:auto;line-height:normal;font-family:Menlo,'DejaVu Sans Mono',consolas,'Courier New',monospace\">Applying photons Custom Cutbased\n",
       "</pre>\n"
      ],
      "text/plain": [
       "Applying photons Custom Cutbased\n"
      ]
     },
     "metadata": {},
     "output_type": "display_data"
    },
    {
     "data": {
      "text/html": [
       "<pre style=\"white-space:pre;overflow-x:auto;line-height:normal;font-family:Menlo,'DejaVu Sans Mono',consolas,'Courier New',monospace\">Applying photons pixelSeed\n",
       "</pre>\n"
      ],
      "text/plain": [
       "Applying photons pixelSeed\n"
      ]
     },
     "metadata": {},
     "output_type": "display_data"
    },
    {
     "data": {
      "text/html": [
       "<pre style=\"white-space:pre;overflow-x:auto;line-height:normal;font-family:Menlo,'DejaVu Sans Mono',consolas,'Courier New',monospace\">Applying photons Photon DR Veto 0p025\n",
       "</pre>\n"
      ],
      "text/plain": [
       "Applying photons Photon DR Veto 0p025\n"
      ]
     },
     "metadata": {},
     "output_type": "display_data"
    },
    {
     "data": {
      "text/html": [
       "<pre style=\"white-space:pre;overflow-x:auto;line-height:normal;font-family:Menlo,'DejaVu Sans Mono',consolas,'Courier New',monospace\">Applying dsaMuons pT &gt; 10 GeV\n",
       "</pre>\n"
      ],
      "text/plain": [
       "Applying dsaMuons pT > 10 GeV\n"
      ]
     },
     "metadata": {},
     "output_type": "display_data"
    },
    {
     "data": {
      "text/html": [
       "<pre style=\"white-space:pre;overflow-x:auto;line-height:normal;font-family:Menlo,'DejaVu Sans Mono',consolas,'Courier New',monospace\">Applying dsaMuons |eta| &lt; 2.4\n",
       "</pre>\n"
      ],
      "text/plain": [
       "Applying dsaMuons |eta| < 2.4\n"
      ]
     },
     "metadata": {},
     "output_type": "display_data"
    },
    {
     "data": {
      "text/html": [
       "<pre style=\"white-space:pre;overflow-x:auto;line-height:normal;font-family:Menlo,'DejaVu Sans Mono',consolas,'Courier New',monospace\">Applying dsaMuons displaced ID\n",
       "</pre>\n"
      ],
      "text/plain": [
       "Applying dsaMuons displaced ID\n"
      ]
     },
     "metadata": {},
     "output_type": "display_data"
    },
    {
     "data": {
      "text/html": [
       "<pre style=\"white-space:pre;overflow-x:auto;line-height:normal;font-family:Menlo,'DejaVu Sans Mono',consolas,'Courier New',monospace\">Applying genAs_toMu &gt;= 2 close mu\n",
       "</pre>\n"
      ],
      "text/plain": [
       "Applying genAs_toMu >= 2 close mu\n"
      ]
     },
     "metadata": {},
     "output_type": "display_data"
    },
    {
     "data": {
      "text/html": [
       "<pre style=\"white-space:pre;overflow-x:auto;line-height:normal;font-family:Menlo,'DejaVu Sans Mono',consolas,'Courier New',monospace\">Applying cut: PV filter\n",
       "</pre>\n"
      ],
      "text/plain": [
       "Applying cut: PV filter\n"
      ]
     },
     "metadata": {},
     "output_type": "display_data"
    },
    {
     "data": {
      "text/html": [
       "<pre style=\"white-space:pre;overflow-x:auto;line-height:normal;font-family:Menlo,'DejaVu Sans Mono',consolas,'Courier New',monospace\">Applying cut: pass triggers\n",
       "</pre>\n"
      ],
      "text/plain": [
       "Applying cut: pass triggers\n"
      ]
     },
     "metadata": {},
     "output_type": "display_data"
    },
    {
     "data": {
      "text/html": [
       "<pre style=\"white-space:pre;overflow-x:auto;line-height:normal;font-family:Menlo,'DejaVu Sans Mono',consolas,'Courier New',monospace\">Warning: a histogram with the name genAs_toMu_pt_MuMudR_lowRange could not be filled and will be skipped\n",
       "</pre>\n"
      ],
      "text/plain": [
       "Warning: a histogram with the name genAs_toMu_pt_MuMudR_lowRange could not be filled and will be skipped\n"
      ]
     },
     "metadata": {},
     "output_type": "display_data"
    },
    {
     "data": {
      "text/html": [
       "<pre style=\"white-space:pre;overflow-x:auto;line-height:normal;font-family:Menlo,'DejaVu Sans Mono',consolas,'Courier New',monospace\">Warning: a histogram with the name genAs_toMu_pt_MuMudR_XLowRange could not be filled and will be skipped\n",
       "</pre>\n"
      ],
      "text/plain": [
       "Warning: a histogram with the name genAs_toMu_pt_MuMudR_XLowRange could not be filled and will be skipped\n"
      ]
     },
     "metadata": {},
     "output_type": "display_data"
    },
    {
     "data": {
      "text/html": [
       "<pre style=\"white-space:pre;overflow-x:auto;line-height:normal;font-family:Menlo,'DejaVu Sans Mono',consolas,'Courier New',monospace\">Warning: a histogram with the name genAs_toMu_pt_MuMudR_XXLowRange could not be filled and will be skipped\n",
       "</pre>\n"
      ],
      "text/plain": [
       "Warning: a histogram with the name genAs_toMu_pt_MuMudR_XXLowRange could not be filled and will be skipped\n"
      ]
     },
     "metadata": {},
     "output_type": "display_data"
    },
    {
     "data": {
      "text/html": [
       "<pre style=\"white-space:pre;overflow-x:auto;line-height:normal;font-family:Menlo,'DejaVu Sans Mono',consolas,'Courier New',monospace\">Warning: a histogram with the name genAs_toMu_lxy_MuMudR could not be filled and will be skipped\n",
       "</pre>\n"
      ],
      "text/plain": [
       "Warning: a histogram with the name genAs_toMu_lxy_MuMudR could not be filled and will be skipped\n"
      ]
     },
     "metadata": {},
     "output_type": "display_data"
    },
    {
     "data": {
      "text/html": [
       "<pre style=\"white-space:pre;overflow-x:auto;line-height:normal;font-family:Menlo,'DejaVu Sans Mono',consolas,'Courier New',monospace\">Warning: a histogram with the name genAs_toMu_lxy_MuMudR_XLowRange could not be filled and will be skipped\n",
       "</pre>\n"
      ],
      "text/plain": [
       "Warning: a histogram with the name genAs_toMu_lxy_MuMudR_XLowRange could not be filled and will be skipped\n"
      ]
     },
     "metadata": {},
     "output_type": "display_data"
    },
    {
     "data": {
      "text/html": [
       "<pre style=\"white-space:pre;overflow-x:auto;line-height:normal;font-family:Menlo,'DejaVu Sans Mono',consolas,'Courier New',monospace\">Warning: a histogram with the name genAs_toMu_lxy_MuMudR_XXLowRange could not be filled and will be skipped\n",
       "</pre>\n"
      ],
      "text/plain": [
       "Warning: a histogram with the name genAs_toMu_lxy_MuMudR_XXLowRange could not be filled and will be skipped\n"
      ]
     },
     "metadata": {},
     "output_type": "display_data"
    },
    {
     "data": {
      "text/html": [
       "<pre style=\"white-space:pre;overflow-x:auto;line-height:normal;font-family:Menlo,'DejaVu Sans Mono',consolas,'Courier New',monospace\">Warning: a histogram with the name genAs_toMu_pt_MuMudR_highRange could not be filled and will be skipped\n",
       "</pre>\n"
      ],
      "text/plain": [
       "Warning: a histogram with the name genAs_toMu_pt_MuMudR_highRange could not be filled and will be skipped\n"
      ]
     },
     "metadata": {},
     "output_type": "display_data"
    },
    {
     "data": {
      "text/html": [
       "<pre style=\"white-space:pre;overflow-x:auto;line-height:normal;font-family:Menlo,'DejaVu Sans Mono',consolas,'Courier New',monospace\">Warning: a histogram with the name genAs_toMu_pt_highRange_MuMudR_lowRange could not be filled and will be skipped\n",
       "</pre>\n"
      ],
      "text/plain": [
       "Warning: a histogram with the name genAs_toMu_pt_highRange_MuMudR_lowRange could not be filled and will be skipped\n"
      ]
     },
     "metadata": {},
     "output_type": "display_data"
    },
    {
     "data": {
      "text/html": [
       "<pre style=\"white-space:pre;overflow-x:auto;line-height:normal;font-family:Menlo,'DejaVu Sans Mono',consolas,'Courier New',monospace\"></pre>\n"
      ],
      "text/plain": []
     },
     "metadata": {},
     "output_type": "display_data"
    },
    {
     "name": "stdout",
     "output_type": "stream",
     "text": [
      "Signal not in xs cfg, assuming 1fb\n",
      "Signal not in xs cfg, assuming 1fb\n",
      "Signal not in xs cfg, assuming 1fb\n",
      "Signal not in xs cfg, assuming 1fb\n",
      "Signal not in xs cfg, assuming 1fb\n",
      "Signal not in xs cfg, assuming 1fb\n"
     ]
    }
   ],
   "source": [
    "samples = [\n",
    "    '2Mu2E_800GeV_5p0GeV_50p0mm',\n",
    "    '2Mu2E_800GeV_1p2GeV_12p0mm',\n",
    "    '2Mu2E_800GeV_0p25GeV_2p5mm',\n",
    "    '2Mu2E_500GeV_5p0GeV_80p0mm',\n",
    "    '2Mu2E_500GeV_1p2GeV_19p0mm',\n",
    "    '2Mu2E_500GeV_0p25GeV_4p0mm'\n",
    "]\n",
    "fileset = utilities.make_fileset(samples, \"llpNanoAOD_v2\", max_files=1, location_cfg=\"signal_2mu2e_v10.yaml\")\n",
    "\n",
    "runner = processor.Runner(\n",
    "    executor=processor.IterativeExecutor(),\n",
    "    #executor=processor.DaskExecutor(client=client),\n",
    "    schema=NanoAODSchema,\n",
    "    #schema=llpnanoaodschema.NanoAODSchema,\n",
    "    #maxchunks=1,\n",
    "    skipbadfiles=True,\n",
    ")\n",
    "\n",
    "channels = [\n",
    "    \"baseNoTriggerNoLjNoLjsource\",\n",
    "    \"notrigger_1dsamu\",\n",
    "    \"notrigger_2dsamu\",\n",
    "    \"noLj1dsamu\",\n",
    "    \"noLj2dsamu\",\n",
    "    \"notrigger_1pfmu\",\n",
    "    \"notrigger_2pfmu\",\n",
    "    \"noLj1pfmu\",\n",
    "    \"noLj2pfmu\",\n",
    "]\n",
    "\n",
    "p = sidm_processor.SidmProcessor(\n",
    "    channels,\n",
    "    [\"genA_toMu_base\"],\n",
    "    verbose=True,\n",
    ")\n",
    "\n",
    "output = runner.run(fileset, treename='Events', processor_instance=p)\n",
    "out = output[\"out\"]"
   ]
  },
  {
   "cell_type": "code",
   "execution_count": 9,
   "id": "3c3634f4-15ef-40d5-83ac-d689484e3f97",
   "metadata": {},
   "outputs": [
    {
     "data": {
      "image/png": "[encoded data removed]",
      "text/plain": [
       "<Figure size 1200x2000 with 6 Axes>"
      ]
     },
     "metadata": {},
     "output_type": "display_data"
    }
   ],
   "source": [
    "plt.subplots(3, 2, figsize=(24, 40))\n",
    "for i in range(6):\n",
    "    plt.subplot(3, 2, i+1)\n",
    "    channel1 = 0\n",
    "    channel2 = 2\n",
    "    channel3 = 6\n",
    "    channel4 = 4\n",
    "    channel5 = 8\n",
    "    utilities.plot(out[samples[i]][\"hists\"][\"genAs_toMu_lxy\"][channels[channel1], ::2j],label=channels[channel1])\n",
    "    utilities.plot(out[samples[i]][\"hists\"][\"genAs_toMu_lxy\"][channels[channel2], ::2j],label=channels[channel2])\n",
    "    utilities.plot(out[samples[i]][\"hists\"][\"genAs_toMu_lxy\"][channels[channel3], ::2j],label=channels[channel3])\n",
    "    utilities.plot(out[samples[i]][\"hists\"][\"genAs_toMu_lxy\"][channels[channel4], ::2j],label=channels[channel4])\n",
    "    utilities.plot(out[samples[i]][\"hists\"][\"genAs_toMu_lxy\"][channels[channel5], ::2j],label=channels[channel5])\n",
    "    #plt.yscale(\"log\")\n",
    "    plt.legend()\n",
    "    plt.title(samples[i],y=1.07)"
   ]
  },
  {
   "cell_type": "code",
   "execution_count": 8,
   "id": "441df619-6976-4c12-95bd-248c51d3cf10",
   "metadata": {},
   "outputs": [
    {
     "data": {
      "image/png": "[encoded data removed]",
      "text/plain": [
       "<Figure size 1200x2000 with 6 Axes>"
      ]
     },
     "metadata": {},
     "output_type": "display_data"
    }
   ],
   "source": [
    "plt.subplots(3, 2, figsize=(24, 40))\n",
    "for i in range(6):\n",
    "    plt.subplot(3, 2, i+1)\n",
    "    channel1 = 0\n",
    "    channel2 = 2\n",
    "    channel3 = 6\n",
    "    channel4 = 4\n",
    "    channel5 = 8\n",
    "    utilities.plot(out[samples[i]][\"hists\"][\"genAs_toMu_lxy\"][channels[channel1], ::2j],label=channels[channel1])\n",
    "    utilities.plot(out[samples[i]][\"hists\"][\"genAs_toMu_lxy\"][channels[channel2], ::2j],label=channels[channel2])\n",
    "    utilities.plot(out[samples[i]][\"hists\"][\"genAs_toMu_lxy\"][channels[channel3], ::2j],label=channels[channel3])\n",
    "    utilities.plot(out[samples[i]][\"hists\"][\"genAs_toMu_lxy\"][channels[channel4], ::2j],label=channels[channel4])\n",
    "    utilities.plot(out[samples[i]][\"hists\"][\"genAs_toMu_lxy\"][channels[channel5], ::2j],label=channels[channel5])\n",
    "    plt.yscale(\"log\")\n",
    "    plt.legend()\n",
    "    plt.title(samples[i],y=1.07)"
   ]
  },
  {
   "cell_type": "code",
   "execution_count": null,
   "id": "cb899f03-dd6e-4d32-8877-81c0cdac5868",
   "metadata": {},
   "outputs": [],
   "source": []
  }
 ],
 "metadata": {
  "kernelspec": {
   "display_name": "Python 3 (ipykernel)",
   "language": "python",
   "name": "python3"
  },
  "language_info": {
   "codemirror_mode": {
    "name": "ipython",
    "version": 3
   },
   "file_extension": ".py",
   "mimetype": "text/x-python",
   "name": "python",
   "nbconvert_exporter": "python",
   "pygments_lexer": "ipython3",
   "version": "3.10.14"
  }
 },
 "nbformat": 4,
 "nbformat_minor": 5
}
