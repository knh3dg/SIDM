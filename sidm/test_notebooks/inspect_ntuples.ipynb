{
 "cells": [
  {
   "cell_type": "code",
   "execution_count": 1,
   "id": "f69faf8a-a712-4d71-a610-feee40fb8529",
   "metadata": {
    "tags": []
   },
   "outputs": [
    {
     "name": "stderr",
     "output_type": "stream",
     "text": [
      "/tmp/ipykernel_2044/2281191037.py:6: DeprecationWarning: NanoEventsFactory.from_root() behavior has changed.\n",
      "    The default behavior is that now it reads the input root file using\n",
      "    the newly developed virtual arrays backend of awkward instead of dask.\n",
      "    The backend choice is controlled by the `mode` argument of the method\n",
      "    which can be set to \"eager\", \"virtual\", or \"dask\".\n",
      "    The new default is \"virtual\" while the `delayed` argument has been removed.\n",
      "    The old `delayed=True` is now equivalent to `mode=\"dask\"`.\n",
      "    The old `delayed=False` is now equivalent to `mode=\"eager\"`.\n",
      "    \n",
      "  from coffea.nanoevents import NanoEventsFactory, NanoAODSchema\n"
     ]
    }
   ],
   "source": [
    "# python\n",
    "import sys\n",
    "import os\n",
    "import importlib\n",
    "# columnar analysis\n",
    "from coffea.nanoevents import NanoEventsFactory, NanoAODSchema\n",
    "import awkward as ak\n",
    "# local\n",
    "sidm_path = str(sys.path[0]).split(\"/sidm\")[0]\n",
    "if sidm_path not in sys.path: sys.path.insert(1, sidm_path)\n",
    "from sidm.tools import utilities\n",
    "# always reload local modules to pick up changes during development\n",
    "importlib.reload(utilities)\n",
    "# plotting\n",
    "import matplotlib.pyplot as plt\n",
    "utilities.set_plot_style()"
   ]
  },
  {
   "cell_type": "code",
   "execution_count": 2,
   "id": "dcf88a93-3471-4aba-b1cd-e4effbe503ff",
   "metadata": {
    "tags": []
   },
   "outputs": [
    {
     "name": "stdout",
     "output_type": "stream",
     "text": [
      "root://xcache//store/group/lpcmetx/SIDM/ULSignalSamples/2018_v10/BsTo2DpTo2Mu2e/CutDecayFalse_SIDM_BsTo2DpTo2Mu2e_MBs-500_MDp-5p0_ctau-80p0_v3/LLPnanoAODv2/CutDecayFalse_SIDM_BsTo2DpTo2Mu2e_MBs-500_MDp-5p0_ctau-80p0_v3_part-0.root\n"
     ]
    },
    {
     "name": "stderr",
     "output_type": "stream",
     "text": [
      "/usr/local/lib/python3.12/site-packages/coffea/nanoevents/schemas/nanoaod.py:264: RuntimeWarning: Missing cross-reference index for LowPtElectron_electronIdx => Electron\n",
      "  warnings.warn(\n",
      "/usr/local/lib/python3.12/site-packages/coffea/nanoevents/schemas/nanoaod.py:264: RuntimeWarning: Missing cross-reference index for LowPtElectron_photonIdx => Photon\n",
      "  warnings.warn(\n"
     ]
    },
    {
     "data": {
      "text/html": [
       "<pre>[{run: ??, TkMET: {phi: ??, pt: ??, ...}, GenDressedLepton: ??, ...},\n",
       " {run: ??, TkMET: {phi: ??, pt: ??, ...}, GenDressedLepton: ??, ...},\n",
       " {run: ??, TkMET: {phi: ??, pt: ??, ...}, GenDressedLepton: ??, ...},\n",
       " {run: ??, TkMET: {phi: ??, pt: ??, ...}, GenDressedLepton: ??, ...},\n",
       " {run: ??, TkMET: {phi: ??, pt: ??, ...}, GenDressedLepton: ??, ...},\n",
       " {run: ??, TkMET: {phi: ??, pt: ??, ...}, GenDressedLepton: ??, ...},\n",
       " {run: ??, TkMET: {phi: ??, pt: ??, ...}, GenDressedLepton: ??, ...},\n",
       " {run: ??, TkMET: {phi: ??, pt: ??, ...}, GenDressedLepton: ??, ...},\n",
       " {run: ??, TkMET: {phi: ??, pt: ??, ...}, GenDressedLepton: ??, ...},\n",
       " {run: ??, TkMET: {phi: ??, pt: ??, ...}, GenDressedLepton: ??, ...},\n",
       " ...,\n",
       " {run: ??, TkMET: {phi: ??, pt: ??, ...}, GenDressedLepton: ??, ...},\n",
       " {run: ??, TkMET: {phi: ??, pt: ??, ...}, GenDressedLepton: ??, ...},\n",
       " {run: ??, TkMET: {phi: ??, pt: ??, ...}, GenDressedLepton: ??, ...},\n",
       " {run: ??, TkMET: {phi: ??, pt: ??, ...}, GenDressedLepton: ??, ...},\n",
       " {run: ??, TkMET: {phi: ??, pt: ??, ...}, GenDressedLepton: ??, ...},\n",
       " {run: ??, TkMET: {phi: ??, pt: ??, ...}, GenDressedLepton: ??, ...},\n",
       " {run: ??, TkMET: {phi: ??, pt: ??, ...}, GenDressedLepton: ??, ...},\n",
       " {run: ??, TkMET: {phi: ??, pt: ??, ...}, GenDressedLepton: ??, ...},\n",
       " {run: ??, TkMET: {phi: ??, pt: ??, ...}, GenDressedLepton: ??, ...}]\n",
       "---------------------------------------------------------------------\n",
       "backend: cpu\n",
       "nbytes: unknown\n",
       "type: 2812 * event</pre>"
      ],
      "text/plain": [
       "<NanoEventsArray [<NanoAOD event>, ..., <NanoAOD event>] type='2812 * event'>"
      ]
     },
     "execution_count": 2,
     "metadata": {},
     "output_type": "execute_result"
    }
   ],
   "source": [
    "samples = [\n",
    "    '2Mu2E_500GeV_5p0GeV_80p0mm',\n",
    "]\n",
    "fileset = utilities.make_fileset(samples, \"llpNanoAOD_v2\", max_files=1, location_cfg=\"signal_2mu2e_v10.yaml\")\n",
    "file_path = fileset[samples[0]][\"files\"][0]\n",
    "print(file_path)\n",
    "\n",
    "events = NanoEventsFactory.from_root(\n",
    "    {file_path: \"Events\"},\n",
    "    schemaclass=NanoAODSchema,\n",
    ").events()\n",
    "\n",
    "events"
   ]
  },
  {
   "cell_type": "code",
   "execution_count": 3,
   "id": "cc6c4cba-eb61-4df7-b5ce-87c081a74d89",
   "metadata": {
    "tags": []
   },
   "outputs": [
    {
     "data": {
      "text/plain": [
       "['run',\n",
       " 'TkMET',\n",
       " 'GenDressedLepton',\n",
       " 'SoftActivityJetNjets2',\n",
       " 'PV',\n",
       " 'genTtbarId',\n",
       " 'SoftActivityJetHT2',\n",
       " 'luminosityBlock',\n",
       " 'Electron',\n",
       " 'SubGenJetAK8',\n",
       " 'DSAMuonVertexRefittedTracks',\n",
       " 'RawPuppiMET',\n",
       " 'MET',\n",
       " 'SoftActivityJetNjets10',\n",
       " 'BS',\n",
       " 'SoftActivityJetHT5',\n",
       " 'PSWeight',\n",
       " 'PatMuonVertexRefittedTracks',\n",
       " 'IsoTrack',\n",
       " 'LHEPart',\n",
       " 'GenMET',\n",
       " 'TrigObj',\n",
       " 'fixedGridRhoFastjetCentralNeutral',\n",
       " 'FatJet',\n",
       " 'GenVtx',\n",
       " 'PatDSAMuonVertexRefittedTracks',\n",
       " 'SoftActivityJetHT10',\n",
       " 'L1',\n",
       " 'DSAMuonVertex',\n",
       " 'SoftActivityJetHT',\n",
       " 'Muon',\n",
       " 'SubJet',\n",
       " 'Tau',\n",
       " 'L1Reco',\n",
       " 'GenJetAK8',\n",
       " 'CorrT1METJet',\n",
       " 'genWeight',\n",
       " 'fixedGridRhoFastjetCentral',\n",
       " 'CaloMET',\n",
       " 'GenIsolatedPhoton',\n",
       " 'LHEWeight',\n",
       " 'LHEScaleWeight',\n",
       " 'LowPtElectron',\n",
       " 'SoftActivityJetNjets5',\n",
       " 'event',\n",
       " 'FsrPhoton',\n",
       " 'L1simulation',\n",
       " 'LHEReweightingWeight',\n",
       " 'OtherPV',\n",
       " 'Jet',\n",
       " 'DSAMuon',\n",
       " 'GenJet',\n",
       " 'fixedGridRhoFastjetCentralCalo',\n",
       " 'GenPart',\n",
       " 'PatMuonVertex',\n",
       " 'SoftActivityJet',\n",
       " 'HLTriggerFirstPath',\n",
       " 'Generator',\n",
       " 'Photon',\n",
       " 'boostedTau',\n",
       " 'GenVisTau',\n",
       " 'btagWeight',\n",
       " 'PuppiMET',\n",
       " 'Flag',\n",
       " 'fixedGridRhoFastjetCentralChargedPileUp',\n",
       " 'DeepMETResponseTune',\n",
       " 'HLT',\n",
       " 'HTXS',\n",
       " 'LHE',\n",
       " 'HLTriggerFinalPath',\n",
       " 'fixedGridRhoFastjetAll',\n",
       " 'SV',\n",
       " 'PatDSAMuonVertex',\n",
       " 'Pileup',\n",
       " 'ChsMET',\n",
       " 'LHEPdfWeight',\n",
       " 'DeepMETResolutionTune',\n",
       " 'RawMET',\n",
       " 'L1PreFiringWeight']"
      ]
     },
     "execution_count": 3,
     "metadata": {},
     "output_type": "execute_result"
    }
   ],
   "source": [
    "events.fields"
   ]
  },
  {
   "cell_type": "code",
   "execution_count": null,
   "id": "0a42ec8b-e5c2-4fc0-b284-67bc473bab49",
   "metadata": {},
   "outputs": [],
   "source": []
  }
 ],
 "metadata": {
  "kernelspec": {
   "display_name": "Python 3 (ipykernel)",
   "language": "python",
   "name": "python3"
  },
  "language_info": {
   "codemirror_mode": {
    "name": "ipython",
    "version": 3
   },
   "file_extension": ".py",
   "mimetype": "text/x-python",
   "name": "python",
   "nbconvert_exporter": "python",
   "pygments_lexer": "ipython3",
   "version": "3.12.5"
  }
 },
 "nbformat": 4,
 "nbformat_minor": 5
}
