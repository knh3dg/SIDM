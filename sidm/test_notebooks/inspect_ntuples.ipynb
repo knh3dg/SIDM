{
 "cells": [
  {
   "cell_type": "code",
   "execution_count": 1,
   "id": "f69faf8a-a712-4d71-a610-feee40fb8529",
   "metadata": {
    "tags": []
   },
   "outputs": [],
   "source": [
    "# python\n",
    "import sys\n",
    "import os\n",
    "import importlib\n",
    "# columnar analysis\n",
    "from coffea.nanoevents import NanoEventsFactory, NanoAODSchema\n",
    "import awkward as ak\n",
    "# local\n",
    "sidm_path = str(sys.path[0]).split(\"/sidm\")[0]\n",
    "if sidm_path not in sys.path: sys.path.insert(1, sidm_path)\n",
    "from sidm.tools import utilities\n",
    "# always reload local modules to pick up changes during development\n",
    "importlib.reload(utilities)\n",
    "# plotting\n",
    "import matplotlib.pyplot as plt\n",
    "utilities.set_plot_style()"
   ]
  },
  {
   "cell_type": "code",
   "execution_count": 2,
   "id": "dcf88a93-3471-4aba-b1cd-e4effbe503ff",
   "metadata": {
    "tags": []
   },
   "outputs": [
    {
     "ename": "KeyError",
     "evalue": "0",
     "output_type": "error",
     "traceback": [
      "\u001b[0;31m---------------------------------------------------------------------------\u001b[0m",
      "\u001b[0;31mKeyError\u001b[0m                                  Traceback (most recent call last)",
      "Cell \u001b[0;32mIn[2], line 5\u001b[0m\n\u001b[1;32m      1\u001b[0m samples \u001b[38;5;241m=\u001b[39m [\n\u001b[1;32m      2\u001b[0m     \u001b[38;5;124m'\u001b[39m\u001b[38;5;124m2Mu2E_500GeV_5p0GeV_80p0mm\u001b[39m\u001b[38;5;124m'\u001b[39m,\n\u001b[1;32m      3\u001b[0m ]\n\u001b[1;32m      4\u001b[0m fileset \u001b[38;5;241m=\u001b[39m utilities\u001b[38;5;241m.\u001b[39mmake_fileset(samples, \u001b[38;5;124m\"\u001b[39m\u001b[38;5;124mllpNanoAOD_v2\u001b[39m\u001b[38;5;124m\"\u001b[39m, max_files\u001b[38;5;241m=\u001b[39m\u001b[38;5;241m1\u001b[39m, location_cfg\u001b[38;5;241m=\u001b[39m\u001b[38;5;124m\"\u001b[39m\u001b[38;5;124msignal_2mu2e_v10.yaml\u001b[39m\u001b[38;5;124m\"\u001b[39m)\n\u001b[0;32m----> 5\u001b[0m file_path \u001b[38;5;241m=\u001b[39m \u001b[43mfileset\u001b[49m\u001b[43m[\u001b[49m\u001b[43msamples\u001b[49m\u001b[43m[\u001b[49m\u001b[38;5;241;43m0\u001b[39;49m\u001b[43m]\u001b[49m\u001b[43m]\u001b[49m\u001b[43m[\u001b[49m\u001b[38;5;241;43m0\u001b[39;49m\u001b[43m]\u001b[49m\n\u001b[1;32m      7\u001b[0m events \u001b[38;5;241m=\u001b[39m NanoEventsFactory\u001b[38;5;241m.\u001b[39mfrom_root(\n\u001b[1;32m      8\u001b[0m     file_path,\n\u001b[1;32m      9\u001b[0m     treepath\u001b[38;5;241m=\u001b[39m\u001b[38;5;124m'\u001b[39m\u001b[38;5;124mEvents\u001b[39m\u001b[38;5;124m'\u001b[39m,\n\u001b[1;32m     10\u001b[0m     schemaclass\u001b[38;5;241m=\u001b[39mNanoAODSchema,\n\u001b[1;32m     11\u001b[0m )\u001b[38;5;241m.\u001b[39mevents()\n\u001b[1;32m     13\u001b[0m events\n",
      "\u001b[0;31mKeyError\u001b[0m: 0"
     ]
    }
   ],
   "source": [
    "samples = [\n",
    "    '2Mu2E_500GeV_5p0GeV_80p0mm',\n",
    "]\n",
    "fileset = utilities.make_fileset(samples, \"llpNanoAOD_v2\", max_files=1, location_cfg=\"signal_2mu2e_v10.yaml\")\n",
    "file_path = fileset[samples[0]][0]\n",
    "\n",
    "events = NanoEventsFactory.from_root(\n",
    "    file_path,\n",
    "    treepath='Events',\n",
    "    schemaclass=NanoAODSchema,\n",
    ").events()\n",
    "\n",
    "events"
   ]
  },
  {
   "cell_type": "code",
   "execution_count": 7,
   "id": "cc6c4cba-eb61-4df7-b5ce-87c081a74d89",
   "metadata": {
    "tags": []
   },
   "outputs": [
    {
     "data": {
      "text/plain": [
       "['SoftActivityJetNjets5',\n",
       " 'IsoTrack',\n",
       " 'DeepMETResponseTune',\n",
       " 'LHEWeight',\n",
       " 'TrigObj',\n",
       " 'SoftActivityJetHT',\n",
       " 'CaloMET',\n",
       " 'PatMuonVertexRefittedTracks',\n",
       " 'LHE',\n",
       " 'HLTriggerFinalPath',\n",
       " 'SoftActivityJetNjets10',\n",
       " 'DSAMuon',\n",
       " 'LHEPdfWeight',\n",
       " 'SoftActivityJetHT2',\n",
       " 'DSAMuonVertexRefittedTracks',\n",
       " 'fixedGridRhoFastjetCentral',\n",
       " 'genTtbarId',\n",
       " 'Pileup',\n",
       " 'genWeight',\n",
       " 'OtherPV',\n",
       " 'FsrPhoton',\n",
       " 'event',\n",
       " 'LowPtElectron',\n",
       " 'DeepMETResolutionTune',\n",
       " 'PatDSAMuonVertexRefittedTracks',\n",
       " 'SoftActivityJet',\n",
       " 'HTXS',\n",
       " 'PV',\n",
       " 'PatMuonVertex',\n",
       " 'SoftActivityJetNjets2',\n",
       " 'GenIsolatedPhoton',\n",
       " 'GenMET',\n",
       " 'Electron',\n",
       " 'ChsMET',\n",
       " 'L1simulation',\n",
       " 'PSWeight',\n",
       " 'CorrT1METJet',\n",
       " 'GenVisTau',\n",
       " 'LHEPart',\n",
       " 'SubJet',\n",
       " 'FatJet',\n",
       " 'LHEScaleWeight',\n",
       " 'L1',\n",
       " 'GenVtx',\n",
       " 'Jet',\n",
       " 'RawPuppiMET',\n",
       " 'GenJetAK8',\n",
       " 'TkMET',\n",
       " 'GenDressedLepton',\n",
       " 'PatDSAMuonVertex',\n",
       " 'PuppiMET',\n",
       " 'SV',\n",
       " 'MET',\n",
       " 'Generator',\n",
       " 'RawMET',\n",
       " 'btagWeight',\n",
       " 'run',\n",
       " 'fixedGridRhoFastjetCentralChargedPileUp',\n",
       " 'BS',\n",
       " 'SoftActivityJetHT5',\n",
       " 'Muon',\n",
       " 'Tau',\n",
       " 'HLT',\n",
       " 'Flag',\n",
       " 'SubGenJetAK8',\n",
       " 'DSAMuonVertex',\n",
       " 'fixedGridRhoFastjetCentralNeutral',\n",
       " 'boostedTau',\n",
       " 'Photon',\n",
       " 'luminosityBlock',\n",
       " 'GenJet',\n",
       " 'GenPart',\n",
       " 'fixedGridRhoFastjetAll',\n",
       " 'HLTriggerFirstPath',\n",
       " 'L1PreFiringWeight',\n",
       " 'L1Reco',\n",
       " 'fixedGridRhoFastjetCentralCalo',\n",
       " 'LHEReweightingWeight',\n",
       " 'SoftActivityJetHT10']"
      ]
     },
     "execution_count": 7,
     "metadata": {},
     "output_type": "execute_result"
    }
   ],
   "source": [
    "events.fields"
   ]
  },
  {
   "cell_type": "code",
   "execution_count": null,
   "id": "0a42ec8b-e5c2-4fc0-b284-67bc473bab49",
   "metadata": {},
   "outputs": [],
   "source": []
  }
 ],
 "metadata": {
  "kernelspec": {
   "display_name": "Python 3 (ipykernel)",
   "language": "python",
   "name": "python3"
  },
  "language_info": {
   "codemirror_mode": {
    "name": "ipython",
    "version": 3
   },
   "file_extension": ".py",
   "mimetype": "text/x-python",
   "name": "python",
   "nbconvert_exporter": "python",
   "pygments_lexer": "ipython3",
   "version": "3.10.14"
  }
 },
 "nbformat": 4,
 "nbformat_minor": 5
}
