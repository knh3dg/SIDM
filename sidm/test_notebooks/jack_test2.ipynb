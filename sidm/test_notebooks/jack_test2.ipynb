{
 "cells": [
  {
   "cell_type": "code",
   "execution_count": 1,
   "id": "0b8b1a2c-a2cc-4e9f-9237-baed0f3e26d5",
   "metadata": {},
   "outputs": [
    {
     "ename": "ModuleNotFoundError",
     "evalue": "No module named 'sidm'",
     "output_type": "error",
     "traceback": [
      "\u001b[0;31m---------------------------------------------------------------------------\u001b[0m",
      "\u001b[0;31mModuleNotFoundError\u001b[0m                       Traceback (most recent call last)",
      "Cell \u001b[0;32mIn[1], line 12\u001b[0m\n\u001b[1;32m     10\u001b[0m sidm_path \u001b[38;5;241m=\u001b[39m \u001b[38;5;28mstr\u001b[39m(sys\u001b[38;5;241m.\u001b[39mpath[\u001b[38;5;241m0\u001b[39m])\u001b[38;5;241m.\u001b[39msplit(\u001b[38;5;124m\"\u001b[39m\u001b[38;5;124m/sidm\u001b[39m\u001b[38;5;124m\"\u001b[39m)[\u001b[38;5;241m0\u001b[39m]\n\u001b[1;32m     11\u001b[0m \u001b[38;5;28;01mif\u001b[39;00m sidm_path \u001b[38;5;129;01mnot\u001b[39;00m \u001b[38;5;129;01min\u001b[39;00m sys\u001b[38;5;241m.\u001b[39mpath: sys\u001b[38;5;241m.\u001b[39mpath\u001b[38;5;241m.\u001b[39minsert(\u001b[38;5;241m1\u001b[39m, sidm_path)\n\u001b[0;32m---> 12\u001b[0m \u001b[38;5;28;01mfrom\u001b[39;00m\u001b[38;5;250m \u001b[39m\u001b[38;5;21;01msidm\u001b[39;00m\u001b[38;5;21;01m.\u001b[39;00m\u001b[38;5;21;01mtools\u001b[39;00m\u001b[38;5;250m \u001b[39m\u001b[38;5;28;01mimport\u001b[39;00m sidm_processor, utilities, scaleout, selection\n\u001b[1;32m     13\u001b[0m \u001b[38;5;66;03m#from sidm.tools import llpnanoaodschema_0726 as llpnanoaodschema\u001b[39;00m\n\u001b[1;32m     14\u001b[0m \u001b[38;5;66;03m# always reload local modules to pick up changes during development\u001b[39;00m\n\u001b[1;32m     15\u001b[0m importlib\u001b[38;5;241m.\u001b[39mreload(sidm_processor)\n",
      "\u001b[0;31mModuleNotFoundError\u001b[0m: No module named 'sidm'"
     ]
    }
   ],
   "source": [
    "# python\n",
    "import sys\n",
    "import importlib\n",
    "# columnar analysis\n",
    "from coffea.nanoevents import NanoEventsFactory, NanoAODSchema, methods\n",
    "from coffea import processor\n",
    "import awkward as ak\n",
    "from dask.distributed import Client, performance_report\n",
    "# local\n",
    "sidm_path = str(sys.path[0]).split(\"/sidm\")[0]\n",
    "if sidm_path not in sys.path: sys.path.insert(1, sidm_path)\n",
    "from sidm.tools import sidm_processor, utilities, scaleout, selection\n",
    "#from sidm.tools import llpnanoaodschema_0726 as llpnanoaodschema\n",
    "# always reload local modules to pick up changes during development\n",
    "importlib.reload(sidm_processor)\n",
    "importlib.reload(utilities)\n",
    "importlib.reload(scaleout)\n",
    "importlib.reload(selection)\n",
    "# plotting\n",
    "import matplotlib.pyplot as plt\n",
    "utilities.set_plot_style()"
   ]
  },
  {
   "cell_type": "code",
   "execution_count": 103,
   "id": "8f39c64c-eb6a-42e2-b95c-18ac6db6aaeb",
   "metadata": {},
   "outputs": [
    {
     "data": {
      "text/html": [
       "<div>\n",
       "    <div style=\"width: 24px; height: 24px; background-color: #e1e1e1; border: 3px solid #9D9D9D; border-radius: 5px; position: absolute;\"> </div>\n",
       "    <div style=\"margin-left: 48px;\">\n",
       "        <h3 style=\"margin-bottom: 0px;\">Client</h3>\n",
       "        <p style=\"color: #9D9D9D; margin-bottom: 0px;\">Client-9f2de540-6707-11f0-8088-0ed73cd546e3</p>\n",
       "        <table style=\"width: 100%; text-align: left;\">\n",
       "\n",
       "        <tr>\n",
       "        \n",
       "            <td style=\"text-align: left;\"><strong>Connection method:</strong> Direct</td>\n",
       "            <td style=\"text-align: left;\"></td>\n",
       "        \n",
       "        </tr>\n",
       "\n",
       "        \n",
       "            <tr>\n",
       "                <td style=\"text-align: left;\">\n",
       "                    <strong>Dashboard: </strong> <a href=\"/user/knh3dg@virginia.edu/proxy/8787/status\" target=\"_blank\">/user/knh3dg@virginia.edu/proxy/8787/status</a>\n",
       "                </td>\n",
       "                <td style=\"text-align: left;\"></td>\n",
       "            </tr>\n",
       "        \n",
       "\n",
       "        </table>\n",
       "\n",
       "        \n",
       "            <button style=\"margin-bottom: 12px;\" data-commandlinker-command=\"dask:populate-and-launch-layout\" data-commandlinker-args='{\"url\": \"/user/knh3dg@virginia.edu/proxy/8787/status\" }'>\n",
       "                Launch dashboard in JupyterLab\n",
       "            </button>\n",
       "        \n",
       "\n",
       "        \n",
       "            <details>\n",
       "            <summary style=\"margin-bottom: 20px;\"><h3 style=\"display: inline;\">Scheduler Info</h3></summary>\n",
       "            <div style=\"\">\n",
       "    <div>\n",
       "        <div style=\"width: 24px; height: 24px; background-color: #FFF7E5; border: 3px solid #FF6132; border-radius: 5px; position: absolute;\"> </div>\n",
       "        <div style=\"margin-left: 48px;\">\n",
       "            <h3 style=\"margin-bottom: 0px;\">Scheduler</h3>\n",
       "            <p style=\"color: #9D9D9D; margin-bottom: 0px;\">Scheduler-399fd3b1-1e73-49c6-9259-7e6fad832fdd</p>\n",
       "            <table style=\"width: 100%; text-align: left;\">\n",
       "                <tr>\n",
       "                    <td style=\"text-align: left;\">\n",
       "                        <strong>Comm:</strong> tls://192.168.55.164:8786\n",
       "                    </td>\n",
       "                    <td style=\"text-align: left;\">\n",
       "                        <strong>Workers:</strong> 0\n",
       "                    </td>\n",
       "                </tr>\n",
       "                <tr>\n",
       "                    <td style=\"text-align: left;\">\n",
       "                        <strong>Dashboard:</strong> <a href=\"/user/knh3dg@virginia.edu/proxy/8787/status\" target=\"_blank\">/user/knh3dg@virginia.edu/proxy/8787/status</a>\n",
       "                    </td>\n",
       "                    <td style=\"text-align: left;\">\n",
       "                        <strong>Total threads:</strong> 0\n",
       "                    </td>\n",
       "                </tr>\n",
       "                <tr>\n",
       "                    <td style=\"text-align: left;\">\n",
       "                        <strong>Started:</strong> 1 hour ago\n",
       "                    </td>\n",
       "                    <td style=\"text-align: left;\">\n",
       "                        <strong>Total memory:</strong> 0 B\n",
       "                    </td>\n",
       "                </tr>\n",
       "            </table>\n",
       "        </div>\n",
       "    </div>\n",
       "\n",
       "    <details style=\"margin-left: 48px;\">\n",
       "        <summary style=\"margin-bottom: 20px;\">\n",
       "            <h3 style=\"display: inline;\">Workers</h3>\n",
       "        </summary>\n",
       "\n",
       "        \n",
       "\n",
       "    </details>\n",
       "</div>\n",
       "            </details>\n",
       "        \n",
       "\n",
       "    </div>\n",
       "</div>"
      ],
      "text/plain": [
       "<Client: 'tls://192.168.55.164:8786' processes=0 threads=0, memory=0 B>"
      ]
     },
     "execution_count": 103,
     "metadata": {},
     "output_type": "execute_result"
    }
   ],
   "source": [
    "client = scaleout.make_dask_client(\"tls://localhost:8786\")\n",
    "client"
   ]
  },
  {
   "cell_type": "code",
   "execution_count": 2,
   "id": "800d8f80-5b9d-48a3-ac38-c4e281ae10a4",
   "metadata": {
    "scrolled": true
   },
   "outputs": [
    {
     "data": {
      "application/vnd.jupyter.widget-view+json": {
       "model_id": "b4f69e9102294bc1921be59201bbbbaf",
       "version_major": 2,
       "version_minor": 0
      },
      "text/plain": [
       "Output()"
      ]
     },
     "metadata": {},
     "output_type": "display_data"
    },
    {
     "data": {
      "text/html": [
       "<pre style=\"white-space:pre;overflow-x:auto;line-height:normal;font-family:Menlo,'DejaVu Sans Mono',consolas,'Courier New',monospace\"></pre>\n"
      ],
      "text/plain": []
     },
     "metadata": {},
     "output_type": "display_data"
    },
    {
     "data": {
      "application/vnd.jupyter.widget-view+json": {
       "model_id": "850aa70819e44eadb711d89c63e930b9",
       "version_major": 2,
       "version_minor": 0
      },
      "text/plain": [
       "Output()"
      ]
     },
     "metadata": {},
     "output_type": "display_data"
    },
    {
     "data": {
      "text/html": [
       "<pre style=\"white-space:pre;overflow-x:auto;line-height:normal;font-family:Menlo,'DejaVu Sans Mono',consolas,'Courier New',monospace\">/usr/local/lib/python3.10/site-packages/coffea/nanoevents/schemas/nanoaod.py:205: RuntimeWarning: Missing \n",
       "cross-reference index for LowPtElectron_electronIdx =&gt; Electron\n",
       "  warnings.warn(\n",
       "</pre>\n"
      ],
      "text/plain": [
       "/usr/local/lib/python3.10/site-packages/coffea/nanoevents/schemas/nanoaod.py:205: RuntimeWarning: Missing \n",
       "cross-reference index for LowPtElectron_electronIdx => Electron\n",
       "  warnings.warn(\n"
      ]
     },
     "metadata": {},
     "output_type": "display_data"
    },
    {
     "data": {
      "text/html": [
       "<pre style=\"white-space:pre;overflow-x:auto;line-height:normal;font-family:Menlo,'DejaVu Sans Mono',consolas,'Courier New',monospace\">/usr/local/lib/python3.10/site-packages/coffea/nanoevents/schemas/nanoaod.py:205: RuntimeWarning: Missing \n",
       "cross-reference index for LowPtElectron_photonIdx =&gt; Photon\n",
       "  warnings.warn(\n",
       "</pre>\n"
      ],
      "text/plain": [
       "/usr/local/lib/python3.10/site-packages/coffea/nanoevents/schemas/nanoaod.py:205: RuntimeWarning: Missing \n",
       "cross-reference index for LowPtElectron_photonIdx => Photon\n",
       "  warnings.warn(\n"
      ]
     },
     "metadata": {},
     "output_type": "display_data"
    },
    {
     "data": {
      "text/html": [
       "<pre style=\"white-space:pre;overflow-x:auto;line-height:normal;font-family:Menlo,'DejaVu Sans Mono',consolas,'Courier New',monospace\">/usr/local/lib/python3.10/site-packages/awkward/_connect/_numpy.py:197: RuntimeWarning: invalid value encountered \n",
       "in divide\n",
       "  result = getattr(ufunc, method)(\n",
       "</pre>\n"
      ],
      "text/plain": [
       "/usr/local/lib/python3.10/site-packages/awkward/_connect/_numpy.py:197: RuntimeWarning: invalid value encountered \n",
       "in divide\n",
       "  result = getattr(ufunc, method)(\n"
      ]
     },
     "metadata": {},
     "output_type": "display_data"
    },
    {
     "data": {
      "text/html": [
       "<pre style=\"white-space:pre;overflow-x:auto;line-height:normal;font-family:Menlo,'DejaVu Sans Mono',consolas,'Courier New',monospace\">Applying genMus status 1\n",
       "</pre>\n"
      ],
      "text/plain": [
       "Applying genMus status 1\n"
      ]
     },
     "metadata": {},
     "output_type": "display_data"
    },
    {
     "data": {
      "text/html": [
       "<pre style=\"white-space:pre;overflow-x:auto;line-height:normal;font-family:Menlo,'DejaVu Sans Mono',consolas,'Courier New',monospace\">Applying genEs status 1\n",
       "</pre>\n"
      ],
      "text/plain": [
       "Applying genEs status 1\n"
      ]
     },
     "metadata": {},
     "output_type": "display_data"
    },
    {
     "name": "stdout",
     "output_type": "stream",
     "text": [
      "#--------------------------------------------------------------------------\n",
      "#                         FastJet release 3.4.0\n",
      "#                 M. Cacciari, G.P. Salam and G. Soyez                  \n",
      "#     A software package for jet finding and analysis at colliders      \n",
      "#                           http://fastjet.fr                           \n",
      "#\t                                                                      \n",
      "# Please cite EPJC72(2012)1896 [arXiv:1111.6097] if you use this package\n",
      "# for scientific work and optionally PLB641(2006)57 [hep-ph/0512210].   \n",
      "#                                                                       \n",
      "# FastJet is provided without warranty under the GNU GPL v2 or higher.  \n",
      "# It uses T. Chan's closest pair algorithm, S. Fortune's Voronoi code,\n",
      "# CGAL and 3rd party plugin jet algorithms. See COPYING file for details.\n",
      "#--------------------------------------------------------------------------\n"
     ]
    },
    {
     "data": {
      "text/html": [
       "<pre style=\"white-space:pre;overflow-x:auto;line-height:normal;font-family:Menlo,'DejaVu Sans Mono',consolas,'Courier New',monospace\">Applying cut: PV filter\n",
       "</pre>\n"
      ],
      "text/plain": [
       "Applying cut: PV filter\n"
      ]
     },
     "metadata": {},
     "output_type": "display_data"
    },
    {
     "data": {
      "text/html": [
       "<pre style=\"white-space:pre;overflow-x:auto;line-height:normal;font-family:Menlo,'DejaVu Sans Mono',consolas,'Courier New',monospace\">Applying genMus status 1\n",
       "</pre>\n"
      ],
      "text/plain": [
       "Applying genMus status 1\n"
      ]
     },
     "metadata": {},
     "output_type": "display_data"
    },
    {
     "data": {
      "text/html": [
       "<pre style=\"white-space:pre;overflow-x:auto;line-height:normal;font-family:Menlo,'DejaVu Sans Mono',consolas,'Courier New',monospace\">Applying genEs status 1\n",
       "</pre>\n"
      ],
      "text/plain": [
       "Applying genEs status 1\n"
      ]
     },
     "metadata": {},
     "output_type": "display_data"
    },
    {
     "data": {
      "text/html": [
       "<pre style=\"white-space:pre;overflow-x:auto;line-height:normal;font-family:Menlo,'DejaVu Sans Mono',consolas,'Courier New',monospace\">Applying cut: PV filter\n",
       "</pre>\n"
      ],
      "text/plain": [
       "Applying cut: PV filter\n"
      ]
     },
     "metadata": {},
     "output_type": "display_data"
    },
    {
     "data": {
      "text/html": [
       "<pre style=\"white-space:pre;overflow-x:auto;line-height:normal;font-family:Menlo,'DejaVu Sans Mono',consolas,'Courier New',monospace\">Applying cut: pass triggers\n",
       "</pre>\n"
      ],
      "text/plain": [
       "Applying cut: pass triggers\n"
      ]
     },
     "metadata": {},
     "output_type": "display_data"
    },
    {
     "data": {
      "text/html": [
       "<pre style=\"white-space:pre;overflow-x:auto;line-height:normal;font-family:Menlo,'DejaVu Sans Mono',consolas,'Courier New',monospace\">Applying genMus status 1\n",
       "</pre>\n"
      ],
      "text/plain": [
       "Applying genMus status 1\n"
      ]
     },
     "metadata": {},
     "output_type": "display_data"
    },
    {
     "data": {
      "text/html": [
       "<pre style=\"white-space:pre;overflow-x:auto;line-height:normal;font-family:Menlo,'DejaVu Sans Mono',consolas,'Courier New',monospace\">Applying genEs status 1\n",
       "</pre>\n"
      ],
      "text/plain": [
       "Applying genEs status 1\n"
      ]
     },
     "metadata": {},
     "output_type": "display_data"
    },
    {
     "data": {
      "text/html": [
       "<pre style=\"white-space:pre;overflow-x:auto;line-height:normal;font-family:Menlo,'DejaVu Sans Mono',consolas,'Courier New',monospace\">Applying genAs_toMu &gt;= 2 close mu\n",
       "</pre>\n"
      ],
      "text/plain": [
       "Applying genAs_toMu >= 2 close mu\n"
      ]
     },
     "metadata": {},
     "output_type": "display_data"
    },
    {
     "data": {
      "text/html": [
       "<pre style=\"white-space:pre;overflow-x:auto;line-height:normal;font-family:Menlo,'DejaVu Sans Mono',consolas,'Courier New',monospace\">Applying cut: PV filter\n",
       "</pre>\n"
      ],
      "text/plain": [
       "Applying cut: PV filter\n"
      ]
     },
     "metadata": {},
     "output_type": "display_data"
    },
    {
     "data": {
      "text/html": [
       "<pre style=\"white-space:pre;overflow-x:auto;line-height:normal;font-family:Menlo,'DejaVu Sans Mono',consolas,'Courier New',monospace\">Applying cut: pass triggers\n",
       "</pre>\n"
      ],
      "text/plain": [
       "Applying cut: pass triggers\n"
      ]
     },
     "metadata": {},
     "output_type": "display_data"
    },
    {
     "data": {
      "text/html": [
       "<pre style=\"white-space:pre;overflow-x:auto;line-height:normal;font-family:Menlo,'DejaVu Sans Mono',consolas,'Courier New',monospace\">Warning: a histogram with the name genAs_toMu_pt_MuMudR_lowRange could not be filled and will be skipped\n",
       "</pre>\n"
      ],
      "text/plain": [
       "Warning: a histogram with the name genAs_toMu_pt_MuMudR_lowRange could not be filled and will be skipped\n"
      ]
     },
     "metadata": {},
     "output_type": "display_data"
    },
    {
     "data": {
      "text/html": [
       "<pre style=\"white-space:pre;overflow-x:auto;line-height:normal;font-family:Menlo,'DejaVu Sans Mono',consolas,'Courier New',monospace\">Warning: a histogram with the name genAs_toMu_pt_MuMudR_XLowRange could not be filled and will be skipped\n",
       "</pre>\n"
      ],
      "text/plain": [
       "Warning: a histogram with the name genAs_toMu_pt_MuMudR_XLowRange could not be filled and will be skipped\n"
      ]
     },
     "metadata": {},
     "output_type": "display_data"
    },
    {
     "data": {
      "text/html": [
       "<pre style=\"white-space:pre;overflow-x:auto;line-height:normal;font-family:Menlo,'DejaVu Sans Mono',consolas,'Courier New',monospace\">Warning: a histogram with the name genAs_toMu_pt_MuMudR_XXLowRange could not be filled and will be skipped\n",
       "</pre>\n"
      ],
      "text/plain": [
       "Warning: a histogram with the name genAs_toMu_pt_MuMudR_XXLowRange could not be filled and will be skipped\n"
      ]
     },
     "metadata": {},
     "output_type": "display_data"
    },
    {
     "data": {
      "text/html": [
       "<pre style=\"white-space:pre;overflow-x:auto;line-height:normal;font-family:Menlo,'DejaVu Sans Mono',consolas,'Courier New',monospace\">Warning: a histogram with the name genAs_toMu_lxy_MuMudR could not be filled and will be skipped\n",
       "</pre>\n"
      ],
      "text/plain": [
       "Warning: a histogram with the name genAs_toMu_lxy_MuMudR could not be filled and will be skipped\n"
      ]
     },
     "metadata": {},
     "output_type": "display_data"
    },
    {
     "data": {
      "text/html": [
       "<pre style=\"white-space:pre;overflow-x:auto;line-height:normal;font-family:Menlo,'DejaVu Sans Mono',consolas,'Courier New',monospace\">Warning: a histogram with the name genAs_toMu_lxy_MuMudR_XLowRange could not be filled and will be skipped\n",
       "</pre>\n"
      ],
      "text/plain": [
       "Warning: a histogram with the name genAs_toMu_lxy_MuMudR_XLowRange could not be filled and will be skipped\n"
      ]
     },
     "metadata": {},
     "output_type": "display_data"
    },
    {
     "data": {
      "text/html": [
       "<pre style=\"white-space:pre;overflow-x:auto;line-height:normal;font-family:Menlo,'DejaVu Sans Mono',consolas,'Courier New',monospace\">Warning: a histogram with the name genAs_toMu_lxy_MuMudR_XXLowRange could not be filled and will be skipped\n",
       "</pre>\n"
      ],
      "text/plain": [
       "Warning: a histogram with the name genAs_toMu_lxy_MuMudR_XXLowRange could not be filled and will be skipped\n"
      ]
     },
     "metadata": {},
     "output_type": "display_data"
    },
    {
     "data": {
      "text/html": [
       "<pre style=\"white-space:pre;overflow-x:auto;line-height:normal;font-family:Menlo,'DejaVu Sans Mono',consolas,'Courier New',monospace\">Warning: a histogram with the name genAs_toMu_pt_MuMudR_highRange could not be filled and will be skipped\n",
       "</pre>\n"
      ],
      "text/plain": [
       "Warning: a histogram with the name genAs_toMu_pt_MuMudR_highRange could not be filled and will be skipped\n"
      ]
     },
     "metadata": {},
     "output_type": "display_data"
    },
    {
     "data": {
      "text/html": [
       "<pre style=\"white-space:pre;overflow-x:auto;line-height:normal;font-family:Menlo,'DejaVu Sans Mono',consolas,'Courier New',monospace\">Warning: a histogram with the name genAs_toMu_pt_highRange_MuMudR_lowRange could not be filled and will be skipped\n",
       "</pre>\n"
      ],
      "text/plain": [
       "Warning: a histogram with the name genAs_toMu_pt_highRange_MuMudR_lowRange could not be filled and will be skipped\n"
      ]
     },
     "metadata": {},
     "output_type": "display_data"
    },
    {
     "data": {
      "text/html": [
       "<pre style=\"white-space:pre;overflow-x:auto;line-height:normal;font-family:Menlo,'DejaVu Sans Mono',consolas,'Courier New',monospace\">Applying genMus status 1\n",
       "</pre>\n"
      ],
      "text/plain": [
       "Applying genMus status 1\n"
      ]
     },
     "metadata": {},
     "output_type": "display_data"
    },
    {
     "data": {
      "text/html": [
       "<pre style=\"white-space:pre;overflow-x:auto;line-height:normal;font-family:Menlo,'DejaVu Sans Mono',consolas,'Courier New',monospace\">Applying genEs status 1\n",
       "</pre>\n"
      ],
      "text/plain": [
       "Applying genEs status 1\n"
      ]
     },
     "metadata": {},
     "output_type": "display_data"
    },
    {
     "data": {
      "text/html": [
       "<pre style=\"white-space:pre;overflow-x:auto;line-height:normal;font-family:Menlo,'DejaVu Sans Mono',consolas,'Courier New',monospace\">Applying electrons pT &gt; 10 GeV\n",
       "</pre>\n"
      ],
      "text/plain": [
       "Applying electrons pT > 10 GeV\n"
      ]
     },
     "metadata": {},
     "output_type": "display_data"
    },
    {
     "data": {
      "text/html": [
       "<pre style=\"white-space:pre;overflow-x:auto;line-height:normal;font-family:Menlo,'DejaVu Sans Mono',consolas,'Courier New',monospace\">Applying electrons |eta| &lt; 2.4\n",
       "</pre>\n"
      ],
      "text/plain": [
       "Applying electrons |eta| < 2.4\n"
      ]
     },
     "metadata": {},
     "output_type": "display_data"
    },
    {
     "data": {
      "text/html": [
       "<pre style=\"white-space:pre;overflow-x:auto;line-height:normal;font-family:Menlo,'DejaVu Sans Mono',consolas,'Courier New',monospace\">Applying electrons MVANonIsoWPL\n",
       "</pre>\n"
      ],
      "text/plain": [
       "Applying electrons MVANonIsoWPL\n"
      ]
     },
     "metadata": {},
     "output_type": "display_data"
    },
    {
     "data": {
      "text/html": [
       "<pre style=\"white-space:pre;overflow-x:auto;line-height:normal;font-family:Menlo,'DejaVu Sans Mono',consolas,'Courier New',monospace\">Applying muons looseID\n",
       "</pre>\n"
      ],
      "text/plain": [
       "Applying muons looseID\n"
      ]
     },
     "metadata": {},
     "output_type": "display_data"
    },
    {
     "data": {
      "text/html": [
       "<pre style=\"white-space:pre;overflow-x:auto;line-height:normal;font-family:Menlo,'DejaVu Sans Mono',consolas,'Courier New',monospace\">Applying muons pT &gt; 5 GeV\n",
       "</pre>\n"
      ],
      "text/plain": [
       "Applying muons pT > 5 GeV\n"
      ]
     },
     "metadata": {},
     "output_type": "display_data"
    },
    {
     "data": {
      "text/html": [
       "<pre style=\"white-space:pre;overflow-x:auto;line-height:normal;font-family:Menlo,'DejaVu Sans Mono',consolas,'Courier New',monospace\">Applying muons |eta| &lt; 2.4\n",
       "</pre>\n"
      ],
      "text/plain": [
       "Applying muons |eta| < 2.4\n"
      ]
     },
     "metadata": {},
     "output_type": "display_data"
    },
    {
     "data": {
      "text/html": [
       "<pre style=\"white-space:pre;overflow-x:auto;line-height:normal;font-family:Menlo,'DejaVu Sans Mono',consolas,'Courier New',monospace\">Applying photons pT &gt; 20 GeV\n",
       "</pre>\n"
      ],
      "text/plain": [
       "Applying photons pT > 20 GeV\n"
      ]
     },
     "metadata": {},
     "output_type": "display_data"
    },
    {
     "data": {
      "text/html": [
       "<pre style=\"white-space:pre;overflow-x:auto;line-height:normal;font-family:Menlo,'DejaVu Sans Mono',consolas,'Courier New',monospace\">Applying photons |eta| &lt; 2.5\n",
       "</pre>\n"
      ],
      "text/plain": [
       "Applying photons |eta| < 2.5\n"
      ]
     },
     "metadata": {},
     "output_type": "display_data"
    },
    {
     "data": {
      "text/html": [
       "<pre style=\"white-space:pre;overflow-x:auto;line-height:normal;font-family:Menlo,'DejaVu Sans Mono',consolas,'Courier New',monospace\">Applying photons Custom Cutbased\n",
       "</pre>\n"
      ],
      "text/plain": [
       "Applying photons Custom Cutbased\n"
      ]
     },
     "metadata": {},
     "output_type": "display_data"
    },
    {
     "data": {
      "text/html": [
       "<pre style=\"white-space:pre;overflow-x:auto;line-height:normal;font-family:Menlo,'DejaVu Sans Mono',consolas,'Courier New',monospace\">Applying photons pixelSeed\n",
       "</pre>\n"
      ],
      "text/plain": [
       "Applying photons pixelSeed\n"
      ]
     },
     "metadata": {},
     "output_type": "display_data"
    },
    {
     "data": {
      "text/html": [
       "<pre style=\"white-space:pre;overflow-x:auto;line-height:normal;font-family:Menlo,'DejaVu Sans Mono',consolas,'Courier New',monospace\">Applying photons Photon DR Veto 0p025\n",
       "</pre>\n"
      ],
      "text/plain": [
       "Applying photons Photon DR Veto 0p025\n"
      ]
     },
     "metadata": {},
     "output_type": "display_data"
    },
    {
     "data": {
      "text/html": [
       "<pre style=\"white-space:pre;overflow-x:auto;line-height:normal;font-family:Menlo,'DejaVu Sans Mono',consolas,'Courier New',monospace\">Applying dsaMuons pT &gt; 10 GeV\n",
       "</pre>\n"
      ],
      "text/plain": [
       "Applying dsaMuons pT > 10 GeV\n"
      ]
     },
     "metadata": {},
     "output_type": "display_data"
    },
    {
     "data": {
      "text/html": [
       "<pre style=\"white-space:pre;overflow-x:auto;line-height:normal;font-family:Menlo,'DejaVu Sans Mono',consolas,'Courier New',monospace\">Applying dsaMuons |eta| &lt; 2.4\n",
       "</pre>\n"
      ],
      "text/plain": [
       "Applying dsaMuons |eta| < 2.4\n"
      ]
     },
     "metadata": {},
     "output_type": "display_data"
    },
    {
     "data": {
      "text/html": [
       "<pre style=\"white-space:pre;overflow-x:auto;line-height:normal;font-family:Menlo,'DejaVu Sans Mono',consolas,'Courier New',monospace\">Applying dsaMuons displaced ID\n",
       "</pre>\n"
      ],
      "text/plain": [
       "Applying dsaMuons displaced ID\n"
      ]
     },
     "metadata": {},
     "output_type": "display_data"
    },
    {
     "data": {
      "text/html": [
       "<pre style=\"white-space:pre;overflow-x:auto;line-height:normal;font-family:Menlo,'DejaVu Sans Mono',consolas,'Courier New',monospace\">Applying cut: PV filter\n",
       "</pre>\n"
      ],
      "text/plain": [
       "Applying cut: PV filter\n"
      ]
     },
     "metadata": {},
     "output_type": "display_data"
    },
    {
     "data": {
      "text/html": [
       "<pre style=\"white-space:pre;overflow-x:auto;line-height:normal;font-family:Menlo,'DejaVu Sans Mono',consolas,'Courier New',monospace\">Applying cut: pass triggers\n",
       "</pre>\n"
      ],
      "text/plain": [
       "Applying cut: pass triggers\n"
      ]
     },
     "metadata": {},
     "output_type": "display_data"
    },
    {
     "data": {
      "text/html": [
       "<pre style=\"white-space:pre;overflow-x:auto;line-height:normal;font-family:Menlo,'DejaVu Sans Mono',consolas,'Courier New',monospace\">Applying genMus status 1\n",
       "</pre>\n"
      ],
      "text/plain": [
       "Applying genMus status 1\n"
      ]
     },
     "metadata": {},
     "output_type": "display_data"
    },
    {
     "data": {
      "text/html": [
       "<pre style=\"white-space:pre;overflow-x:auto;line-height:normal;font-family:Menlo,'DejaVu Sans Mono',consolas,'Courier New',monospace\">Applying genEs status 1\n",
       "</pre>\n"
      ],
      "text/plain": [
       "Applying genEs status 1\n"
      ]
     },
     "metadata": {},
     "output_type": "display_data"
    },
    {
     "data": {
      "text/html": [
       "<pre style=\"white-space:pre;overflow-x:auto;line-height:normal;font-family:Menlo,'DejaVu Sans Mono',consolas,'Courier New',monospace\">Applying electrons pT &gt; 10 GeV\n",
       "</pre>\n"
      ],
      "text/plain": [
       "Applying electrons pT > 10 GeV\n"
      ]
     },
     "metadata": {},
     "output_type": "display_data"
    },
    {
     "data": {
      "text/html": [
       "<pre style=\"white-space:pre;overflow-x:auto;line-height:normal;font-family:Menlo,'DejaVu Sans Mono',consolas,'Courier New',monospace\">Applying electrons |eta| &lt; 2.4\n",
       "</pre>\n"
      ],
      "text/plain": [
       "Applying electrons |eta| < 2.4\n"
      ]
     },
     "metadata": {},
     "output_type": "display_data"
    },
    {
     "data": {
      "text/html": [
       "<pre style=\"white-space:pre;overflow-x:auto;line-height:normal;font-family:Menlo,'DejaVu Sans Mono',consolas,'Courier New',monospace\">Applying electrons MVANonIsoWPL\n",
       "</pre>\n"
      ],
      "text/plain": [
       "Applying electrons MVANonIsoWPL\n"
      ]
     },
     "metadata": {},
     "output_type": "display_data"
    },
    {
     "data": {
      "text/html": [
       "<pre style=\"white-space:pre;overflow-x:auto;line-height:normal;font-family:Menlo,'DejaVu Sans Mono',consolas,'Courier New',monospace\">Applying muons looseID\n",
       "</pre>\n"
      ],
      "text/plain": [
       "Applying muons looseID\n"
      ]
     },
     "metadata": {},
     "output_type": "display_data"
    },
    {
     "data": {
      "text/html": [
       "<pre style=\"white-space:pre;overflow-x:auto;line-height:normal;font-family:Menlo,'DejaVu Sans Mono',consolas,'Courier New',monospace\">Applying muons pT &gt; 5 GeV\n",
       "</pre>\n"
      ],
      "text/plain": [
       "Applying muons pT > 5 GeV\n"
      ]
     },
     "metadata": {},
     "output_type": "display_data"
    },
    {
     "data": {
      "text/html": [
       "<pre style=\"white-space:pre;overflow-x:auto;line-height:normal;font-family:Menlo,'DejaVu Sans Mono',consolas,'Courier New',monospace\">Applying muons |eta| &lt; 2.4\n",
       "</pre>\n"
      ],
      "text/plain": [
       "Applying muons |eta| < 2.4\n"
      ]
     },
     "metadata": {},
     "output_type": "display_data"
    },
    {
     "data": {
      "text/html": [
       "<pre style=\"white-space:pre;overflow-x:auto;line-height:normal;font-family:Menlo,'DejaVu Sans Mono',consolas,'Courier New',monospace\">Applying photons pT &gt; 20 GeV\n",
       "</pre>\n"
      ],
      "text/plain": [
       "Applying photons pT > 20 GeV\n"
      ]
     },
     "metadata": {},
     "output_type": "display_data"
    },
    {
     "data": {
      "text/html": [
       "<pre style=\"white-space:pre;overflow-x:auto;line-height:normal;font-family:Menlo,'DejaVu Sans Mono',consolas,'Courier New',monospace\">Applying photons |eta| &lt; 2.5\n",
       "</pre>\n"
      ],
      "text/plain": [
       "Applying photons |eta| < 2.5\n"
      ]
     },
     "metadata": {},
     "output_type": "display_data"
    },
    {
     "data": {
      "text/html": [
       "<pre style=\"white-space:pre;overflow-x:auto;line-height:normal;font-family:Menlo,'DejaVu Sans Mono',consolas,'Courier New',monospace\">Applying photons Custom Cutbased\n",
       "</pre>\n"
      ],
      "text/plain": [
       "Applying photons Custom Cutbased\n"
      ]
     },
     "metadata": {},
     "output_type": "display_data"
    },
    {
     "data": {
      "text/html": [
       "<pre style=\"white-space:pre;overflow-x:auto;line-height:normal;font-family:Menlo,'DejaVu Sans Mono',consolas,'Courier New',monospace\">Applying photons pixelSeed\n",
       "</pre>\n"
      ],
      "text/plain": [
       "Applying photons pixelSeed\n"
      ]
     },
     "metadata": {},
     "output_type": "display_data"
    },
    {
     "data": {
      "text/html": [
       "<pre style=\"white-space:pre;overflow-x:auto;line-height:normal;font-family:Menlo,'DejaVu Sans Mono',consolas,'Courier New',monospace\">Applying photons Photon DR Veto 0p025\n",
       "</pre>\n"
      ],
      "text/plain": [
       "Applying photons Photon DR Veto 0p025\n"
      ]
     },
     "metadata": {},
     "output_type": "display_data"
    },
    {
     "data": {
      "text/html": [
       "<pre style=\"white-space:pre;overflow-x:auto;line-height:normal;font-family:Menlo,'DejaVu Sans Mono',consolas,'Courier New',monospace\">Applying dsaMuons pT &gt; 10 GeV\n",
       "</pre>\n"
      ],
      "text/plain": [
       "Applying dsaMuons pT > 10 GeV\n"
      ]
     },
     "metadata": {},
     "output_type": "display_data"
    },
    {
     "data": {
      "text/html": [
       "<pre style=\"white-space:pre;overflow-x:auto;line-height:normal;font-family:Menlo,'DejaVu Sans Mono',consolas,'Courier New',monospace\">Applying dsaMuons |eta| &lt; 2.4\n",
       "</pre>\n"
      ],
      "text/plain": [
       "Applying dsaMuons |eta| < 2.4\n"
      ]
     },
     "metadata": {},
     "output_type": "display_data"
    },
    {
     "data": {
      "text/html": [
       "<pre style=\"white-space:pre;overflow-x:auto;line-height:normal;font-family:Menlo,'DejaVu Sans Mono',consolas,'Courier New',monospace\">Applying dsaMuons displaced ID\n",
       "</pre>\n"
      ],
      "text/plain": [
       "Applying dsaMuons displaced ID\n"
      ]
     },
     "metadata": {},
     "output_type": "display_data"
    },
    {
     "data": {
      "text/html": [
       "<pre style=\"white-space:pre;overflow-x:auto;line-height:normal;font-family:Menlo,'DejaVu Sans Mono',consolas,'Courier New',monospace\">Applying genAs_toMu &gt;= 2 close mu\n",
       "</pre>\n"
      ],
      "text/plain": [
       "Applying genAs_toMu >= 2 close mu\n"
      ]
     },
     "metadata": {},
     "output_type": "display_data"
    },
    {
     "data": {
      "text/html": [
       "<pre style=\"white-space:pre;overflow-x:auto;line-height:normal;font-family:Menlo,'DejaVu Sans Mono',consolas,'Courier New',monospace\">Applying cut: PV filter\n",
       "</pre>\n"
      ],
      "text/plain": [
       "Applying cut: PV filter\n"
      ]
     },
     "metadata": {},
     "output_type": "display_data"
    },
    {
     "data": {
      "text/html": [
       "<pre style=\"white-space:pre;overflow-x:auto;line-height:normal;font-family:Menlo,'DejaVu Sans Mono',consolas,'Courier New',monospace\">Applying cut: pass triggers\n",
       "</pre>\n"
      ],
      "text/plain": [
       "Applying cut: pass triggers\n"
      ]
     },
     "metadata": {},
     "output_type": "display_data"
    },
    {
     "data": {
      "text/html": [
       "<pre style=\"white-space:pre;overflow-x:auto;line-height:normal;font-family:Menlo,'DejaVu Sans Mono',consolas,'Courier New',monospace\">Warning: a histogram with the name genAs_toMu_pt_MuMudR_lowRange could not be filled and will be skipped\n",
       "</pre>\n"
      ],
      "text/plain": [
       "Warning: a histogram with the name genAs_toMu_pt_MuMudR_lowRange could not be filled and will be skipped\n"
      ]
     },
     "metadata": {},
     "output_type": "display_data"
    },
    {
     "data": {
      "text/html": [
       "<pre style=\"white-space:pre;overflow-x:auto;line-height:normal;font-family:Menlo,'DejaVu Sans Mono',consolas,'Courier New',monospace\">Warning: a histogram with the name genAs_toMu_pt_MuMudR_XLowRange could not be filled and will be skipped\n",
       "</pre>\n"
      ],
      "text/plain": [
       "Warning: a histogram with the name genAs_toMu_pt_MuMudR_XLowRange could not be filled and will be skipped\n"
      ]
     },
     "metadata": {},
     "output_type": "display_data"
    },
    {
     "data": {
      "text/html": [
       "<pre style=\"white-space:pre;overflow-x:auto;line-height:normal;font-family:Menlo,'DejaVu Sans Mono',consolas,'Courier New',monospace\">Warning: a histogram with the name genAs_toMu_pt_MuMudR_XXLowRange could not be filled and will be skipped\n",
       "</pre>\n"
      ],
      "text/plain": [
       "Warning: a histogram with the name genAs_toMu_pt_MuMudR_XXLowRange could not be filled and will be skipped\n"
      ]
     },
     "metadata": {},
     "output_type": "display_data"
    },
    {
     "data": {
      "text/html": [
       "<pre style=\"white-space:pre;overflow-x:auto;line-height:normal;font-family:Menlo,'DejaVu Sans Mono',consolas,'Courier New',monospace\">Warning: a histogram with the name genAs_toMu_lxy_MuMudR could not be filled and will be skipped\n",
       "</pre>\n"
      ],
      "text/plain": [
       "Warning: a histogram with the name genAs_toMu_lxy_MuMudR could not be filled and will be skipped\n"
      ]
     },
     "metadata": {},
     "output_type": "display_data"
    },
    {
     "data": {
      "text/html": [
       "<pre style=\"white-space:pre;overflow-x:auto;line-height:normal;font-family:Menlo,'DejaVu Sans Mono',consolas,'Courier New',monospace\">Warning: a histogram with the name genAs_toMu_lxy_MuMudR_XLowRange could not be filled and will be skipped\n",
       "</pre>\n"
      ],
      "text/plain": [
       "Warning: a histogram with the name genAs_toMu_lxy_MuMudR_XLowRange could not be filled and will be skipped\n"
      ]
     },
     "metadata": {},
     "output_type": "display_data"
    },
    {
     "data": {
      "text/html": [
       "<pre style=\"white-space:pre;overflow-x:auto;line-height:normal;font-family:Menlo,'DejaVu Sans Mono',consolas,'Courier New',monospace\">Warning: a histogram with the name genAs_toMu_lxy_MuMudR_XXLowRange could not be filled and will be skipped\n",
       "</pre>\n"
      ],
      "text/plain": [
       "Warning: a histogram with the name genAs_toMu_lxy_MuMudR_XXLowRange could not be filled and will be skipped\n"
      ]
     },
     "metadata": {},
     "output_type": "display_data"
    },
    {
     "data": {
      "text/html": [
       "<pre style=\"white-space:pre;overflow-x:auto;line-height:normal;font-family:Menlo,'DejaVu Sans Mono',consolas,'Courier New',monospace\">Warning: a histogram with the name genAs_toMu_pt_MuMudR_highRange could not be filled and will be skipped\n",
       "</pre>\n"
      ],
      "text/plain": [
       "Warning: a histogram with the name genAs_toMu_pt_MuMudR_highRange could not be filled and will be skipped\n"
      ]
     },
     "metadata": {},
     "output_type": "display_data"
    },
    {
     "data": {
      "text/html": [
       "<pre style=\"white-space:pre;overflow-x:auto;line-height:normal;font-family:Menlo,'DejaVu Sans Mono',consolas,'Courier New',monospace\">Warning: a histogram with the name genAs_toMu_pt_highRange_MuMudR_lowRange could not be filled and will be skipped\n",
       "</pre>\n"
      ],
      "text/plain": [
       "Warning: a histogram with the name genAs_toMu_pt_highRange_MuMudR_lowRange could not be filled and will be skipped\n"
      ]
     },
     "metadata": {},
     "output_type": "display_data"
    },
    {
     "data": {
      "text/html": [
       "<pre style=\"white-space:pre;overflow-x:auto;line-height:normal;font-family:Menlo,'DejaVu Sans Mono',consolas,'Courier New',monospace\">Applying genMus status 1\n",
       "</pre>\n"
      ],
      "text/plain": [
       "Applying genMus status 1\n"
      ]
     },
     "metadata": {},
     "output_type": "display_data"
    },
    {
     "data": {
      "text/html": [
       "<pre style=\"white-space:pre;overflow-x:auto;line-height:normal;font-family:Menlo,'DejaVu Sans Mono',consolas,'Courier New',monospace\">Applying genEs status 1\n",
       "</pre>\n"
      ],
      "text/plain": [
       "Applying genEs status 1\n"
      ]
     },
     "metadata": {},
     "output_type": "display_data"
    },
    {
     "data": {
      "text/html": [
       "<pre style=\"white-space:pre;overflow-x:auto;line-height:normal;font-family:Menlo,'DejaVu Sans Mono',consolas,'Courier New',monospace\">Applying electrons pT &gt; 10 GeV\n",
       "</pre>\n"
      ],
      "text/plain": [
       "Applying electrons pT > 10 GeV\n"
      ]
     },
     "metadata": {},
     "output_type": "display_data"
    },
    {
     "data": {
      "text/html": [
       "<pre style=\"white-space:pre;overflow-x:auto;line-height:normal;font-family:Menlo,'DejaVu Sans Mono',consolas,'Courier New',monospace\">Applying electrons |eta| &lt; 2.4\n",
       "</pre>\n"
      ],
      "text/plain": [
       "Applying electrons |eta| < 2.4\n"
      ]
     },
     "metadata": {},
     "output_type": "display_data"
    },
    {
     "data": {
      "text/html": [
       "<pre style=\"white-space:pre;overflow-x:auto;line-height:normal;font-family:Menlo,'DejaVu Sans Mono',consolas,'Courier New',monospace\">Applying electrons MVANonIsoWPL\n",
       "</pre>\n"
      ],
      "text/plain": [
       "Applying electrons MVANonIsoWPL\n"
      ]
     },
     "metadata": {},
     "output_type": "display_data"
    },
    {
     "data": {
      "text/html": [
       "<pre style=\"white-space:pre;overflow-x:auto;line-height:normal;font-family:Menlo,'DejaVu Sans Mono',consolas,'Courier New',monospace\">Applying genAs_toMu &gt;= 2 close mu\n",
       "</pre>\n"
      ],
      "text/plain": [
       "Applying genAs_toMu >= 2 close mu\n"
      ]
     },
     "metadata": {},
     "output_type": "display_data"
    },
    {
     "data": {
      "text/html": [
       "<pre style=\"white-space:pre;overflow-x:auto;line-height:normal;font-family:Menlo,'DejaVu Sans Mono',consolas,'Courier New',monospace\">Applying cut: PV filter\n",
       "</pre>\n"
      ],
      "text/plain": [
       "Applying cut: PV filter\n"
      ]
     },
     "metadata": {},
     "output_type": "display_data"
    },
    {
     "data": {
      "text/html": [
       "<pre style=\"white-space:pre;overflow-x:auto;line-height:normal;font-family:Menlo,'DejaVu Sans Mono',consolas,'Courier New',monospace\">Applying cut: pass triggers\n",
       "</pre>\n"
      ],
      "text/plain": [
       "Applying cut: pass triggers\n"
      ]
     },
     "metadata": {},
     "output_type": "display_data"
    },
    {
     "data": {
      "text/html": [
       "<pre style=\"white-space:pre;overflow-x:auto;line-height:normal;font-family:Menlo,'DejaVu Sans Mono',consolas,'Courier New',monospace\">Warning: a histogram with the name genAs_toMu_pt_MuMudR_lowRange could not be filled and will be skipped\n",
       "</pre>\n"
      ],
      "text/plain": [
       "Warning: a histogram with the name genAs_toMu_pt_MuMudR_lowRange could not be filled and will be skipped\n"
      ]
     },
     "metadata": {},
     "output_type": "display_data"
    },
    {
     "data": {
      "text/html": [
       "<pre style=\"white-space:pre;overflow-x:auto;line-height:normal;font-family:Menlo,'DejaVu Sans Mono',consolas,'Courier New',monospace\">Warning: a histogram with the name genAs_toMu_pt_MuMudR_XLowRange could not be filled and will be skipped\n",
       "</pre>\n"
      ],
      "text/plain": [
       "Warning: a histogram with the name genAs_toMu_pt_MuMudR_XLowRange could not be filled and will be skipped\n"
      ]
     },
     "metadata": {},
     "output_type": "display_data"
    },
    {
     "data": {
      "text/html": [
       "<pre style=\"white-space:pre;overflow-x:auto;line-height:normal;font-family:Menlo,'DejaVu Sans Mono',consolas,'Courier New',monospace\">Warning: a histogram with the name genAs_toMu_pt_MuMudR_XXLowRange could not be filled and will be skipped\n",
       "</pre>\n"
      ],
      "text/plain": [
       "Warning: a histogram with the name genAs_toMu_pt_MuMudR_XXLowRange could not be filled and will be skipped\n"
      ]
     },
     "metadata": {},
     "output_type": "display_data"
    },
    {
     "data": {
      "text/html": [
       "<pre style=\"white-space:pre;overflow-x:auto;line-height:normal;font-family:Menlo,'DejaVu Sans Mono',consolas,'Courier New',monospace\">Warning: a histogram with the name genAs_toMu_lxy_MuMudR could not be filled and will be skipped\n",
       "</pre>\n"
      ],
      "text/plain": [
       "Warning: a histogram with the name genAs_toMu_lxy_MuMudR could not be filled and will be skipped\n"
      ]
     },
     "metadata": {},
     "output_type": "display_data"
    },
    {
     "data": {
      "text/html": [
       "<pre style=\"white-space:pre;overflow-x:auto;line-height:normal;font-family:Menlo,'DejaVu Sans Mono',consolas,'Courier New',monospace\">Warning: a histogram with the name genAs_toMu_lxy_MuMudR_XLowRange could not be filled and will be skipped\n",
       "</pre>\n"
      ],
      "text/plain": [
       "Warning: a histogram with the name genAs_toMu_lxy_MuMudR_XLowRange could not be filled and will be skipped\n"
      ]
     },
     "metadata": {},
     "output_type": "display_data"
    },
    {
     "data": {
      "text/html": [
       "<pre style=\"white-space:pre;overflow-x:auto;line-height:normal;font-family:Menlo,'DejaVu Sans Mono',consolas,'Courier New',monospace\">Warning: a histogram with the name genAs_toMu_lxy_MuMudR_XXLowRange could not be filled and will be skipped\n",
       "</pre>\n"
      ],
      "text/plain": [
       "Warning: a histogram with the name genAs_toMu_lxy_MuMudR_XXLowRange could not be filled and will be skipped\n"
      ]
     },
     "metadata": {},
     "output_type": "display_data"
    },
    {
     "data": {
      "text/html": [
       "<pre style=\"white-space:pre;overflow-x:auto;line-height:normal;font-family:Menlo,'DejaVu Sans Mono',consolas,'Courier New',monospace\">Warning: a histogram with the name genAs_toMu_pt_MuMudR_highRange could not be filled and will be skipped\n",
       "</pre>\n"
      ],
      "text/plain": [
       "Warning: a histogram with the name genAs_toMu_pt_MuMudR_highRange could not be filled and will be skipped\n"
      ]
     },
     "metadata": {},
     "output_type": "display_data"
    },
    {
     "data": {
      "text/html": [
       "<pre style=\"white-space:pre;overflow-x:auto;line-height:normal;font-family:Menlo,'DejaVu Sans Mono',consolas,'Courier New',monospace\">Warning: a histogram with the name genAs_toMu_pt_highRange_MuMudR_lowRange could not be filled and will be skipped\n",
       "</pre>\n"
      ],
      "text/plain": [
       "Warning: a histogram with the name genAs_toMu_pt_highRange_MuMudR_lowRange could not be filled and will be skipped\n"
      ]
     },
     "metadata": {},
     "output_type": "display_data"
    },
    {
     "data": {
      "text/html": [
       "<pre style=\"white-space:pre;overflow-x:auto;line-height:normal;font-family:Menlo,'DejaVu Sans Mono',consolas,'Courier New',monospace\">Applying genMus status 1\n",
       "</pre>\n"
      ],
      "text/plain": [
       "Applying genMus status 1\n"
      ]
     },
     "metadata": {},
     "output_type": "display_data"
    },
    {
     "data": {
      "text/html": [
       "<pre style=\"white-space:pre;overflow-x:auto;line-height:normal;font-family:Menlo,'DejaVu Sans Mono',consolas,'Courier New',monospace\">Applying genEs status 1\n",
       "</pre>\n"
      ],
      "text/plain": [
       "Applying genEs status 1\n"
      ]
     },
     "metadata": {},
     "output_type": "display_data"
    },
    {
     "data": {
      "text/html": [
       "<pre style=\"white-space:pre;overflow-x:auto;line-height:normal;font-family:Menlo,'DejaVu Sans Mono',consolas,'Courier New',monospace\">Applying muons looseID\n",
       "</pre>\n"
      ],
      "text/plain": [
       "Applying muons looseID\n"
      ]
     },
     "metadata": {},
     "output_type": "display_data"
    },
    {
     "data": {
      "text/html": [
       "<pre style=\"white-space:pre;overflow-x:auto;line-height:normal;font-family:Menlo,'DejaVu Sans Mono',consolas,'Courier New',monospace\">Applying muons pT &gt; 5 GeV\n",
       "</pre>\n"
      ],
      "text/plain": [
       "Applying muons pT > 5 GeV\n"
      ]
     },
     "metadata": {},
     "output_type": "display_data"
    },
    {
     "data": {
      "text/html": [
       "<pre style=\"white-space:pre;overflow-x:auto;line-height:normal;font-family:Menlo,'DejaVu Sans Mono',consolas,'Courier New',monospace\">Applying muons |eta| &lt; 2.4\n",
       "</pre>\n"
      ],
      "text/plain": [
       "Applying muons |eta| < 2.4\n"
      ]
     },
     "metadata": {},
     "output_type": "display_data"
    },
    {
     "data": {
      "text/html": [
       "<pre style=\"white-space:pre;overflow-x:auto;line-height:normal;font-family:Menlo,'DejaVu Sans Mono',consolas,'Courier New',monospace\">Applying genAs_toMu &gt;= 2 close mu\n",
       "</pre>\n"
      ],
      "text/plain": [
       "Applying genAs_toMu >= 2 close mu\n"
      ]
     },
     "metadata": {},
     "output_type": "display_data"
    },
    {
     "data": {
      "text/html": [
       "<pre style=\"white-space:pre;overflow-x:auto;line-height:normal;font-family:Menlo,'DejaVu Sans Mono',consolas,'Courier New',monospace\">Applying cut: PV filter\n",
       "</pre>\n"
      ],
      "text/plain": [
       "Applying cut: PV filter\n"
      ]
     },
     "metadata": {},
     "output_type": "display_data"
    },
    {
     "data": {
      "text/html": [
       "<pre style=\"white-space:pre;overflow-x:auto;line-height:normal;font-family:Menlo,'DejaVu Sans Mono',consolas,'Courier New',monospace\">Applying cut: pass triggers\n",
       "</pre>\n"
      ],
      "text/plain": [
       "Applying cut: pass triggers\n"
      ]
     },
     "metadata": {},
     "output_type": "display_data"
    },
    {
     "data": {
      "text/html": [
       "<pre style=\"white-space:pre;overflow-x:auto;line-height:normal;font-family:Menlo,'DejaVu Sans Mono',consolas,'Courier New',monospace\">Warning: a histogram with the name genAs_toMu_pt_MuMudR_lowRange could not be filled and will be skipped\n",
       "</pre>\n"
      ],
      "text/plain": [
       "Warning: a histogram with the name genAs_toMu_pt_MuMudR_lowRange could not be filled and will be skipped\n"
      ]
     },
     "metadata": {},
     "output_type": "display_data"
    },
    {
     "data": {
      "text/html": [
       "<pre style=\"white-space:pre;overflow-x:auto;line-height:normal;font-family:Menlo,'DejaVu Sans Mono',consolas,'Courier New',monospace\">Warning: a histogram with the name genAs_toMu_pt_MuMudR_XLowRange could not be filled and will be skipped\n",
       "</pre>\n"
      ],
      "text/plain": [
       "Warning: a histogram with the name genAs_toMu_pt_MuMudR_XLowRange could not be filled and will be skipped\n"
      ]
     },
     "metadata": {},
     "output_type": "display_data"
    },
    {
     "data": {
      "text/html": [
       "<pre style=\"white-space:pre;overflow-x:auto;line-height:normal;font-family:Menlo,'DejaVu Sans Mono',consolas,'Courier New',monospace\">Warning: a histogram with the name genAs_toMu_pt_MuMudR_XXLowRange could not be filled and will be skipped\n",
       "</pre>\n"
      ],
      "text/plain": [
       "Warning: a histogram with the name genAs_toMu_pt_MuMudR_XXLowRange could not be filled and will be skipped\n"
      ]
     },
     "metadata": {},
     "output_type": "display_data"
    },
    {
     "data": {
      "text/html": [
       "<pre style=\"white-space:pre;overflow-x:auto;line-height:normal;font-family:Menlo,'DejaVu Sans Mono',consolas,'Courier New',monospace\">Warning: a histogram with the name genAs_toMu_lxy_MuMudR could not be filled and will be skipped\n",
       "</pre>\n"
      ],
      "text/plain": [
       "Warning: a histogram with the name genAs_toMu_lxy_MuMudR could not be filled and will be skipped\n"
      ]
     },
     "metadata": {},
     "output_type": "display_data"
    },
    {
     "data": {
      "text/html": [
       "<pre style=\"white-space:pre;overflow-x:auto;line-height:normal;font-family:Menlo,'DejaVu Sans Mono',consolas,'Courier New',monospace\">Warning: a histogram with the name genAs_toMu_lxy_MuMudR_XLowRange could not be filled and will be skipped\n",
       "</pre>\n"
      ],
      "text/plain": [
       "Warning: a histogram with the name genAs_toMu_lxy_MuMudR_XLowRange could not be filled and will be skipped\n"
      ]
     },
     "metadata": {},
     "output_type": "display_data"
    },
    {
     "data": {
      "text/html": [
       "<pre style=\"white-space:pre;overflow-x:auto;line-height:normal;font-family:Menlo,'DejaVu Sans Mono',consolas,'Courier New',monospace\">Warning: a histogram with the name genAs_toMu_lxy_MuMudR_XXLowRange could not be filled and will be skipped\n",
       "</pre>\n"
      ],
      "text/plain": [
       "Warning: a histogram with the name genAs_toMu_lxy_MuMudR_XXLowRange could not be filled and will be skipped\n"
      ]
     },
     "metadata": {},
     "output_type": "display_data"
    },
    {
     "data": {
      "text/html": [
       "<pre style=\"white-space:pre;overflow-x:auto;line-height:normal;font-family:Menlo,'DejaVu Sans Mono',consolas,'Courier New',monospace\">Warning: a histogram with the name genAs_toMu_pt_MuMudR_highRange could not be filled and will be skipped\n",
       "</pre>\n"
      ],
      "text/plain": [
       "Warning: a histogram with the name genAs_toMu_pt_MuMudR_highRange could not be filled and will be skipped\n"
      ]
     },
     "metadata": {},
     "output_type": "display_data"
    },
    {
     "data": {
      "text/html": [
       "<pre style=\"white-space:pre;overflow-x:auto;line-height:normal;font-family:Menlo,'DejaVu Sans Mono',consolas,'Courier New',monospace\">Warning: a histogram with the name genAs_toMu_pt_highRange_MuMudR_lowRange could not be filled and will be skipped\n",
       "</pre>\n"
      ],
      "text/plain": [
       "Warning: a histogram with the name genAs_toMu_pt_highRange_MuMudR_lowRange could not be filled and will be skipped\n"
      ]
     },
     "metadata": {},
     "output_type": "display_data"
    },
    {
     "data": {
      "text/html": [
       "<pre style=\"white-space:pre;overflow-x:auto;line-height:normal;font-family:Menlo,'DejaVu Sans Mono',consolas,'Courier New',monospace\">Applying genMus status 1\n",
       "</pre>\n"
      ],
      "text/plain": [
       "Applying genMus status 1\n"
      ]
     },
     "metadata": {},
     "output_type": "display_data"
    },
    {
     "data": {
      "text/html": [
       "<pre style=\"white-space:pre;overflow-x:auto;line-height:normal;font-family:Menlo,'DejaVu Sans Mono',consolas,'Courier New',monospace\">Applying genEs status 1\n",
       "</pre>\n"
      ],
      "text/plain": [
       "Applying genEs status 1\n"
      ]
     },
     "metadata": {},
     "output_type": "display_data"
    },
    {
     "data": {
      "text/html": [
       "<pre style=\"white-space:pre;overflow-x:auto;line-height:normal;font-family:Menlo,'DejaVu Sans Mono',consolas,'Courier New',monospace\">Applying photons pT &gt; 20 GeV\n",
       "</pre>\n"
      ],
      "text/plain": [
       "Applying photons pT > 20 GeV\n"
      ]
     },
     "metadata": {},
     "output_type": "display_data"
    },
    {
     "data": {
      "text/html": [
       "<pre style=\"white-space:pre;overflow-x:auto;line-height:normal;font-family:Menlo,'DejaVu Sans Mono',consolas,'Courier New',monospace\">Applying photons |eta| &lt; 2.5\n",
       "</pre>\n"
      ],
      "text/plain": [
       "Applying photons |eta| < 2.5\n"
      ]
     },
     "metadata": {},
     "output_type": "display_data"
    },
    {
     "data": {
      "text/html": [
       "<pre style=\"white-space:pre;overflow-x:auto;line-height:normal;font-family:Menlo,'DejaVu Sans Mono',consolas,'Courier New',monospace\">Applying photons Custom Cutbased\n",
       "</pre>\n"
      ],
      "text/plain": [
       "Applying photons Custom Cutbased\n"
      ]
     },
     "metadata": {},
     "output_type": "display_data"
    },
    {
     "data": {
      "text/html": [
       "<pre style=\"white-space:pre;overflow-x:auto;line-height:normal;font-family:Menlo,'DejaVu Sans Mono',consolas,'Courier New',monospace\">Applying photons pixelSeed\n",
       "</pre>\n"
      ],
      "text/plain": [
       "Applying photons pixelSeed\n"
      ]
     },
     "metadata": {},
     "output_type": "display_data"
    },
    {
     "data": {
      "text/html": [
       "<pre style=\"white-space:pre;overflow-x:auto;line-height:normal;font-family:Menlo,'DejaVu Sans Mono',consolas,'Courier New',monospace\">Applying photons Photon DR Veto 0p025\n",
       "</pre>\n"
      ],
      "text/plain": [
       "Applying photons Photon DR Veto 0p025\n"
      ]
     },
     "metadata": {},
     "output_type": "display_data"
    },
    {
     "data": {
      "text/html": [
       "<pre style=\"white-space:pre;overflow-x:auto;line-height:normal;font-family:Menlo,'DejaVu Sans Mono',consolas,'Courier New',monospace\">Applying genAs_toMu &gt;= 2 close mu\n",
       "</pre>\n"
      ],
      "text/plain": [
       "Applying genAs_toMu >= 2 close mu\n"
      ]
     },
     "metadata": {},
     "output_type": "display_data"
    },
    {
     "data": {
      "text/html": [
       "<pre style=\"white-space:pre;overflow-x:auto;line-height:normal;font-family:Menlo,'DejaVu Sans Mono',consolas,'Courier New',monospace\"></pre>\n"
      ],
      "text/plain": []
     },
     "metadata": {},
     "output_type": "display_data"
    },
    {
     "ename": "KeyboardInterrupt",
     "evalue": "",
     "output_type": "error",
     "traceback": [
      "\u001b[0;31m---------------------------------------------------------------------------\u001b[0m",
      "\u001b[0;31mKeyboardInterrupt\u001b[0m                         Traceback (most recent call last)",
      "Cell \u001b[0;32mIn[2], line 39\u001b[0m\n\u001b[1;32m     20\u001b[0m channels \u001b[38;5;241m=\u001b[39m [\n\u001b[1;32m     21\u001b[0m     \u001b[38;5;124m\"\u001b[39m\u001b[38;5;124mbaseNoTriggerNoLjNoLjsource\u001b[39m\u001b[38;5;124m\"\u001b[39m,\n\u001b[1;32m     22\u001b[0m     \u001b[38;5;124m\"\u001b[39m\u001b[38;5;124mbaseNoLjNoLjsource\u001b[39m\u001b[38;5;124m\"\u001b[39m,\n\u001b[0;32m   (...)\u001b[0m\n\u001b[1;32m     31\u001b[0m     \u001b[38;5;124m\"\u001b[39m\u001b[38;5;124mnoLj2dsamu\u001b[39m\u001b[38;5;124m\"\u001b[39m,\n\u001b[1;32m     32\u001b[0m ]\n\u001b[1;32m     33\u001b[0m p \u001b[38;5;241m=\u001b[39m sidm_processor\u001b[38;5;241m.\u001b[39mSidmProcessor(\n\u001b[1;32m     34\u001b[0m     channels,\n\u001b[1;32m     35\u001b[0m     [\u001b[38;5;124m\"\u001b[39m\u001b[38;5;124mgenA_toMu_base\u001b[39m\u001b[38;5;124m\"\u001b[39m],\n\u001b[1;32m     36\u001b[0m     verbose\u001b[38;5;241m=\u001b[39m\u001b[38;5;28;01mTrue\u001b[39;00m,\n\u001b[1;32m     37\u001b[0m )\n\u001b[0;32m---> 39\u001b[0m output \u001b[38;5;241m=\u001b[39m \u001b[43mrunner\u001b[49m\u001b[38;5;241;43m.\u001b[39;49m\u001b[43mrun\u001b[49m\u001b[43m(\u001b[49m\u001b[43mfileset\u001b[49m\u001b[43m,\u001b[49m\u001b[43m \u001b[49m\u001b[43mtreename\u001b[49m\u001b[38;5;241;43m=\u001b[39;49m\u001b[38;5;124;43m'\u001b[39;49m\u001b[38;5;124;43mEvents\u001b[39;49m\u001b[38;5;124;43m'\u001b[39;49m\u001b[43m,\u001b[49m\u001b[43m \u001b[49m\u001b[43mprocessor_instance\u001b[49m\u001b[38;5;241;43m=\u001b[39;49m\u001b[43mp\u001b[49m\u001b[43m)\u001b[49m\n\u001b[1;32m     40\u001b[0m out \u001b[38;5;241m=\u001b[39m output[\u001b[38;5;124m\"\u001b[39m\u001b[38;5;124mout\u001b[39m\u001b[38;5;124m\"\u001b[39m]\n",
      "File \u001b[0;32m/usr/local/lib/python3.10/site-packages/coffea/processor/executor.py:2030\u001b[0m, in \u001b[0;36mRunner.run\u001b[0;34m(self, fileset, processor_instance, treename)\u001b[0m\n\u001b[1;32m   2025\u001b[0m closure \u001b[38;5;241m=\u001b[39m partial(\n\u001b[1;32m   2026\u001b[0m     \u001b[38;5;28mself\u001b[39m\u001b[38;5;241m.\u001b[39mautomatic_retries, \u001b[38;5;28mself\u001b[39m\u001b[38;5;241m.\u001b[39mretries, \u001b[38;5;28mself\u001b[39m\u001b[38;5;241m.\u001b[39mskipbadfiles, closure\n\u001b[1;32m   2027\u001b[0m )\n\u001b[1;32m   2029\u001b[0m executor \u001b[38;5;241m=\u001b[39m \u001b[38;5;28mself\u001b[39m\u001b[38;5;241m.\u001b[39mexecutor\u001b[38;5;241m.\u001b[39mcopy(\u001b[38;5;241m*\u001b[39m\u001b[38;5;241m*\u001b[39mexe_args)\n\u001b[0;32m-> 2030\u001b[0m wrapped_out, e \u001b[38;5;241m=\u001b[39m \u001b[43mexecutor\u001b[49m\u001b[43m(\u001b[49m\u001b[43mchunks\u001b[49m\u001b[43m,\u001b[49m\u001b[43m \u001b[49m\u001b[43mclosure\u001b[49m\u001b[43m,\u001b[49m\u001b[43m \u001b[49m\u001b[38;5;28;43;01mNone\u001b[39;49;00m\u001b[43m)\u001b[49m\n\u001b[1;32m   2031\u001b[0m \u001b[38;5;28;01mif\u001b[39;00m wrapped_out \u001b[38;5;129;01mis\u001b[39;00m \u001b[38;5;28;01mNone\u001b[39;00m:\n\u001b[1;32m   2032\u001b[0m     \u001b[38;5;28;01mraise\u001b[39;00m \u001b[38;5;167;01mValueError\u001b[39;00m(\n\u001b[1;32m   2033\u001b[0m         \u001b[38;5;124m\"\u001b[39m\u001b[38;5;124mNo chunks returned results, verify ``processor`` instance structure.\u001b[39m\u001b[38;5;130;01m\\n\u001b[39;00m\u001b[38;5;130;01m\\\u001b[39;00m\n\u001b[1;32m   2034\u001b[0m \u001b[38;5;124m        if you used skipbadfiles=True, it is possible all your files are bad.\u001b[39m\u001b[38;5;124m\"\u001b[39m\n\u001b[1;32m   2035\u001b[0m     )\n",
      "File \u001b[0;32m/usr/local/lib/python3.10/site-packages/coffea/processor/executor.py:853\u001b[0m, in \u001b[0;36mIterativeExecutor.__call__\u001b[0;34m(self, items, function, accumulator)\u001b[0m\n\u001b[1;32m    848\u001b[0m \u001b[38;5;28;01mwith\u001b[39;00m rich_bar() \u001b[38;5;28;01mas\u001b[39;00m progress:\n\u001b[1;32m    849\u001b[0m     p_id \u001b[38;5;241m=\u001b[39m progress\u001b[38;5;241m.\u001b[39madd_task(\n\u001b[1;32m    850\u001b[0m         \u001b[38;5;28mself\u001b[39m\u001b[38;5;241m.\u001b[39mdesc, total\u001b[38;5;241m=\u001b[39m\u001b[38;5;28mlen\u001b[39m(items), unit\u001b[38;5;241m=\u001b[39m\u001b[38;5;28mself\u001b[39m\u001b[38;5;241m.\u001b[39munit, disable\u001b[38;5;241m=\u001b[39m\u001b[38;5;129;01mnot\u001b[39;00m \u001b[38;5;28mself\u001b[39m\u001b[38;5;241m.\u001b[39mstatus\n\u001b[1;32m    851\u001b[0m     )\n\u001b[1;32m    852\u001b[0m     \u001b[38;5;28;01mreturn\u001b[39;00m (\n\u001b[0;32m--> 853\u001b[0m         \u001b[43maccumulate\u001b[49m\u001b[43m(\u001b[49m\n\u001b[1;32m    854\u001b[0m \u001b[43m            \u001b[49m\u001b[43mprogress\u001b[49m\u001b[38;5;241;43m.\u001b[39;49m\u001b[43mtrack\u001b[49m\u001b[43m(\u001b[49m\n\u001b[1;32m    855\u001b[0m \u001b[43m                \u001b[49m\u001b[38;5;28;43mmap\u001b[39;49m\u001b[43m(\u001b[49m\u001b[43mfunction\u001b[49m\u001b[43m,\u001b[49m\u001b[43m \u001b[49m\u001b[43m(\u001b[49m\u001b[43mc\u001b[49m\u001b[43m \u001b[49m\u001b[38;5;28;43;01mfor\u001b[39;49;00m\u001b[43m \u001b[49m\u001b[43mc\u001b[49m\u001b[43m \u001b[49m\u001b[38;5;129;43;01min\u001b[39;49;00m\u001b[43m \u001b[49m\u001b[43mitems\u001b[49m\u001b[43m)\u001b[49m\u001b[43m)\u001b[49m\u001b[43m,\u001b[49m\n\u001b[1;32m    856\u001b[0m \u001b[43m                \u001b[49m\u001b[43mtotal\u001b[49m\u001b[38;5;241;43m=\u001b[39;49m\u001b[38;5;28;43mlen\u001b[39;49m\u001b[43m(\u001b[49m\u001b[43mitems\u001b[49m\u001b[43m)\u001b[49m\u001b[43m,\u001b[49m\n\u001b[1;32m    857\u001b[0m \u001b[43m                \u001b[49m\u001b[43mtask_id\u001b[49m\u001b[38;5;241;43m=\u001b[39;49m\u001b[43mp_id\u001b[49m\u001b[43m,\u001b[49m\n\u001b[1;32m    858\u001b[0m \u001b[43m            \u001b[49m\u001b[43m)\u001b[49m\u001b[43m,\u001b[49m\n\u001b[1;32m    859\u001b[0m \u001b[43m            \u001b[49m\u001b[43maccumulator\u001b[49m\u001b[43m,\u001b[49m\n\u001b[1;32m    860\u001b[0m \u001b[43m        \u001b[49m\u001b[43m)\u001b[49m,\n\u001b[1;32m    861\u001b[0m         \u001b[38;5;241m0\u001b[39m,\n\u001b[1;32m    862\u001b[0m     )\n",
      "File \u001b[0;32m/usr/local/lib/python3.10/site-packages/coffea/processor/accumulator.py:95\u001b[0m, in \u001b[0;36maccumulate\u001b[0;34m(items, accum)\u001b[0m\n\u001b[1;32m     93\u001b[0m \u001b[38;5;28;01mtry\u001b[39;00m:\n\u001b[1;32m     94\u001b[0m     \u001b[38;5;28;01mif\u001b[39;00m accum \u001b[38;5;129;01mis\u001b[39;00m \u001b[38;5;28;01mNone\u001b[39;00m:\n\u001b[0;32m---> 95\u001b[0m         accum \u001b[38;5;241m=\u001b[39m \u001b[38;5;28;43mnext\u001b[39;49m\u001b[43m(\u001b[49m\u001b[43mgen\u001b[49m\u001b[43m)\u001b[49m\n\u001b[1;32m     96\u001b[0m         \u001b[38;5;66;03m# we want to produce a new object so that the input is not mutated\u001b[39;00m\n\u001b[1;32m     97\u001b[0m         accum \u001b[38;5;241m=\u001b[39m add(accum, \u001b[38;5;28mnext\u001b[39m(gen))\n",
      "File \u001b[0;32m/usr/local/lib/python3.10/site-packages/coffea/processor/accumulator.py:92\u001b[0m, in \u001b[0;36m<genexpr>\u001b[0;34m(.0)\u001b[0m\n\u001b[1;32m     89\u001b[0m \u001b[38;5;28;01mdef\u001b[39;00m\u001b[38;5;250m \u001b[39m\u001b[38;5;21maccumulate\u001b[39m(\n\u001b[1;32m     90\u001b[0m     items: Iterable[Optional[Accumulatable]], accum: Optional[Accumulatable] \u001b[38;5;241m=\u001b[39m \u001b[38;5;28;01mNone\u001b[39;00m\n\u001b[1;32m     91\u001b[0m ) \u001b[38;5;241m-\u001b[39m\u001b[38;5;241m>\u001b[39m Optional[Accumulatable]:\n\u001b[0;32m---> 92\u001b[0m     gen \u001b[38;5;241m=\u001b[39m (x \u001b[38;5;28;01mfor\u001b[39;00m x \u001b[38;5;129;01min\u001b[39;00m items \u001b[38;5;28;01mif\u001b[39;00m x \u001b[38;5;129;01mis\u001b[39;00m \u001b[38;5;129;01mnot\u001b[39;00m \u001b[38;5;28;01mNone\u001b[39;00m)\n\u001b[1;32m     93\u001b[0m     \u001b[38;5;28;01mtry\u001b[39;00m:\n\u001b[1;32m     94\u001b[0m         \u001b[38;5;28;01mif\u001b[39;00m accum \u001b[38;5;129;01mis\u001b[39;00m \u001b[38;5;28;01mNone\u001b[39;00m:\n",
      "File \u001b[0;32m/usr/local/lib/python3.10/site-packages/rich/progress.py:1231\u001b[0m, in \u001b[0;36mProgress.track\u001b[0;34m(self, sequence, total, completed, task_id, description, update_period)\u001b[0m\n\u001b[1;32m   1229\u001b[0m advance \u001b[38;5;241m=\u001b[39m \u001b[38;5;28mself\u001b[39m\u001b[38;5;241m.\u001b[39madvance\n\u001b[1;32m   1230\u001b[0m refresh \u001b[38;5;241m=\u001b[39m \u001b[38;5;28mself\u001b[39m\u001b[38;5;241m.\u001b[39mrefresh\n\u001b[0;32m-> 1231\u001b[0m \u001b[38;5;28;01mfor\u001b[39;00m value \u001b[38;5;129;01min\u001b[39;00m sequence:\n\u001b[1;32m   1232\u001b[0m     \u001b[38;5;28;01myield\u001b[39;00m value\n\u001b[1;32m   1233\u001b[0m     advance(task_id, \u001b[38;5;241m1\u001b[39m)\n",
      "File \u001b[0;32m/usr/local/lib/python3.10/site-packages/coffea/processor/executor.py:1517\u001b[0m, in \u001b[0;36mRunner.automatic_retries\u001b[0;34m(retries, skipbadfiles, func, *args, **kwargs)\u001b[0m\n\u001b[1;32m   1515\u001b[0m \u001b[38;5;28;01mwhile\u001b[39;00m retry_count \u001b[38;5;241m<\u001b[39m\u001b[38;5;241m=\u001b[39m retries:\n\u001b[1;32m   1516\u001b[0m     \u001b[38;5;28;01mtry\u001b[39;00m:\n\u001b[0;32m-> 1517\u001b[0m         \u001b[38;5;28;01mreturn\u001b[39;00m \u001b[43mfunc\u001b[49m\u001b[43m(\u001b[49m\u001b[38;5;241;43m*\u001b[39;49m\u001b[43margs\u001b[49m\u001b[43m,\u001b[49m\u001b[43m \u001b[49m\u001b[38;5;241;43m*\u001b[39;49m\u001b[38;5;241;43m*\u001b[39;49m\u001b[43mkwargs\u001b[49m\u001b[43m)\u001b[49m\n\u001b[1;32m   1518\u001b[0m     \u001b[38;5;66;03m# catch xrootd errors and optionally skip\u001b[39;00m\n\u001b[1;32m   1519\u001b[0m     \u001b[38;5;66;03m# or retry to read the file\u001b[39;00m\n\u001b[1;32m   1520\u001b[0m     \u001b[38;5;28;01mexcept\u001b[39;00m \u001b[38;5;167;01mException\u001b[39;00m \u001b[38;5;28;01mas\u001b[39;00m e:\n",
      "File \u001b[0;32m/usr/local/lib/python3.10/site-packages/coffea/processor/executor.py:1834\u001b[0m, in \u001b[0;36mRunner._work_function\u001b[0;34m(format, xrootdtimeout, mmap, schema, cache_function, use_dataframes, savemetrics, item, processor_instance)\u001b[0m\n\u001b[1;32m   1832\u001b[0m tic \u001b[38;5;241m=\u001b[39m time\u001b[38;5;241m.\u001b[39mtime()\n\u001b[1;32m   1833\u001b[0m \u001b[38;5;28;01mtry\u001b[39;00m:\n\u001b[0;32m-> 1834\u001b[0m     out \u001b[38;5;241m=\u001b[39m \u001b[43mprocessor_instance\u001b[49m\u001b[38;5;241;43m.\u001b[39;49m\u001b[43mprocess\u001b[49m\u001b[43m(\u001b[49m\u001b[43mevents\u001b[49m\u001b[43m)\u001b[49m\n\u001b[1;32m   1835\u001b[0m \u001b[38;5;28;01mexcept\u001b[39;00m \u001b[38;5;167;01mException\u001b[39;00m \u001b[38;5;28;01mas\u001b[39;00m e:\n\u001b[1;32m   1836\u001b[0m     \u001b[38;5;28;01mraise\u001b[39;00m \u001b[38;5;167;01mException\u001b[39;00m(\u001b[38;5;124mf\u001b[39m\u001b[38;5;124m\"\u001b[39m\u001b[38;5;124mFailed processing file: \u001b[39m\u001b[38;5;132;01m{\u001b[39;00mitem\u001b[38;5;132;01m!r}\u001b[39;00m\u001b[38;5;124m\"\u001b[39m) \u001b[38;5;28;01mfrom\u001b[39;00m\u001b[38;5;250m \u001b[39m\u001b[38;5;21;01me\u001b[39;00m\n",
      "File \u001b[0;32m/usr/local/lib/python3.10/site-packages/sidm/tools/sidm_processor.py:101\u001b[0m, in \u001b[0;36mSidmProcessor.process\u001b[0;34m(self, events)\u001b[0m\n\u001b[1;32m     98\u001b[0m sel_objs \u001b[38;5;241m=\u001b[39m obj_selection\u001b[38;5;241m.\u001b[39mapply_obj_cuts(objs)\n\u001b[1;32m    100\u001b[0m \u001b[38;5;66;03m# reconstruct lepton jets\u001b[39;00m\n\u001b[0;32m--> 101\u001b[0m sel_objs[\u001b[38;5;124m\"\u001b[39m\u001b[38;5;124mljs\u001b[39m\u001b[38;5;124m\"\u001b[39m] \u001b[38;5;241m=\u001b[39m \u001b[38;5;28;43mself\u001b[39;49m\u001b[38;5;241;43m.\u001b[39;49m\u001b[43mbuild_lepton_jets\u001b[49m\u001b[43m(\u001b[49m\u001b[43msel_objs\u001b[49m\u001b[43m,\u001b[49m\u001b[43m \u001b[49m\u001b[38;5;28;43mfloat\u001b[39;49m\u001b[43m(\u001b[49m\u001b[43mlj_reco\u001b[49m\u001b[43m)\u001b[49m\u001b[43m)\u001b[49m\n\u001b[1;32m    103\u001b[0m \u001b[38;5;66;03m# apply obj selection to ljs\u001b[39;00m\n\u001b[1;32m    104\u001b[0m lj_selection \u001b[38;5;241m=\u001b[39m selection\u001b[38;5;241m.\u001b[39mJaggedSelection(cuts[\u001b[38;5;124m\"\u001b[39m\u001b[38;5;124mlj\u001b[39m\u001b[38;5;124m\"\u001b[39m], \u001b[38;5;28mself\u001b[39m\u001b[38;5;241m.\u001b[39mverbose)\n",
      "File \u001b[0;32m/usr/local/lib/python3.10/site-packages/sidm/tools/sidm_processor.py:214\u001b[0m, in \u001b[0;36mSidmProcessor.build_lepton_jets\u001b[0;34m(self, objs, lj_reco)\u001b[0m\n\u001b[1;32m    212\u001b[0m muon_fields \u001b[38;5;241m=\u001b[39m \u001b[38;5;28mlist\u001b[39m(\u001b[38;5;28mset\u001b[39m(objs[\u001b[38;5;124m\"\u001b[39m\u001b[38;5;124mmuons\u001b[39m\u001b[38;5;124m\"\u001b[39m]\u001b[38;5;241m.\u001b[39mfields)\u001b[38;5;241m.\u001b[39mintersection(objs[\u001b[38;5;124m\"\u001b[39m\u001b[38;5;124mdsaMuons\u001b[39m\u001b[38;5;124m\"\u001b[39m]\u001b[38;5;241m.\u001b[39mfields))\n\u001b[1;32m    213\u001b[0m ljs[\u001b[38;5;124m\"\u001b[39m\u001b[38;5;124mconstituents\u001b[39m\u001b[38;5;124m\"\u001b[39m] \u001b[38;5;241m=\u001b[39m \u001b[38;5;28mself\u001b[39m\u001b[38;5;241m.\u001b[39mmake_constituent(consts, [\u001b[38;5;241m2\u001b[39m, \u001b[38;5;241m3\u001b[39m, \u001b[38;5;241m4\u001b[39m, \u001b[38;5;241m8\u001b[39m], \u001b[38;5;124m\"\u001b[39m\u001b[38;5;124mPtEtaPhiMCollection\u001b[39m\u001b[38;5;124m\"\u001b[39m, common_fields)\n\u001b[0;32m--> 214\u001b[0m ljs[\u001b[38;5;124m\"\u001b[39m\u001b[38;5;124mmuons\u001b[39m\u001b[38;5;124m\"\u001b[39m] \u001b[38;5;241m=\u001b[39m \u001b[38;5;28;43mself\u001b[39;49m\u001b[38;5;241;43m.\u001b[39;49m\u001b[43mmake_constituent\u001b[49m\u001b[43m(\u001b[49m\u001b[43mconsts\u001b[49m\u001b[43m,\u001b[49m\u001b[43m \u001b[49m\u001b[43m[\u001b[49m\u001b[38;5;241;43m3\u001b[39;49m\u001b[43m,\u001b[49m\u001b[43m \u001b[49m\u001b[38;5;241;43m8\u001b[39;49m\u001b[43m]\u001b[49m\u001b[43m,\u001b[49m\u001b[43m \u001b[49m\u001b[38;5;124;43m\"\u001b[39;49m\u001b[38;5;124;43mMuon\u001b[39;49m\u001b[38;5;124;43m\"\u001b[39;49m\u001b[43m,\u001b[49m\u001b[43m \u001b[49m\u001b[43mmuon_fields\u001b[49m\u001b[43m)\u001b[49m\n\u001b[1;32m    215\u001b[0m ljs[\u001b[38;5;124m\"\u001b[39m\u001b[38;5;124mpfMuons\u001b[39m\u001b[38;5;124m\"\u001b[39m] \u001b[38;5;241m=\u001b[39m \u001b[38;5;28mself\u001b[39m\u001b[38;5;241m.\u001b[39mmake_constituent(consts, [\u001b[38;5;241m3\u001b[39m], \u001b[38;5;124m\"\u001b[39m\u001b[38;5;124mMuon\u001b[39m\u001b[38;5;124m\"\u001b[39m, objs[\u001b[38;5;124m\"\u001b[39m\u001b[38;5;124mmuons\u001b[39m\u001b[38;5;124m\"\u001b[39m]\u001b[38;5;241m.\u001b[39mfields)\n\u001b[1;32m    216\u001b[0m ljs[\u001b[38;5;124m\"\u001b[39m\u001b[38;5;124mdsaMuons\u001b[39m\u001b[38;5;124m\"\u001b[39m] \u001b[38;5;241m=\u001b[39m \u001b[38;5;28mself\u001b[39m\u001b[38;5;241m.\u001b[39mmake_constituent(consts, [\u001b[38;5;241m8\u001b[39m], \u001b[38;5;124m\"\u001b[39m\u001b[38;5;124mMuon\u001b[39m\u001b[38;5;124m\"\u001b[39m, objs[\u001b[38;5;124m\"\u001b[39m\u001b[38;5;124mdsaMuons\u001b[39m\u001b[38;5;124m\"\u001b[39m]\u001b[38;5;241m.\u001b[39mfields)\n",
      "File \u001b[0;32m/usr/local/lib/python3.10/site-packages/sidm/tools/sidm_processor.py:177\u001b[0m, in \u001b[0;36mSidmProcessor.make_constituent\u001b[0;34m(self, consts, type_ids, name, fields)\u001b[0m\n\u001b[1;32m    175\u001b[0m \u001b[38;5;28;01mdef\u001b[39;00m\u001b[38;5;250m \u001b[39m\u001b[38;5;21mmake_constituent\u001b[39m(\u001b[38;5;28mself\u001b[39m, consts, type_ids, name, fields):\n\u001b[1;32m    176\u001b[0m \u001b[38;5;250m    \u001b[39m\u001b[38;5;124;03m\"\"\"Return array of particles of given type_ids, name, and only specified fields\"\"\"\u001b[39;00m\n\u001b[0;32m--> 177\u001b[0m     relevant_consts \u001b[38;5;241m=\u001b[39m consts[\u001b[43mak\u001b[49m\u001b[38;5;241;43m.\u001b[39;49m\u001b[43many\u001b[49m\u001b[43m(\u001b[49m\u001b[43m(\u001b[49m\u001b[43mconsts\u001b[49m\u001b[38;5;241;43m.\u001b[39;49m\u001b[43mpart_type\u001b[49m\u001b[43m \u001b[49m\u001b[38;5;241;43m==\u001b[39;49m\u001b[43m \u001b[49m\u001b[43mx\u001b[49m\u001b[43m \u001b[49m\u001b[38;5;28;43;01mfor\u001b[39;49;00m\u001b[43m \u001b[49m\u001b[43mx\u001b[49m\u001b[43m \u001b[49m\u001b[38;5;129;43;01min\u001b[39;49;00m\u001b[43m \u001b[49m\u001b[43mtype_ids\u001b[49m\u001b[43m)\u001b[49m\u001b[43m,\u001b[49m\u001b[43m \u001b[49m\u001b[43maxis\u001b[49m\u001b[38;5;241;43m=\u001b[39;49m\u001b[38;5;241;43m0\u001b[39;49m\u001b[43m)\u001b[49m]\n\u001b[1;32m    178\u001b[0m     forms \u001b[38;5;241m=\u001b[39m {f: relevant_consts\u001b[38;5;241m.\u001b[39m\u001b[38;5;21m__getattr__\u001b[39m(f) \u001b[38;5;28;01mfor\u001b[39;00m f \u001b[38;5;129;01min\u001b[39;00m fields}\n\u001b[1;32m    179\u001b[0m     \u001b[38;5;28;01mreturn\u001b[39;00m ak\u001b[38;5;241m.\u001b[39mzip(forms, with_name\u001b[38;5;241m=\u001b[39mname, behavior\u001b[38;5;241m=\u001b[39mnanoaod\u001b[38;5;241m.\u001b[39mbehavior)\n",
      "File \u001b[0;32m/usr/local/lib/python3.10/site-packages/awkward/operations/reducers.py:429\u001b[0m, in \u001b[0;36many\u001b[0;34m(array, axis, keepdims, mask_identity)\u001b[0m\n\u001b[1;32m    399\u001b[0m \u001b[38;5;129m@ak\u001b[39m\u001b[38;5;241m.\u001b[39m_connect\u001b[38;5;241m.\u001b[39m_numpy\u001b[38;5;241m.\u001b[39mimplements(\u001b[38;5;124m\"\u001b[39m\u001b[38;5;124many\u001b[39m\u001b[38;5;124m\"\u001b[39m)\n\u001b[1;32m    400\u001b[0m \u001b[38;5;28;01mdef\u001b[39;00m\u001b[38;5;250m \u001b[39m\u001b[38;5;21many\u001b[39m(array, axis\u001b[38;5;241m=\u001b[39m\u001b[38;5;28;01mNone\u001b[39;00m, keepdims\u001b[38;5;241m=\u001b[39m\u001b[38;5;28;01mFalse\u001b[39;00m, mask_identity\u001b[38;5;241m=\u001b[39m\u001b[38;5;28;01mFalse\u001b[39;00m):\n\u001b[1;32m    401\u001b[0m \u001b[38;5;250m    \u001b[39m\u001b[38;5;124;03m\"\"\"\u001b[39;00m\n\u001b[1;32m    402\u001b[0m \u001b[38;5;124;03m    Args:\u001b[39;00m\n\u001b[1;32m    403\u001b[0m \u001b[38;5;124;03m        array: Data to combine with \"logical or.\"\u001b[39;00m\n\u001b[0;32m   (...)\u001b[0m\n\u001b[1;32m    427\u001b[0m \u001b[38;5;124;03m    value (None) handling in reducers.\u001b[39;00m\n\u001b[1;32m    428\u001b[0m \u001b[38;5;124;03m    \"\"\"\u001b[39;00m\n\u001b[0;32m--> 429\u001b[0m     layout \u001b[38;5;241m=\u001b[39m \u001b[43mak\u001b[49m\u001b[38;5;241;43m.\u001b[39;49m\u001b[43moperations\u001b[49m\u001b[38;5;241;43m.\u001b[39;49m\u001b[43mconvert\u001b[49m\u001b[38;5;241;43m.\u001b[39;49m\u001b[43mto_layout\u001b[49m\u001b[43m(\u001b[49m\n\u001b[1;32m    430\u001b[0m \u001b[43m        \u001b[49m\u001b[43marray\u001b[49m\u001b[43m,\u001b[49m\u001b[43m \u001b[49m\u001b[43mallow_record\u001b[49m\u001b[38;5;241;43m=\u001b[39;49m\u001b[38;5;28;43;01mFalse\u001b[39;49;00m\u001b[43m,\u001b[49m\u001b[43m \u001b[49m\u001b[43mallow_other\u001b[49m\u001b[38;5;241;43m=\u001b[39;49m\u001b[38;5;28;43;01mFalse\u001b[39;49;00m\n\u001b[1;32m    431\u001b[0m \u001b[43m    \u001b[49m\u001b[43m)\u001b[49m\n\u001b[1;32m    432\u001b[0m     \u001b[38;5;28;01mif\u001b[39;00m axis \u001b[38;5;129;01mis\u001b[39;00m \u001b[38;5;28;01mNone\u001b[39;00m:\n\u001b[1;32m    434\u001b[0m         \u001b[38;5;28;01mdef\u001b[39;00m\u001b[38;5;250m \u001b[39m\u001b[38;5;21mreduce\u001b[39m(xs):\n",
      "File \u001b[0;32m/usr/local/lib/python3.10/site-packages/awkward/operations/convert.py:1930\u001b[0m, in \u001b[0;36mto_layout\u001b[0;34m(array, allow_record, allow_other, numpytype)\u001b[0m\n\u001b[1;32m   1927\u001b[0m     \u001b[38;5;28;01mreturn\u001b[39;00m from_iter([array], highlevel\u001b[38;5;241m=\u001b[39m\u001b[38;5;28;01mFalse\u001b[39;00m)\n\u001b[1;32m   1929\u001b[0m \u001b[38;5;28;01melif\u001b[39;00m \u001b[38;5;28misinstance\u001b[39m(array, Iterable):\n\u001b[0;32m-> 1930\u001b[0m     \u001b[38;5;28;01mreturn\u001b[39;00m \u001b[43mfrom_iter\u001b[49m\u001b[43m(\u001b[49m\u001b[43marray\u001b[49m\u001b[43m,\u001b[49m\u001b[43m \u001b[49m\u001b[43mhighlevel\u001b[49m\u001b[38;5;241;43m=\u001b[39;49m\u001b[38;5;28;43;01mFalse\u001b[39;49;00m\u001b[43m)\u001b[49m\n\u001b[1;32m   1932\u001b[0m \u001b[38;5;28;01melif\u001b[39;00m \u001b[38;5;129;01mnot\u001b[39;00m allow_other:\n\u001b[1;32m   1933\u001b[0m     \u001b[38;5;28;01mraise\u001b[39;00m \u001b[38;5;167;01mTypeError\u001b[39;00m(\n\u001b[1;32m   1934\u001b[0m         \u001b[38;5;124mf\u001b[39m\u001b[38;5;124m\"\u001b[39m\u001b[38;5;132;01m{\u001b[39;00marray\u001b[38;5;132;01m}\u001b[39;00m\u001b[38;5;124m cannot be converted into an Awkward Array\u001b[39m\u001b[38;5;124m\"\u001b[39m\n\u001b[1;32m   1935\u001b[0m         \u001b[38;5;241m+\u001b[39m ak\u001b[38;5;241m.\u001b[39m_util\u001b[38;5;241m.\u001b[39mexception_suffix(\u001b[38;5;18m__file__\u001b[39m)\n\u001b[1;32m   1936\u001b[0m     )\n",
      "File \u001b[0;32m/usr/local/lib/python3.10/site-packages/awkward/operations/convert.py:893\u001b[0m, in \u001b[0;36mfrom_iter\u001b[0;34m(iterable, highlevel, behavior, allow_record, initial, resize)\u001b[0m\n\u001b[1;32m    890\u001b[0m     iterable \u001b[38;5;241m=\u001b[39m \u001b[38;5;28mlist\u001b[39m(iterable)\n\u001b[1;32m    892\u001b[0m out \u001b[38;5;241m=\u001b[39m ak\u001b[38;5;241m.\u001b[39mlayout\u001b[38;5;241m.\u001b[39mArrayBuilder(initial\u001b[38;5;241m=\u001b[39minitial, resize\u001b[38;5;241m=\u001b[39mresize)\n\u001b[0;32m--> 893\u001b[0m \u001b[43mout\u001b[49m\u001b[38;5;241;43m.\u001b[39;49m\u001b[43mfromiter\u001b[49m\u001b[43m(\u001b[49m\u001b[43miterable\u001b[49m\u001b[43m)\u001b[49m\n\u001b[1;32m    894\u001b[0m \u001b[38;5;28;01mreturn\u001b[39;00m ak\u001b[38;5;241m.\u001b[39m_util\u001b[38;5;241m.\u001b[39mmaybe_wrap(out[\u001b[38;5;241m0\u001b[39m], behavior, highlevel)\n",
      "File \u001b[0;32m/usr/local/lib/python3.10/site-packages/awkward/highlevel.py:452\u001b[0m, in \u001b[0;36mArray.tolist\u001b[0;34m(self)\u001b[0m\n\u001b[1;32m    446\u001b[0m \u001b[38;5;28;01mdef\u001b[39;00m\u001b[38;5;250m \u001b[39m\u001b[38;5;21mtolist\u001b[39m(\u001b[38;5;28mself\u001b[39m):\n\u001b[1;32m    447\u001b[0m \u001b[38;5;250m    \u001b[39m\u001b[38;5;124;03m\"\"\"\u001b[39;00m\n\u001b[1;32m    448\u001b[0m \u001b[38;5;124;03m    Converts this Array into Python objects; same as #ak.to_list\u001b[39;00m\n\u001b[1;32m    449\u001b[0m \u001b[38;5;124;03m    (but without the underscore, like NumPy's\u001b[39;00m\n\u001b[1;32m    450\u001b[0m \u001b[38;5;124;03m    [tolist](https://docs.scipy.org/doc/numpy/reference/generated/numpy.ndarray.tolist.html)).\u001b[39;00m\n\u001b[1;32m    451\u001b[0m \u001b[38;5;124;03m    \"\"\"\u001b[39;00m\n\u001b[0;32m--> 452\u001b[0m     \u001b[38;5;28;01mreturn\u001b[39;00m \u001b[43mak\u001b[49m\u001b[38;5;241;43m.\u001b[39;49m\u001b[43moperations\u001b[49m\u001b[38;5;241;43m.\u001b[39;49m\u001b[43mconvert\u001b[49m\u001b[38;5;241;43m.\u001b[39;49m\u001b[43mto_list\u001b[49m\u001b[43m(\u001b[49m\u001b[38;5;28;43mself\u001b[39;49m\u001b[43m)\u001b[49m\n",
      "File \u001b[0;32m/usr/local/lib/python3.10/site-packages/awkward/operations/convert.py:956\u001b[0m, in \u001b[0;36mto_list\u001b[0;34m(array)\u001b[0m\n\u001b[1;32m    953\u001b[0m     \u001b[38;5;28;01mreturn\u001b[39;00m array\n\u001b[1;32m    955\u001b[0m \u001b[38;5;28;01melif\u001b[39;00m \u001b[38;5;28misinstance\u001b[39m(array, ak\u001b[38;5;241m.\u001b[39mhighlevel\u001b[38;5;241m.\u001b[39mArray):\n\u001b[0;32m--> 956\u001b[0m     \u001b[38;5;28;01mreturn\u001b[39;00m [to_list(x) \u001b[38;5;28;01mfor\u001b[39;00m x \u001b[38;5;129;01min\u001b[39;00m array]\n\u001b[1;32m    958\u001b[0m \u001b[38;5;28;01melif\u001b[39;00m \u001b[38;5;28misinstance\u001b[39m(array, ak\u001b[38;5;241m.\u001b[39mhighlevel\u001b[38;5;241m.\u001b[39mRecord):\n\u001b[1;32m    959\u001b[0m     \u001b[38;5;28;01mreturn\u001b[39;00m to_list(array\u001b[38;5;241m.\u001b[39mlayout)\n",
      "File \u001b[0;32m/usr/local/lib/python3.10/site-packages/awkward/operations/convert.py:956\u001b[0m, in \u001b[0;36m<listcomp>\u001b[0;34m(.0)\u001b[0m\n\u001b[1;32m    953\u001b[0m     \u001b[38;5;28;01mreturn\u001b[39;00m array\n\u001b[1;32m    955\u001b[0m \u001b[38;5;28;01melif\u001b[39;00m \u001b[38;5;28misinstance\u001b[39m(array, ak\u001b[38;5;241m.\u001b[39mhighlevel\u001b[38;5;241m.\u001b[39mArray):\n\u001b[0;32m--> 956\u001b[0m     \u001b[38;5;28;01mreturn\u001b[39;00m [\u001b[43mto_list\u001b[49m\u001b[43m(\u001b[49m\u001b[43mx\u001b[49m\u001b[43m)\u001b[49m \u001b[38;5;28;01mfor\u001b[39;00m x \u001b[38;5;129;01min\u001b[39;00m array]\n\u001b[1;32m    958\u001b[0m \u001b[38;5;28;01melif\u001b[39;00m \u001b[38;5;28misinstance\u001b[39m(array, ak\u001b[38;5;241m.\u001b[39mhighlevel\u001b[38;5;241m.\u001b[39mRecord):\n\u001b[1;32m    959\u001b[0m     \u001b[38;5;28;01mreturn\u001b[39;00m to_list(array\u001b[38;5;241m.\u001b[39mlayout)\n",
      "File \u001b[0;32m/usr/local/lib/python3.10/site-packages/awkward/operations/convert.py:956\u001b[0m, in \u001b[0;36mto_list\u001b[0;34m(array)\u001b[0m\n\u001b[1;32m    953\u001b[0m     \u001b[38;5;28;01mreturn\u001b[39;00m array\n\u001b[1;32m    955\u001b[0m \u001b[38;5;28;01melif\u001b[39;00m \u001b[38;5;28misinstance\u001b[39m(array, ak\u001b[38;5;241m.\u001b[39mhighlevel\u001b[38;5;241m.\u001b[39mArray):\n\u001b[0;32m--> 956\u001b[0m     \u001b[38;5;28;01mreturn\u001b[39;00m [to_list(x) \u001b[38;5;28;01mfor\u001b[39;00m x \u001b[38;5;129;01min\u001b[39;00m array]\n\u001b[1;32m    958\u001b[0m \u001b[38;5;28;01melif\u001b[39;00m \u001b[38;5;28misinstance\u001b[39m(array, ak\u001b[38;5;241m.\u001b[39mhighlevel\u001b[38;5;241m.\u001b[39mRecord):\n\u001b[1;32m    959\u001b[0m     \u001b[38;5;28;01mreturn\u001b[39;00m to_list(array\u001b[38;5;241m.\u001b[39mlayout)\n",
      "File \u001b[0;32m/usr/local/lib/python3.10/site-packages/awkward/operations/convert.py:956\u001b[0m, in \u001b[0;36m<listcomp>\u001b[0;34m(.0)\u001b[0m\n\u001b[1;32m    953\u001b[0m     \u001b[38;5;28;01mreturn\u001b[39;00m array\n\u001b[1;32m    955\u001b[0m \u001b[38;5;28;01melif\u001b[39;00m \u001b[38;5;28misinstance\u001b[39m(array, ak\u001b[38;5;241m.\u001b[39mhighlevel\u001b[38;5;241m.\u001b[39mArray):\n\u001b[0;32m--> 956\u001b[0m     \u001b[38;5;28;01mreturn\u001b[39;00m [\u001b[43mto_list\u001b[49m\u001b[43m(\u001b[49m\u001b[43mx\u001b[49m\u001b[43m)\u001b[49m \u001b[38;5;28;01mfor\u001b[39;00m x \u001b[38;5;129;01min\u001b[39;00m array]\n\u001b[1;32m    958\u001b[0m \u001b[38;5;28;01melif\u001b[39;00m \u001b[38;5;28misinstance\u001b[39m(array, ak\u001b[38;5;241m.\u001b[39mhighlevel\u001b[38;5;241m.\u001b[39mRecord):\n\u001b[1;32m    959\u001b[0m     \u001b[38;5;28;01mreturn\u001b[39;00m to_list(array\u001b[38;5;241m.\u001b[39mlayout)\n",
      "File \u001b[0;32m/usr/local/lib/python3.10/site-packages/awkward/operations/convert.py:956\u001b[0m, in \u001b[0;36mto_list\u001b[0;34m(array)\u001b[0m\n\u001b[1;32m    953\u001b[0m     \u001b[38;5;28;01mreturn\u001b[39;00m array\n\u001b[1;32m    955\u001b[0m \u001b[38;5;28;01melif\u001b[39;00m \u001b[38;5;28misinstance\u001b[39m(array, ak\u001b[38;5;241m.\u001b[39mhighlevel\u001b[38;5;241m.\u001b[39mArray):\n\u001b[0;32m--> 956\u001b[0m     \u001b[38;5;28;01mreturn\u001b[39;00m [to_list(x) \u001b[38;5;28;01mfor\u001b[39;00m x \u001b[38;5;129;01min\u001b[39;00m array]\n\u001b[1;32m    958\u001b[0m \u001b[38;5;28;01melif\u001b[39;00m \u001b[38;5;28misinstance\u001b[39m(array, ak\u001b[38;5;241m.\u001b[39mhighlevel\u001b[38;5;241m.\u001b[39mRecord):\n\u001b[1;32m    959\u001b[0m     \u001b[38;5;28;01mreturn\u001b[39;00m to_list(array\u001b[38;5;241m.\u001b[39mlayout)\n",
      "\u001b[0;31mKeyboardInterrupt\u001b[0m: "
     ]
    }
   ],
   "source": [
    "samples = [\n",
    "    #'2Mu2E_500GeV_5p0GeV_0p08mm',\n",
    "    #'2Mu2E_500GeV_5p0GeV_0p8mm',\n",
    "    #'2Mu2E_500GeV_5p0GeV_40p0mm',\n",
    "    #'2Mu2E_500GeV_5p0GeV_80p0mm',\n",
    "    #'2Mu2E_500GeV_5p0GeV_8p0mm',\n",
    "    '2Mu2E_800GeV_5p0GeV_50p0mm'\n",
    "]\n",
    "fileset = utilities.make_fileset(samples, \"llpNanoAOD_v2\", max_files=1, location_cfg=\"signal_2mu2e_v10.yaml\")\n",
    "\n",
    "runner = processor.Runner(\n",
    "    executor=processor.IterativeExecutor(),\n",
    "    #executor=processor.DaskExecutor(client=client),\n",
    "    schema=NanoAODSchema,\n",
    "    #schema=llpnanoaodschema.NanoAODSchema,\n",
    "    #maxchunks=1,\n",
    "    skipbadfiles=True,\n",
    ")\n",
    "\n",
    "channels = [\n",
    "    \"baseNoTriggerNoLjNoLjsource\",\n",
    "    \"baseNoLjNoLjsource\",\n",
    "    \"NoLjNoLjsource2pfmu\",\n",
    "    \"baseNoLj\",\n",
    "    \"noLj2pfmu\",\n",
    "    \"ljsource_test_electrons\",\n",
    "    \"ljsource_test_muons\",\n",
    "    \"ljsource_test_photons\",\n",
    "    \"ljsource_test_dsaMuons\",\n",
    "    \"NoLjNoLjsource2dsamu\",\n",
    "    \"noLj2dsamu\",\n",
    "]\n",
    "p = sidm_processor.SidmProcessor(\n",
    "    channels,\n",
    "    [\"genA_toMu_base\"],\n",
    "    verbose=True,\n",
    ")\n",
    "\n",
    "output = runner.run(fileset, treename='Events', processor_instance=p)\n",
    "out = output[\"out\"]"
   ]
  },
  {
   "cell_type": "code",
   "execution_count": 11,
   "id": "8a806fa8-caa5-497f-bf9e-96740d1e36a1",
   "metadata": {},
   "outputs": [
    {
     "data": {
      "text/plain": [
       "Text(0.5, 1.07, 'Triggers + 2 PF Muons + DSA Muon LJ Source')"
      ]
     },
     "execution_count": 11,
     "metadata": {},
     "output_type": "execute_result"
    },
    {
     "data": {
      "image/png": "[encoded data removed]",
      "text/plain": [
       "<Figure size 1200x2000 with 6 Axes>"
      ]
     },
     "metadata": {},
     "output_type": "display_data"
    }
   ],
   "source": [
    "plt.subplots(3, 2, figsize=(24, 40))\n",
    "plt.subplot(3, 2, 1)\n",
    "utilities.plot(out[samples[0]][\"hists\"][\"genAs_toMu_lxy\"][channels[2], :])\n",
    "plt.title(\"Triggers + 2 PF Muons\",y=1.07)\n",
    "#plt.yscale(\"log\")\n",
    "plt.subplot(3, 2, 2)\n",
    "utilities.plot(out[samples[0]][\"hists\"][\"genAs_toMu_lxy\"][channels[4], :])\n",
    "plt.title(\"Triggers + 2 PF Muons + LJ Source\",y=1.07)\n",
    "#plt.yscale(\"log\")\n",
    "plt.subplot(3, 2, 3)\n",
    "utilities.plot(out[samples[0]][\"hists\"][\"genAs_toMu_lxy\"][channels[5], :])\n",
    "plt.title(\"Triggers + 2 PF Muons + Electron LJ Source\",y=1.07)\n",
    "plt.subplot(3, 2, 4)\n",
    "utilities.plot(out[samples[0]][\"hists\"][\"genAs_toMu_lxy\"][channels[6], :])\n",
    "plt.title(\"Triggers + 2 PF Muons + Muon LJ Source\",y=1.07)\n",
    "plt.subplot(3, 2, 5)\n",
    "utilities.plot(out[samples[0]][\"hists\"][\"genAs_toMu_lxy\"][channels[7], :])\n",
    "plt.title(\"Triggers + 2 PF Muons + Photon LJ Source\",y=1.07)\n",
    "plt.subplot(3, 2, 6)\n",
    "utilities.plot(out[samples[0]][\"hists\"][\"genAs_toMu_lxy\"][channels[8], :])\n",
    "plt.title(\"Triggers + 2 PF Muons + DSA Muon LJ Source\",y=1.07)"
   ]
  },
  {
   "cell_type": "code",
   "execution_count": 8,
   "id": "deb35db2-9590-4e9b-b140-24a385a9b8bb",
   "metadata": {
    "scrolled": true
   },
   "outputs": [
    {
     "data": {
      "text/plain": [
       "<matplotlib.legend.Legend at 0x7f51803fe7d0>"
      ]
     },
     "execution_count": 8,
     "metadata": {},
     "output_type": "execute_result"
    },
    {
     "data": {
      "image/png": "[encoded data removed]",
      "text/plain": [
       "<Figure size 500x500 with 1 Axes>"
      ]
     },
     "metadata": {},
     "output_type": "display_data"
    }
   ],
   "source": [
    "channel1 = 9\n",
    "channel2 = 10\n",
    "utilities.plot(out[samples[0]][\"hists\"][\"genAs_toMu_lxy\"][channels[channel1], :])\n",
    "utilities.plot(out[samples[0]][\"hists\"][\"genAs_toMu_lxy\"][channels[channel2], :])\n",
    "plt.yscale(\"log\")\n",
    "plt.legend([channels[channel1],channels[channel2]])"
   ]
  },
  {
   "cell_type": "code",
   "execution_count": 14,
   "id": "4d23beb6-81e2-44fb-aa7c-94515f4b9fc4",
   "metadata": {
    "scrolled": true
   },
   "outputs": [
    {
     "data": {
      "text/plain": [
       "<matplotlib.legend.Legend at 0x7f8013befc70>"
      ]
     },
     "execution_count": 14,
     "metadata": {},
     "output_type": "execute_result"
    },
    {
     "data": {
      "image/png": "[encoded data removed]",
      "text/plain": [
       "<Figure size 500x500 with 1 Axes>"
      ]
     },
     "metadata": {},
     "output_type": "display_data"
    }
   ],
   "source": [
    "channel1 = 2\n",
    "channel2 = 4\n",
    "channel3 = 5\n",
    "channel4 = 6\n",
    "channel5 = 7\n",
    "channel6 = 8\n",
    "utilities.plot(out[samples[0]][\"hists\"][\"genAs_toMu_lxy\"][channels[channel1], :])\n",
    "utilities.plot(out[samples[0]][\"hists\"][\"genAs_toMu_lxy\"][channels[channel2], :])\n",
    "utilities.plot(out[samples[0]][\"hists\"][\"genAs_toMu_lxy\"][channels[channel3], :])\n",
    "utilities.plot(out[samples[0]][\"hists\"][\"genAs_toMu_lxy\"][channels[channel4], :])\n",
    "utilities.plot(out[samples[0]][\"hists\"][\"genAs_toMu_lxy\"][channels[channel5], :])\n",
    "utilities.plot(out[samples[0]][\"hists\"][\"genAs_toMu_lxy\"][channels[channel6], :])\n",
    "plt.yscale(\"log\")\n",
    "plt.legend([channels[channel1],channels[channel2],channels[channel3],channels[channel4],channels[channel5],channels[channel6]])"
   ]
  },
  {
   "cell_type": "code",
   "execution_count": 19,
   "id": "edf888f3-356a-4ed0-ac47-c79bb71ee110",
   "metadata": {
    "scrolled": true
   },
   "outputs": [
    {
     "name": "stderr",
     "output_type": "stream",
     "text": [
      "/usr/local/lib/python3.10/site-packages/sidm/tools/utilities.py:144: RuntimeWarning: invalid value encountered in divide\n",
      "  eff_values = num_vals/denom_vals\n"
     ]
    },
    {
     "data": {
      "text/plain": [
       "Text(0.5, 3.1, 'Electron Cuts')"
      ]
     },
     "execution_count": 19,
     "metadata": {},
     "output_type": "execute_result"
    },
    {
     "data": {
      "image/png": "[encoded data removed]",
      "text/plain": [
       "<Figure size 500x500 with 2 Axes>"
      ]
     },
     "metadata": {},
     "output_type": "display_data"
    }
   ],
   "source": [
    "#print(utilities.get_eff_hist(out[samples[0]][\"hists\"][\"genAs_toMu_lxy\"][channels[1], :],out[samples[0]][\"hists\"][\"genAs_toMu_lxy\"][channels[0], :]))\n",
    "#utilities.plot(utilities.get_eff_hist(out[samples[0]][\"hists\"][\"genAs_toMu_lxy\"][channels[1], :],out[samples[0]][\"hists\"][\"genAs_toMu_lxy\"][channels[0], :])[0])\n",
    "utilities.plot_ratio(out[samples[0]][\"hists\"][\"genAs_toMu_lxy\"][channels[5], :],out[samples[0]][\"hists\"][\"genAs_toMu_lxy\"][channels[2], :])\n",
    "plt.title(\"Electron Cuts\",y=3.1)"
   ]
  },
  {
   "cell_type": "code",
   "execution_count": 20,
   "id": "0e9b24f2-ed89-4b2f-b38a-ae5e9dbfba0d",
   "metadata": {},
   "outputs": [
    {
     "name": "stderr",
     "output_type": "stream",
     "text": [
      "/usr/local/lib/python3.10/site-packages/sidm/tools/utilities.py:144: RuntimeWarning: invalid value encountered in divide\n",
      "  eff_values = num_vals/denom_vals\n"
     ]
    },
    {
     "data": {
      "text/plain": [
       "Text(0.5, 3.1, 'Muon Cuts')"
      ]
     },
     "execution_count": 20,
     "metadata": {},
     "output_type": "execute_result"
    },
    {
     "data": {
      "image/png": "[encoded data removed]",
      "text/plain": [
       "<Figure size 500x500 with 2 Axes>"
      ]
     },
     "metadata": {},
     "output_type": "display_data"
    }
   ],
   "source": [
    "#print(utilities.get_eff_hist(out[samples[0]][\"hists\"][\"genAs_toMu_lxy\"][channels[1], :],out[samples[0]][\"hists\"][\"genAs_toMu_lxy\"][channels[0], :]))\n",
    "#utilities.plot(utilities.get_eff_hist(out[samples[0]][\"hists\"][\"genAs_toMu_lxy\"][channels[1], :],out[samples[0]][\"hists\"][\"genAs_toMu_lxy\"][channels[0], :])[0])\n",
    "utilities.plot_ratio(out[samples[0]][\"hists\"][\"genAs_toMu_lxy\"][channels[6], :],out[samples[0]][\"hists\"][\"genAs_toMu_lxy\"][channels[2], :])\n",
    "plt.title(\"Muon Cuts\",y=3.1)"
   ]
  },
  {
   "cell_type": "code",
   "execution_count": 21,
   "id": "eba5e9a9-bf82-4597-94d9-3ddee5eea3ad",
   "metadata": {},
   "outputs": [
    {
     "name": "stderr",
     "output_type": "stream",
     "text": [
      "/usr/local/lib/python3.10/site-packages/sidm/tools/utilities.py:144: RuntimeWarning: invalid value encountered in divide\n",
      "  eff_values = num_vals/denom_vals\n"
     ]
    },
    {
     "data": {
      "text/plain": [
       "Text(0.5, 3.1, 'Photon Cuts')"
      ]
     },
     "execution_count": 21,
     "metadata": {},
     "output_type": "execute_result"
    },
    {
     "data": {
      "image/png": "[encoded data removed]",
      "text/plain": [
       "<Figure size 500x500 with 2 Axes>"
      ]
     },
     "metadata": {},
     "output_type": "display_data"
    }
   ],
   "source": [
    "#print(utilities.get_eff_hist(out[samples[0]][\"hists\"][\"genAs_toMu_lxy\"][channels[1], :],out[samples[0]][\"hists\"][\"genAs_toMu_lxy\"][channels[0], :]))\n",
    "#utilities.plot(utilities.get_eff_hist(out[samples[0]][\"hists\"][\"genAs_toMu_lxy\"][channels[1], :],out[samples[0]][\"hists\"][\"genAs_toMu_lxy\"][channels[0], :])[0])\n",
    "utilities.plot_ratio(out[samples[0]][\"hists\"][\"genAs_toMu_lxy\"][channels[7], :],out[samples[0]][\"hists\"][\"genAs_toMu_lxy\"][channels[2], :])\n",
    "plt.title(\"Photon Cuts\",y=3.1)"
   ]
  },
  {
   "cell_type": "code",
   "execution_count": 22,
   "id": "743c07f9-db92-4386-9bf2-74375b830452",
   "metadata": {},
   "outputs": [
    {
     "name": "stderr",
     "output_type": "stream",
     "text": [
      "/usr/local/lib/python3.10/site-packages/sidm/tools/utilities.py:144: RuntimeWarning: invalid value encountered in divide\n",
      "  eff_values = num_vals/denom_vals\n"
     ]
    },
    {
     "data": {
      "text/plain": [
       "Text(0.5, 3.1, 'DSA Muon Cuts')"
      ]
     },
     "execution_count": 22,
     "metadata": {},
     "output_type": "execute_result"
    },
    {
     "data": {
      "image/png": "[encoded data removed]",
      "text/plain": [
       "<Figure size 500x500 with 2 Axes>"
      ]
     },
     "metadata": {},
     "output_type": "display_data"
    }
   ],
   "source": [
    "#print(utilities.get_eff_hist(out[samples[0]][\"hists\"][\"genAs_toMu_lxy\"][channels[1], :],out[samples[0]][\"hists\"][\"genAs_toMu_lxy\"][channels[0], :]))\n",
    "#utilities.plot(utilities.get_eff_hist(out[samples[0]][\"hists\"][\"genAs_toMu_lxy\"][channels[1], :],out[samples[0]][\"hists\"][\"genAs_toMu_lxy\"][channels[0], :])[0])\n",
    "utilities.plot_ratio(out[samples[0]][\"hists\"][\"genAs_toMu_lxy\"][channels[8], :],out[samples[0]][\"hists\"][\"genAs_toMu_lxy\"][channels[2], :])\n",
    "plt.title(\"DSA Muon Cuts\",y=3.1)"
   ]
  },
  {
   "cell_type": "code",
   "execution_count": 3,
   "id": "b0649e35-3210-4b40-95bd-2fc5c987f544",
   "metadata": {},
   "outputs": [
    {
     "name": "stderr",
     "output_type": "stream",
     "text": [
      "/usr/local/lib/python3.10/site-packages/coffea/nanoevents/schemas/nanoaod.py:205: RuntimeWarning: Missing cross-reference index for LowPtElectron_electronIdx => Electron\n",
      "  warnings.warn(\n",
      "/usr/local/lib/python3.10/site-packages/coffea/nanoevents/schemas/nanoaod.py:205: RuntimeWarning: Missing cross-reference index for LowPtElectron_photonIdx => Photon\n",
      "  warnings.warn(\n"
     ]
    },
    {
     "data": {
      "text/plain": [
       "<NanoEventsArray [<event 1:1:1>, ... <event 1:2:300>] type='2812 * event'>"
      ]
     },
     "execution_count": 3,
     "metadata": {},
     "output_type": "execute_result"
    }
   ],
   "source": [
    "samples = [\n",
    "    '2Mu2E_800GeV_5p0GeV_50p0mm',\n",
    "]\n",
    "fileset = utilities.make_fileset(samples, \"llpNanoAOD_v2\", max_files=1, location_cfg=\"signal_2mu2e_v10.yaml\")\n",
    "file_path = 'root://xcache//store/group/lpcmetx/SIDM/ULSignalSamples/2018_v10/BsTo2DpTo2Mu2e/CutDecayFalse_SIDM_BsTo2DpTo2Mu2e_MBs-500_MDp-5p0_ctau-80p0_v3/LLPnanoAODv2/CutDecayFalse_SIDM_BsTo2DpTo2Mu2e_MBs-500_MDp-5p0_ctau-80p0_v3_part-0.root'\n",
    "\n",
    "events = NanoEventsFactory.from_root(\n",
    "    file_path,\n",
    "    treepath='Events',\n",
    "    schemaclass=NanoAODSchema,\n",
    ").events()\n",
    "\n",
    "events"
   ]
  },
  {
   "cell_type": "code",
   "execution_count": 6,
   "id": "b3cb57ad-6938-45fb-bbc8-2d06ebd1cbf7",
   "metadata": {},
   "outputs": [
    {
     "name": "stdout",
     "output_type": "stream",
     "text": [
      "... mass: 8.74, phi: -0.635, pt: 240, partonFlavour: 0, hadronFlavour: 0}\n",
      "{eta: -1.31, mass: 22, phi: 2.6, pt: 236, partonFlavour: 21, hadronFlavour: 0}\n",
      "... mass: 6.8, phi: -0.636, pt: 17.2, partonFlavour: 21, hadronFlavour: 0}\n",
      "... eta: -1.97, mass: 2.64, phi: 2.22, pt: 14, partonFlavour: 21, hadronFlavour: 0}\n",
      "... mass: 3.05, phi: 0.485, pt: 10.9, partonFlavour: 21, hadronFlavour: 0}\n"
     ]
    }
   ],
   "source": [
    "obj1 = events.Muon\n",
    "obj2 = (events.GenPart[events.GenPart.pdgId == 13])\n",
    "obj3 = events.GenJet\n",
    "\n",
    "for i in obj3[0]:\n",
    "    print(i)\n",
    "\n",
    "#my_array = obj1.metric_table(obj2)\n",
    "#my_array = my_array[my_array < 0.04]\n",
    "#count_array = ak.count(my_array,axis=1)\n",
    "#final = obj1[count_array >= 2]\n",
    "#plt.hist(ak.flatten(utilities.rho(obj1)),alpha=0.5,range=(0,500),bins=30,label=\"All Pf Muons\")\n",
    "#plt.hist(ak.flatten(utilities.rho(final)),alpha=0.5,range=(0,500),bins=30,label=\">= 2 Pf Muons near Dark Photons\")\n",
    "#plt.xlabel(\"distance\")\n",
    "#plt.legend()"
   ]
  },
  {
   "cell_type": "code",
   "execution_count": 17,
   "id": "eec62568-d043-49dc-80e9-b645d97dfe67",
   "metadata": {},
   "outputs": [
    {
     "name": "stdout",
     "output_type": "stream",
     "text": [
      "[1]\n",
      "[0.00808]\n",
      "[GenParticle]\n",
      "[Muon, Muon]\n",
      "[[0.00808], [0.0487]]\n",
      "\n",
      "\n",
      "[1]\n",
      "[0.00088]\n",
      "[GenParticle]\n",
      "[Muon, Muon]\n",
      "[[0.00088], [0.0756]]\n",
      "\n",
      "\n",
      "[1, 1]\n",
      "[0.00494, 0.00494]\n",
      "[GenParticle, GenParticle]\n",
      "[Muon]\n",
      "[[0.00494, 0.00494]]\n",
      "\n",
      "\n",
      "[]\n",
      "[inf]\n",
      "[GenParticle]\n",
      "[]\n",
      "[]\n",
      "\n",
      "\n",
      "[]\n",
      "[0.183]\n",
      "[GenParticle]\n",
      "[Muon]\n",
      "[[0.183]]\n",
      "\n",
      "\n",
      "[1, 1]\n",
      "[0.0188, 0.0188]\n",
      "[GenParticle, GenParticle]\n",
      "[Muon, Muon]\n",
      "[[0.0188, 0.0188], [0.0671, 0.0671]]\n",
      "\n",
      "\n",
      "[]\n",
      "[0.0504, 2.59]\n",
      "[GenParticle, GenParticle]\n",
      "[Muon, Muon, Muon]\n",
      "[[0.063, 2.61], [0.0504, 2.59], [2.45, 2.83]]\n",
      "\n",
      "\n",
      "[]\n",
      "[0.0863]\n",
      "[GenParticle]\n",
      "[Muon, Muon]\n",
      "[[0.0863], [1.42]]\n",
      "\n",
      "\n",
      "[]\n",
      "[0.0568, 0.0568]\n",
      "[GenParticle, GenParticle]\n",
      "[Muon, Muon]\n",
      "[[0.0568, 0.0568], [0.0671, 0.0671]]\n",
      "\n",
      "\n",
      "[1]\n",
      "[0.000244]\n",
      "[GenParticle]\n",
      "[Muon, Muon]\n",
      "[[0.000244], [0.068]]\n",
      "\n",
      "\n",
      "[2]\n",
      "[0.02]\n",
      "[GenParticle]\n",
      "[Muon, Muon]\n",
      "[[0.0216], [0.02]]\n",
      "\n",
      "\n",
      "[2]\n",
      "[0.0313]\n",
      "[GenParticle]\n",
      "[Muon, Muon, Muon]\n",
      "[[0.0313], [0.0373], [2.74]]\n",
      "\n",
      "\n",
      "[1]\n",
      "[0.0381]\n",
      "[GenParticle]\n",
      "[Muon, Muon]\n",
      "[[0.0381], [0.0587]]\n",
      "\n",
      "\n",
      "[1]\n",
      "[0.0354]\n",
      "[GenParticle]\n",
      "[Muon]\n",
      "[[0.0354]]\n",
      "\n",
      "\n",
      "[]\n",
      "[0.185, 0.184]\n",
      "[GenParticle, GenParticle]\n",
      "[Muon, Muon]\n",
      "[[0.185, 0.184], [2.27, 2.27]]\n",
      "\n",
      "\n",
      "[]\n",
      "[0.108]\n",
      "[GenParticle]\n",
      "[Muon]\n",
      "[[0.108]]\n",
      "\n",
      "\n",
      "[]\n",
      "[0.0403, 0.0403]\n",
      "[GenParticle, GenParticle]\n",
      "[Muon]\n",
      "[[0.0403, 0.0403]]\n",
      "\n",
      "\n",
      "[1, 1]\n",
      "[0.00715, 0.00715]\n",
      "[GenParticle, GenParticle]\n",
      "[Muon]\n",
      "[[0.00715, 0.00715]]\n",
      "\n",
      "\n",
      "[1]\n",
      "[0.00611]\n",
      "[GenParticle]\n",
      "[Muon]\n",
      "[[0.00611]]\n",
      "\n",
      "\n",
      "[]\n",
      "[inf]\n",
      "[GenParticle]\n",
      "[]\n",
      "[]\n",
      "\n",
      "\n",
      "[]\n",
      "[inf, inf]\n",
      "[GenParticle, GenParticle]\n",
      "[]\n",
      "[]\n",
      "\n",
      "\n",
      "[]\n",
      "[0.0532]\n",
      "[GenParticle]\n",
      "[Muon]\n",
      "[[0.0532]]\n",
      "\n",
      "\n",
      "[]\n",
      "[0.0416, 2.7]\n",
      "[GenParticle, GenParticle]\n",
      "[Muon, Muon]\n",
      "[[0.0416, 2.7], [0.0427, 2.7]]\n",
      "\n",
      "\n",
      "[1]\n",
      "[0.0272]\n",
      "[GenParticle]\n",
      "[Muon]\n",
      "[[0.0272]]\n",
      "\n",
      "\n",
      "[]\n",
      "[inf]\n",
      "[GenParticle]\n",
      "[]\n",
      "[]\n",
      "\n",
      "\n",
      "[1]\n",
      "[0.00834]\n",
      "[GenParticle]\n",
      "[Muon, Muon]\n",
      "[[0.00834], [0.125]]\n",
      "\n",
      "\n",
      "[]\n",
      "[0.0457, 4.64]\n",
      "[GenParticle, GenParticle]\n",
      "[Muon, Muon]\n",
      "[[0.0457, 4.64], [0.0782, 4.66]]\n",
      "\n",
      "\n",
      "[1]\n",
      "[0.0132]\n",
      "[GenParticle]\n",
      "[Muon, Muon]\n",
      "[[0.0132], [0.29]]\n",
      "\n",
      "\n",
      "[1]\n",
      "[0.0316]\n",
      "[GenParticle]\n",
      "[Muon]\n",
      "[[0.0316]]\n",
      "\n",
      "\n",
      "[]\n",
      "[0.0463, 0.0463]\n",
      "[GenParticle, GenParticle]\n",
      "[Muon, Muon]\n",
      "[[0.0463, 0.0463], [0.0669, 0.0669]]\n",
      "\n",
      "\n",
      "[1]\n",
      "[0.0196]\n",
      "[GenParticle]\n",
      "[Muon, Muon]\n",
      "[[0.0522], [0.0196]]\n",
      "\n",
      "\n",
      "[]\n",
      "[0.0894, 0.0894]\n",
      "[GenParticle, GenParticle]\n",
      "[Muon, Muon]\n",
      "[[0.0894, 0.0894], [0.153, 0.153]]\n",
      "\n",
      "\n",
      "[2]\n",
      "[0.00971]\n",
      "[GenParticle]\n",
      "[Muon, Muon]\n",
      "[[0.0312], [0.00971]]\n",
      "\n",
      "\n",
      "[2]\n",
      "[0.0184, 4.94]\n",
      "[GenParticle, GenParticle]\n",
      "[Muon, Muon, Muon]\n",
      "[[0.0184, 4.94], [0.0286, 4.96], [3.33, 7.77]]\n",
      "\n",
      "\n",
      "[]\n",
      "[0.118]\n",
      "[GenParticle]\n",
      "[Muon, Muon, Muon]\n",
      "[[0.118], [0.19], [0.241]]\n",
      "\n",
      "\n",
      "[1]\n",
      "[0.0312]\n",
      "[GenParticle]\n",
      "[Muon]\n",
      "[[0.0312]]\n",
      "\n",
      "\n",
      "[]\n",
      "[0.0952, 4.41]\n",
      "[GenParticle, GenParticle]\n",
      "[Muon]\n",
      "[[0.0952, 4.41]]\n",
      "\n",
      "\n",
      "[1, 1]\n",
      "[0.0393, 0.0393]\n",
      "[GenParticle, GenParticle]\n",
      "[Muon, Muon, Muon]\n",
      "[[0.0393, 0.0393], [0.0984, 0.0984], [0.938, 0.938]]\n",
      "\n",
      "\n",
      "[]\n",
      "[0.0625, 0.0625, 0.0625, 0.0625]\n",
      "[GenParticle, GenParticle, GenParticle, GenParticle]\n",
      "[Muon]\n",
      "[[0.0625, 0.0625, 0.0625, 0.0625]]\n",
      "\n",
      "\n",
      "[]\n",
      "[0.0462, 0.0462]\n",
      "[GenParticle, GenParticle]\n",
      "[Muon]\n",
      "[[0.0462, 0.0462]]\n",
      "\n",
      "\n",
      "[]\n",
      "[0.0663, 0.0663]\n",
      "[GenParticle, GenParticle]\n",
      "[Muon, Muon]\n",
      "[[0.0683, 0.0683], [0.0663, 0.0663]]\n",
      "\n",
      "\n",
      "[1, 1, 1]\n",
      "[0.0341, 0.0341, 0.0341]\n",
      "[GenParticle, GenParticle, GenParticle]\n",
      "[Muon]\n",
      "[[0.0341, 0.0341, 0.0341]]\n",
      "\n",
      "\n",
      "[]\n",
      "[0.0758, 2.88]\n",
      "[GenParticle, GenParticle]\n",
      "[Muon, Muon]\n",
      "[[0.0758, 2.88], [2.57, 3.72]]\n",
      "\n",
      "\n",
      "[]\n",
      "[inf, inf]\n",
      "[GenParticle, GenParticle]\n",
      "[]\n",
      "[]\n",
      "\n",
      "\n",
      "[2]\n",
      "[0.0143]\n",
      "[GenParticle]\n",
      "[Muon, Muon]\n",
      "[[0.0332], [0.0143]]\n",
      "\n",
      "\n",
      "[1]\n",
      "[0.0286]\n",
      "[GenParticle]\n",
      "[Muon, Muon, Muon]\n",
      "[[0.0286], [0.0672], [2.04]]\n",
      "\n",
      "\n",
      "[2, 2]\n",
      "[0.00311, 0.00311]\n",
      "[GenParticle, GenParticle]\n",
      "[Muon, Muon]\n",
      "[[0.00774, 0.00774], [0.00311, 0.00311]]\n",
      "\n",
      "\n",
      "[1]\n",
      "[0.0321]\n",
      "[GenParticle]\n",
      "[Muon]\n",
      "[[0.0321]]\n",
      "\n",
      "\n",
      "[]\n",
      "[0.0528, 0.053]\n",
      "[GenParticle, GenParticle]\n",
      "[Muon]\n",
      "[[0.0528, 0.053]]\n",
      "\n",
      "\n",
      "[]\n",
      "[0.0494]\n",
      "[GenParticle]\n",
      "[Muon]\n",
      "[[0.0494]]\n",
      "\n",
      "\n",
      "[1]\n",
      "[0.00286]\n",
      "[GenParticle]\n",
      "[Muon]\n",
      "[[0.00286]]\n",
      "\n",
      "\n",
      "[1]\n",
      "[0.0283]\n",
      "[GenParticle]\n",
      "[Muon, Muon]\n",
      "[[0.0283], [0.168]]\n",
      "\n",
      "\n",
      "[1]\n",
      "[0.0176]\n",
      "[GenParticle]\n",
      "[Muon, Muon]\n",
      "[[0.0176], [0.134]]\n",
      "\n",
      "\n",
      "[1]\n",
      "[0.00456]\n",
      "[GenParticle]\n",
      "[Muon]\n",
      "[[0.00456]]\n",
      "\n",
      "\n",
      "[]\n",
      "[0.0625]\n",
      "[GenParticle]\n",
      "[Muon]\n",
      "[[0.0625]]\n",
      "\n",
      "\n",
      "[]\n",
      "[0.0614, 0.0614, 5.79, 3.04]\n",
      "[GenParticle, GenParticle, GenParticle, GenParticle]\n",
      "[Muon]\n",
      "[[0.0614, 0.0614, 5.79, 3.04]]\n",
      "\n",
      "\n",
      "[2]\n",
      "[0.0271]\n",
      "[GenParticle]\n",
      "[Muon, Muon, Muon]\n",
      "[[0.0366], [0.0271], [2.95]]\n",
      "\n",
      "\n",
      "[]\n",
      "[3.23, 3.23]\n",
      "[GenParticle, GenParticle]\n",
      "[Muon]\n",
      "[[3.23, 3.23]]\n",
      "\n",
      "\n",
      "[]\n",
      "[0.0422, 0.0422]\n",
      "[GenParticle, GenParticle]\n",
      "[Muon, Muon]\n",
      "[[0.0422, 0.0422], [2.76, 2.76]]\n",
      "\n",
      "\n",
      "[1]\n",
      "[0.00888]\n",
      "[GenParticle]\n",
      "[Muon, Muon]\n",
      "[[0.00888], [0.812]]\n",
      "\n",
      "\n",
      "[]\n",
      "[0.0409]\n",
      "[GenParticle]\n",
      "[Muon, Muon]\n",
      "[[0.0409], [3.18]]\n",
      "\n",
      "\n",
      "[]\n",
      "[inf]\n",
      "[GenParticle]\n",
      "[]\n",
      "[]\n",
      "\n",
      "\n",
      "[1]\n",
      "[0.0391]\n",
      "[GenParticle]\n",
      "[Muon]\n",
      "[[0.0391]]\n",
      "\n",
      "\n",
      "[2, 2, 2]\n",
      "[0.0129, 0.0129, 0.0129]\n",
      "[GenParticle, GenParticle, GenParticle]\n",
      "[Muon, Muon]\n",
      "[[0.0129, 0.0129, 0.0129], [0.0305, 0.0305, 0.0305]]\n",
      "\n",
      "\n",
      "[]\n",
      "[0.0564]\n",
      "[GenParticle]\n",
      "[Muon]\n",
      "[[0.0564]]\n",
      "\n",
      "\n",
      "[]\n",
      "[0.0427, 0.0427]\n",
      "[GenParticle, GenParticle]\n",
      "[Muon]\n",
      "[[0.0427, 0.0427]]\n",
      "\n",
      "\n",
      "[]\n",
      "[0.116, 0.116]\n",
      "[GenParticle, GenParticle]\n",
      "[Muon]\n",
      "[[0.116, 0.116]]\n",
      "\n",
      "\n",
      "[]\n",
      "[0.0496, 0.0496]\n",
      "[GenParticle, GenParticle]\n",
      "[Muon]\n",
      "[[0.0496, 0.0496]]\n",
      "\n",
      "\n",
      "[]\n",
      "[0.0543, 0.0543, 0.978]\n",
      "[GenParticle, GenParticle, GenParticle]\n",
      "[Muon, Muon]\n",
      "[[0.0543, 0.0543, 1.64], [0.682, 0.682, 0.978]]\n",
      "\n",
      "\n",
      "[1, 1]\n",
      "[0.0212, 0.0212]\n",
      "[GenParticle, GenParticle]\n",
      "[Muon]\n",
      "[[0.0212, 0.0212]]\n",
      "\n",
      "\n",
      "[1]\n",
      "[0.00491]\n",
      "[GenParticle]\n",
      "[Muon]\n",
      "[[0.00491]]\n",
      "\n",
      "\n",
      "[1]\n",
      "[0.00267]\n",
      "[GenParticle]\n",
      "[Muon]\n",
      "[[0.00267]]\n",
      "\n",
      "\n",
      "[]\n",
      "[0.0465]\n",
      "[GenParticle]\n",
      "[Muon]\n",
      "[[0.0465]]\n",
      "\n",
      "\n",
      "[1, 1]\n",
      "[0.0373, 0.0373]\n",
      "[GenParticle, GenParticle]\n",
      "[Muon]\n",
      "[[0.0373, 0.0373]]\n",
      "\n",
      "\n",
      "[1]\n",
      "[0.0232]\n",
      "[GenParticle]\n",
      "[Muon]\n",
      "[[0.0232]]\n",
      "\n",
      "\n",
      "[]\n",
      "[0.0843, 0.0843, 3.67]\n",
      "[GenParticle, GenParticle, GenParticle]\n",
      "[Muon]\n",
      "[[0.0843, 0.0843, 3.67]]\n",
      "\n",
      "\n",
      "[1, 1]\n",
      "[0.00127, 0.00127]\n",
      "[GenParticle, GenParticle]\n",
      "[Muon, Muon]\n",
      "[[0.00127, 0.00127], [0.0523, 0.0523]]\n",
      "\n",
      "\n",
      "[]\n",
      "[inf, inf]\n",
      "[GenParticle, GenParticle]\n",
      "[]\n",
      "[]\n",
      "\n",
      "\n",
      "[1, 1]\n",
      "[0.00302, 0.00302]\n",
      "[GenParticle, GenParticle]\n",
      "[Muon, Muon]\n",
      "[[0.00302, 0.00302], [0.0649, 0.0649]]\n",
      "\n",
      "\n",
      "[1]\n",
      "[0.00786]\n",
      "[GenParticle]\n",
      "[Muon, Muon]\n",
      "[[0.00786], [0.0413]]\n",
      "\n",
      "\n",
      "[]\n",
      "[0.247, 1.78]\n",
      "[GenParticle, GenParticle]\n",
      "[Muon, Muon]\n",
      "[[0.247, 1.78], [2.88, 2.9]]\n",
      "\n",
      "\n",
      "[]\n",
      "[1.11]\n",
      "[GenParticle]\n",
      "[Muon, Muon]\n",
      "[[3.2], [1.11]]\n",
      "\n",
      "\n",
      "[1]\n",
      "[0.0205]\n",
      "[GenParticle]\n",
      "[Muon]\n",
      "[[0.0205]]\n",
      "\n",
      "\n",
      "[1, 1]\n",
      "[0.0294, 0.0294, 4.58]\n",
      "[GenParticle, GenParticle, GenParticle]\n",
      "[Muon, Muon]\n",
      "[[0.0619, 0.0619, 4.6], [0.0294, 0.0294, 4.58]]\n",
      "\n",
      "\n",
      "[]\n",
      "[0.0937, 0.0937, 3.82]\n",
      "[GenParticle, GenParticle, GenParticle]\n",
      "[Muon, Muon]\n",
      "[[0.0937, 0.0937, 3.82], [3.21, 3.21, 5.53]]\n",
      "\n",
      "\n",
      "[]\n",
      "[0.0975]\n",
      "[GenParticle]\n",
      "[Muon]\n",
      "[[0.0975]]\n",
      "\n",
      "\n",
      "[1]\n",
      "[0.00675]\n",
      "[GenParticle]\n",
      "[Muon]\n",
      "[[0.00675]]\n",
      "\n",
      "\n",
      "[1, 1, 1]\n",
      "[0.00932, 0.00932, 0.00932]\n",
      "[GenParticle, GenParticle, GenParticle]\n",
      "[Muon, Muon]\n",
      "[[0.00932, 0.00932, 0.00932], [0.106, 0.106, 0.106]]\n",
      "\n",
      "\n",
      "[]\n",
      "[0.0763]\n",
      "[GenParticle]\n",
      "[Muon, Muon]\n",
      "[[2.34], [0.0763]]\n",
      "\n",
      "\n",
      "[1]\n",
      "[0.0363]\n",
      "[GenParticle]\n",
      "[Muon, Muon]\n",
      "[[0.0363], [0.0856]]\n",
      "\n",
      "\n",
      "[]\n",
      "[0.064]\n",
      "[GenParticle]\n",
      "[Muon, Muon]\n",
      "[[0.064], [0.0708]]\n",
      "\n",
      "\n",
      "[]\n",
      "[0.127, 0.127]\n",
      "[GenParticle, GenParticle]\n",
      "[Muon]\n",
      "[[0.127, 0.127]]\n",
      "\n",
      "\n",
      "[1, 1]\n",
      "[0.00857, 0.00857]\n",
      "[GenParticle, GenParticle]\n",
      "[Muon]\n",
      "[[0.00857, 0.00857]]\n",
      "\n",
      "\n",
      "[1]\n",
      "[0.00696]\n",
      "[GenParticle]\n",
      "[Muon]\n",
      "[[0.00696]]\n",
      "\n",
      "\n",
      "[]\n",
      "[0.499, 0.499]\n",
      "[GenParticle, GenParticle]\n",
      "[Muon]\n",
      "[[0.499, 0.499]]\n",
      "\n",
      "\n",
      "[1]\n",
      "[0.0391]\n",
      "[GenParticle]\n",
      "[Muon]\n",
      "[[0.0391]]\n",
      "\n",
      "\n",
      "[1, 1]\n",
      "[0.00689, 0.00689]\n",
      "[GenParticle, GenParticle]\n",
      "[Muon, Muon]\n",
      "[[0.00689, 0.00689], [0.0563, 0.0563]]\n",
      "\n",
      "\n",
      "[]\n",
      "[inf, inf]\n",
      "[GenParticle, GenParticle]\n",
      "[]\n",
      "[]\n",
      "\n",
      "\n",
      "[]\n",
      "[inf, inf, inf]\n",
      "[GenParticle, GenParticle, GenParticle]\n",
      "[]\n",
      "[]\n",
      "\n",
      "\n",
      "[]\n",
      "[0.0435]\n",
      "[GenParticle]\n",
      "[Muon]\n",
      "[[0.0435]]\n",
      "\n",
      "\n"
     ]
    }
   ],
   "source": [
    "my_array = utilities.numClose(obj2,obj1,0.04)\n",
    "table = obj1.metric_table(obj2)\n",
    "#count_array = ak.where(ak.num(count_array) == 0, 0, count_array)\n",
    "#print(count_array)\n",
    "for j in range(100):\n",
    "    print(my_array[j])\n",
    "    print(utilities.dR(obj2,obj1)[j])\n",
    "    print(obj2[j])\n",
    "    print(obj1[j])\n",
    "    print(table[j])\n",
    "    print(\"\\n\")"
   ]
  },
  {
   "cell_type": "code",
   "execution_count": null,
   "id": "a5026540-48cf-40ff-8bff-566136446765",
   "metadata": {},
   "outputs": [],
   "source": []
  }
 ],
 "metadata": {
  "kernelspec": {
   "display_name": "Python 3 (ipykernel)",
   "language": "python",
   "name": "python3"
  },
  "language_info": {
   "codemirror_mode": {
    "name": "ipython",
    "version": 3
   },
   "file_extension": ".py",
   "mimetype": "text/x-python",
   "name": "python",
   "nbconvert_exporter": "python",
   "pygments_lexer": "ipython3",
   "version": "3.10.14"
  }
 },
 "nbformat": 4,
 "nbformat_minor": 5
}
