{
 "cells": [
  {
   "cell_type": "code",
   "execution_count": 4,
   "id": "f69faf8a-a712-4d71-a610-feee40fb8529",
   "metadata": {
    "tags": []
   },
   "outputs": [
    {
     "name": "stderr",
     "output_type": "stream",
     "text": [
      "/tmp/ipykernel_466/1657378464.py:6: DeprecationWarning: NanoEventsFactory.from_root() behavior has changed.\n",
      "    The default behavior is that now it reads the input root file using\n",
      "    the newly developed virtual arrays backend of awkward instead of dask.\n",
      "    The backend choice is controlled by the `mode` argument of the method\n",
      "    which can be set to \"eager\", \"virtual\", or \"dask\".\n",
      "    The new default is \"virtual\" while the `delayed` argument has been removed.\n",
      "    The old `delayed=True` is now equivalent to `mode=\"dask\"`.\n",
      "    The old `delayed=False` is now equivalent to `mode=\"eager\"`.\n",
      "    \n",
      "  from coffea.nanoevents import NanoAODSchema\n"
     ]
    }
   ],
   "source": [
    "# python\n",
    "import os\n",
    "import sys\n",
    "import importlib\n",
    "# columnar analysis\n",
    "from coffea.nanoevents import NanoAODSchema\n",
    "from coffea import processor\n",
    "# local\n",
    "sidm_path = str(os.getcwd()).split(\"/sidm\")[0]\n",
    "if sidm_path not in sys.path: sys.path.insert(1, sidm_path)\n",
    "from sidm.tools import sidm_processor, utilities\n",
    "# always reload local modules to pick up changes during development\n",
    "importlib.reload(sidm_processor)\n",
    "importlib.reload(utilities)\n",
    "# plotting\n",
    "import matplotlib.pyplot as plt\n",
    "utilities.set_plot_style()"
   ]
  },
  {
   "cell_type": "code",
   "execution_count": 5,
   "id": "6adc2793-ac8f-41cd-8bb0-4514c03e823b",
   "metadata": {
    "tags": []
   },
   "outputs": [],
   "source": [
    "channels = [\n",
    "    \"baseNoLjNoLjsource\",\n",
    "    \"baseNoLj\",\n",
    "    \"base\",\n",
    "    \"2mu2e\",\n",
    "    \"4mu\",\n",
    "]"
   ]
  },
  {
   "cell_type": "code",
   "execution_count": 7,
   "id": "6af2029b-48c2-42a9-8d3a-cd50f3cecfb0",
   "metadata": {
    "tags": []
   },
   "outputs": [
    {
     "name": "stdout",
     "output_type": "stream",
     "text": [
      "baseNoLjNoLjsource\n",
      "  obj cuts\n",
      "    genMus: ['status 1']\n",
      "    genEs: ['status 1']\n",
      "  post-LJ obj cuts\n",
      "    None\n",
      "  event cuts\n",
      "    [{'evt_cuts': ['pass triggers']}, ['PV filter']]\n",
      "baseNoLj\n",
      "  obj cuts\n",
      "    genMus: ['status 1']\n",
      "    genEs: ['status 1']\n",
      "    electrons: ['pT > 10 GeV', '|eta| < 2.4', 'MVANonIsoWPL']\n",
      "    muons: ['looseID', 'pT > 5 GeV', '|eta| < 2.4']\n",
      "    photons: ['pT > 20 GeV', '|eta| < 2.5', 'Custom Cutbased', 'pixelSeed', 'Photon DR Veto 0p025']\n",
      "    dsaMuons: ['pT > 10 GeV', '|eta| < 2.4', 'displaced ID', 'dR(dsa, pf) > 0.2']\n",
      "  post-LJ obj cuts\n",
      "    None\n",
      "  event cuts\n",
      "    [[{'evt_cuts': ['pass triggers']}, ['PV filter']]]\n",
      "base\n",
      "  obj cuts\n",
      "    genMus: ['status 1']\n",
      "    genEs: ['status 1']\n",
      "    electrons: ['pT > 10 GeV', '|eta| < 2.4', 'MVANonIsoWPL']\n",
      "    muons: ['looseID', 'pT > 5 GeV', '|eta| < 2.4']\n",
      "    photons: ['pT > 20 GeV', '|eta| < 2.5', 'Custom Cutbased', 'pixelSeed', 'Photon DR Veto 0p025']\n",
      "    dsaMuons: ['pT > 10 GeV', '|eta| < 2.4', 'displaced ID', 'dR(dsa, pf) > 0.2']\n",
      "  post-LJ obj cuts\n",
      "    ljs: ['pT > 30 GeV', '|eta| < 2.4', 'mu_charge == 0']\n",
      "  event cuts\n",
      "    [[[{'evt_cuts': ['pass triggers']}, ['PV filter']]], '>=2 LJs']\n",
      "2mu2e\n",
      "  obj cuts\n",
      "    genMus: ['status 1']\n",
      "    genEs: ['status 1']\n",
      "    electrons: ['pT > 10 GeV', '|eta| < 2.4', 'MVANonIsoWPL']\n",
      "    muons: ['looseID', 'pT > 5 GeV', '|eta| < 2.4']\n",
      "    photons: ['pT > 20 GeV', '|eta| < 2.5', 'Custom Cutbased', 'pixelSeed', 'Photon DR Veto 0p025']\n",
      "    dsaMuons: ['pT > 10 GeV', '|eta| < 2.4', 'displaced ID', 'dR(dsa, pf) > 0.2']\n",
      "  post-LJ obj cuts\n",
      "    ljs: ['pT > 30 GeV', '|eta| < 2.4', 'mu_charge == 0']\n",
      "  event cuts\n",
      "    [[[[{'evt_cuts': ['pass triggers']}, ['PV filter']]], '>=2 LJs'], '2mu2e']\n",
      "4mu\n",
      "  obj cuts\n",
      "    genMus: ['status 1']\n",
      "    genEs: ['status 1']\n",
      "    electrons: ['pT > 10 GeV', '|eta| < 2.4', 'MVANonIsoWPL']\n",
      "    muons: ['looseID', 'pT > 5 GeV', '|eta| < 2.4']\n",
      "    photons: ['pT > 20 GeV', '|eta| < 2.5', 'Custom Cutbased', 'pixelSeed', 'Photon DR Veto 0p025']\n",
      "    dsaMuons: ['pT > 10 GeV', '|eta| < 2.4', 'displaced ID', 'dR(dsa, pf) > 0.2']\n",
      "  post-LJ obj cuts\n",
      "    ljs: ['pT > 30 GeV', '|eta| < 2.4', 'mu_charge == 0']\n",
      "  event cuts\n",
      "    [[[[{'evt_cuts': ['pass triggers']}, ['PV filter']]], '>=2 LJs'], '4mu']\n"
     ]
    }
   ],
   "source": [
    "selections_menu = utilities.load_yaml(f\"{sidm_path}/sidm/configs/selections.yaml\")\n",
    "for ch in channels:\n",
    "    print(ch)\n",
    "    sel = selections_menu[ch]\n",
    "    print(\"  obj cuts\")\n",
    "    for obj, cuts in sel[\"obj_cuts\"].items():\n",
    "        print(f\"    {obj}: {cuts}\")\n",
    "    print(\"  post-LJ obj cuts\")\n",
    "    if \"postLj_obj_cuts\" in sel:\n",
    "        for obj, cuts in sel[\"postLj_obj_cuts\"].items():\n",
    "            print(f\"    {obj}: {cuts}\")\n",
    "    else:\n",
    "        print(\"    None\")\n",
    "    print(\"  event cuts\")\n",
    "    if \"evt_cuts\" in sel:\n",
    "        print(f\"    {sel['evt_cuts']}\")\n",
    "    else:\n",
    "        print(\"    None\")\n"
   ]
  },
  {
   "cell_type": "code",
   "execution_count": 4,
   "id": "d67db205-7dc5-42b8-b10c-e6e7cbc7602a",
   "metadata": {
    "tags": []
   },
   "outputs": [
    {
     "data": {
      "application/vnd.jupyter.widget-view+json": {
       "model_id": "657239dfebe74ecf961ab64877c7cc44",
       "version_major": 2,
       "version_minor": 0
      },
      "text/plain": [
       "Output()"
      ]
     },
     "metadata": {},
     "output_type": "display_data"
    },
    {
     "data": {
      "text/html": [
       "<pre style=\"white-space:pre;overflow-x:auto;line-height:normal;font-family:Menlo,'DejaVu Sans Mono',consolas,'Courier New',monospace\"></pre>\n"
      ],
      "text/plain": []
     },
     "metadata": {},
     "output_type": "display_data"
    },
    {
     "data": {
      "application/vnd.jupyter.widget-view+json": {
       "model_id": "2e107fee1d954ac2b08ce1902919028d",
       "version_major": 2,
       "version_minor": 0
      },
      "text/plain": [
       "Output()"
      ]
     },
     "metadata": {},
     "output_type": "display_data"
    },
    {
     "data": {
      "text/html": [
       "<pre style=\"white-space:pre;overflow-x:auto;line-height:normal;font-family:Menlo,'DejaVu Sans Mono',consolas,'Courier New',monospace\">/usr/local/lib/python3.12/site-packages/coffea/nanoevents/schemas/nanoaod.py:264: RuntimeWarning: Missing \n",
       "cross-reference index for LowPtElectron_electronIdx =&gt; Electron\n",
       "  warnings.warn(\n",
       "</pre>\n"
      ],
      "text/plain": [
       "/usr/local/lib/python3.12/site-packages/coffea/nanoevents/schemas/nanoaod.py:264: RuntimeWarning: Missing \n",
       "cross-reference index for LowPtElectron_electronIdx => Electron\n",
       "  warnings.warn(\n"
      ]
     },
     "metadata": {},
     "output_type": "display_data"
    },
    {
     "data": {
      "text/html": [
       "<pre style=\"white-space:pre;overflow-x:auto;line-height:normal;font-family:Menlo,'DejaVu Sans Mono',consolas,'Courier New',monospace\">/usr/local/lib/python3.12/site-packages/coffea/nanoevents/schemas/nanoaod.py:264: RuntimeWarning: Missing \n",
       "cross-reference index for LowPtElectron_photonIdx =&gt; Photon\n",
       "  warnings.warn(\n",
       "</pre>\n"
      ],
      "text/plain": [
       "/usr/local/lib/python3.12/site-packages/coffea/nanoevents/schemas/nanoaod.py:264: RuntimeWarning: Missing \n",
       "cross-reference index for LowPtElectron_photonIdx => Photon\n",
       "  warnings.warn(\n"
      ]
     },
     "metadata": {},
     "output_type": "display_data"
    },
    {
     "data": {
      "text/html": [
       "<pre style=\"white-space:pre;overflow-x:auto;line-height:normal;font-family:Menlo,'DejaVu Sans Mono',consolas,'Courier New',monospace\">/usr/local/lib/python3.12/site-packages/awkward/_nplikes/array_module.py:292: RuntimeWarning: invalid value \n",
       "encountered in divide\n",
       "  return impl(*broadcasted_args, **(kwargs or {}))\n",
       "</pre>\n"
      ],
      "text/plain": [
       "/usr/local/lib/python3.12/site-packages/awkward/_nplikes/array_module.py:292: RuntimeWarning: invalid value \n",
       "encountered in divide\n",
       "  return impl(*broadcasted_args, **(kwargs or {}))\n"
      ]
     },
     "metadata": {},
     "output_type": "display_data"
    },
    {
     "name": "stdout",
     "output_type": "stream",
     "text": [
      "#--------------------------------------------------------------------------\n",
      "#                         FastJet release 3.4.3\n",
      "#                 M. Cacciari, G.P. Salam and G. Soyez                  \n",
      "#     A software package for jet finding and analysis at colliders      \n",
      "#                           http://fastjet.fr                           \n",
      "#\t                                                                      \n",
      "# Please cite EPJC72(2012)1896 [arXiv:1111.6097] if you use this package\n",
      "# for scientific work and optionally PLB641(2006)57 [hep-ph/0512210].   \n",
      "#                                                                       \n",
      "# FastJet is provided without warranty under the GNU GPL v2 or higher.  \n",
      "# It uses T. Chan's closest pair algorithm, S. Fortune's Voronoi code,\n",
      "# CGAL and 3rd party plugin jet algorithms. See COPYING file for details.\n",
      "#--------------------------------------------------------------------------\n"
     ]
    },
    {
     "data": {
      "text/html": [
       "<pre style=\"white-space:pre;overflow-x:auto;line-height:normal;font-family:Menlo,'DejaVu Sans Mono',consolas,'Courier New',monospace\"></pre>\n"
      ],
      "text/plain": []
     },
     "metadata": {},
     "output_type": "display_data"
    },
    {
     "name": "stdout",
     "output_type": "stream",
     "text": [
      "Signal not in xs cfg, assuming 1fb\n"
     ]
    }
   ],
   "source": [
    "samples = [\n",
    "    '2Mu2E_500GeV_5p0GeV_8p0mm',\n",
    "]\n",
    "fileset = utilities.make_fileset(samples, \"llpNanoAOD_v2\", max_files=1, location_cfg=\"signal_2mu2e_v10.yaml\")\n",
    "\n",
    "runner = processor.Runner(\n",
    "    executor=processor.IterativeExecutor(),\n",
    "    schema=NanoAODSchema,\n",
    "    maxchunks=1,\n",
    "    skipbadfiles=True\n",
    ")\n",
    "\n",
    "p = sidm_processor.SidmProcessor(\n",
    "    channels,\n",
    "    [\"muon_base\"],\n",
    "    #verbose=True,\n",
    ")\n",
    "\n",
    "output = runner.run(fileset, treename='Events', processor_instance=p)\n",
    "out = output[\"out\"]"
   ]
  },
  {
   "cell_type": "code",
   "execution_count": 5,
   "id": "31b6a93d-4c1e-4e19-8049-03f972d1d280",
   "metadata": {
    "tags": []
   },
   "outputs": [
    {
     "name": "stdout",
     "output_type": "stream",
     "text": [
      "baseNoLjNoLjsource\n",
      "cut name         individual cut N    all cut N\n",
      "-------------  ------------------  -----------\n",
      "No selection                 59.8         59.8\n",
      "pass triggers                22.4         22.4\n",
      "PV filter                    59.8         22.4\n",
      "\n",
      "baseNoLj\n",
      "cut name         individual cut N    all cut N\n",
      "-------------  ------------------  -----------\n",
      "No selection                 59.8         59.8\n",
      "pass triggers                22.4         22.4\n",
      "PV filter                    59.8         22.4\n",
      "\n",
      "base\n",
      "cut name         individual cut N    all cut N\n",
      "-------------  ------------------  -----------\n",
      "No selection                 59.8         59.8\n",
      "pass triggers                22.4         22.4\n",
      "PV filter                    59.8         22.4\n",
      ">=2 LJs                      31.2         14.2\n",
      "\n",
      "2mu2e\n",
      "cut name         individual cut N    all cut N\n",
      "-------------  ------------------  -----------\n",
      "No selection                 59.8         59.8\n",
      "pass triggers                22.4         22.4\n",
      "PV filter                    59.8         22.4\n",
      ">=2 LJs                      31.2         14.2\n",
      "2mu2e                        31.0         14.1\n",
      "\n",
      "4mu\n",
      "cut name         individual cut N    all cut N\n",
      "-------------  ------------------  -----------\n",
      "No selection                 59.8         59.8\n",
      "pass triggers                22.4         22.4\n",
      "PV filter                    59.8         22.4\n",
      ">=2 LJs                      31.2         14.2\n",
      "4mu                           0.0          0.0\n",
      "\n"
     ]
    }
   ],
   "source": [
    "for ch in channels:\n",
    "    print(ch)\n",
    "    out[samples[0]][\"cutflow\"][ch].print_table()\n",
    "    print()\n"
   ]
  },
  {
   "cell_type": "code",
   "execution_count": 6,
   "id": "21131f58-d6d7-42f6-80d8-77dae8727e5a",
   "metadata": {},
   "outputs": [
    {
     "name": "stdout",
     "output_type": "stream",
     "text": [
      "baseNoLjNoLjsource\n",
      "{'0.4': {'baseNoLjNoLjsource': {'Total LJs': 5663, 'Gen As to muons': 1633, 'Gen As to electrons': 1633, 'Matched gen As to muons': 1632, 'Matched gen As to electrons': 1585}, 'baseNoLj': {'Total LJs': 3090, 'Gen As to muons': 1633, 'Gen As to electrons': 1633, 'Matched gen As to muons': 1610, 'Matched gen As to electrons': 1398}, 'base': {'Total LJs': 2079, 'Gen As to muons': 1034, 'Gen As to electrons': 1034, 'Matched gen As to muons': 1030, 'Matched gen As to electrons': 1034}, '2mu2e': {'Total LJs': 2066, 'Gen As to muons': 1028, 'Gen As to electrons': 1028, 'Matched gen As to muons': 1028, 'Matched gen As to electrons': 1028}, '4mu': {'Total LJs': 2, 'Gen As to muons': 1, 'Gen As to electrons': 1, 'Matched gen As to muons': 1, 'Matched gen As to electrons': 1}}}\n",
      "\n",
      "baseNoLj\n",
      "{'0.4': {'baseNoLjNoLjsource': {'Total LJs': 5663, 'Gen As to muons': 1633, 'Gen As to electrons': 1633, 'Matched gen As to muons': 1632, 'Matched gen As to electrons': 1585}, 'baseNoLj': {'Total LJs': 3090, 'Gen As to muons': 1633, 'Gen As to electrons': 1633, 'Matched gen As to muons': 1610, 'Matched gen As to electrons': 1398}, 'base': {'Total LJs': 2079, 'Gen As to muons': 1034, 'Gen As to electrons': 1034, 'Matched gen As to muons': 1030, 'Matched gen As to electrons': 1034}, '2mu2e': {'Total LJs': 2066, 'Gen As to muons': 1028, 'Gen As to electrons': 1028, 'Matched gen As to muons': 1028, 'Matched gen As to electrons': 1028}, '4mu': {'Total LJs': 2, 'Gen As to muons': 1, 'Gen As to electrons': 1, 'Matched gen As to muons': 1, 'Matched gen As to electrons': 1}}}\n",
      "\n",
      "base\n",
      "{'0.4': {'baseNoLjNoLjsource': {'Total LJs': 5663, 'Gen As to muons': 1633, 'Gen As to electrons': 1633, 'Matched gen As to muons': 1632, 'Matched gen As to electrons': 1585}, 'baseNoLj': {'Total LJs': 3090, 'Gen As to muons': 1633, 'Gen As to electrons': 1633, 'Matched gen As to muons': 1610, 'Matched gen As to electrons': 1398}, 'base': {'Total LJs': 2079, 'Gen As to muons': 1034, 'Gen As to electrons': 1034, 'Matched gen As to muons': 1030, 'Matched gen As to electrons': 1034}, '2mu2e': {'Total LJs': 2066, 'Gen As to muons': 1028, 'Gen As to electrons': 1028, 'Matched gen As to muons': 1028, 'Matched gen As to electrons': 1028}, '4mu': {'Total LJs': 2, 'Gen As to muons': 1, 'Gen As to electrons': 1, 'Matched gen As to muons': 1, 'Matched gen As to electrons': 1}}}\n",
      "\n",
      "2mu2e\n",
      "{'0.4': {'baseNoLjNoLjsource': {'Total LJs': 5663, 'Gen As to muons': 1633, 'Gen As to electrons': 1633, 'Matched gen As to muons': 1632, 'Matched gen As to electrons': 1585}, 'baseNoLj': {'Total LJs': 3090, 'Gen As to muons': 1633, 'Gen As to electrons': 1633, 'Matched gen As to muons': 1610, 'Matched gen As to electrons': 1398}, 'base': {'Total LJs': 2079, 'Gen As to muons': 1034, 'Gen As to electrons': 1034, 'Matched gen As to muons': 1030, 'Matched gen As to electrons': 1034}, '2mu2e': {'Total LJs': 2066, 'Gen As to muons': 1028, 'Gen As to electrons': 1028, 'Matched gen As to muons': 1028, 'Matched gen As to electrons': 1028}, '4mu': {'Total LJs': 2, 'Gen As to muons': 1, 'Gen As to electrons': 1, 'Matched gen As to muons': 1, 'Matched gen As to electrons': 1}}}\n",
      "\n",
      "4mu\n",
      "{'0.4': {'baseNoLjNoLjsource': {'Total LJs': 5663, 'Gen As to muons': 1633, 'Gen As to electrons': 1633, 'Matched gen As to muons': 1632, 'Matched gen As to electrons': 1585}, 'baseNoLj': {'Total LJs': 3090, 'Gen As to muons': 1633, 'Gen As to electrons': 1633, 'Matched gen As to muons': 1610, 'Matched gen As to electrons': 1398}, 'base': {'Total LJs': 2079, 'Gen As to muons': 1034, 'Gen As to electrons': 1034, 'Matched gen As to muons': 1030, 'Matched gen As to electrons': 1034}, '2mu2e': {'Total LJs': 2066, 'Gen As to muons': 1028, 'Gen As to electrons': 1028, 'Matched gen As to muons': 1028, 'Matched gen As to electrons': 1028}, '4mu': {'Total LJs': 2, 'Gen As to muons': 1, 'Gen As to electrons': 1, 'Matched gen As to muons': 1, 'Matched gen As to electrons': 1}}}\n",
      "\n"
     ]
    }
   ],
   "source": [
    "for ch in channels:\n",
    "    print(ch)\n",
    "    print(out[samples[0]][\"counters\"])\n",
    "    print()"
   ]
  },
  {
   "cell_type": "code",
   "execution_count": null,
   "id": "a26840af-3cc2-4b68-8015-20eaf5ec6fa5",
   "metadata": {},
   "outputs": [],
   "source": []
  }
 ],
 "metadata": {
  "kernelspec": {
   "display_name": "Python 3 (ipykernel)",
   "language": "python",
   "name": "python3"
  },
  "language_info": {
   "codemirror_mode": {
    "name": "ipython",
    "version": 3
   },
   "file_extension": ".py",
   "mimetype": "text/x-python",
   "name": "python",
   "nbconvert_exporter": "python",
   "pygments_lexer": "ipython3",
   "version": "3.12.5"
  }
 },
 "nbformat": 4,
 "nbformat_minor": 5
}
