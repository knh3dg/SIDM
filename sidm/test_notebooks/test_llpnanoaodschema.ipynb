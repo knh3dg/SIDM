{
 "cells": [
  {
   "cell_type": "markdown",
   "id": "8fbf1da5-c8f1-4a8c-bbbb-cb4d3a27f804",
   "metadata": {},
   "source": [
    "# Test dsa <-> PF muon cross references\n",
    "\n",
    "The goal is to be able to access the DSA muons matched to PF muons (and vice versa). \n",
    "\n",
    "Running on Coffea2025.5.0.rc2 build (release candidate).\n",
    "\n",
    "This notebook shows how to access the matched muons and how to check if the selections are applied. \n",
    "\n",
    "*NOTE:* Right now, the code only works if you comment out [these lines](https://github.com/scikit-hep/coffea/blob/539c4b58961b7bae86038caf67f1c7db83dded3a/coffea/nanoevents/transforms.py#L129-L130) in your local coffea install (found at /usr/local/lib/python3.12/site-packages/coffea/nanoevents/transforms.py). In the future, we'll use [our own fork of coffea](https://github.com/cms-sidm/coffea) with these changes applied. In the farther future, we'll update these variables in the next round of LLPNanoAOD production to be ints rather than floats.\n"
   ]
  },
  {
   "cell_type": "markdown",
   "id": "6eec4001-ec5a-46c5-9254-5cf21f6fb9c8",
   "metadata": {},
   "source": [
    "## Test with NanoEventsFactory\n",
    "\n",
    "First we'll open a single file and investigate it with NanoEventsFactory using the new schema"
   ]
  },
  {
   "cell_type": "code",
   "execution_count": 1,
   "id": "15b5b5e5-bc5a-478f-8772-356eb0d90338",
   "metadata": {},
   "outputs": [
    {
     "name": "stderr",
     "output_type": "stream",
     "text": [
      "/tmp/ipykernel_3565/2607151500.py:8: DeprecationWarning: NanoEventsFactory.from_root() behavior has changed.\n",
      "    The default behavior is that now it reads the input root file using\n",
      "    the newly developed virtual arrays backend of awkward instead of dask.\n",
      "    The backend choice is controlled by the `mode` argument of the method\n",
      "    which can be set to \"eager\", \"virtual\", or \"dask\".\n",
      "    The new default is \"virtual\" while the `delayed` argument has been removed.\n",
      "    The old `delayed=True` is now equivalent to `mode=\"dask\"`.\n",
      "    The old `delayed=False` is now equivalent to `mode=\"eager\"`.\n",
      "    \n",
      "  from coffea.nanoevents import NanoEventsFactory, NanoAODSchema\n"
     ]
    },
    {
     "data": {
      "text/plain": [
       "<module 'sidm.tools.utilities' from '/home/cms-jovyan/SIDM_forks_2025/dsaMatching_clean/SIDM/sidm/tools/utilities.py'>"
      ]
     },
     "execution_count": 1,
     "metadata": {},
     "output_type": "execute_result"
    }
   ],
   "source": [
    "# python\n",
    "import awkward as ak\n",
    "#import numpy as np\n",
    "import sys\n",
    "import os\n",
    "import importlib\n",
    "# columnar analysis\n",
    "from coffea.nanoevents import NanoEventsFactory, NanoAODSchema\n",
    "from coffea import processor\n",
    "# local\n",
    "sidm_path = str(os.getcwd()).split(\"/sidm\")[0]\n",
    "if sidm_path not in sys.path: sys.path.insert(1, sidm_path)\n",
    "from sidm.tools import llpnanoaodschema\n",
    "from sidm.tools import utilities\n",
    "# always reload local modules to pick up changes during development\n",
    "importlib.reload(llpnanoaodschema)\n",
    "importlib.reload(utilities)"
   ]
  },
  {
   "cell_type": "code",
   "execution_count": 2,
   "id": "30df8032-ffbc-4a4d-a10c-e15f829d8997",
   "metadata": {},
   "outputs": [],
   "source": [
    "samples = [\n",
    "    '2Mu2E_500GeV_5p0GeV_8p0mm',\n",
    "]\n",
    "fileset = utilities.make_fileset(samples, \"llpNanoAOD_v2\", max_files=1, location_cfg=\"signal_2mu2e_v10.yaml\")\n",
    "fname = fileset[samples[0]][\"files\"][0]"
   ]
  },
  {
   "cell_type": "code",
   "execution_count": 3,
   "id": "f1edad05-48b2-4391-a58c-7bdfbebd665b",
   "metadata": {},
   "outputs": [
    {
     "name": "stderr",
     "output_type": "stream",
     "text": [
      "/usr/local/lib/python3.12/site-packages/coffea/nanoevents/schemas/nanoaod.py:264: RuntimeWarning: Missing cross-reference index for LowPtElectron_electronIdx => Electron\n",
      "  warnings.warn(\n",
      "/usr/local/lib/python3.12/site-packages/coffea/nanoevents/schemas/nanoaod.py:264: RuntimeWarning: Missing cross-reference index for LowPtElectron_photonIdx => Photon\n",
      "  warnings.warn(\n"
     ]
    }
   ],
   "source": [
    "factory_llp = NanoEventsFactory.from_root(\n",
    "    {fname: \"Events\"},\n",
    "    schemaclass=llpnanoaodschema.LLPNanoAODSchema,\n",
    ")"
   ]
  },
  {
   "cell_type": "code",
   "execution_count": 4,
   "id": "49f667ce-f4fa-4bd2-b96a-a52fd761728c",
   "metadata": {},
   "outputs": [],
   "source": [
    "events_llp = factory_llp.events()"
   ]
  },
  {
   "cell_type": "markdown",
   "id": "eb78e174-e500-4c64-ba71-8a92dc23e91d",
   "metadata": {},
   "source": [
    "Check if matched_muons is included in the DSAMuon collection and matched_dsa_muons is included in the Muon collection"
   ]
  },
  {
   "cell_type": "code",
   "execution_count": 5,
   "id": "740f3700-6b67-4d56-921f-e52773427801",
   "metadata": {},
   "outputs": [
    {
     "name": "stdout",
     "output_type": "stream",
     "text": [
      "Matched variables for DSAMuons:  ['matched_muons']\n",
      "Matched variables for Muons:  ['matched_dsa_muons']\n"
     ]
    }
   ],
   "source": [
    "pf = events_llp.Muon\n",
    "dsa = events_llp.DSAMuon\n",
    "jet = events_llp.Jet\n",
    "all_attrs = dir(dsa)\n",
    "print(\"Matched variables for DSAMuons: \",[attr for attr in all_attrs if attr.startswith('mat')])\n",
    "\n",
    "all_attrs = dir(pf)\n",
    "print(\"Matched variables for Muons: \",[attr for attr in all_attrs if attr.startswith('mat')])\n",
    "\n"
   ]
  },
  {
   "cell_type": "markdown",
   "id": "39982632-d41d-4043-9efb-3c1a8d434b83",
   "metadata": {},
   "source": [
    "Materialize some of the arrays so we can inspect their contents. These are the commands (specifically materializing the dsa.muonIdxG array) that will throw a RunTimeError if the idx variables are floats and you didn't comment out the lines mentioned above in your coffea install.\n"
   ]
  },
  {
   "cell_type": "code",
   "execution_count": 6,
   "id": "6477ae6b-8328-4716-80de-76f717d9156e",
   "metadata": {},
   "outputs": [
    {
     "data": {
      "text/html": [
       "<pre>[[4607182418800017408, 0],\n",
       " [4613937818241073152, 4611686018427387904, 4613937818241073152],\n",
       " [4616189618054758400, 4617315517961601024],\n",
       " [4618441417868443648, 4619567317775286272],\n",
       " [4621256167635550208, 4621256167635550208, ..., 4620693217682128896],\n",
       " [4622382067542392832, 4621819117588971520, 4622382067542392832],\n",
       " [4623507967449235456],\n",
       " [4624070917402656768, 4625196817309499392],\n",
       " [4626041242239631360, 4625759767262920704],\n",
       " [4626322717216342016, 4626322717216342016, 4626322717216342016],\n",
       " ...,\n",
       " [4665918329955811328, 4665918879711625216, 4665918879711625216],\n",
       " [4665919979223252992, 4665919429467439104, 4665920528979066880],\n",
       " [4665921078734880768, 4665921078734880768],\n",
       " [4665922178246508544, 4665922178246508544, ..., 4665922178246508544],\n",
       " [4665922728002322432, 4665923277758136320, 4665923277758136320],\n",
       " [4665923827513950208, 4665924377269764096, 4665924377269764096],\n",
       " [4665925476781391872, 4665925476781391872],\n",
       " [4665926576293019648, 4665926576293019648, ..., 4665926026537205760],\n",
       " [4665927675804647424, 4665927675804647424]]\n",
       "---------------------------------------------------------------------------\n",
       "backend: cpu\n",
       "nbytes: 138.1 kB\n",
       "type: 4364 * var * int64[parameters={&quot;__doc__&quot;: &quot;&quot;, &quot;typename&quot;: &quot;float[]&quot;}]</pre>"
      ],
      "text/plain": [
       "<Array [[4607182418800017408, 0], ..., [...]] type='4364 * var * int64[para...'>"
      ]
     },
     "execution_count": 6,
     "metadata": {},
     "output_type": "execute_result"
    }
   ],
   "source": [
    "ak.materialize(dsa.muonMatch1)\n",
    "ak.materialize(dsa.muonMatch1idx)\n",
    "ak.materialize(dsa.pt)\n",
    "ak.materialize(pf.pt)\n",
    "ak.materialize(dsa.muonMatch4idx)\n",
    "ak.materialize(dsa.muonIdxG)\n",
    "ak.materialize(dsa.muonMatch1idxG)"
   ]
  },
  {
   "cell_type": "markdown",
   "id": "0ea48583-4eae-4486-9180-af2ca455cfb5",
   "metadata": {},
   "source": [
    "Inspect the events: In event 1, we have three dsa muons and 2 pf muons. The first dsa muon matches the 2nd pf muon and vice versa:"
   ]
  },
  {
   "cell_type": "code",
   "execution_count": 7,
   "id": "5259e7d5-d4ab-497c-a44d-1d4e514f2bcd",
   "metadata": {},
   "outputs": [
    {
     "name": "stdout",
     "output_type": "stream",
     "text": [
      "DSA pt in events 0-2: [[90.20301055908203, 169.33285522460938], [5.917826175689697, 321.9776916503906, 1.6178698539733887], [161.76913452148438, 24.506929397583008]]\n",
      "PF pt in events 0-2: [[717.1842651367188, 135.23300170898438], [212.15811157226562, 5.346219539642334], [197.0467071533203, 21.183835983276367]]\n",
      "ID of PF muons matched to DSA muons in events 0-2: [[[1, 0, -1, -1, -1], [0, 1, -1, -1, -1]], [[3, 2, -1, -1, -1], [2, 3, -1, -1, -1], [3, 2, -1, -1, -1]], [[4, 5, -1, -1, -1], [5, 4, -1, -1, -1]]]\n",
      "pt of PF muons matched to DSA muons in event 0: [[135.23300170898438, 717.1842651367188, None, None, None], [717.1842651367188, 135.23300170898438, None, None, None]]\n"
     ]
    }
   ],
   "source": [
    "print(\"DSA pt in events 0-2:\", dsa.pt[0:3].to_list())\n",
    "print(\"PF pt in events 0-2:\", pf[0:3].pt.to_list())\n",
    "print(\"ID of PF muons matched to DSA muons in events 0-2:\",dsa.muonIdxG[0:3].to_list()) #global index (for the first 5 matches)\n",
    "print(\"pt of PF muons matched to DSA muons in event 0:\",dsa.matched_muons.pt[0].to_list())"
   ]
  },
  {
   "cell_type": "markdown",
   "id": "a5b7ac71-102f-4120-8889-a1dcc68113d3",
   "metadata": {},
   "source": [
    "Great, it appears matched_muons allows me to access the muons that correspond to `muonMatchNidx` branches. Next check that we can access the **number** of segment matches for that pair:"
   ]
  },
  {
   "cell_type": "code",
   "execution_count": 8,
   "id": "f68dd142-81d2-4970-bd34-4beb45eb167f",
   "metadata": {},
   "outputs": [
    {
     "name": "stdout",
     "output_type": "stream",
     "text": [
      "['numMatch', 'numba_type']\n",
      "Number of segment matches for PF muons matched to DSA muons in event 0: [[2.0, 0.0, None, None, None], [3.0, 0.0, None, None, None]]\n"
     ]
    }
   ],
   "source": [
    "all_attrs_matched = dir(dsa.matched_muons)\n",
    "print([attr for attr in all_attrs_matched if attr.startswith('num')])\n",
    "print(\"Number of segment matches for PF muons matched to DSA muons in event 0:\",dsa.matched_muons.numMatch[0].to_list())"
   ]
  },
  {
   "cell_type": "code",
   "execution_count": null,
   "id": "9448ba27-86d8-4234-821a-af7863c20f72",
   "metadata": {},
   "outputs": [],
   "source": []
  },
  {
   "cell_type": "markdown",
   "id": "15f9cc49-090c-4f7f-90ea-b2f27df11087",
   "metadata": {},
   "source": [
    "## Test in the processor\n",
    "\n",
    "Make sure we can access the variables from within the processor and can apply selections as expected.\n",
    "\n",
    "The variables after selection are **matched_good_dsa** etc\n",
    "\n",
    "Note that we won't be able to access the matched_muons arrays if accessing a dsa muon from within a lepton jet (at least not for now) or vice versa"
   ]
  },
  {
   "cell_type": "code",
   "execution_count": 9,
   "id": "44a9be78-a8b4-4eed-93cf-c0e60ab7ff8d",
   "metadata": {},
   "outputs": [],
   "source": [
    "# python\n",
    "import sys, os\n",
    "import importlib\n",
    "# columnar analysis\n",
    "from coffea.nanoevents import NanoAODSchema\n",
    "from coffea import processor\n",
    "# local\n",
    "sidm_path = str(os.getcwd()).split(\"/sidm\")[0]\n",
    "if sidm_path not in sys.path: sys.path.insert(1, sidm_path)\n",
    "from sidm.tools import sidm_processor, utilities\n",
    "from sidm.tools import llpnanoaodschema\n",
    "# always reload local modules to pick up changes during development\n",
    "importlib.reload(sidm_processor)\n",
    "importlib.reload(utilities)\n",
    "# plotting\n",
    "import matplotlib.pyplot as plt\n",
    "utilities.set_plot_style()"
   ]
  },
  {
   "cell_type": "code",
   "execution_count": 10,
   "id": "6a035a64-88b0-4e4a-9893-6265f2e5f431",
   "metadata": {},
   "outputs": [],
   "source": [
    "samples = [\n",
    "    '2Mu2E_500GeV_5p0GeV_8p0mm',\n",
    "]\n",
    "fileset = utilities.make_fileset(samples, \"llpNanoAOD_v2\", max_files=1, location_cfg=\"signal_2mu2e_v10.yaml\")"
   ]
  },
  {
   "cell_type": "markdown",
   "id": "c78265d3-c91e-427d-a580-6edde6667bc7",
   "metadata": {},
   "source": [
    "Run the processor! Note that there is one selection that doesn't work right now: we can't apply the dR(dsa, pf) > 0.2 cut to the matched_dsa_muons nested within the pf muons (but I don't think we want to anyway, since that's circular. We'd need to redefine it to use the matched collections instead)"
   ]
  },
  {
   "cell_type": "code",
   "execution_count": 11,
   "id": "1454b5f4-0907-41d8-9ea1-4d7c9df058cf",
   "metadata": {},
   "outputs": [
    {
     "data": {
      "application/vnd.jupyter.widget-view+json": {
       "model_id": "202f2c74d9c545f2bc6184a68f3554f6",
       "version_major": 2,
       "version_minor": 0
      },
      "text/plain": [
       "Output()"
      ]
     },
     "metadata": {},
     "output_type": "display_data"
    },
    {
     "data": {
      "text/html": [
       "<pre style=\"white-space:pre;overflow-x:auto;line-height:normal;font-family:Menlo,'DejaVu Sans Mono',consolas,'Courier New',monospace\"></pre>\n"
      ],
      "text/plain": []
     },
     "metadata": {},
     "output_type": "display_data"
    },
    {
     "data": {
      "application/vnd.jupyter.widget-view+json": {
       "model_id": "7799e45d32594bacb3d586fef0079eff",
       "version_major": 2,
       "version_minor": 0
      },
      "text/plain": [
       "Output()"
      ]
     },
     "metadata": {},
     "output_type": "display_data"
    },
    {
     "data": {
      "text/html": [
       "<pre style=\"white-space:pre;overflow-x:auto;line-height:normal;font-family:Menlo,'DejaVu Sans Mono',consolas,'Courier New',monospace\">/usr/local/lib/python3.12/site-packages/coffea/nanoevents/schemas/nanoaod.py:264: RuntimeWarning: Missing \n",
       "cross-reference index for LowPtElectron_electronIdx =&gt; Electron\n",
       "  warnings.warn(\n",
       "</pre>\n"
      ],
      "text/plain": [
       "/usr/local/lib/python3.12/site-packages/coffea/nanoevents/schemas/nanoaod.py:264: RuntimeWarning: Missing \n",
       "cross-reference index for LowPtElectron_electronIdx => Electron\n",
       "  warnings.warn(\n"
      ]
     },
     "metadata": {},
     "output_type": "display_data"
    },
    {
     "data": {
      "text/html": [
       "<pre style=\"white-space:pre;overflow-x:auto;line-height:normal;font-family:Menlo,'DejaVu Sans Mono',consolas,'Courier New',monospace\">/usr/local/lib/python3.12/site-packages/coffea/nanoevents/schemas/nanoaod.py:264: RuntimeWarning: Missing \n",
       "cross-reference index for LowPtElectron_photonIdx =&gt; Photon\n",
       "  warnings.warn(\n",
       "</pre>\n"
      ],
      "text/plain": [
       "/usr/local/lib/python3.12/site-packages/coffea/nanoevents/schemas/nanoaod.py:264: RuntimeWarning: Missing \n",
       "cross-reference index for LowPtElectron_photonIdx => Photon\n",
       "  warnings.warn(\n"
      ]
     },
     "metadata": {},
     "output_type": "display_data"
    },
    {
     "data": {
      "text/html": [
       "<pre style=\"white-space:pre;overflow-x:auto;line-height:normal;font-family:Menlo,'DejaVu Sans Mono',consolas,'Courier New',monospace\">/usr/local/lib/python3.12/site-packages/awkward/_nplikes/array_module.py:292: RuntimeWarning: invalid value \n",
       "encountered in divide\n",
       "  return impl(*broadcasted_args, **(kwargs or {}))\n",
       "</pre>\n"
      ],
      "text/plain": [
       "/usr/local/lib/python3.12/site-packages/awkward/_nplikes/array_module.py:292: RuntimeWarning: invalid value \n",
       "encountered in divide\n",
       "  return impl(*broadcasted_args, **(kwargs or {}))\n"
      ]
     },
     "metadata": {},
     "output_type": "display_data"
    },
    {
     "data": {
      "text/html": [
       "<pre style=\"white-space:pre;overflow-x:auto;line-height:normal;font-family:Menlo,'DejaVu Sans Mono',consolas,'Courier New',monospace\">Applying genMus status 1\n",
       "</pre>\n"
      ],
      "text/plain": [
       "Applying genMus status 1\n"
      ]
     },
     "metadata": {},
     "output_type": "display_data"
    },
    {
     "data": {
      "text/html": [
       "<pre style=\"white-space:pre;overflow-x:auto;line-height:normal;font-family:Menlo,'DejaVu Sans Mono',consolas,'Courier New',monospace\">Applying genEs status 1\n",
       "</pre>\n"
      ],
      "text/plain": [
       "Applying genEs status 1\n"
      ]
     },
     "metadata": {},
     "output_type": "display_data"
    },
    {
     "data": {
      "text/html": [
       "<pre style=\"white-space:pre;overflow-x:auto;line-height:normal;font-family:Menlo,'DejaVu Sans Mono',consolas,'Courier New',monospace\">Warning: Did not find cuts for muons in the config. No cuts will be applied to the nested objects\n",
       "</pre>\n"
      ],
      "text/plain": [
       "Warning: Did not find cuts for muons in the config. No cuts will be applied to the nested objects\n"
      ]
     },
     "metadata": {},
     "output_type": "display_data"
    },
    {
     "data": {
      "text/html": [
       "<pre style=\"white-space:pre;overflow-x:auto;line-height:normal;font-family:Menlo,'DejaVu Sans Mono',consolas,'Courier New',monospace\">Warning: Did not find cuts for dsaMuons in the config. No cuts will be applied to the nested objects\n",
       "</pre>\n"
      ],
      "text/plain": [
       "Warning: Did not find cuts for dsaMuons in the config. No cuts will be applied to the nested objects\n"
      ]
     },
     "metadata": {},
     "output_type": "display_data"
    },
    {
     "name": "stdout",
     "output_type": "stream",
     "text": [
      "#--------------------------------------------------------------------------\n",
      "#                         FastJet release 3.4.3\n",
      "#                 M. Cacciari, G.P. Salam and G. Soyez                  \n",
      "#     A software package for jet finding and analysis at colliders      \n",
      "#                           http://fastjet.fr                           \n",
      "#\t                                                                      \n",
      "# Please cite EPJC72(2012)1896 [arXiv:1111.6097] if you use this package\n",
      "# for scientific work and optionally PLB641(2006)57 [hep-ph/0512210].   \n",
      "#                                                                       \n",
      "# FastJet is provided without warranty under the GNU GPL v2 or higher.  \n",
      "# It uses T. Chan's closest pair algorithm, S. Fortune's Voronoi code,\n",
      "# CGAL and 3rd party plugin jet algorithms. See COPYING file for details.\n",
      "#--------------------------------------------------------------------------\n"
     ]
    },
    {
     "data": {
      "text/html": [
       "<pre style=\"white-space:pre;overflow-x:auto;line-height:normal;font-family:Menlo,'DejaVu Sans Mono',consolas,'Courier New',monospace\">Applying cut: pass triggers\n",
       "</pre>\n"
      ],
      "text/plain": [
       "Applying cut: pass triggers\n"
      ]
     },
     "metadata": {},
     "output_type": "display_data"
    },
    {
     "data": {
      "text/html": [
       "<pre style=\"white-space:pre;overflow-x:auto;line-height:normal;font-family:Menlo,'DejaVu Sans Mono',consolas,'Courier New',monospace\">Applying cut: PV filter\n",
       "</pre>\n"
      ],
      "text/plain": [
       "Applying cut: PV filter\n"
      ]
     },
     "metadata": {},
     "output_type": "display_data"
    },
    {
     "data": {
      "text/html": [
       "<pre style=\"white-space:pre;overflow-x:auto;line-height:normal;font-family:Menlo,'DejaVu Sans Mono',consolas,'Courier New',monospace\">Applying genMus status 1\n",
       "</pre>\n"
      ],
      "text/plain": [
       "Applying genMus status 1\n"
      ]
     },
     "metadata": {},
     "output_type": "display_data"
    },
    {
     "data": {
      "text/html": [
       "<pre style=\"white-space:pre;overflow-x:auto;line-height:normal;font-family:Menlo,'DejaVu Sans Mono',consolas,'Courier New',monospace\">Applying genEs status 1\n",
       "</pre>\n"
      ],
      "text/plain": [
       "Applying genEs status 1\n"
      ]
     },
     "metadata": {},
     "output_type": "display_data"
    },
    {
     "data": {
      "text/html": [
       "<pre style=\"white-space:pre;overflow-x:auto;line-height:normal;font-family:Menlo,'DejaVu Sans Mono',consolas,'Courier New',monospace\">Applying electrons pT &gt; 10 GeV\n",
       "</pre>\n"
      ],
      "text/plain": [
       "Applying electrons pT > 10 GeV\n"
      ]
     },
     "metadata": {},
     "output_type": "display_data"
    },
    {
     "data": {
      "text/html": [
       "<pre style=\"white-space:pre;overflow-x:auto;line-height:normal;font-family:Menlo,'DejaVu Sans Mono',consolas,'Courier New',monospace\">Applying electrons |eta| &lt; 2.4\n",
       "</pre>\n"
      ],
      "text/plain": [
       "Applying electrons |eta| < 2.4\n"
      ]
     },
     "metadata": {},
     "output_type": "display_data"
    },
    {
     "data": {
      "text/html": [
       "<pre style=\"white-space:pre;overflow-x:auto;line-height:normal;font-family:Menlo,'DejaVu Sans Mono',consolas,'Courier New',monospace\">Applying electrons MVANonIsoWPL\n",
       "</pre>\n"
      ],
      "text/plain": [
       "Applying electrons MVANonIsoWPL\n"
      ]
     },
     "metadata": {},
     "output_type": "display_data"
    },
    {
     "data": {
      "text/html": [
       "<pre style=\"white-space:pre;overflow-x:auto;line-height:normal;font-family:Menlo,'DejaVu Sans Mono',consolas,'Courier New',monospace\">Applying muons looseID\n",
       "</pre>\n"
      ],
      "text/plain": [
       "Applying muons looseID\n"
      ]
     },
     "metadata": {},
     "output_type": "display_data"
    },
    {
     "data": {
      "text/html": [
       "<pre style=\"white-space:pre;overflow-x:auto;line-height:normal;font-family:Menlo,'DejaVu Sans Mono',consolas,'Courier New',monospace\">Applying muons pT &gt; 5 GeV\n",
       "</pre>\n"
      ],
      "text/plain": [
       "Applying muons pT > 5 GeV\n"
      ]
     },
     "metadata": {},
     "output_type": "display_data"
    },
    {
     "data": {
      "text/html": [
       "<pre style=\"white-space:pre;overflow-x:auto;line-height:normal;font-family:Menlo,'DejaVu Sans Mono',consolas,'Courier New',monospace\">Applying muons |eta| &lt; 2.4\n",
       "</pre>\n"
      ],
      "text/plain": [
       "Applying muons |eta| < 2.4\n"
      ]
     },
     "metadata": {},
     "output_type": "display_data"
    },
    {
     "data": {
      "text/html": [
       "<pre style=\"white-space:pre;overflow-x:auto;line-height:normal;font-family:Menlo,'DejaVu Sans Mono',consolas,'Courier New',monospace\">Applying photons pT &gt; 20 GeV\n",
       "</pre>\n"
      ],
      "text/plain": [
       "Applying photons pT > 20 GeV\n"
      ]
     },
     "metadata": {},
     "output_type": "display_data"
    },
    {
     "data": {
      "text/html": [
       "<pre style=\"white-space:pre;overflow-x:auto;line-height:normal;font-family:Menlo,'DejaVu Sans Mono',consolas,'Courier New',monospace\">Applying photons |eta| &lt; 2.5\n",
       "</pre>\n"
      ],
      "text/plain": [
       "Applying photons |eta| < 2.5\n"
      ]
     },
     "metadata": {},
     "output_type": "display_data"
    },
    {
     "data": {
      "text/html": [
       "<pre style=\"white-space:pre;overflow-x:auto;line-height:normal;font-family:Menlo,'DejaVu Sans Mono',consolas,'Courier New',monospace\">Applying photons Custom Cutbased\n",
       "</pre>\n"
      ],
      "text/plain": [
       "Applying photons Custom Cutbased\n"
      ]
     },
     "metadata": {},
     "output_type": "display_data"
    },
    {
     "data": {
      "text/html": [
       "<pre style=\"white-space:pre;overflow-x:auto;line-height:normal;font-family:Menlo,'DejaVu Sans Mono',consolas,'Courier New',monospace\">Applying photons pixelSeed\n",
       "</pre>\n"
      ],
      "text/plain": [
       "Applying photons pixelSeed\n"
      ]
     },
     "metadata": {},
     "output_type": "display_data"
    },
    {
     "data": {
      "text/html": [
       "<pre style=\"white-space:pre;overflow-x:auto;line-height:normal;font-family:Menlo,'DejaVu Sans Mono',consolas,'Courier New',monospace\">Applying photons Photon DR Veto 0p025\n",
       "</pre>\n"
      ],
      "text/plain": [
       "Applying photons Photon DR Veto 0p025\n"
      ]
     },
     "metadata": {},
     "output_type": "display_data"
    },
    {
     "data": {
      "text/html": [
       "<pre style=\"white-space:pre;overflow-x:auto;line-height:normal;font-family:Menlo,'DejaVu Sans Mono',consolas,'Courier New',monospace\">Applying dsaMuons pT &gt; 10 GeV\n",
       "</pre>\n"
      ],
      "text/plain": [
       "Applying dsaMuons pT > 10 GeV\n"
      ]
     },
     "metadata": {},
     "output_type": "display_data"
    },
    {
     "data": {
      "text/html": [
       "<pre style=\"white-space:pre;overflow-x:auto;line-height:normal;font-family:Menlo,'DejaVu Sans Mono',consolas,'Courier New',monospace\">Applying dsaMuons |eta| &lt; 2.4\n",
       "</pre>\n"
      ],
      "text/plain": [
       "Applying dsaMuons |eta| < 2.4\n"
      ]
     },
     "metadata": {},
     "output_type": "display_data"
    },
    {
     "data": {
      "text/html": [
       "<pre style=\"white-space:pre;overflow-x:auto;line-height:normal;font-family:Menlo,'DejaVu Sans Mono',consolas,'Courier New',monospace\">Applying dsaMuons displaced ID\n",
       "</pre>\n"
      ],
      "text/plain": [
       "Applying dsaMuons displaced ID\n"
      ]
     },
     "metadata": {},
     "output_type": "display_data"
    },
    {
     "data": {
      "text/html": [
       "<pre style=\"white-space:pre;overflow-x:auto;line-height:normal;font-family:Menlo,'DejaVu Sans Mono',consolas,'Courier New',monospace\">Applying cuts to the nested muons collection\n",
       "</pre>\n"
      ],
      "text/plain": [
       "Applying cuts to the nested muons collection\n"
      ]
     },
     "metadata": {},
     "output_type": "display_data"
    },
    {
     "data": {
      "text/html": [
       "<pre style=\"white-space:pre;overflow-x:auto;line-height:normal;font-family:Menlo,'DejaVu Sans Mono',consolas,'Courier New',monospace\">Applying cuts to the nested dsaMuons collection\n",
       "</pre>\n"
      ],
      "text/plain": [
       "Applying cuts to the nested dsaMuons collection\n"
      ]
     },
     "metadata": {},
     "output_type": "display_data"
    },
    {
     "data": {
      "text/html": [
       "<pre style=\"white-space:pre;overflow-x:auto;line-height:normal;font-family:Menlo,'DejaVu Sans Mono',consolas,'Courier New',monospace\">Applying ljs pT &gt; 30 GeV\n",
       "</pre>\n"
      ],
      "text/plain": [
       "Applying ljs pT > 30 GeV\n"
      ]
     },
     "metadata": {},
     "output_type": "display_data"
    },
    {
     "data": {
      "text/html": [
       "<pre style=\"white-space:pre;overflow-x:auto;line-height:normal;font-family:Menlo,'DejaVu Sans Mono',consolas,'Courier New',monospace\">Applying ljs |eta| &lt; 2.4\n",
       "</pre>\n"
      ],
      "text/plain": [
       "Applying ljs |eta| < 2.4\n"
      ]
     },
     "metadata": {},
     "output_type": "display_data"
    },
    {
     "data": {
      "text/html": [
       "<pre style=\"white-space:pre;overflow-x:auto;line-height:normal;font-family:Menlo,'DejaVu Sans Mono',consolas,'Courier New',monospace\">Applying ljs mu_charge == 0\n",
       "</pre>\n"
      ],
      "text/plain": [
       "Applying ljs mu_charge == 0\n"
      ]
     },
     "metadata": {},
     "output_type": "display_data"
    },
    {
     "data": {
      "text/html": [
       "<pre style=\"white-space:pre;overflow-x:auto;line-height:normal;font-family:Menlo,'DejaVu Sans Mono',consolas,'Courier New',monospace\">Applying cut: pass triggers\n",
       "</pre>\n"
      ],
      "text/plain": [
       "Applying cut: pass triggers\n"
      ]
     },
     "metadata": {},
     "output_type": "display_data"
    },
    {
     "data": {
      "text/html": [
       "<pre style=\"white-space:pre;overflow-x:auto;line-height:normal;font-family:Menlo,'DejaVu Sans Mono',consolas,'Courier New',monospace\">Applying cut: PV filter\n",
       "</pre>\n"
      ],
      "text/plain": [
       "Applying cut: PV filter\n"
      ]
     },
     "metadata": {},
     "output_type": "display_data"
    },
    {
     "data": {
      "text/html": [
       "<pre style=\"white-space:pre;overflow-x:auto;line-height:normal;font-family:Menlo,'DejaVu Sans Mono',consolas,'Courier New',monospace\">Applying cut: &gt;=2 LJs\n",
       "</pre>\n"
      ],
      "text/plain": [
       "Applying cut: >=2 LJs\n"
      ]
     },
     "metadata": {},
     "output_type": "display_data"
    },
    {
     "data": {
      "text/html": [
       "<pre style=\"white-space:pre;overflow-x:auto;line-height:normal;font-family:Menlo,'DejaVu Sans Mono',consolas,'Courier New',monospace\"></pre>\n"
      ],
      "text/plain": []
     },
     "metadata": {},
     "output_type": "display_data"
    },
    {
     "name": "stdout",
     "output_type": "stream",
     "text": [
      "Signal not in xs cfg, assuming 1fb\n"
     ]
    }
   ],
   "source": [
    "runner = processor.Runner(\n",
    "    executor=processor.IterativeExecutor(),\n",
    "    schema=llpnanoaodschema.LLPNanoAODSchema,\n",
    "    maxchunks=1,\n",
    "    skipbadfiles=True,\n",
    ")\n",
    "\n",
    "channels = [\n",
    "    \"baseNoLjNoLjsource\", #No cuts on the pf or dsa muons\n",
    "    \"base\" #Includes pf and dsa IDs, which should be applied to the nested collections as well\n",
    "]\n",
    "p = sidm_processor.SidmProcessor(\n",
    "    channels,\n",
    "    [\"base\"],\n",
    "    verbose=True,\n",
    "    unweighted_hist=True\n",
    ")\n",
    "\n",
    "output = runner.run(fileset, treename='Events', processor_instance=p)\n",
    "out = output[\"out\"]"
   ]
  },
  {
   "cell_type": "markdown",
   "id": "5acbb864-5981-40be-adef-6b3c911f4fc8",
   "metadata": {},
   "source": [
    "Now test it worked. First plot the number of muons and dsa muons"
   ]
  },
  {
   "cell_type": "code",
   "execution_count": 12,
   "id": "b9bc8e5b-af2c-4b52-a8f6-8af4fadcd051",
   "metadata": {},
   "outputs": [
    {
     "data": {
      "text/plain": [
       "<matplotlib.legend.Legend at 0x7fd4c7646b10>"
      ]
     },
     "execution_count": 12,
     "metadata": {},
     "output_type": "execute_result"
    },
    {
     "data": {
      "image/png": "[encoded data removed]",
      "text/plain": [
       "<Figure size 500x500 with 1 Axes>"
      ]
     },
     "metadata": {},
     "output_type": "display_data"
    }
   ],
   "source": [
    "utilities.plot([\n",
    "    out[samples[0]][\"hists\"][\"muon_n\"][channels[0], :],\n",
    "    out[samples[0]][\"hists\"][\"muon_n\"][channels[1], :],\n",
    "])\n",
    "plt.legend([\"All muons\", \"Muon ID applied\"])"
   ]
  },
  {
   "cell_type": "code",
   "execution_count": 13,
   "id": "07cc1bf7-ea76-43ed-8585-f3eb3ae5162d",
   "metadata": {},
   "outputs": [
    {
     "data": {
      "text/plain": [
       "<matplotlib.legend.Legend at 0x7fd4c78a9940>"
      ]
     },
     "execution_count": 13,
     "metadata": {},
     "output_type": "execute_result"
    },
    {
     "data": {
      "image/png": "[encoded data removed]",
      "text/plain": [
       "<Figure size 500x500 with 1 Axes>"
      ]
     },
     "metadata": {},
     "output_type": "display_data"
    }
   ],
   "source": [
    "utilities.plot([\n",
    "    out[samples[0]][\"hists\"][\"dsaMuon_n\"][channels[0], :],\n",
    "    out[samples[0]][\"hists\"][\"dsaMuon_n\"][channels[1], :],\n",
    "])\n",
    "plt.legend([\"All muons\", \"Muon ID applied\"])"
   ]
  },
  {
   "cell_type": "markdown",
   "id": "34d3a184-028b-48b2-b0a7-d88c616e4528",
   "metadata": {},
   "source": [
    "So the base selections are still working as expected. What about for the nested collections?\n",
    "\n",
    "Plot the number of matching segments for dsa-pf matches and vice versa"
   ]
  },
  {
   "cell_type": "code",
   "execution_count": 14,
   "id": "04d84605-5004-41d4-b605-05e5c3fe2163",
   "metadata": {},
   "outputs": [
    {
     "data": {
      "text/plain": [
       "<matplotlib.legend.Legend at 0x7fd4c778ce90>"
      ]
     },
     "execution_count": 14,
     "metadata": {},
     "output_type": "execute_result"
    },
    {
     "data": {
      "image/png": "[encoded data removed]",
      "text/plain": [
       "<Figure size 500x500 with 1 Axes>"
      ]
     },
     "metadata": {},
     "output_type": "display_data"
    }
   ],
   "source": [
    "utilities.plot([\n",
    "    out[samples[0]][\"hists\"][\"muon_numOverlapSegments_matchedDSAMuons\"][channels[0], :],\n",
    "    out[samples[0]][\"hists\"][\"muon_numOverlapSegments_matchedDSAMuons\"][channels[1], :], #No selections applied to DSA muons in matching\n",
    "    out[samples[0]][\"hists\"][\"muon_numOverlapSegments_goodMatchedDSAMuons\"][channels[1], :], #Normal selections applied to DSA muons in matching\n",
    "\n",
    "])\n",
    "plt.xlabel(\"Matched seg. between pf and the first dsa match\" )\n",
    "plt.legend([\"All muons\", \"PF ID\",\"PF and DSA ID\"])"
   ]
  },
  {
   "cell_type": "markdown",
   "id": "c5675b91-9484-4e90-bb08-8bebe628b2ef",
   "metadata": {},
   "source": [
    "The first bin in this plot seems to imply that we aren't handling the no match case correctly. If there is *not* a matched dsa muon passing the cuts, it seems to fall in bin 0 here (instead of being None/not showing up in the histogram at all, which I think would be the preferred behavior)"
   ]
  },
  {
   "cell_type": "code",
   "execution_count": 15,
   "id": "a2575e57-cab5-4ea1-a7da-01fc99b4f4e6",
   "metadata": {},
   "outputs": [
    {
     "data": {
      "text/plain": [
       "<matplotlib.legend.Legend at 0x7fd4dd6d8050>"
      ]
     },
     "execution_count": 15,
     "metadata": {},
     "output_type": "execute_result"
    },
    {
     "data": {
      "image/png": "[encoded data removed]",
      "text/plain": [
       "<Figure size 500x500 with 1 Axes>"
      ]
     },
     "metadata": {},
     "output_type": "display_data"
    }
   ],
   "source": [
    "utilities.plot([\n",
    "    out[samples[0]][\"hists\"][\"dsaMuon_numOverlapSegments_matchedMuons\"][channels[0], :],\n",
    "    out[samples[0]][\"hists\"][\"dsaMuon_numOverlapSegments_matchedMuons\"][channels[1], :], # No selections applied to dsa muons in matching\n",
    "    out[samples[0]][\"hists\"][\"dsaMuon_numOverlapSegments_goodMatchedMuons\"][channels[1], :], # Normal selections applied to pf muons in matching\n",
    "\n",
    "])\n",
    "#plt.yscale(\"log\")\n",
    "plt.xlabel(\"Matched seg. between dsa and the first pf match\" )\n",
    "plt.legend([\"All muons\", \"DSA ID\",\"PF and DSA ID\"])"
   ]
  },
  {
   "cell_type": "markdown",
   "id": "80a7dd27-9f65-42aa-81c5-bd62d0b531e9",
   "metadata": {},
   "source": [
    "This will need more sanity checks to see if it works as expected, but I think the results make sense.\n",
    "\n",
    "Side note... if you leave the \"dR(dsa, pf) > 0.2\" selection applied to dsa muons, then this plot looks dramatically different. It kills all dsa muons in the red curve only. Which confuses me, because the dsa muon cuts should be applied the same to both orange and red... might need to investigate more. But that cut needs to be redefined anyway."
   ]
  },
  {
   "cell_type": "code",
   "execution_count": null,
   "id": "4a2f6f87-46ea-4153-b43e-a57525b490f2",
   "metadata": {},
   "outputs": [],
   "source": []
  }
 ],
 "metadata": {
  "kernelspec": {
   "display_name": "Python 3 (ipykernel)",
   "language": "python",
   "name": "python3"
  },
  "language_info": {
   "codemirror_mode": {
    "name": "ipython",
    "version": 3
   },
   "file_extension": ".py",
   "mimetype": "text/x-python",
   "name": "python",
   "nbconvert_exporter": "python",
   "pygments_lexer": "ipython3",
   "version": "3.12.5"
  }
 },
 "nbformat": 4,
 "nbformat_minor": 5
}
